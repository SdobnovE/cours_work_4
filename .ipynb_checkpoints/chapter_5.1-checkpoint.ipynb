{
 "cells": [
  {
   "cell_type": "code",
   "execution_count": 1,
   "metadata": {},
   "outputs": [],
   "source": [
    "import pandas as pd\n",
    "import numpy as np\n",
    "import matplotlib.pyplot as plt\n",
    "import re\n",
    "import ast\n",
    "from mgua import *\n",
    "from sklearn.linear_model import Ridge\n",
    "from sklearn.linear_model import Lasso\n",
    "from sklearn.linear_model import LinearRegression\n",
    "from sklearn.model_selection import KFold\n",
    "from sklearn.manifold import TSNE\n",
    "\n",
    "\n",
    "import random as rnd\n",
    "from sklearn.metrics import mean_absolute_error as MAE\n",
    "from sklearn.metrics import mean_squared_error as MSE\n",
    "from sklearn.ensemble import RandomForestRegressor\n",
    "from sklearn.decomposition import PCA\n",
    "from sklearn.metrics import silhouette_score\n",
    "from sklearn.cluster import DBSCAN\n",
    "from sklearn.cluster import AgglomerativeClustering\n",
    "from scipy.cluster.hierarchy import dendrogram\n",
    "from sklearn.ensemble import GradientBoostingRegressor"
   ]
  },
  {
   "cell_type": "code",
   "execution_count": 2,
   "metadata": {},
   "outputs": [],
   "source": [
    "\n",
    "# БЕЗ ВКЛЮЧЕННЫХ МАРКЕРОВ"
   ]
  },
  {
   "cell_type": "code",
   "execution_count": 25,
   "metadata": {},
   "outputs": [
    {
     "data": {
      "text/plain": [
       "((467, 11), (467, 29), (467, 53), (467, 89))"
      ]
     },
     "execution_count": 25,
     "metadata": {},
     "output_type": "execute_result"
    }
   ],
   "source": [
    "tab1 = pd.read_csv(\"data_varvara/cox2/cox2_matrix_alphabet_NN***_UpTo2chains.csv\")\n",
    "tab2 = pd.read_csv(\"data_varvara/cox2/cox2_matrix_alphabet_NN***_UpTo3chains.csv\")\n",
    "tab3 = pd.read_csv(\"data_varvara/cox2/cox2_matrix_alphabet_NN***_UpTo4chains.csv\")\n",
    "tab4 = pd.read_csv(\"data_varvara/cox2/cox2_matrix_alphabet_NN***_UpTo5chains.csv\")\n",
    "\n",
    "tab1.shape, tab2.shape, tab3.shape, tab4.shape"
   ]
  },
  {
   "cell_type": "code",
   "execution_count": 26,
   "metadata": {},
   "outputs": [],
   "source": [
    "tab1[\"key\"] = [i for i in range(tab1.shape[0])]\n",
    "tab2[\"key\"] = [i for i in range(tab2.shape[0])]\n",
    "tab3[\"key\"] = [i for i in range(tab3.shape[0])]\n",
    "tab4[\"key\"] = [i for i in range(tab4.shape[0])]"
   ]
  },
  {
   "cell_type": "code",
   "execution_count": 27,
   "metadata": {
    "scrolled": true
   },
   "outputs": [],
   "source": [
    "tab = pd.merge(tab1, tab2, left_on=\"key\", right_on=\"key\", how=\"inner\")\n",
    "tab = pd.merge(tab, tab3, left_on=\"key\", right_on=\"key\", how=\"inner\")\n",
    "tab = pd.merge(tab, tab4, left_on=\"key\", right_on=\"key\", how=\"inner\")"
   ]
  },
  {
   "cell_type": "code",
   "execution_count": 28,
   "metadata": {},
   "outputs": [
    {
     "name": "stdout",
     "output_type": "stream",
     "text": [
      "Br***C***; C***C***; C***Cl***; C***F***; C***N***; C***O***; C***S***; N***N***; N***O***; N***S***; O***S***; key; Br***C***C***; Br***C***S***; C***C***C***; C***C***Cl***; C***C***F***; C***C***N***; C***C***O***; C***C***S***; C***N***C***; C***N***N***; C***N***O***; C***N***S***; C***O***C***; C***O***N***; C***S***C***; C***S***N***; C***S***O***; Cl***C***S***; F***C***F***; F***C***O***; F***C***S***; N***C***N***; N***C***O***; N***C***S***; N***S***O***; O***C***O***; O***C***S***; O***N***O***; O***S***O***; Br***C***C***C***; Br***C***C***N***; Br***C***C***O***; Br***C***C***S***; Br***C***S***C***; C***C***C***C***; C***C***C***Cl***; C***C***C***F***; C***C***C***N***; C***C***C***O***; C***C***C***S***; C***C***N***C***; C***C***N***N***; C***C***N***O***; C***C***N***S***; C***C***O***C***; C***C***O***N***; C***C***S***C***; C***C***S***N***; C***C***S***O***; C***N***C***N***; C***N***C***O***; C***N***C***S***; C***N***N***C***; C***N***O***C***; C***N***S***C***; C***N***S***O***; C***O***C***F***; C***O***C***N***; C***O***C***O***; C***O***C***S***; C***S***C***Cl***; C***S***C***F***; C***S***C***N***; C***S***C***O***; Cl***C***C***Cl***; Cl***C***C***F***; Cl***C***C***N***; Cl***C***C***O***; Cl***C***C***S***; F***C***C***F***; F***C***C***N***; F***C***C***O***; F***C***C***S***; F***C***S***O***; N***C***C***N***; N***C***C***O***; N***C***C***S***; N***N***C***O***; N***O***C***O***; O***C***C***O***; O***C***C***S***; S***C***C***S***; Br***C***C***C***Br***; Br***C***C***C***C***; Br***C***C***C***N***; Br***C***C***C***S***; Br***C***C***N***C***; Br***C***C***N***N***; Br***C***C***O***C***; Br***C***C***S***C***; Br***C***S***C***C***; C***C***C***C***C***; C***C***C***C***Cl***; C***C***C***C***F***; C***C***C***C***N***; C***C***C***C***O***; C***C***C***C***S***; C***C***C***N***C***; C***C***C***N***N***; C***C***C***N***O***; C***C***C***N***S***; C***C***C***O***C***; C***C***C***O***N***; C***C***C***S***C***; C***C***C***S***N***; C***C***C***S***O***; C***C***N***C***C***; C***C***N***C***N***; C***C***N***C***O***; C***C***N***C***S***; C***C***N***N***C***; C***C***N***O***C***; C***C***N***S***C***; C***C***N***S***O***; C***C***O***C***C***; C***C***O***C***F***; C***C***O***C***N***; C***C***O***C***O***; C***C***O***C***S***; C***C***O***N***C***; C***C***S***C***C***; C***C***S***C***Cl***; C***C***S***C***F***; C***C***S***C***N***; C***C***S***C***O***; C***C***S***N***C***; C***N***C***C***Cl***; C***N***C***C***F***; C***N***C***C***N***; C***N***C***C***O***; C***N***C***C***S***; C***N***C***N***C***; C***N***C***O***C***; C***N***C***S***C***; C***N***N***C***O***; C***N***O***C***O***; C***O***C***C***Cl***; C***O***C***C***F***; C***O***C***C***N***; C***O***C***C***O***; C***O***C***C***S***; C***O***C***N***N***; C***O***C***O***C***; C***O***C***S***C***; C***S***C***C***Cl***; C***S***C***C***F***; C***S***C***C***N***; C***S***C***C***O***; C***S***C***C***S***; Cl***C***C***C***Cl***; Cl***C***C***C***F***; Cl***C***C***C***N***; Cl***C***C***C***O***; Cl***C***C***C***S***; Cl***C***C***N***N***; Cl***C***C***S***O***; F***C***C***C***F***; F***C***C***C***N***; F***C***C***C***O***; F***C***C***N***N***; N***C***C***C***N***; N***C***C***C***O***; N***C***C***C***S***; N***C***C***N***N***; N***C***C***N***O***; N***C***C***O***N***; N***C***C***S***O***; N***N***C***C***O***; N***N***C***C***S***; N***O***C***C***O***; S***C***C***C***S***; "
     ]
    }
   ],
   "source": [
    "for i in tab.keys():\n",
    "    print(i+\"; \",end=\"\")"
   ]
  },
  {
   "cell_type": "code",
   "execution_count": 29,
   "metadata": {},
   "outputs": [
    {
     "data": {
      "text/plain": [
       "(467, 182)"
      ]
     },
     "execution_count": 29,
     "metadata": {},
     "output_type": "execute_result"
    }
   ],
   "source": [
    "tab = tab.drop(\"key\",axis=1)\n",
    "tab.shape"
   ]
  },
  {
   "cell_type": "code",
   "execution_count": 30,
   "metadata": {},
   "outputs": [
    {
     "data": {
      "text/html": [
       "<div>\n",
       "<style scoped>\n",
       "    .dataframe tbody tr th:only-of-type {\n",
       "        vertical-align: middle;\n",
       "    }\n",
       "\n",
       "    .dataframe tbody tr th {\n",
       "        vertical-align: top;\n",
       "    }\n",
       "\n",
       "    .dataframe thead th {\n",
       "        text-align: right;\n",
       "    }\n",
       "</style>\n",
       "<table border=\"1\" class=\"dataframe\">\n",
       "  <thead>\n",
       "    <tr style=\"text-align: right;\">\n",
       "      <th></th>\n",
       "      <th>Br***C***</th>\n",
       "      <th>C***C***</th>\n",
       "      <th>C***Cl***</th>\n",
       "      <th>C***F***</th>\n",
       "      <th>C***N***</th>\n",
       "      <th>C***O***</th>\n",
       "      <th>C***S***</th>\n",
       "      <th>N***N***</th>\n",
       "      <th>N***O***</th>\n",
       "      <th>N***S***</th>\n",
       "      <th>...</th>\n",
       "      <th>N***C***C***C***O***</th>\n",
       "      <th>N***C***C***C***S***</th>\n",
       "      <th>N***C***C***N***N***</th>\n",
       "      <th>N***C***C***N***O***</th>\n",
       "      <th>N***C***C***O***N***</th>\n",
       "      <th>N***C***C***S***O***</th>\n",
       "      <th>N***N***C***C***O***</th>\n",
       "      <th>N***N***C***C***S***</th>\n",
       "      <th>N***O***C***C***O***</th>\n",
       "      <th>S***C***C***C***S***</th>\n",
       "    </tr>\n",
       "  </thead>\n",
       "  <tbody>\n",
       "    <tr>\n",
       "      <th>0</th>\n",
       "      <td>0.0</td>\n",
       "      <td>17.0</td>\n",
       "      <td>0.0</td>\n",
       "      <td>1.0</td>\n",
       "      <td>3.0</td>\n",
       "      <td>0.0</td>\n",
       "      <td>2.0</td>\n",
       "      <td>0.0</td>\n",
       "      <td>0.0</td>\n",
       "      <td>0.0</td>\n",
       "      <td>...</td>\n",
       "      <td>0.0</td>\n",
       "      <td>0.0</td>\n",
       "      <td>0.0</td>\n",
       "      <td>0.0</td>\n",
       "      <td>0.0</td>\n",
       "      <td>0.0</td>\n",
       "      <td>0.0</td>\n",
       "      <td>0.0</td>\n",
       "      <td>0.0</td>\n",
       "      <td>0.0</td>\n",
       "    </tr>\n",
       "    <tr>\n",
       "      <th>1</th>\n",
       "      <td>0.0</td>\n",
       "      <td>16.0</td>\n",
       "      <td>0.0</td>\n",
       "      <td>1.0</td>\n",
       "      <td>3.0</td>\n",
       "      <td>0.0</td>\n",
       "      <td>2.0</td>\n",
       "      <td>0.0</td>\n",
       "      <td>0.0</td>\n",
       "      <td>0.0</td>\n",
       "      <td>...</td>\n",
       "      <td>0.0</td>\n",
       "      <td>0.0</td>\n",
       "      <td>0.0</td>\n",
       "      <td>0.0</td>\n",
       "      <td>0.0</td>\n",
       "      <td>0.0</td>\n",
       "      <td>0.0</td>\n",
       "      <td>0.0</td>\n",
       "      <td>0.0</td>\n",
       "      <td>0.0</td>\n",
       "    </tr>\n",
       "    <tr>\n",
       "      <th>2</th>\n",
       "      <td>0.0</td>\n",
       "      <td>16.0</td>\n",
       "      <td>0.0</td>\n",
       "      <td>1.0</td>\n",
       "      <td>3.0</td>\n",
       "      <td>0.0</td>\n",
       "      <td>2.0</td>\n",
       "      <td>0.0</td>\n",
       "      <td>0.0</td>\n",
       "      <td>0.0</td>\n",
       "      <td>...</td>\n",
       "      <td>0.0</td>\n",
       "      <td>0.0</td>\n",
       "      <td>0.0</td>\n",
       "      <td>0.0</td>\n",
       "      <td>0.0</td>\n",
       "      <td>0.0</td>\n",
       "      <td>0.0</td>\n",
       "      <td>0.0</td>\n",
       "      <td>0.0</td>\n",
       "      <td>0.0</td>\n",
       "    </tr>\n",
       "    <tr>\n",
       "      <th>3</th>\n",
       "      <td>0.0</td>\n",
       "      <td>17.0</td>\n",
       "      <td>0.0</td>\n",
       "      <td>0.0</td>\n",
       "      <td>3.0</td>\n",
       "      <td>0.0</td>\n",
       "      <td>2.0</td>\n",
       "      <td>0.0</td>\n",
       "      <td>0.0</td>\n",
       "      <td>0.0</td>\n",
       "      <td>...</td>\n",
       "      <td>0.0</td>\n",
       "      <td>0.0</td>\n",
       "      <td>0.0</td>\n",
       "      <td>0.0</td>\n",
       "      <td>0.0</td>\n",
       "      <td>0.0</td>\n",
       "      <td>0.0</td>\n",
       "      <td>0.0</td>\n",
       "      <td>0.0</td>\n",
       "      <td>0.0</td>\n",
       "    </tr>\n",
       "    <tr>\n",
       "      <th>4</th>\n",
       "      <td>0.0</td>\n",
       "      <td>18.0</td>\n",
       "      <td>0.0</td>\n",
       "      <td>3.0</td>\n",
       "      <td>3.0</td>\n",
       "      <td>0.0</td>\n",
       "      <td>2.0</td>\n",
       "      <td>0.0</td>\n",
       "      <td>0.0</td>\n",
       "      <td>0.0</td>\n",
       "      <td>...</td>\n",
       "      <td>0.0</td>\n",
       "      <td>0.0</td>\n",
       "      <td>0.0</td>\n",
       "      <td>0.0</td>\n",
       "      <td>0.0</td>\n",
       "      <td>0.0</td>\n",
       "      <td>0.0</td>\n",
       "      <td>0.0</td>\n",
       "      <td>0.0</td>\n",
       "      <td>0.0</td>\n",
       "    </tr>\n",
       "  </tbody>\n",
       "</table>\n",
       "<p>5 rows × 182 columns</p>\n",
       "</div>"
      ],
      "text/plain": [
       "   Br***C***  C***C***  C***Cl***  C***F***  C***N***  C***O***  C***S***  \\\n",
       "0        0.0      17.0        0.0       1.0       3.0       0.0       2.0   \n",
       "1        0.0      16.0        0.0       1.0       3.0       0.0       2.0   \n",
       "2        0.0      16.0        0.0       1.0       3.0       0.0       2.0   \n",
       "3        0.0      17.0        0.0       0.0       3.0       0.0       2.0   \n",
       "4        0.0      18.0        0.0       3.0       3.0       0.0       2.0   \n",
       "\n",
       "   N***N***  N***O***  N***S***  ...  N***C***C***C***O***  \\\n",
       "0       0.0       0.0       0.0  ...                   0.0   \n",
       "1       0.0       0.0       0.0  ...                   0.0   \n",
       "2       0.0       0.0       0.0  ...                   0.0   \n",
       "3       0.0       0.0       0.0  ...                   0.0   \n",
       "4       0.0       0.0       0.0  ...                   0.0   \n",
       "\n",
       "   N***C***C***C***S***  N***C***C***N***N***  N***C***C***N***O***  \\\n",
       "0                   0.0                   0.0                   0.0   \n",
       "1                   0.0                   0.0                   0.0   \n",
       "2                   0.0                   0.0                   0.0   \n",
       "3                   0.0                   0.0                   0.0   \n",
       "4                   0.0                   0.0                   0.0   \n",
       "\n",
       "   N***C***C***O***N***  N***C***C***S***O***  N***N***C***C***O***  \\\n",
       "0                   0.0                   0.0                   0.0   \n",
       "1                   0.0                   0.0                   0.0   \n",
       "2                   0.0                   0.0                   0.0   \n",
       "3                   0.0                   0.0                   0.0   \n",
       "4                   0.0                   0.0                   0.0   \n",
       "\n",
       "   N***N***C***C***S***  N***O***C***C***O***  S***C***C***C***S***  \n",
       "0                   0.0                   0.0                   0.0  \n",
       "1                   0.0                   0.0                   0.0  \n",
       "2                   0.0                   0.0                   0.0  \n",
       "3                   0.0                   0.0                   0.0  \n",
       "4                   0.0                   0.0                   0.0  \n",
       "\n",
       "[5 rows x 182 columns]"
      ]
     },
     "execution_count": 30,
     "metadata": {},
     "output_type": "execute_result"
    }
   ],
   "source": [
    "tab.head()"
   ]
  },
  {
   "cell_type": "code",
   "execution_count": 31,
   "metadata": {},
   "outputs": [],
   "source": [
    "y = pd.read_csv(\"data_varvara/cox2/cox2_y.csv\")"
   ]
  },
  {
   "cell_type": "code",
   "execution_count": 32,
   "metadata": {},
   "outputs": [],
   "source": [
    "y = np.array(y)"
   ]
  },
  {
   "cell_type": "code",
   "execution_count": 33,
   "metadata": {},
   "outputs": [],
   "source": [
    "r = []\n",
    "for i in y:\n",
    "    s = i[0]\n",
    "    s = re.sub('inf', '1_000_000_000', str(s))\n",
    "    r.append(ast.literal_eval(s))"
   ]
  },
  {
   "cell_type": "code",
   "execution_count": 34,
   "metadata": {},
   "outputs": [],
   "source": [
    "y = np.array(r)\n",
    "for i in range(y.shape[0]):\n",
    "    if y[i,1] == 1_000_000_000:\n",
    "        y[i,1] = np.inf"
   ]
  },
  {
   "cell_type": "code",
   "execution_count": 35,
   "metadata": {},
   "outputs": [],
   "source": [
    "X = np.array(tab)"
   ]
  },
  {
   "cell_type": "code",
   "execution_count": null,
   "metadata": {},
   "outputs": [],
   "source": []
  },
  {
   "cell_type": "code",
   "execution_count": 36,
   "metadata": {},
   "outputs": [],
   "source": [
    "my_pca = PCA(5)"
   ]
  },
  {
   "cell_type": "code",
   "execution_count": 37,
   "metadata": {},
   "outputs": [],
   "source": [
    "X_pca = my_pca.fit_transform(X)"
   ]
  },
  {
   "cell_type": "code",
   "execution_count": 38,
   "metadata": {},
   "outputs": [
    {
     "data": {
      "text/plain": [
       "<matplotlib.collections.PathCollection at 0x7f41488e6f50>"
      ]
     },
     "execution_count": 38,
     "metadata": {},
     "output_type": "execute_result"
    },
    {
     "data": {
      "image/png": "[encoded data removed]",
      "text/plain": [
       "<Figure size 432x288 with 1 Axes>"
      ]
     },
     "metadata": {
      "needs_background": "light"
     },
     "output_type": "display_data"
    }
   ],
   "source": [
    "plt.scatter(X_pca[:,0], X_pca[:,1])\n"
   ]
  },
  {
   "cell_type": "code",
   "execution_count": null,
   "metadata": {},
   "outputs": [],
   "source": []
  },
  {
   "cell_type": "code",
   "execution_count": 39,
   "metadata": {},
   "outputs": [],
   "source": [
    "my_tsne = TSNE()\n",
    "X_tsne = my_tsne.fit_transform(X)"
   ]
  },
  {
   "cell_type": "code",
   "execution_count": 40,
   "metadata": {},
   "outputs": [
    {
     "data": {
      "text/plain": [
       "<matplotlib.collections.PathCollection at 0x7f41488e4210>"
      ]
     },
     "execution_count": 40,
     "metadata": {},
     "output_type": "execute_result"
    },
    {
     "data": {
      "image/png": "[encoded data removed]",
      "text/plain": [
       "<Figure size 432x288 with 1 Axes>"
      ]
     },
     "metadata": {
      "needs_background": "light"
     },
     "output_type": "display_data"
    }
   ],
   "source": [
    "plt.scatter(X_tsne[:, 0], X_tsne[:, 1])"
   ]
  },
  {
   "cell_type": "code",
   "execution_count": 188,
   "metadata": {},
   "outputs": [],
   "source": [
    "aggl = AgglomerativeClustering(n_clusters=5, linkage=\"complete\", affinity=\"manhattan\")\n",
    "aggl = DBSCAN(eps=10, min_samples=2)"
   ]
  },
  {
   "cell_type": "code",
   "execution_count": 189,
   "metadata": {},
   "outputs": [],
   "source": [
    "res = aggl.fit_predict(X)"
   ]
  },
  {
   "cell_type": "code",
   "execution_count": 190,
   "metadata": {},
   "outputs": [
    {
     "data": {
      "text/plain": [
       "<matplotlib.collections.PathCollection at 0x7f413ace7c50>"
      ]
     },
     "execution_count": 190,
     "metadata": {},
     "output_type": "execute_result"
    },
    {
     "data": {
      "image/png": "[encoded data removed]",
      "text/plain": [
       "<Figure size 432x288 with 1 Axes>"
      ]
     },
     "metadata": {
      "needs_background": "light"
     },
     "output_type": "display_data"
    }
   ],
   "source": [
    "plt.scatter(X_tsne[:, 0], X_tsne[:, 1], c=res, cmap=plt.cm.Paired)"
   ]
  },
  {
   "cell_type": "code",
   "execution_count": 191,
   "metadata": {},
   "outputs": [
    {
     "data": {
      "text/plain": [
       "<matplotlib.collections.PathCollection at 0x7f413ae2b150>"
      ]
     },
     "execution_count": 191,
     "metadata": {},
     "output_type": "execute_result"
    },
    {
     "data": {
      "image/png": "[encoded data removed]",
      "text/plain": [
       "<Figure size 432x288 with 1 Axes>"
      ]
     },
     "metadata": {
      "needs_background": "light"
     },
     "output_type": "display_data"
    }
   ],
   "source": [
    "plt.scatter(X_pca[:,0], X_pca[:,1], c=res, cmap=plt.cm.Paired)"
   ]
  },
  {
   "cell_type": "code",
   "execution_count": 192,
   "metadata": {},
   "outputs": [
    {
     "data": {
      "text/plain": [
       "0.29384996563297044"
      ]
     },
     "execution_count": 192,
     "metadata": {},
     "output_type": "execute_result"
    }
   ],
   "source": [
    "silhouette_score(X,res)"
   ]
  },
  {
   "cell_type": "code",
   "execution_count": null,
   "metadata": {},
   "outputs": [],
   "source": []
  },
  {
   "cell_type": "code",
   "execution_count": 193,
   "metadata": {},
   "outputs": [],
   "source": [
    "cluster_structure = res"
   ]
  },
  {
   "cell_type": "code",
   "execution_count": 194,
   "metadata": {},
   "outputs": [],
   "source": [
    "mdl = RandomForestRegressor(n_jobs=-1, max_depth=20, min_samples_leaf=2, criterion=\"mse\", max_features=\"log2\")\n",
    "# mdl = GradientBoostingRegressor(n_estimators=30, loss='ls', max_depth=10, min_samples_leaf=4)\n",
    "# mdl = Ridge(2)"
   ]
  },
  {
   "cell_type": "code",
   "execution_count": null,
   "metadata": {},
   "outputs": [],
   "source": []
  },
  {
   "cell_type": "code",
   "execution_count": null,
   "metadata": {},
   "outputs": [],
   "source": []
  },
  {
   "cell_type": "code",
   "execution_count": 201,
   "metadata": {},
   "outputs": [
    {
     "name": "stdout",
     "output_type": "stream",
     "text": [
      "(29, 182)\n",
      "2017.3070534649457 38.571440518310226\n",
      "\n",
      "(2, 182)\n",
      "0.0025000000000000057 0.05000000000000006\n",
      "\n",
      "(136, 182)\n",
      "857.2406723362658 18.12698057187737\n",
      "\n",
      "(125, 182)\n",
      "527.7000047734814 11.12371323250311\n",
      "\n",
      "(4, 182)\n",
      "879.9319746173027 25.275994166666663\n",
      "\n",
      "(109, 182)\n",
      "1451.78464834472 30.278207573813482\n",
      "\n",
      "(2, 182)\n",
      "0.005040999999999992 0.07099999999999994\n",
      "\n",
      "(2, 182)\n",
      "0.00019599999999999945 0.013999999999999981\n",
      "\n",
      "(2, 182)\n",
      "0.030624999999999965 0.1749999999999999\n",
      "\n",
      "(19, 182)\n",
      "0.13749316560964406 0.21193738648009197\n",
      "\n",
      "(19, 182)\n",
      "1107.1445271046734 21.288738699176303\n",
      "\n",
      "(2, 182)\n",
      "0.1892249999999997 0.4349999999999996\n",
      "\n"
     ]
    }
   ],
   "source": [
    "y_new = []\n",
    "ans_all = []\n",
    "for i in np.unique(cluster_structure):\n",
    "    if i == -1:\n",
    "        continue\n",
    "    X_in_clust = X[np.where(res==i)[0],:]\n",
    "    y_in_clust = y[np.where(res==i)[0],0]\n",
    "    print(X_in_clust.shape)\n",
    "    ans = []\n",
    "    \n",
    "    for train_index, test_index in KFold(min(10, X_in_clust.shape[0])).split(X_in_clust):\n",
    "        \n",
    "        \n",
    "        X_train = X_in_clust[train_index, :]\n",
    "        y_train = y_in_clust[train_index]\n",
    "\n",
    "        X_test = X_in_clust[test_index, :]\n",
    "        y_test = y_in_clust[test_index]\n",
    "\n",
    "        mdl.fit(X_train, y_train)\n",
    "        for j in mdl.predict(X_test):\n",
    "            ans.append(j)\n",
    "        for j in mdl.predict(X_test):\n",
    "            ans_all.append(j)\n",
    "        for j in y_test:\n",
    "            y_new.append(j)\n",
    "    print(MSE(ans,y_in_clust[:]), MAE(ans,y_in_clust[:]))\n",
    "    print()"
   ]
  },
  {
   "cell_type": "code",
   "execution_count": 202,
   "metadata": {},
   "outputs": [
    {
     "name": "stdout",
     "output_type": "stream",
     "text": [
      "939.805331955831 19.480569256561008 (2,)\n"
     ]
    }
   ],
   "source": [
    "print(MSE(ans_all,y_new[:]), MAE(ans_all,y_new[:]),y_in_clust.shape)"
   ]
  },
  {
   "cell_type": "code",
   "execution_count": 203,
   "metadata": {},
   "outputs": [],
   "source": [
    "def plot_answer(ans, true):\n",
    "    \n",
    "    x = [i for i in range(len(ans))]\n",
    "    \n",
    "    fig = plt.figure(figsize=(17,10))\n",
    "    ax = fig.add_subplot(1, 1, 1)\n",
    "    ax.legend()\n",
    "    \n",
    "    ax.scatter(x, ans, alpha=0.8, c=\"blue\", label=\"Answer\")\n",
    "    ax.scatter(x, true, alpha=0.8, c=\"red\", label=\"True\")\n",
    "    ax.legend(loc='upper left', fontsize=20)\n",
    "    \n",
    "    \n",
    "    plt.show()"
   ]
  },
  {
   "cell_type": "code",
   "execution_count": 204,
   "metadata": {},
   "outputs": [
    {
     "name": "stderr",
     "output_type": "stream",
     "text": [
      "No handles with labels found to put in legend.\n"
     ]
    },
    {
     "data": {
      "image/png": "[encoded data removed]",
      "text/plain": [
       "<Figure size 1224x720 with 1 Axes>"
      ]
     },
     "metadata": {
      "needs_background": "light"
     },
     "output_type": "display_data"
    }
   ],
   "source": [
    "plot_answer(ans_all, y_new)"
   ]
  },
  {
   "cell_type": "code",
   "execution_count": 419,
   "metadata": {},
   "outputs": [
    {
     "data": {
      "text/plain": [
       "array([[6.00e-02, 6.00e-02],\n",
       "       [5.10e-01, 5.10e-01],\n",
       "       [1.02e+01, 1.02e+01],\n",
       "       [6.00e-02, 6.00e-02],\n",
       "       [8.00e-02, 8.00e-02],\n",
       "       [4.00e-02, 4.00e-02],\n",
       "       [2.87e+00, 2.87e+00],\n",
       "       [2.50e-01, 2.50e-01],\n",
       "       [1.00e+02,      inf],\n",
       "       [1.00e+02,      inf],\n",
       "       [1.00e+02,      inf],\n",
       "       [1.00e+02,      inf],\n",
       "       [1.00e+02,      inf],\n",
       "       [1.40e-02, 1.40e-02],\n",
       "       [1.00e+02,      inf],\n",
       "       [1.00e+02,      inf],\n",
       "       [1.00e+02,      inf],\n",
       "       [1.00e+02,      inf],\n",
       "       [1.20e-01, 1.20e-01],\n",
       "       [1.61e+00, 1.61e+00],\n",
       "       [1.02e+00, 1.02e+00],\n",
       "       [6.00e-02, 6.00e-02],\n",
       "       [3.23e+00, 3.23e+00],\n",
       "       [7.50e-01, 7.50e-01],\n",
       "       [2.00e-02, 2.00e-02],\n",
       "       [5.00e-02, 5.00e-02],\n",
       "       [1.00e+02,      inf],\n",
       "       [4.70e-01, 4.70e-01],\n",
       "       [3.88e+00, 3.88e+00],\n",
       "       [3.00e-02, 3.00e-02],\n",
       "       [8.00e-02, 8.00e-02],\n",
       "       [1.44e+00, 1.44e+00],\n",
       "       [1.40e-01, 1.40e-01],\n",
       "       [1.00e+02,      inf],\n",
       "       [5.20e-01, 5.20e-01],\n",
       "       [2.40e-01, 2.40e-01],\n",
       "       [1.10e-01, 1.10e-01],\n",
       "       [1.00e-01, 1.00e-01],\n",
       "       [1.20e-01, 1.20e-01],\n",
       "       [1.60e-01, 1.60e-01],\n",
       "       [5.70e-01, 5.70e-01],\n",
       "       [1.47e+00, 1.47e+00],\n",
       "       [7.00e-01, 7.00e-01],\n",
       "       [1.60e-01, 1.60e-01],\n",
       "       [1.00e+02,      inf],\n",
       "       [5.70e+00, 5.70e+00],\n",
       "       [1.00e-02, 1.00e-02],\n",
       "       [1.00e-02, 1.00e-02],\n",
       "       [4.00e-02, 4.00e-02],\n",
       "       [4.00e-02, 4.00e-02],\n",
       "       [6.00e-02, 6.00e-02],\n",
       "       [1.20e-01, 1.20e-01],\n",
       "       [8.00e-02, 8.00e-02],\n",
       "       [6.00e-02, 6.00e-02],\n",
       "       [2.10e-01, 2.10e-01],\n",
       "       [3.50e-01, 3.50e-01],\n",
       "       [3.50e-01, 3.50e-01],\n",
       "       [6.81e+01, 6.81e+01],\n",
       "       [3.20e+00, 3.20e+00],\n",
       "       [9.20e-01, 9.20e-01],\n",
       "       [5.89e+00, 5.89e+00],\n",
       "       [5.80e-01, 5.80e-01],\n",
       "       [8.00e-03, 8.00e-03],\n",
       "       [3.00e-02, 3.00e-02],\n",
       "       [7.00e-03, 7.00e-03],\n",
       "       [3.00e-02, 3.00e-02],\n",
       "       [9.00e-01, 9.00e-01],\n",
       "       [4.00e-01, 4.00e-01],\n",
       "       [8.00e-01, 8.00e-01],\n",
       "       [1.00e+02,      inf],\n",
       "       [1.00e-01, 1.00e-01],\n",
       "       [2.00e-01, 2.00e-01],\n",
       "       [1.50e-01, 1.50e-01],\n",
       "       [1.30e-01, 1.30e-01],\n",
       "       [4.00e-02, 4.00e-02],\n",
       "       [3.20e-01, 3.20e-01],\n",
       "       [3.30e-01, 3.30e-01],\n",
       "       [6.60e-01, 6.60e-01],\n",
       "       [3.00e-02, 3.00e-02],\n",
       "       [1.10e-01, 1.10e-01],\n",
       "       [1.70e-01, 1.70e-01],\n",
       "       [9.00e-02, 9.00e-02],\n",
       "       [2.50e-01, 2.50e-01],\n",
       "       [1.04e+00, 1.04e+00],\n",
       "       [1.70e-01, 1.70e-01],\n",
       "       [1.20e-01, 1.20e-01],\n",
       "       [3.30e-01, 3.30e-01],\n",
       "       [8.00e-02, 8.00e-02],\n",
       "       [1.10e-01, 1.10e-01],\n",
       "       [9.60e-01, 9.60e-01],\n",
       "       [1.00e+02,      inf],\n",
       "       [1.70e-01, 1.70e-01],\n",
       "       [1.00e+02,      inf],\n",
       "       [1.00e+02,      inf],\n",
       "       [3.00e-02, 3.00e-02],\n",
       "       [2.00e-02, 2.00e-02],\n",
       "       [3.00e-02, 3.00e-02],\n",
       "       [1.00e-02, 1.00e-02],\n",
       "       [3.00e-03, 3.00e-03],\n",
       "       [2.00e-02, 2.00e-02],\n",
       "       [3.00e-02, 3.00e-02],\n",
       "       [4.00e-02, 4.00e-02],\n",
       "       [3.00e-02, 3.00e-02],\n",
       "       [4.60e-01, 4.60e-01],\n",
       "       [1.70e-01, 1.70e-01],\n",
       "       [1.40e-01, 1.40e-01],\n",
       "       [9.00e-02, 9.00e-02],\n",
       "       [7.20e-01, 7.20e-01],\n",
       "       [1.22e+01, 1.22e+01],\n",
       "       [1.40e-01, 1.40e-01],\n",
       "       [3.00e-02, 3.00e-02],\n",
       "       [1.00e+02,      inf],\n",
       "       [6.10e-01, 6.10e-01],\n",
       "       [4.10e-01, 4.10e-01],\n",
       "       [1.60e+00, 1.60e+00],\n",
       "       [2.30e-01, 2.30e-01],\n",
       "       [5.70e+00, 5.70e+00],\n",
       "       [1.00e+02,      inf],\n",
       "       [1.00e+02,      inf],\n",
       "       [1.00e+02,      inf],\n",
       "       [2.40e-01, 2.40e-01],\n",
       "       [3.00e-02, 3.00e-02],\n",
       "       [5.00e-02, 5.00e-02],\n",
       "       [3.72e+00, 3.72e+00],\n",
       "       [8.35e+00, 8.35e+00],\n",
       "       [3.20e-01, 3.20e-01],\n",
       "       [1.00e+02,      inf],\n",
       "       [1.54e+00, 1.54e+00],\n",
       "       [1.69e+00, 1.69e+00],\n",
       "       [9.60e+00, 9.60e+00],\n",
       "       [1.80e+00, 1.80e+00],\n",
       "       [1.80e+00, 1.80e+00],\n",
       "       [5.40e+01, 5.40e+01],\n",
       "       [1.20e+00, 1.20e+00],\n",
       "       [3.76e+01, 3.76e+01],\n",
       "       [9.50e-01, 9.50e-01],\n",
       "       [4.40e-01, 4.40e-01],\n",
       "       [2.80e+00, 2.80e+00],\n",
       "       [2.90e-01, 2.90e-01],\n",
       "       [5.10e-01, 5.10e-01],\n",
       "       [5.10e+01, 5.10e+01],\n",
       "       [1.00e+02,      inf],\n",
       "       [3.40e-01, 3.40e-01],\n",
       "       [2.07e+01, 2.07e+01],\n",
       "       [2.44e+01, 2.44e+01],\n",
       "       [7.90e+01, 7.90e+01],\n",
       "       [1.00e+02,      inf],\n",
       "       [9.34e+01, 9.34e+01],\n",
       "       [1.83e+00, 1.83e+00],\n",
       "       [2.90e+00, 2.90e+00],\n",
       "       [1.30e+00, 1.30e+00],\n",
       "       [5.30e-01, 5.30e-01],\n",
       "       [5.80e+00, 5.80e+00],\n",
       "       [4.20e-01, 4.20e-01],\n",
       "       [7.30e-01, 7.30e-01],\n",
       "       [4.40e-01, 4.40e-01],\n",
       "       [1.54e+00, 1.54e+00],\n",
       "       [1.20e+00, 1.20e+00],\n",
       "       [1.70e+00, 1.70e+00],\n",
       "       [6.30e-01, 6.30e-01],\n",
       "       [1.10e+00, 1.10e+00],\n",
       "       [2.80e-01, 2.80e-01],\n",
       "       [4.70e-01, 4.70e-01],\n",
       "       [5.10e+01, 5.10e+01],\n",
       "       [4.70e-01, 4.70e-01],\n",
       "       [7.00e-02, 7.00e-02],\n",
       "       [2.60e-02, 2.60e-02],\n",
       "       [1.10e+00, 1.10e+00],\n",
       "       [9.40e-01, 9.40e-01],\n",
       "       [5.20e-01, 5.20e-01],\n",
       "       [4.30e-01, 4.30e-01],\n",
       "       [1.10e-01, 1.10e-01],\n",
       "       [4.15e+00, 4.15e+00],\n",
       "       [4.10e-01, 4.10e-01],\n",
       "       [2.60e-02, 2.60e-02],\n",
       "       [5.00e-03, 5.00e-03],\n",
       "       [3.00e-03, 3.00e-03],\n",
       "       [3.00e-03, 3.00e-03],\n",
       "       [2.25e+00, 2.25e+00],\n",
       "       [8.65e-01, 8.65e-01],\n",
       "       [5.30e-02, 5.30e-02],\n",
       "       [7.79e+01, 7.79e+01],\n",
       "       [3.20e+00, 3.20e+00],\n",
       "       [6.60e+00, 6.60e+00],\n",
       "       [2.21e-01, 2.21e-01],\n",
       "       [7.50e-02, 7.50e-02],\n",
       "       [1.50e-02, 1.50e-02],\n",
       "       [7.00e-03, 7.00e-03],\n",
       "       [6.70e-02, 6.70e-02],\n",
       "       [6.50e+01, 6.50e+01],\n",
       "       [5.10e-02, 5.10e-02],\n",
       "       [5.10e-02, 5.10e-02],\n",
       "       [3.00e-02, 3.00e-02],\n",
       "       [1.00e+02,      inf],\n",
       "       [1.00e+02,      inf],\n",
       "       [1.00e-02, 1.00e-02],\n",
       "       [1.20e-01, 1.20e-01],\n",
       "       [1.40e-01, 1.40e-01],\n",
       "       [1.70e-02, 1.70e-02],\n",
       "       [2.10e-02, 2.10e-02],\n",
       "       [5.00e-03, 5.00e-03],\n",
       "       [7.60e-01, 7.60e-01],\n",
       "       [7.00e-03, 7.00e-03],\n",
       "       [1.80e-02, 1.80e-02],\n",
       "       [1.00e-02, 1.00e-02],\n",
       "       [2.90e+00, 2.90e+00],\n",
       "       [3.00e-03, 3.00e-03],\n",
       "       [2.00e-03, 2.00e-03],\n",
       "       [2.00e-03, 2.00e-03],\n",
       "       [1.60e-02, 1.60e-02],\n",
       "       [9.00e-03, 9.00e-03],\n",
       "       [9.00e-03, 9.00e-03],\n",
       "       [2.00e-03, 2.00e-03],\n",
       "       [2.00e-03, 2.00e-03],\n",
       "       [1.50e-01, 1.50e-01],\n",
       "       [1.70e-01, 1.70e-01],\n",
       "       [2.60e-01, 2.60e-01],\n",
       "       [3.60e-01, 3.60e-01],\n",
       "       [1.40e-01, 1.40e-01],\n",
       "       [1.00e+02,      inf],\n",
       "       [1.14e+01, 1.14e+01],\n",
       "       [6.10e-02, 6.10e-02],\n",
       "       [1.70e-02, 1.70e-02],\n",
       "       [6.00e-03, 6.00e-03],\n",
       "       [3.30e-02, 3.30e-02],\n",
       "       [1.90e-02, 1.90e-02],\n",
       "       [1.40e-02, 1.40e-02],\n",
       "       [1.00e-02, 1.00e-02],\n",
       "       [5.00e-03, 5.00e-03],\n",
       "       [2.10e-02, 2.10e-02],\n",
       "       [1.90e-02, 1.90e-02],\n",
       "       [1.00e+02,      inf],\n",
       "       [1.30e-02, 1.30e-02],\n",
       "       [3.40e-01, 3.40e-01],\n",
       "       [3.40e-01, 3.40e-01],\n",
       "       [1.20e-02, 1.20e-02],\n",
       "       [7.00e-03, 7.00e-03],\n",
       "       [1.30e-02, 1.30e-02],\n",
       "       [2.30e-02, 2.30e-02],\n",
       "       [6.00e-03, 6.00e-03],\n",
       "       [8.00e-03, 8.00e-03],\n",
       "       [4.00e-03, 4.00e-03],\n",
       "       [2.00e-03, 2.00e-03],\n",
       "       [2.00e-03, 2.00e-03],\n",
       "       [1.30e-02, 1.30e-02],\n",
       "       [1.30e-02, 1.30e-02],\n",
       "       [2.10e-02, 2.10e-02],\n",
       "       [5.00e-03, 5.00e-03],\n",
       "       [6.50e-02, 6.50e-02],\n",
       "       [3.20e-02, 3.20e-02],\n",
       "       [4.00e-03, 4.00e-03],\n",
       "       [4.00e-03, 4.00e-03],\n",
       "       [3.00e-03, 3.00e-03],\n",
       "       [5.00e-03, 5.00e-03],\n",
       "       [3.00e-03, 3.00e-03],\n",
       "       [6.00e-03, 6.00e-03],\n",
       "       [2.40e-01, 2.40e-01],\n",
       "       [8.30e-02, 8.30e-02],\n",
       "       [1.00e+02,      inf],\n",
       "       [1.00e+02,      inf],\n",
       "       [1.70e-01, 1.70e-01],\n",
       "       [5.10e-02, 5.10e-02],\n",
       "       [5.23e+01, 5.23e+01],\n",
       "       [3.30e-01, 3.30e-01],\n",
       "       [3.20e-02, 3.20e-02],\n",
       "       [5.80e-02, 5.80e-02],\n",
       "       [7.73e+00, 7.73e+00],\n",
       "       [4.10e-02, 4.10e-02],\n",
       "       [5.60e-02, 5.60e-02],\n",
       "       [1.00e-02, 1.00e-02],\n",
       "       [6.90e-02, 6.90e-02],\n",
       "       [1.10e-01, 1.10e-01],\n",
       "       [4.00e-02, 4.00e-02],\n",
       "       [8.60e-01, 8.60e-01],\n",
       "       [8.23e+00, 8.23e+00],\n",
       "       [2.63e+00, 2.63e+00],\n",
       "       [1.00e+02,      inf],\n",
       "       [2.90e-01, 2.90e-01],\n",
       "       [8.00e-03, 8.00e-03],\n",
       "       [6.40e-01, 6.40e-01],\n",
       "       [9.00e-03, 9.00e-03],\n",
       "       [3.40e-01, 3.40e-01],\n",
       "       [1.43e+01, 1.43e+01],\n",
       "       [1.60e-02, 1.60e-02],\n",
       "       [4.70e-03, 4.70e-03],\n",
       "       [9.33e+01, 9.33e+01],\n",
       "       [1.12e+01, 1.12e+01],\n",
       "       [9.30e-03, 9.30e-03],\n",
       "       [4.30e-01, 4.30e-01],\n",
       "       [6.00e-01, 6.00e-01],\n",
       "       [3.70e-03, 3.70e-03],\n",
       "       [5.70e-03, 5.70e-03],\n",
       "       [2.70e-02, 2.70e-02],\n",
       "       [6.60e-02, 6.60e-02],\n",
       "       [1.50e-02, 1.50e-02],\n",
       "       [5.60e-02, 5.60e-02],\n",
       "       [1.00e+02,      inf],\n",
       "       [1.20e-01, 1.20e-01],\n",
       "       [1.00e-02, 1.00e-02],\n",
       "       [1.00e+02,      inf],\n",
       "       [1.30e-02, 1.30e-02],\n",
       "       [2.97e+01, 2.97e+01],\n",
       "       [1.00e+02,      inf],\n",
       "       [1.00e+02,      inf],\n",
       "       [4.68e+01, 4.68e+01],\n",
       "       [1.50e-02, 1.50e-02],\n",
       "       [5.00e-02, 5.00e-02],\n",
       "       [2.70e-02, 2.70e-02],\n",
       "       [2.10e-02, 2.10e-02],\n",
       "       [3.50e-01, 3.50e-01],\n",
       "       [1.00e+02,      inf],\n",
       "       [1.30e-01, 1.30e-01],\n",
       "       [1.00e+02, 1.00e+02],\n",
       "       [6.28e+01, 6.28e+01],\n",
       "       [1.00e-01, 1.00e-01],\n",
       "       [5.20e-02, 5.20e-02],\n",
       "       [1.00e+02,      inf],\n",
       "       [1.00e+02,      inf],\n",
       "       [5.60e-02, 5.60e-02],\n",
       "       [3.40e-01, 3.40e-01],\n",
       "       [8.30e-01, 8.30e-01],\n",
       "       [2.90e-02, 2.90e-02],\n",
       "       [2.00e-01, 2.00e-01],\n",
       "       [1.20e-01, 1.20e-01],\n",
       "       [1.00e+02,      inf],\n",
       "       [5.30e-03, 5.30e-03],\n",
       "       [2.80e-02, 2.80e-02],\n",
       "       [3.40e-01, 3.40e-01],\n",
       "       [1.00e-02, 1.00e-02],\n",
       "       [7.00e+01, 7.00e+01],\n",
       "       [1.60e-01, 1.60e-01],\n",
       "       [1.09e+00, 1.09e+00],\n",
       "       [4.90e-02, 4.90e-02],\n",
       "       [3.10e-02, 3.10e-02],\n",
       "       [1.00e+02,      inf],\n",
       "       [4.66e+00, 4.66e+00],\n",
       "       [4.71e+01, 4.71e+01],\n",
       "       [7.60e-02, 7.60e-02],\n",
       "       [2.90e-01, 2.90e-01],\n",
       "       [1.98e+01, 1.98e+01],\n",
       "       [2.97e+01, 2.97e+01],\n",
       "       [1.70e-03, 1.70e-03],\n",
       "       [2.20e-02, 2.20e-02],\n",
       "       [2.80e-02, 2.80e-02],\n",
       "       [1.00e+02,      inf],\n",
       "       [8.00e-02, 8.00e-02],\n",
       "       [3.58e+00, 3.58e+00],\n",
       "       [1.00e-02, 1.00e-02],\n",
       "       [6.70e-03, 6.70e-03],\n",
       "       [1.00e+02,      inf],\n",
       "       [1.00e+02,      inf],\n",
       "       [1.00e+02,      inf],\n",
       "       [1.00e+02,      inf],\n",
       "       [1.00e+02,      inf],\n",
       "       [4.79e+00, 4.79e+00],\n",
       "       [7.50e-01, 7.50e-01],\n",
       "       [7.50e-01, 7.50e-01],\n",
       "       [7.49e+01, 7.49e+01],\n",
       "       [1.00e-01, 1.00e-01],\n",
       "       [4.00e-02, 4.00e-02],\n",
       "       [4.56e+01, 4.56e+01],\n",
       "       [4.50e+01, 4.50e+01],\n",
       "       [6.47e+01, 6.47e+01],\n",
       "       [1.20e-02, 1.20e-02],\n",
       "       [2.60e-02, 2.60e-02],\n",
       "       [3.50e-01, 3.50e-01],\n",
       "       [8.90e-01, 8.90e-01],\n",
       "       [8.40e-02, 8.40e-02],\n",
       "       [3.10e-02, 3.10e-02],\n",
       "       [2.30e-01, 2.30e-01],\n",
       "       [2.10e-02, 2.10e-02],\n",
       "       [5.20e-02, 5.20e-02],\n",
       "       [3.29e+00, 3.29e+00],\n",
       "       [2.40e-02, 2.40e-02],\n",
       "       [7.50e-03, 7.50e-03],\n",
       "       [1.70e-02, 1.70e-02],\n",
       "       [2.00e-03, 2.00e-03],\n",
       "       [3.00e-03, 3.00e-03],\n",
       "       [1.00e-03, 1.00e-03],\n",
       "       [1.00e-03, 1.00e-03],\n",
       "       [1.50e-03, 1.50e-03],\n",
       "       [5.00e-03, 5.00e-03],\n",
       "       [1.00e-03, 1.00e-03],\n",
       "       [1.35e-01, 1.35e-01],\n",
       "       [1.30e-01, 1.30e-01],\n",
       "       [2.00e-03, 2.00e-03],\n",
       "       [1.00e-03, 1.00e-03],\n",
       "       [1.00e-02, 1.00e-02],\n",
       "       [2.00e-03, 2.00e-03],\n",
       "       [1.30e-02, 1.30e-02],\n",
       "       [2.00e-03, 2.00e-03],\n",
       "       [2.50e-03, 2.50e-03],\n",
       "       [3.30e-03, 3.30e-03],\n",
       "       [3.00e-03, 3.00e-03],\n",
       "       [3.00e-03, 3.00e-03],\n",
       "       [1.00e-03, 1.00e-03],\n",
       "       [7.00e-03, 7.00e-03],\n",
       "       [1.50e-03, 1.50e-03],\n",
       "       [2.20e-02, 2.20e-02],\n",
       "       [3.30e-02, 3.30e-02],\n",
       "       [6.00e-03, 6.00e-03],\n",
       "       [4.00e-03, 4.00e-03],\n",
       "       [4.00e-03, 4.00e-03],\n",
       "       [6.20e-02, 6.20e-02],\n",
       "       [1.00e+02,      inf],\n",
       "       [2.60e-02, 2.60e-02],\n",
       "       [2.70e-02, 2.70e-02],\n",
       "       [5.00e-03, 5.00e-03],\n",
       "       [1.80e-01, 1.80e-01],\n",
       "       [1.00e-02, 1.00e-02],\n",
       "       [6.00e-03, 6.00e-03],\n",
       "       [1.20e-01, 1.20e-01],\n",
       "       [5.40e-01, 5.40e-01],\n",
       "       [2.30e-02, 2.30e-02],\n",
       "       [1.10e-01, 1.10e-01],\n",
       "       [3.00e+01,      inf],\n",
       "       [2.30e-02, 2.30e-02],\n",
       "       [1.10e-01, 1.10e-01],\n",
       "       [6.10e-01, 6.10e-01],\n",
       "       [3.50e-01, 3.50e-01],\n",
       "       [1.80e-02, 1.80e-02],\n",
       "       [3.20e-02, 3.20e-02],\n",
       "       [5.20e-01, 5.20e-01],\n",
       "       [7.00e-03, 7.00e-03],\n",
       "       [5.00e-02, 5.00e-02],\n",
       "       [5.00e-02, 5.00e-02],\n",
       "       [2.70e-01, 2.70e-01],\n",
       "       [2.10e-02, 2.10e-02],\n",
       "       [4.30e-01, 4.30e-01],\n",
       "       [1.60e+00, 1.60e+00],\n",
       "       [1.00e+02,      inf],\n",
       "       [1.00e-02, 1.00e-02],\n",
       "       [1.00e-02, 1.00e-02],\n",
       "       [1.60e-02, 1.60e-02],\n",
       "       [1.00e+02,      inf],\n",
       "       [2.10e-02, 2.10e-02],\n",
       "       [1.30e-02, 1.30e-02],\n",
       "       [9.00e-03, 9.00e-03],\n",
       "       [3.80e-02, 3.80e-02],\n",
       "       [5.00e-03, 5.00e-03],\n",
       "       [2.40e-02, 2.40e-02],\n",
       "       [2.90e-02, 2.90e-02],\n",
       "       [1.80e-02, 1.80e-02],\n",
       "       [5.90e-02, 5.90e-02],\n",
       "       [2.48e+00, 2.48e+00],\n",
       "       [2.80e-02, 2.80e-02],\n",
       "       [5.70e-02, 5.70e-02],\n",
       "       [7.90e-02, 7.90e-02],\n",
       "       [1.00e+02,      inf],\n",
       "       [1.00e+02,      inf],\n",
       "       [1.00e+02,      inf],\n",
       "       [5.30e-01, 5.30e-01],\n",
       "       [7.50e-02, 7.50e-02],\n",
       "       [4.50e-02, 4.50e-02],\n",
       "       [1.30e-01, 1.30e-01],\n",
       "       [4.40e-01, 4.40e-01],\n",
       "       [4.80e-01, 4.80e-01],\n",
       "       [3.30e-02, 3.30e-02],\n",
       "       [1.10e-02, 1.10e-02],\n",
       "       [2.00e-02, 2.00e-02],\n",
       "       [5.00e-03, 5.00e-03],\n",
       "       [7.00e-03, 7.00e-03],\n",
       "       [9.30e-02, 9.30e-02],\n",
       "       [5.00e-03, 5.00e-03],\n",
       "       [1.00e-01, 1.00e-01],\n",
       "       [2.00e-02, 2.00e-02],\n",
       "       [1.00e+02,      inf]])"
      ]
     },
     "execution_count": 419,
     "metadata": {},
     "output_type": "execute_result"
    }
   ],
   "source": [
    "y"
   ]
  },
  {
   "cell_type": "code",
   "execution_count": null,
   "metadata": {},
   "outputs": [],
   "source": []
  }
 ],
 "metadata": {
  "kernelspec": {
   "display_name": "Python 3",
   "language": "python",
   "name": "python3"
  },
  "language_info": {
   "codemirror_mode": {
    "name": "ipython",
    "version": 3
   },
   "file_extension": ".py",
   "mimetype": "text/x-python",
   "name": "python",
   "nbconvert_exporter": "python",
   "pygments_lexer": "ipython3",
   "version": "3.7.6"
  }
 },
 "nbformat": 4,
 "nbformat_minor": 4
}
