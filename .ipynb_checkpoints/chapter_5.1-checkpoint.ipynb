{
 "cells": [
  {
   "cell_type": "code",
   "execution_count": 18,
   "metadata": {},
   "outputs": [],
   "source": [
    "import pandas as pd\n",
    "import numpy as np\n",
    "import matplotlib.pyplot as plt\n",
    "import re\n",
    "import ast\n",
    "from mgua import *\n",
    "from sklearn.linear_model import Ridge\n",
    "from sklearn.linear_model import Lasso\n",
    "from sklearn.linear_model import LinearRegression\n",
    "from sklearn.model_selection import KFold\n",
    "from sklearn.manifold import TSNE\n",
    "from sklearn.decomposition import PCA\n",
    "from sklearn.cluster import AgglomerativeClustering\n",
    "from scipy.cluster.hierarchy import dendrogram\n",
    "import random as rnd\n",
    "from sklearn.metrics import mean_absolute_error as MAE\n",
    "from sklearn.metrics import mean_squared_error as MSE\n",
    "from sklearn.ensemble import RandomForestRegressor\n",
    "from sklearn.metrics import r2_score as r2\n"
   ]
  },
  {
   "cell_type": "code",
   "execution_count": 19,
   "metadata": {},
   "outputs": [],
   "source": [
    "\n",
    "# БЕЗ ВКЛЮЧЕННЫХ МАРКЕРОВ"
   ]
  },
  {
   "cell_type": "code",
   "execution_count": 20,
   "metadata": {},
   "outputs": [
    {
     "data": {
      "text/plain": [
       "((467, 11), (467, 29), (467, 53), (467, 89))"
      ]
     },
     "execution_count": 20,
     "metadata": {},
     "output_type": "execute_result"
    }
   ],
   "source": [
    "tab1 = pd.read_csv(\"data_varvara/cox2/cox2_matrix_alphabet_NN***_UpTo2chains.csv\")\n",
    "tab2 = pd.read_csv(\"data_varvara/cox2/cox2_matrix_alphabet_NN***_UpTo3chains.csv\")\n",
    "tab3 = pd.read_csv(\"data_varvara/cox2/cox2_matrix_alphabet_NN***_UpTo4chains.csv\")\n",
    "tab4 = pd.read_csv(\"data_varvara/cox2/cox2_matrix_alphabet_NN***_UpTo5chains.csv\")\n",
    "\n",
    "tab1.shape, tab2.shape, tab3.shape, tab4.shape"
   ]
  },
  {
   "cell_type": "code",
   "execution_count": 21,
   "metadata": {},
   "outputs": [],
   "source": [
    "tab1[\"key\"] = [i for i in range(tab1.shape[0])]\n",
    "tab2[\"key\"] = [i for i in range(tab2.shape[0])]\n",
    "tab3[\"key\"] = [i for i in range(tab3.shape[0])]\n",
    "tab4[\"key\"] = [i for i in range(tab4.shape[0])]"
   ]
  },
  {
   "cell_type": "code",
   "execution_count": 22,
   "metadata": {
    "scrolled": true
   },
   "outputs": [],
   "source": [
    "tab = pd.merge(tab1, tab2, left_on=\"key\", right_on=\"key\", how=\"inner\")\n",
    "tab = pd.merge(tab, tab3, left_on=\"key\", right_on=\"key\", how=\"inner\")\n",
    "tab = pd.merge(tab, tab4, left_on=\"key\", right_on=\"key\", how=\"inner\")"
   ]
  },
  {
   "cell_type": "code",
   "execution_count": 23,
   "metadata": {},
   "outputs": [
    {
     "name": "stdout",
     "output_type": "stream",
     "text": [
      "Br***C***; C***C***; C***Cl***; C***F***; C***N***; C***O***; C***S***; N***N***; N***O***; N***S***; O***S***; key; Br***C***C***; Br***C***S***; C***C***C***; C***C***Cl***; C***C***F***; C***C***N***; C***C***O***; C***C***S***; C***N***C***; C***N***N***; C***N***O***; C***N***S***; C***O***C***; C***O***N***; C***S***C***; C***S***N***; C***S***O***; Cl***C***S***; F***C***F***; F***C***O***; F***C***S***; N***C***N***; N***C***O***; N***C***S***; N***S***O***; O***C***O***; O***C***S***; O***N***O***; O***S***O***; Br***C***C***C***; Br***C***C***N***; Br***C***C***O***; Br***C***C***S***; Br***C***S***C***; C***C***C***C***; C***C***C***Cl***; C***C***C***F***; C***C***C***N***; C***C***C***O***; C***C***C***S***; C***C***N***C***; C***C***N***N***; C***C***N***O***; C***C***N***S***; C***C***O***C***; C***C***O***N***; C***C***S***C***; C***C***S***N***; C***C***S***O***; C***N***C***N***; C***N***C***O***; C***N***C***S***; C***N***N***C***; C***N***O***C***; C***N***S***C***; C***N***S***O***; C***O***C***F***; C***O***C***N***; C***O***C***O***; C***O***C***S***; C***S***C***Cl***; C***S***C***F***; C***S***C***N***; C***S***C***O***; Cl***C***C***Cl***; Cl***C***C***F***; Cl***C***C***N***; Cl***C***C***O***; Cl***C***C***S***; F***C***C***F***; F***C***C***N***; F***C***C***O***; F***C***C***S***; F***C***S***O***; N***C***C***N***; N***C***C***O***; N***C***C***S***; N***N***C***O***; N***O***C***O***; O***C***C***O***; O***C***C***S***; S***C***C***S***; Br***C***C***C***Br***; Br***C***C***C***C***; Br***C***C***C***N***; Br***C***C***C***S***; Br***C***C***N***C***; Br***C***C***N***N***; Br***C***C***O***C***; Br***C***C***S***C***; Br***C***S***C***C***; C***C***C***C***C***; C***C***C***C***Cl***; C***C***C***C***F***; C***C***C***C***N***; C***C***C***C***O***; C***C***C***C***S***; C***C***C***N***C***; C***C***C***N***N***; C***C***C***N***O***; C***C***C***N***S***; C***C***C***O***C***; C***C***C***O***N***; C***C***C***S***C***; C***C***C***S***N***; C***C***C***S***O***; C***C***N***C***C***; C***C***N***C***N***; C***C***N***C***O***; C***C***N***C***S***; C***C***N***N***C***; C***C***N***O***C***; C***C***N***S***C***; C***C***N***S***O***; C***C***O***C***C***; C***C***O***C***F***; C***C***O***C***N***; C***C***O***C***O***; C***C***O***C***S***; C***C***O***N***C***; C***C***S***C***C***; C***C***S***C***Cl***; C***C***S***C***F***; C***C***S***C***N***; C***C***S***C***O***; C***C***S***N***C***; C***N***C***C***Cl***; C***N***C***C***F***; C***N***C***C***N***; C***N***C***C***O***; C***N***C***C***S***; C***N***C***N***C***; C***N***C***O***C***; C***N***C***S***C***; C***N***N***C***O***; C***N***O***C***O***; C***O***C***C***Cl***; C***O***C***C***F***; C***O***C***C***N***; C***O***C***C***O***; C***O***C***C***S***; C***O***C***N***N***; C***O***C***O***C***; C***O***C***S***C***; C***S***C***C***Cl***; C***S***C***C***F***; C***S***C***C***N***; C***S***C***C***O***; C***S***C***C***S***; Cl***C***C***C***Cl***; Cl***C***C***C***F***; Cl***C***C***C***N***; Cl***C***C***C***O***; Cl***C***C***C***S***; Cl***C***C***N***N***; Cl***C***C***S***O***; F***C***C***C***F***; F***C***C***C***N***; F***C***C***C***O***; F***C***C***N***N***; N***C***C***C***N***; N***C***C***C***O***; N***C***C***C***S***; N***C***C***N***N***; N***C***C***N***O***; N***C***C***O***N***; N***C***C***S***O***; N***N***C***C***O***; N***N***C***C***S***; N***O***C***C***O***; S***C***C***C***S***; "
     ]
    }
   ],
   "source": [
    "for i in tab.keys():\n",
    "    print(i+\"; \",end=\"\")"
   ]
  },
  {
   "cell_type": "code",
   "execution_count": 24,
   "metadata": {},
   "outputs": [
    {
     "data": {
      "text/plain": [
       "(467, 182)"
      ]
     },
     "execution_count": 24,
     "metadata": {},
     "output_type": "execute_result"
    }
   ],
   "source": [
    "tab = tab.drop(\"key\",axis=1)\n",
    "tab.shape"
   ]
  },
  {
   "cell_type": "code",
   "execution_count": 25,
   "metadata": {},
   "outputs": [
    {
     "data": {
      "text/html": [
       "<div>\n",
       "<style scoped>\n",
       "    .dataframe tbody tr th:only-of-type {\n",
       "        vertical-align: middle;\n",
       "    }\n",
       "\n",
       "    .dataframe tbody tr th {\n",
       "        vertical-align: top;\n",
       "    }\n",
       "\n",
       "    .dataframe thead th {\n",
       "        text-align: right;\n",
       "    }\n",
       "</style>\n",
       "<table border=\"1\" class=\"dataframe\">\n",
       "  <thead>\n",
       "    <tr style=\"text-align: right;\">\n",
       "      <th></th>\n",
       "      <th>Br***C***</th>\n",
       "      <th>C***C***</th>\n",
       "      <th>C***Cl***</th>\n",
       "      <th>C***F***</th>\n",
       "      <th>C***N***</th>\n",
       "      <th>C***O***</th>\n",
       "      <th>C***S***</th>\n",
       "      <th>N***N***</th>\n",
       "      <th>N***O***</th>\n",
       "      <th>N***S***</th>\n",
       "      <th>...</th>\n",
       "      <th>N***C***C***C***O***</th>\n",
       "      <th>N***C***C***C***S***</th>\n",
       "      <th>N***C***C***N***N***</th>\n",
       "      <th>N***C***C***N***O***</th>\n",
       "      <th>N***C***C***O***N***</th>\n",
       "      <th>N***C***C***S***O***</th>\n",
       "      <th>N***N***C***C***O***</th>\n",
       "      <th>N***N***C***C***S***</th>\n",
       "      <th>N***O***C***C***O***</th>\n",
       "      <th>S***C***C***C***S***</th>\n",
       "    </tr>\n",
       "  </thead>\n",
       "  <tbody>\n",
       "    <tr>\n",
       "      <th>0</th>\n",
       "      <td>0.0</td>\n",
       "      <td>17.0</td>\n",
       "      <td>0.0</td>\n",
       "      <td>1.0</td>\n",
       "      <td>3.0</td>\n",
       "      <td>0.0</td>\n",
       "      <td>2.0</td>\n",
       "      <td>0.0</td>\n",
       "      <td>0.0</td>\n",
       "      <td>0.0</td>\n",
       "      <td>...</td>\n",
       "      <td>0.0</td>\n",
       "      <td>0.0</td>\n",
       "      <td>0.0</td>\n",
       "      <td>0.0</td>\n",
       "      <td>0.0</td>\n",
       "      <td>0.0</td>\n",
       "      <td>0.0</td>\n",
       "      <td>0.0</td>\n",
       "      <td>0.0</td>\n",
       "      <td>0.0</td>\n",
       "    </tr>\n",
       "    <tr>\n",
       "      <th>1</th>\n",
       "      <td>0.0</td>\n",
       "      <td>16.0</td>\n",
       "      <td>0.0</td>\n",
       "      <td>1.0</td>\n",
       "      <td>3.0</td>\n",
       "      <td>0.0</td>\n",
       "      <td>2.0</td>\n",
       "      <td>0.0</td>\n",
       "      <td>0.0</td>\n",
       "      <td>0.0</td>\n",
       "      <td>...</td>\n",
       "      <td>0.0</td>\n",
       "      <td>0.0</td>\n",
       "      <td>0.0</td>\n",
       "      <td>0.0</td>\n",
       "      <td>0.0</td>\n",
       "      <td>0.0</td>\n",
       "      <td>0.0</td>\n",
       "      <td>0.0</td>\n",
       "      <td>0.0</td>\n",
       "      <td>0.0</td>\n",
       "    </tr>\n",
       "    <tr>\n",
       "      <th>2</th>\n",
       "      <td>0.0</td>\n",
       "      <td>16.0</td>\n",
       "      <td>0.0</td>\n",
       "      <td>1.0</td>\n",
       "      <td>3.0</td>\n",
       "      <td>0.0</td>\n",
       "      <td>2.0</td>\n",
       "      <td>0.0</td>\n",
       "      <td>0.0</td>\n",
       "      <td>0.0</td>\n",
       "      <td>...</td>\n",
       "      <td>0.0</td>\n",
       "      <td>0.0</td>\n",
       "      <td>0.0</td>\n",
       "      <td>0.0</td>\n",
       "      <td>0.0</td>\n",
       "      <td>0.0</td>\n",
       "      <td>0.0</td>\n",
       "      <td>0.0</td>\n",
       "      <td>0.0</td>\n",
       "      <td>0.0</td>\n",
       "    </tr>\n",
       "    <tr>\n",
       "      <th>3</th>\n",
       "      <td>0.0</td>\n",
       "      <td>17.0</td>\n",
       "      <td>0.0</td>\n",
       "      <td>0.0</td>\n",
       "      <td>3.0</td>\n",
       "      <td>0.0</td>\n",
       "      <td>2.0</td>\n",
       "      <td>0.0</td>\n",
       "      <td>0.0</td>\n",
       "      <td>0.0</td>\n",
       "      <td>...</td>\n",
       "      <td>0.0</td>\n",
       "      <td>0.0</td>\n",
       "      <td>0.0</td>\n",
       "      <td>0.0</td>\n",
       "      <td>0.0</td>\n",
       "      <td>0.0</td>\n",
       "      <td>0.0</td>\n",
       "      <td>0.0</td>\n",
       "      <td>0.0</td>\n",
       "      <td>0.0</td>\n",
       "    </tr>\n",
       "    <tr>\n",
       "      <th>4</th>\n",
       "      <td>0.0</td>\n",
       "      <td>18.0</td>\n",
       "      <td>0.0</td>\n",
       "      <td>3.0</td>\n",
       "      <td>3.0</td>\n",
       "      <td>0.0</td>\n",
       "      <td>2.0</td>\n",
       "      <td>0.0</td>\n",
       "      <td>0.0</td>\n",
       "      <td>0.0</td>\n",
       "      <td>...</td>\n",
       "      <td>0.0</td>\n",
       "      <td>0.0</td>\n",
       "      <td>0.0</td>\n",
       "      <td>0.0</td>\n",
       "      <td>0.0</td>\n",
       "      <td>0.0</td>\n",
       "      <td>0.0</td>\n",
       "      <td>0.0</td>\n",
       "      <td>0.0</td>\n",
       "      <td>0.0</td>\n",
       "    </tr>\n",
       "  </tbody>\n",
       "</table>\n",
       "<p>5 rows × 182 columns</p>\n",
       "</div>"
      ],
      "text/plain": [
       "   Br***C***  C***C***  C***Cl***  C***F***  C***N***  C***O***  C***S***  \\\n",
       "0        0.0      17.0        0.0       1.0       3.0       0.0       2.0   \n",
       "1        0.0      16.0        0.0       1.0       3.0       0.0       2.0   \n",
       "2        0.0      16.0        0.0       1.0       3.0       0.0       2.0   \n",
       "3        0.0      17.0        0.0       0.0       3.0       0.0       2.0   \n",
       "4        0.0      18.0        0.0       3.0       3.0       0.0       2.0   \n",
       "\n",
       "   N***N***  N***O***  N***S***  ...  N***C***C***C***O***  \\\n",
       "0       0.0       0.0       0.0  ...                   0.0   \n",
       "1       0.0       0.0       0.0  ...                   0.0   \n",
       "2       0.0       0.0       0.0  ...                   0.0   \n",
       "3       0.0       0.0       0.0  ...                   0.0   \n",
       "4       0.0       0.0       0.0  ...                   0.0   \n",
       "\n",
       "   N***C***C***C***S***  N***C***C***N***N***  N***C***C***N***O***  \\\n",
       "0                   0.0                   0.0                   0.0   \n",
       "1                   0.0                   0.0                   0.0   \n",
       "2                   0.0                   0.0                   0.0   \n",
       "3                   0.0                   0.0                   0.0   \n",
       "4                   0.0                   0.0                   0.0   \n",
       "\n",
       "   N***C***C***O***N***  N***C***C***S***O***  N***N***C***C***O***  \\\n",
       "0                   0.0                   0.0                   0.0   \n",
       "1                   0.0                   0.0                   0.0   \n",
       "2                   0.0                   0.0                   0.0   \n",
       "3                   0.0                   0.0                   0.0   \n",
       "4                   0.0                   0.0                   0.0   \n",
       "\n",
       "   N***N***C***C***S***  N***O***C***C***O***  S***C***C***C***S***  \n",
       "0                   0.0                   0.0                   0.0  \n",
       "1                   0.0                   0.0                   0.0  \n",
       "2                   0.0                   0.0                   0.0  \n",
       "3                   0.0                   0.0                   0.0  \n",
       "4                   0.0                   0.0                   0.0  \n",
       "\n",
       "[5 rows x 182 columns]"
      ]
     },
     "execution_count": 25,
     "metadata": {},
     "output_type": "execute_result"
    }
   ],
   "source": [
    "tab.head()"
   ]
  },
  {
   "cell_type": "code",
   "execution_count": 26,
   "metadata": {},
   "outputs": [],
   "source": [
    "y = pd.read_csv(\"data_varvara/cox2/cox2_y.csv\")"
   ]
  },
  {
   "cell_type": "code",
   "execution_count": 27,
   "metadata": {},
   "outputs": [],
   "source": [
    "y = np.array(y)"
   ]
  },
  {
   "cell_type": "code",
   "execution_count": 28,
   "metadata": {},
   "outputs": [],
   "source": [
    "r = []\n",
    "for i in y:\n",
    "    s = i[0]\n",
    "    s = re.sub('inf', '1_000_000_000', str(s))\n",
    "    r.append(ast.literal_eval(s))"
   ]
  },
  {
   "cell_type": "code",
   "execution_count": 29,
   "metadata": {},
   "outputs": [],
   "source": [
    "y = np.array(r)\n",
    "for i in range(y.shape[0]):\n",
    "    if y[i,1] == 1_000_000_000:\n",
    "        y[i,1] = np.inf"
   ]
  },
  {
   "cell_type": "code",
   "execution_count": 30,
   "metadata": {},
   "outputs": [],
   "source": [
    "X = np.array(tab)"
   ]
  },
  {
   "cell_type": "code",
   "execution_count": 41,
   "metadata": {},
   "outputs": [],
   "source": [
    "y = y[:,0]"
   ]
  },
  {
   "cell_type": "code",
   "execution_count": null,
   "metadata": {},
   "outputs": [],
   "source": []
  },
  {
   "cell_type": "code",
   "execution_count": 42,
   "metadata": {},
   "outputs": [],
   "source": [
    "mdl = LinearRegression(normalize=True)"
   ]
  },
  {
   "cell_type": "code",
   "execution_count": 43,
   "metadata": {},
   "outputs": [],
   "source": [
    "ans = []\n",
    "ind = 0\n",
    "for train_index, test_index in KFold(50).split(X):\n",
    "    \n",
    "    ind+=1\n",
    "    X_train = X[train_index, :]\n",
    "    y_train = y[train_index]\n",
    "    \n",
    "    X_test = X[test_index, :]\n",
    "    y_test = y[test_index]\n",
    "    \n",
    "    mdl.fit(X_train, y_train)\n",
    "    for i in mdl.predict(X_test):\n",
    "        ans.append(i)\n",
    "    "
   ]
  },
  {
   "cell_type": "code",
   "execution_count": 44,
   "metadata": {},
   "outputs": [
    {
     "data": {
      "text/plain": [
       "array([-2.59727801e+14,  5.67744636e+00,  3.01772449e+14,  3.37544369e-02,\n",
       "        5.75581456e+01,  1.21246317e+01, -3.53575238e+13, -4.82110932e+13,\n",
       "       -1.82706449e+14, -1.81438669e+14,  1.60003332e+14,  1.29863901e+14,\n",
       "       -6.93564364e+14, -4.98952414e+00, -1.50886225e+14, -7.76319573e+00,\n",
       "       -2.12017274e+01,  1.92081541e+01,  6.88111888e+13, -3.18078892e+01,\n",
       "        4.82110932e+13,  4.51644623e+14,  7.90288713e+14, -1.01291949e+01,\n",
       "       -5.22170639e+13,  7.07150477e+13,  2.88599740e+13, -8.00016661e+13,\n",
       "        5.30508213e+14,  2.72685631e+00, -6.29517242e+14, -1.73433500e+14,\n",
       "       -6.31853426e+13,  3.77191472e+01, -2.24330588e+14, -1.33714817e+14,\n",
       "        3.99698273e+01,  3.10116049e+15, -8.41874175e+14, -1.99085483e+02,\n",
       "        3.45091640e+01, -6.22136101e+14, -4.87728025e+14,  7.91949895e+14,\n",
       "        5.16695962e+14, -3.47014810e+00, -8.84322546e-01, -6.35812329e+00,\n",
       "       -1.73845413e+01, -2.24320338e+01,  1.01039397e+13, -2.75889731e+01,\n",
       "       -1.50735582e+01, -4.27471704e+13, -3.05344125e+14, -3.48022793e+01,\n",
       "        4.69990529e+14, -6.88111888e+13,  4.51707363e+13,  5.75445409e+01,\n",
       "        6.31853426e+13, -2.13500677e+14,  1.43272309e+14, -4.82110932e+13,\n",
       "       -3.19222891e+14, -3.38556310e+14, -6.45510624e+13,  3.79646487e+14,\n",
       "       -2.76770691e+14, -1.24145408e+01, -1.92385860e+15, -9.15738804e+14,\n",
       "        1.57051119e+14,  4.41017829e+12,  1.51166850e+14,  9.60593218e+00,\n",
       "       -9.92022487e-01, -2.77661948e+01, -4.80291891e+13,  3.63527759e+14,\n",
       "        3.94166802e+00,  1.98147576e+01, -1.14498399e+01, -2.47540719e+13,\n",
       "       -3.08774352e+12, -1.47528806e+01,  2.69453258e+01,  1.15715474e+14,\n",
       "        4.76149593e+14, -2.32650834e+14, -1.29522673e+12, -6.11724933e+13,\n",
       "       -5.20466339e+13, -1.67683160e+01, -8.02060604e+00, -6.22136101e+14,\n",
       "       -5.56101331e+14,  6.22136101e+14,  3.11068051e+14,  4.87728025e+14,\n",
       "       -2.35848564e+14,  1.53366151e+14,  3.23889237e+00,  1.09348131e+01,\n",
       "        9.85277197e+00,  2.52292312e+00,  4.43994898e+00,  6.31705818e+00,\n",
       "        2.07140369e+01, -3.84036954e-02,  1.18746627e+14, -1.17188740e+14,\n",
       "        1.97433282e+01, -2.37493254e+14, -1.01039397e+13,  2.35953958e+13,\n",
       "       -2.53392942e+01,  1.78859597e+01, -9.78814327e+01,  1.06750338e+14,\n",
       "        2.70864286e+01,  1.06975890e+01, -1.84457161e+14,  2.04449493e+14,\n",
       "        1.02224747e+14,  7.71400717e+00,  1.24935377e+14, -1.06750338e+14,\n",
       "       -6.07209799e+01, -2.40771097e+13, -1.91535307e+14, -1.36146031e+01,\n",
       "        1.17172183e+14,  1.12789341e+13,  1.72210705e+01, -6.36038449e+14,\n",
       "       -1.61315139e+14,  1.89806232e+01, -1.54626664e+00,  1.29010882e+01,\n",
       "       -3.32318752e+00, -7.08124890e+00, -6.31853426e+13,  3.83521029e+14,\n",
       "        7.66481003e+13, -3.64585893e+13,  2.86317906e+14,  4.80291891e+13,\n",
       "        1.74281256e+01,  1.02084004e+01,  6.47613363e+11,  6.11724933e+13,\n",
       "       -1.26461724e+14,  2.33333920e+02, -3.23147320e+13, -3.63527759e+14,\n",
       "        2.47540719e+13, -1.15715474e+14,  3.05862467e+13,  2.60233169e+13,\n",
       "        2.20546721e-01,  1.85045876e+01,  2.29323015e+01,  1.28719629e+01,\n",
       "       -4.93594944e+00, -1.27625365e+00,  3.98091085e+01,  3.05285564e+00,\n",
       "       -5.81650431e+00, -4.43053673e+00, -2.61208515e+01, -1.09854926e+00,\n",
       "        3.76283353e+00,  1.99562478e+01, -1.07748004e+01,  5.93733135e+13,\n",
       "        2.35077072e+14,  7.35844047e+01, -3.39594459e+01, -2.11088038e+02,\n",
       "        1.29522673e+12, -8.00874795e+00])"
      ]
     },
     "execution_count": 44,
     "metadata": {},
     "output_type": "execute_result"
    }
   ],
   "source": [
    "mdl.coef_"
   ]
  },
  {
   "cell_type": "code",
   "execution_count": 45,
   "metadata": {},
   "outputs": [],
   "source": [
    "#КОЭФФИЦИЕНТЫ МОДЕЛИ очень большие, видно, что модель сильно переобучилась/"
   ]
  },
  {
   "cell_type": "code",
   "execution_count": 47,
   "metadata": {},
   "outputs": [
    {
     "data": {
      "text/plain": [
       "(2.34977438616957e+29, 58304456503951.1)"
      ]
     },
     "execution_count": 47,
     "metadata": {},
     "output_type": "execute_result"
    }
   ],
   "source": [
    "MSE(ans,y), MAE(ans,y)\n"
   ]
  },
  {
   "cell_type": "code",
   "execution_count": 49,
   "metadata": {},
   "outputs": [
    {
     "data": {
      "text/plain": [
       "-2.144039270184442e+26"
      ]
     },
     "execution_count": 49,
     "metadata": {},
     "output_type": "execute_result"
    }
   ],
   "source": [
    "r2_score(y, ans)\n"
   ]
  },
  {
   "cell_type": "code",
   "execution_count": null,
   "metadata": {},
   "outputs": [],
   "source": []
  },
  {
   "cell_type": "code",
   "execution_count": 214,
   "metadata": {},
   "outputs": [],
   "source": [
    "mdl = Ridge(alpha=1, normalize=True)"
   ]
  },
  {
   "cell_type": "code",
   "execution_count": 215,
   "metadata": {},
   "outputs": [],
   "source": [
    "ans = []\n",
    "for train_index, test_index in KFold(50).split(X):\n",
    "    X_train = X[train_index, :]\n",
    "    y_train = y[train_index]\n",
    "    \n",
    "    X_test = X[test_index, :]\n",
    "    y_test = y[test_index]\n",
    "    \n",
    "    mdl.fit(X_train, y_train)\n",
    "    for i in mdl.predict(X_test):\n",
    "        ans.append(i)"
   ]
  },
  {
   "cell_type": "code",
   "execution_count": 216,
   "metadata": {
    "scrolled": true
   },
   "outputs": [
    {
     "data": {
      "text/plain": [
       "array([-1.50275173e+00, -2.28046367e-01, -1.13032007e+00, -1.82442522e-01,\n",
       "        1.55488579e-01,  2.00637715e-01, -7.61435013e-02,  1.72535533e+00,\n",
       "        1.64788930e+00, -1.64406777e+00,  1.73048409e+00, -7.49153733e-01,\n",
       "       -2.30446866e+00, -1.09487626e-01, -5.64025528e-01,  7.26335597e-02,\n",
       "        4.38730419e-02,  6.48862083e-02, -4.28188102e-01, -9.39695639e-03,\n",
       "        4.02162594e-01,  9.95061517e-01,  9.16888751e+00, -1.46012752e+00,\n",
       "        2.65898825e+00,  3.73917886e-01, -1.64406777e+00,  8.76583191e-01,\n",
       "       -2.38315071e+00, -3.71486519e-01, -2.33204717e-01, -2.90176533e+00,\n",
       "       -1.97018890e-01,  4.30065167e+00, -8.33415056e-01, -8.22033886e-01,\n",
       "        8.15812446e+00,  3.34497125e+00,  2.62893658e+00,  1.30274377e+00,\n",
       "       -6.85772287e-01, -2.86797137e+00,  5.28049615e-01, -1.94228286e+00,\n",
       "       -2.30446866e+00, -5.95589092e-02, -4.30751902e-01,  6.28718615e-02,\n",
       "        2.54314870e-01,  2.14074735e-01, -3.29939081e-01, -2.37497664e-02,\n",
       "        1.96214813e-01,  3.10879457e-01,  5.43667787e+00, -7.47004756e-01,\n",
       "       -4.13980020e-01,  1.36862434e-01, -8.70840715e-01,  1.15254212e+00,\n",
       "       -7.13730229e-02, -8.00322702e+00, -8.33415056e-01,  4.70935268e-01,\n",
       "        2.40652299e-01,  9.16888751e+00,  4.58444375e+00, -2.33204717e-01,\n",
       "        2.12997114e+00, -1.64587211e+00,  3.34497125e+00, -2.38315071e+00,\n",
       "       -2.90176533e+00, -8.33415056e-01,  3.34497125e+00, -2.25433993e+00,\n",
       "       -3.79903629e+00, -2.74814155e+00,  7.83672598e-01,  2.77579384e+00,\n",
       "        1.54119378e+00, -6.91645374e-01,  1.76928325e+00, -8.09489416e-01,\n",
       "       -1.45088267e+00, -7.77438072e-01,  4.08176483e+00, -7.50767090e-01,\n",
       "        1.77298761e+01,  1.60889933e+01, -1.70733538e+00, -3.34148105e+00,\n",
       "       -3.09611657e+00, -6.78029003e-01, -4.75371642e-01, -5.01425414e+00,\n",
       "       -1.94228286e+00, -3.22272439e+00, -1.27247786e+00,  5.28049615e-01,\n",
       "       -1.94228286e+00, -1.15223433e+00, -4.39242781e-02, -2.73716136e-01,\n",
       "        3.49472059e-01,  2.38190956e-01, -3.04428194e-02, -2.80745728e-01,\n",
       "        6.40491006e-02,  2.83116741e-01, -6.82973602e-02,  5.43667787e+00,\n",
       "       -7.60264916e-01, -4.72988112e-01,  5.83622112e-02, -8.70840715e-01,\n",
       "        9.79610710e-01,  7.22451650e-04, -7.70780272e-02, -4.14776340e+00,\n",
       "       -4.84024014e-01,  1.05163816e-01, -1.08549540e+00,  5.43667787e+00,\n",
       "        2.71833894e+00, -3.95198560e-01, -1.16602359e-01,  6.75171244e-02,\n",
       "       -1.00449784e+00,  3.34497125e+00, -1.08549540e+00,  4.55671803e-01,\n",
       "       -1.19157536e+00, -1.45088267e+00, -4.37085703e-01,  1.67248563e+00,\n",
       "        4.48662590e+00, -2.19666343e+00, -8.50572732e-01, -2.45133270e-01,\n",
       "        1.73469053e+00, -5.38657580e-01, -1.11262232e-01, -3.10221671e+00,\n",
       "       -8.33415056e-01,  8.86493807e+00,  5.15102216e+00,  7.83672598e-01,\n",
       "        1.90608704e+00, -3.92439104e-01, -7.58814987e-01, -6.68296209e+00,\n",
       "        1.77298761e+01, -2.74263326e+00,  3.34497125e+00,  2.77579384e+00,\n",
       "       -8.09489416e-01, -7.50767090e-01, -3.34148105e+00, -1.54805828e+00,\n",
       "        1.49136477e+00,  6.87095188e-02,  5.53513753e+00,  4.01784389e+00,\n",
       "        5.94200046e-01, -2.24049485e+00,  1.33631873e+01,  3.21875511e-01,\n",
       "       -8.19085787e-01, -4.62271325e+00, -4.14219589e-01,  2.28530670e+00,\n",
       "        2.62728393e+00,  2.68913737e+00, -3.13656492e+00, -2.70638250e+00,\n",
       "        1.60889933e+01,  2.65314004e+00,  1.00510595e+00, -4.23012549e+00,\n",
       "       -5.62099637e+00, -4.91179405e+00])"
      ]
     },
     "execution_count": 216,
     "metadata": {},
     "output_type": "execute_result"
    }
   ],
   "source": [
    "mdl.coef_"
   ]
  },
  {
   "cell_type": "code",
   "execution_count": 219,
   "metadata": {},
   "outputs": [
    {
     "data": {
      "text/plain": [
       "(1033.3606218671032, 21.596373008929042)"
      ]
     },
     "execution_count": 219,
     "metadata": {},
     "output_type": "execute_result"
    }
   ],
   "source": [
    "MSE(ans,y[:]), MAE(ans,y[:])"
   ]
  },
  {
   "cell_type": "code",
   "execution_count": 220,
   "metadata": {},
   "outputs": [
    {
     "data": {
      "text/plain": [
       "0.05711553986383433"
      ]
     },
     "execution_count": 220,
     "metadata": {},
     "output_type": "execute_result"
    }
   ],
   "source": [
    "r2_score(y, ans)"
   ]
  },
  {
   "cell_type": "code",
   "execution_count": null,
   "metadata": {},
   "outputs": [],
   "source": []
  },
  {
   "cell_type": "code",
   "execution_count": 221,
   "metadata": {},
   "outputs": [],
   "source": [
    "mdl = Lasso(alpha=0.08, normalize=True)"
   ]
  },
  {
   "cell_type": "code",
   "execution_count": 222,
   "metadata": {},
   "outputs": [],
   "source": [
    "ans = []\n",
    "for train_index, test_index in KFold(X.shape[0]).split(X):\n",
    "    X_train = X[train_index, :]\n",
    "    y_train = y[train_index]\n",
    "    \n",
    "    X_test = X[test_index, :]\n",
    "    y_test = y[test_index]\n",
    "    \n",
    "    mdl.fit(X_train, y_train)\n",
    "    ans.append(mdl.predict(X_test)[0])"
   ]
  },
  {
   "cell_type": "code",
   "execution_count": 223,
   "metadata": {},
   "outputs": [],
   "source": [
    "my_coef = mdl.coef_"
   ]
  },
  {
   "cell_type": "code",
   "execution_count": 224,
   "metadata": {},
   "outputs": [
    {
     "data": {
      "text/plain": [
       "array([-6.97231217e-01, -0.00000000e+00, -8.11415583e-01, -0.00000000e+00,\n",
       "        0.00000000e+00, -0.00000000e+00, -0.00000000e+00,  0.00000000e+00,\n",
       "        0.00000000e+00, -0.00000000e+00,  0.00000000e+00, -0.00000000e+00,\n",
       "       -0.00000000e+00, -0.00000000e+00, -0.00000000e+00,  0.00000000e+00,\n",
       "        0.00000000e+00, -0.00000000e+00, -2.23042050e-01,  0.00000000e+00,\n",
       "        0.00000000e+00,  0.00000000e+00,  3.88402263e+01, -0.00000000e+00,\n",
       "        0.00000000e+00,  0.00000000e+00, -0.00000000e+00,  3.89892773e+00,\n",
       "       -0.00000000e+00, -0.00000000e+00, -0.00000000e+00, -0.00000000e+00,\n",
       "       -0.00000000e+00,  0.00000000e+00, -0.00000000e+00, -0.00000000e+00,\n",
       "        7.35272922e+00, -0.00000000e+00,  0.00000000e+00,  0.00000000e+00,\n",
       "       -0.00000000e+00, -0.00000000e+00, -0.00000000e+00, -0.00000000e+00,\n",
       "       -0.00000000e+00, -0.00000000e+00, -0.00000000e+00,  0.00000000e+00,\n",
       "        2.59997231e-01, -0.00000000e+00, -0.00000000e+00,  0.00000000e+00,\n",
       "        0.00000000e+00,  0.00000000e+00,  2.21166409e+00, -1.03559512e+00,\n",
       "        0.00000000e+00, -0.00000000e+00, -0.00000000e+00,  0.00000000e+00,\n",
       "       -0.00000000e+00, -7.87699439e-01, -0.00000000e+00,  0.00000000e+00,\n",
       "        0.00000000e+00,  3.81750180e-01,  3.22902078e-15, -0.00000000e+00,\n",
       "        0.00000000e+00, -0.00000000e+00, -0.00000000e+00, -0.00000000e+00,\n",
       "       -0.00000000e+00, -0.00000000e+00, -0.00000000e+00, -0.00000000e+00,\n",
       "       -0.00000000e+00, -8.44146611e-01, -0.00000000e+00,  0.00000000e+00,\n",
       "        0.00000000e+00, -0.00000000e+00,  0.00000000e+00, -0.00000000e+00,\n",
       "       -0.00000000e+00, -0.00000000e+00,  4.88395069e+00, -1.17565353e+00,\n",
       "        4.71897544e+01,  3.88458323e+01, -0.00000000e+00, -0.00000000e+00,\n",
       "       -0.00000000e+00, -0.00000000e+00, -0.00000000e+00, -0.00000000e+00,\n",
       "       -0.00000000e+00, -0.00000000e+00, -0.00000000e+00, -0.00000000e+00,\n",
       "       -0.00000000e+00, -0.00000000e+00, -0.00000000e+00, -0.00000000e+00,\n",
       "        5.20514029e-01,  3.76512981e-01, -0.00000000e+00, -0.00000000e+00,\n",
       "        0.00000000e+00,  3.55422048e-01,  0.00000000e+00,  0.00000000e+00,\n",
       "       -0.00000000e+00,  0.00000000e+00, -0.00000000e+00, -0.00000000e+00,\n",
       "        0.00000000e+00,  0.00000000e+00, -0.00000000e+00, -0.00000000e+00,\n",
       "       -0.00000000e+00,  0.00000000e+00,  0.00000000e+00,  0.00000000e+00,\n",
       "        0.00000000e+00, -0.00000000e+00, -0.00000000e+00, -0.00000000e+00,\n",
       "       -1.40859473e+00, -0.00000000e+00,  0.00000000e+00, -0.00000000e+00,\n",
       "       -0.00000000e+00, -0.00000000e+00, -0.00000000e+00, -0.00000000e+00,\n",
       "        0.00000000e+00, -2.66201037e-01, -1.36371388e+00, -0.00000000e+00,\n",
       "        0.00000000e+00, -0.00000000e+00, -0.00000000e+00, -0.00000000e+00,\n",
       "       -0.00000000e+00,  2.76869016e-02,  0.00000000e+00, -0.00000000e+00,\n",
       "        0.00000000e+00, -0.00000000e+00, -0.00000000e+00, -0.00000000e+00,\n",
       "        0.00000000e+00, -0.00000000e+00, -0.00000000e+00,  0.00000000e+00,\n",
       "       -0.00000000e+00, -3.59841605e-02, -0.00000000e+00, -0.00000000e+00,\n",
       "       -0.00000000e+00, -0.00000000e+00,  0.00000000e+00,  0.00000000e+00,\n",
       "       -0.00000000e+00, -0.00000000e+00,  1.62566014e+01,  0.00000000e+00,\n",
       "       -0.00000000e+00, -0.00000000e+00,  0.00000000e+00,  4.55051259e+00,\n",
       "        2.13360660e+00,  0.00000000e+00, -0.00000000e+00, -0.00000000e+00,\n",
       "        0.00000000e+00,  0.00000000e+00,  0.00000000e+00, -0.00000000e+00,\n",
       "       -0.00000000e+00, -0.00000000e+00])"
      ]
     },
     "execution_count": 224,
     "metadata": {},
     "output_type": "execute_result"
    }
   ],
   "source": [
    "my_coef"
   ]
  },
  {
   "cell_type": "code",
   "execution_count": 225,
   "metadata": {},
   "outputs": [
    {
     "data": {
      "text/plain": [
       "(969.8557002808086, 20.988271870202006)"
      ]
     },
     "execution_count": 225,
     "metadata": {},
     "output_type": "execute_result"
    }
   ],
   "source": [
    "MSE(ans,y[:]), MAE(ans,y[:])"
   ]
  },
  {
   "cell_type": "code",
   "execution_count": 226,
   "metadata": {},
   "outputs": [
    {
     "data": {
      "text/plain": [
       "0.1150602712952431"
      ]
     },
     "execution_count": 226,
     "metadata": {},
     "output_type": "execute_result"
    }
   ],
   "source": [
    "r2_score(y, ans)"
   ]
  },
  {
   "cell_type": "code",
   "execution_count": 227,
   "metadata": {},
   "outputs": [
    {
     "name": "stderr",
     "output_type": "stream",
     "text": [
      "No handles with labels found to put in legend.\n"
     ]
    },
    {
     "data": {
      "image/png": "[encoded data removed]",
      "text/plain": [
       "<Figure size 1224x720 with 1 Axes>"
      ]
     },
     "metadata": {
      "needs_background": "light"
     },
     "output_type": "display_data"
    }
   ],
   "source": [
    "plot_answer(ans, y)"
   ]
  },
  {
   "cell_type": "code",
   "execution_count": 234,
   "metadata": {},
   "outputs": [],
   "source": [
    "indexes = []\n",
    "for i in range(len(my_coef)):\n",
    "    if abs(my_coef[i]) > 1e-8:\n",
    "        indexes.append(i)"
   ]
  },
  {
   "cell_type": "code",
   "execution_count": 235,
   "metadata": {},
   "outputs": [
    {
     "name": "stdout",
     "output_type": "stream",
     "text": [
      "0 2 18 22 27 36 48 54 55 61 65 77 86 87 88 89 104 105 109 128 137 138 145 157 166 171 172 "
     ]
    }
   ],
   "source": [
    "for i in indexes:\n",
    "    print(i, end=\" \")"
   ]
  },
  {
   "cell_type": "code",
   "execution_count": 238,
   "metadata": {},
   "outputs": [],
   "source": [
    "indexes = np.array(indexes)"
   ]
  },
  {
   "cell_type": "code",
   "execution_count": null,
   "metadata": {},
   "outputs": [],
   "source": []
  },
  {
   "cell_type": "code",
   "execution_count": 249,
   "metadata": {},
   "outputs": [],
   "source": [
    "mdl = Ridge(alpha=1, normalize=True)"
   ]
  },
  {
   "cell_type": "code",
   "execution_count": 274,
   "metadata": {},
   "outputs": [],
   "source": [
    "ans = []\n",
    "for train_index, test_index in KFold(X.shape[0]).split(X):\n",
    "    \n",
    "    \n",
    "    X_test = X[test_index, :]\n",
    "    y_test = y[test_index]\n",
    "\n",
    "    X_train = X[train_index, :]\n",
    "    y_train = y[train_index]\n",
    "    \n",
    "    X_train = X_train[:,indexes]\n",
    "    X_test = X_test[:,indexes]\n",
    "#     print(X_train[:,indexes].shape, X_test[:,indexes].shape, y_train.shape, y_test.shape)\n",
    "    mdl.fit(X_train, y_train)\n",
    "    ans.append(mdl.predict(X_test)[0])"
   ]
  },
  {
   "cell_type": "code",
   "execution_count": null,
   "metadata": {},
   "outputs": [],
   "source": []
  },
  {
   "cell_type": "code",
   "execution_count": 276,
   "metadata": {},
   "outputs": [
    {
     "data": {
      "text/plain": [
       "(910.7265563718925, 20.43639739627837)"
      ]
     },
     "execution_count": 276,
     "metadata": {},
     "output_type": "execute_result"
    }
   ],
   "source": [
    "MSE(ans,y[:]), MAE(ans,y[:])"
   ]
  },
  {
   "cell_type": "code",
   "execution_count": 277,
   "metadata": {},
   "outputs": [
    {
     "data": {
      "text/plain": [
       "0.16901234741765037"
      ]
     },
     "execution_count": 277,
     "metadata": {},
     "output_type": "execute_result"
    }
   ],
   "source": [
    "r2_score(y, ans)"
   ]
  },
  {
   "cell_type": "code",
   "execution_count": 279,
   "metadata": {},
   "outputs": [
    {
     "name": "stderr",
     "output_type": "stream",
     "text": [
      "No handles with labels found to put in legend.\n"
     ]
    },
    {
     "data": {
      "image/png": "[encoded data removed]",
      "text/plain": [
       "<Figure size 1224x720 with 1 Axes>"
      ]
     },
     "metadata": {
      "needs_background": "light"
     },
     "output_type": "display_data"
    }
   ],
   "source": [
    "plot_answer(ans, y)"
   ]
  },
  {
   "cell_type": "code",
   "execution_count": null,
   "metadata": {},
   "outputs": [],
   "source": []
  },
  {
   "cell_type": "code",
   "execution_count": 288,
   "metadata": {},
   "outputs": [],
   "source": [
    "mdl = RandomForestRegressor(n_jobs=-1, n_estimators=200, max_depth=10, min_samples_leaf=2, criterion=\"mse\", max_features=\"log2\")"
   ]
  },
  {
   "cell_type": "code",
   "execution_count": 289,
   "metadata": {},
   "outputs": [],
   "source": [
    "ans = []\n",
    "for train_index, test_index in KFold(50).split(X):\n",
    "    X_train = X[train_index, :]\n",
    "    y_train = y[train_index]\n",
    "    \n",
    "    X_test = X[test_index, :]\n",
    "    y_test = y[test_index]\n",
    "    \n",
    "    mdl.fit(X_train, y_train)\n",
    "    for i in mdl.predict(X_test):\n",
    "        ans.append(i)\n",
    "    "
   ]
  },
  {
   "cell_type": "code",
   "execution_count": 290,
   "metadata": {},
   "outputs": [
    {
     "data": {
      "text/plain": [
       "(924.3674725440951, 19.98347483173482)"
      ]
     },
     "execution_count": 290,
     "metadata": {},
     "output_type": "execute_result"
    }
   ],
   "source": [
    "MSE(ans,y[:]), MAE(ans,y[:])"
   ]
  },
  {
   "cell_type": "code",
   "execution_count": 291,
   "metadata": {},
   "outputs": [
    {
     "data": {
      "text/plain": [
       "0.15656576525783195"
      ]
     },
     "execution_count": 291,
     "metadata": {},
     "output_type": "execute_result"
    }
   ],
   "source": [
    "r2_score(y, ans)"
   ]
  },
  {
   "cell_type": "code",
   "execution_count": 292,
   "metadata": {},
   "outputs": [],
   "source": [
    "importances = mdl.feature_importances_"
   ]
  },
  {
   "cell_type": "code",
   "execution_count": 293,
   "metadata": {},
   "outputs": [],
   "source": [
    "res = []\n",
    "for i in range(len(importances)):\n",
    "    if abs(importances[i]) > 1e-3:\n",
    "        res.append(i)"
   ]
  },
  {
   "cell_type": "code",
   "execution_count": 294,
   "metadata": {},
   "outputs": [
    {
     "name": "stdout",
     "output_type": "stream",
     "text": [
      "1 2 3 4 5 6 7 8 9 10 13 14 15 16 17 18 19 20 21 22 23 24 25 26 27 29 32 33 34 35 36 39 45 46 47 48 49 50 51 52 53 55 57 58 59 60 63 65 66 69 73 77 78 79 80 81 82 85 86 87 89 102 103 104 105 106 107 108 109 112 113 114 115 116 117 118 121 125 131 134 136 137 138 139 140 141 142 147 148 149 162 167 168 170 171 172 173 176 177 178 "
     ]
    }
   ],
   "source": [
    "for i in res:\n",
    "    print(i, end=\" \")"
   ]
  },
  {
   "cell_type": "code",
   "execution_count": 295,
   "metadata": {},
   "outputs": [],
   "source": [
    "indexes = np.array(res)"
   ]
  },
  {
   "cell_type": "code",
   "execution_count": null,
   "metadata": {},
   "outputs": [],
   "source": [
    "mdl = Ridge(alpha=1, normalize=True)"
   ]
  },
  {
   "cell_type": "code",
   "execution_count": null,
   "metadata": {},
   "outputs": [],
   "source": [
    "ans = []\n",
    "for train_index, test_index in KFold(X.shape[0]).split(X):\n",
    "    \n",
    "    \n",
    "    X_test = X[test_index, :]\n",
    "    y_test = y[test_index]\n",
    "\n",
    "    X_train = X[train_index, :]\n",
    "    y_train = y[train_index]\n",
    "    \n",
    "    X_train = X_train[:,indexes]\n",
    "    X_test = X_test[:,indexes]\n",
    "#     print(X_train[:,indexes].shape, X_test[:,indexes].shape, y_train.shape, y_test.shape)\n",
    "    mdl.fit(X_train, y_train)\n",
    "    ans.append(mdl.predict(X_test)[0])"
   ]
  },
  {
   "cell_type": "code",
   "execution_count": null,
   "metadata": {},
   "outputs": [],
   "source": [
    "MSE(ans,y[:]), MAE(ans,y[:])"
   ]
  },
  {
   "cell_type": "code",
   "execution_count": null,
   "metadata": {},
   "outputs": [],
   "source": [
    "r2_score(y, ans)"
   ]
  },
  {
   "cell_type": "code",
   "execution_count": null,
   "metadata": {},
   "outputs": [],
   "source": []
  },
  {
   "cell_type": "code",
   "execution_count": 93,
   "metadata": {},
   "outputs": [],
   "source": []
  },
  {
   "cell_type": "code",
   "execution_count": 120,
   "metadata": {},
   "outputs": [],
   "source": [
    "mdl = MGUA(20, 20, model=Ridge(alpha=1, normalize=True))\n"
   ]
  },
  {
   "cell_type": "code",
   "execution_count": 121,
   "metadata": {},
   "outputs": [
    {
     "name": "stdout",
     "output_type": "stream",
     "text": [
      "selection 2 from 20\n",
      "selection 3 from 20\n",
      "selection 4 from 20\n",
      "selection 5 from 20\n",
      "selection 6 from 20\n",
      "selection 7 from 20\n",
      "selection 8 from 20\n",
      "selection 9 from 20\n",
      "selection 10 from 20\n",
      "selection 11 from 20\n",
      "selection 12 from 20\n",
      "selection 13 from 20\n",
      "selection 14 from 20\n",
      "selection 15 from 20\n",
      "selection 16 from 20\n",
      "selection 17 from 20\n",
      "selection 18 from 20\n",
      "selection 19 from 20\n",
      "selection 20 from 20\n"
     ]
    }
   ],
   "source": [
    "mdl.fit(X, y[:])"
   ]
  },
  {
   "cell_type": "code",
   "execution_count": 122,
   "metadata": {},
   "outputs": [],
   "source": [
    "indexes = mdl.get_indexes()"
   ]
  },
  {
   "cell_type": "code",
   "execution_count": 123,
   "metadata": {},
   "outputs": [
    {
     "name": "stdout",
     "output_type": "stream",
     "text": [
      "0, 1, 22, 27, 86, 88, \n",
      "0, 1, 7, 22, 23, 27, 86, 172, \n",
      "0, 1, 2, 22, 27, 86, 138, 171, 172, \n",
      "0, 1, 7, 22, 23, 27, 48, 86, 105, 138, 172, \n",
      "0, 7, 22, 27, 48, 88, 89, 105, 136, 138, 172, \n",
      "0, 1, 2, 7, 22, 23, 27, 48, 88, \n",
      "0, 1, 7, 22, 86, 88, 105, 171, \n",
      "0, 7, 27, 48, 55, 86, 88, 105, 138, 166, \n",
      "0, 1, 3, 5, 7, 22, 48, 86, 105, 112, 171, \n",
      "0, 2, 7, 22, 86, 88, 89, 105, 138, 168, \n",
      "0, 1, 22, 27, 36, 86, 88, 166, 168, 171, \n",
      "0, 2, 7, 22, 86, 88, 89, \n",
      "0, 1, 7, 27, 48, 89, 105, 117, 138, 146, 171, \n",
      "0, 1, 2, 9, 22, 27, 88, 89, 166, 168, \n",
      "0, 7, 22, 23, 27, 48, 86, 89, 166, 172, \n",
      "0, 1, 22, 27, 86, 88, 166, 172, \n",
      "0, 1, 7, 8, 9, 22, 27, 48, 88, 140, 171, \n",
      "0, 3, 7, 22, 36, 48, 86, 88, \n",
      "0, 1, 2, 7, 22, 27, 86, 89, 105, 166, \n",
      "0, 2, 5, 10, 22, 27, 48, 86, 168, 171, 172, \n"
     ]
    }
   ],
   "source": [
    "for i in indexes:\n",
    "    for j in i:\n",
    "        print(j, end=\", \")\n",
    "    print()"
   ]
  },
  {
   "cell_type": "code",
   "execution_count": 124,
   "metadata": {},
   "outputs": [],
   "source": [
    "mdl = Ridge(alpha=1, normalize=True)"
   ]
  },
  {
   "cell_type": "code",
   "execution_count": 125,
   "metadata": {},
   "outputs": [
    {
     "name": "stdout",
     "output_type": "stream",
     "text": [
      "MSE =  1027.923689456022 , MAE =  22.1773771087549 , R2 =  0.06207644022401704\n",
      "MSE =  989.1593741120683 , MAE =  21.73301941801199 , R2 =  0.09744673571639961\n",
      "MSE =  982.5024413376323 , MAE =  21.540407421157447 , R2 =  0.10352081898642596\n",
      "MSE =  969.6356361914866 , MAE =  21.318957372644427 , R2 =  0.11526106761519661\n",
      "MSE =  960.0938834723294 , MAE =  21.10523819475829 , R2 =  0.12396738965899545\n",
      "MSE =  1001.4512040761236 , MAE =  21.735700652739805 , R2 =  0.08623112016603829\n",
      "MSE =  1011.3843843668076 , MAE =  21.920774792646466 , R2 =  0.07716764209495186\n",
      "MSE =  1021.752004715286 , MAE =  21.856170556913277 , R2 =  0.06770776147988711\n",
      "MSE =  1009.5690391769858 , MAE =  21.84835222359722 , R2 =  0.0788240442579965\n",
      "MSE =  977.1249366951822 , MAE =  21.49559912234054 , R2 =  0.10842749479193026\n",
      "MSE =  992.4049384875287 , MAE =  21.505337441958172 , R2 =  0.09448533758564459\n",
      "MSE =  999.9205063119482 , MAE =  21.934575176489233 , R2 =  0.08762779728384673\n",
      "MSE =  1009.8435011100023 , MAE =  21.710636037197613 , R2 =  0.07857361291189724\n",
      "MSE =  998.5623225664239 , MAE =  21.678659585820036 , R2 =  0.08886706489339691\n",
      "MSE =  972.3536528866686 , MAE =  21.377994364855397 , R2 =  0.11278102758846587\n",
      "MSE =  1024.4741989831314 , MAE =  22.119013604009716 , R2 =  0.06522390964896918\n",
      "MSE =  1004.8101082916597 , MAE =  21.670489314292205 , R2 =  0.08316630569479144\n",
      "MSE =  1013.9467015586723 , MAE =  22.016185782336866 , R2 =  0.07482966926046963\n",
      "MSE =  974.2558471531215 , MAE =  21.351575883694935 , R2 =  0.11104538044259538\n",
      "MSE =  1036.0349014722278 , MAE =  21.828397200823105 , R2 =  0.05467540751470801\n"
     ]
    }
   ],
   "source": [
    "ANSWERS = []\n",
    "for i in indexes:\n",
    "    ans = []\n",
    "    ind = [j for j in i]\n",
    "    for train_index, test_index in KFold(10).split(X[:,i]):\n",
    "        \n",
    "        X_train = X[train_index,:]\n",
    "        X_train = X_train[:,ind]\n",
    "        y_train = y[train_index]\n",
    "\n",
    "        X_test = X[test_index, :]\n",
    "        X_test = X_test[:,ind]\n",
    "        y_test = y[test_index]\n",
    "\n",
    "        mdl.fit(X_train, y_train)\n",
    "        for i in mdl.predict(X_test):\n",
    "            ans.append(i)\n",
    "    ANSWERS.append(ans)\n",
    "    print(\"MSE = \", MSE(ans,y), \", MAE = \", MAE(ans,y), \", R2 = \", r2_score(y,ans))"
   ]
  },
  {
   "cell_type": "code",
   "execution_count": 126,
   "metadata": {},
   "outputs": [],
   "source": [
    "ANSWERS = np.array(ANSWERS).mean(axis=0)"
   ]
  },
  {
   "cell_type": "code",
   "execution_count": 127,
   "metadata": {},
   "outputs": [
    {
     "data": {
      "text/plain": [
       "0.10006048025201786"
      ]
     },
     "execution_count": 127,
     "metadata": {},
     "output_type": "execute_result"
    }
   ],
   "source": [
    "r2_score(y,ANSWERS)"
   ]
  },
  {
   "cell_type": "code",
   "execution_count": null,
   "metadata": {},
   "outputs": [],
   "source": []
  },
  {
   "cell_type": "code",
   "execution_count": null,
   "metadata": {},
   "outputs": [],
   "source": []
  },
  {
   "cell_type": "code",
   "execution_count": 128,
   "metadata": {},
   "outputs": [],
   "source": [
    "def plot_answer(ans, true):\n",
    "    \n",
    "    x = [i for i in range(len(ans))]\n",
    "    \n",
    "    fig = plt.figure(figsize=(17,10))\n",
    "    ax = fig.add_subplot(1, 1, 1)\n",
    "    ax.legend()\n",
    "    \n",
    "    ax.scatter(x, ans, alpha=0.8, c=\"blue\", label=\"Answer\")\n",
    "    ax.scatter(x, true, alpha=0.8, c=\"red\", label=\"True\")\n",
    "    ax.legend(loc='upper left', fontsize=20)\n",
    "    \n",
    "    \n",
    "    plt.show()"
   ]
  },
  {
   "cell_type": "code",
   "execution_count": 129,
   "metadata": {},
   "outputs": [
    {
     "name": "stderr",
     "output_type": "stream",
     "text": [
      "No handles with labels found to put in legend.\n"
     ]
    },
    {
     "data": {
      "image/png": "[encoded data removed]",
      "text/plain": [
       "<Figure size 1224x720 with 1 Axes>"
      ]
     },
     "metadata": {
      "needs_background": "light"
     },
     "output_type": "display_data"
    }
   ],
   "source": [
    "plot_answer(ans, y)"
   ]
  },
  {
   "cell_type": "code",
   "execution_count": 130,
   "metadata": {},
   "outputs": [
    {
     "data": {
      "text/plain": [
       "[15.551975727291847,\n",
       " 15.551975727291847,\n",
       " 15.551975727291847,\n",
       " 15.551975727291847,\n",
       " 15.551975727291847,\n",
       " 15.551975727291847,\n",
       " 14.804001123804563,\n",
       " 14.058804262665447,\n",
       " 16.1168301886232,\n",
       " 14.006174538472253,\n",
       " 14.006174538472253,\n",
       " 14.006174538472253,\n",
       " 11.508420072990868,\n",
       " 12.74797469590133,\n",
       " 39.07967270481104,\n",
       " 66.95717190254034,\n",
       " 14.620880981648634,\n",
       " 15.551975727291847,\n",
       " 23.10709131070738,\n",
       " 23.10709131070738,\n",
       " 23.10709131070738,\n",
       " 14.006174538472253,\n",
       " 23.10709131070738,\n",
       " 20.849139583890402,\n",
       " 10.14431922199687,\n",
       " 13.054221261810461,\n",
       " 20.849139583890402,\n",
       " 21.61114210373281,\n",
       " 23.10709131070738,\n",
       " 19.86136224173871,\n",
       " 19.86136224173871,\n",
       " 23.10709131070738,\n",
       " 16.1168301886232,\n",
       " 19.86136224173871,\n",
       " 15.551975727291847,\n",
       " 13.619075723141815,\n",
       " 9.13956132926262,\n",
       " 11.637315794744005,\n",
       " 11.637315794744005,\n",
       " 11.637315794744005,\n",
       " 10.141366587769438,\n",
       " 12.767024717406715,\n",
       " 12.767024717406715,\n",
       " 11.637315794744005,\n",
       " 10.864415200334207,\n",
       " 10.091514605924411,\n",
       " 6.335560297872103,\n",
       " 8.128039234564453,\n",
       " 8.128039234564453,\n",
       " 8.128039234564453,\n",
       " 9.738545878289434,\n",
       " 12.304610930495498,\n",
       " 6.363188424335055,\n",
       " 12.304610930495498,\n",
       " 12.304610930495498,\n",
       " 10.696361914802987,\n",
       " 12.304610930495498,\n",
       " 10.696361914802987,\n",
       " 13.843718482864896,\n",
       " 13.843718482864896,\n",
       " 13.843718482864896,\n",
       " 13.843718482864896,\n",
       " 5.561974182358389,\n",
       " 8.128039234564453,\n",
       " 2.18661672840401,\n",
       " 8.128039234564453,\n",
       " 9.738545878289434,\n",
       " 7.821719707301371,\n",
       " 12.304610930495498,\n",
       " 17.563763082708824,\n",
       " 3.645148011370326,\n",
       " 8.128039234564453,\n",
       " 10.696361914802987,\n",
       " 8.130296862596921,\n",
       " 9.738545878289434,\n",
       " 11.277653430658832,\n",
       " 13.843718482864896,\n",
       " 11.277653430658832,\n",
       " 9.738545878289434,\n",
       " 12.304610930495498,\n",
       " 12.304610930495498,\n",
       " 9.738545878289434,\n",
       " 8.130296862596921,\n",
       " 11.277653430658832,\n",
       " 9.088112899110472,\n",
       " 12.304610930495498,\n",
       " 12.304610930495498,\n",
       " 9.738545878289434,\n",
       " 12.304610930495498,\n",
       " 10.696361914802987,\n",
       " 12.304610930495498,\n",
       " 7.172480826083371,\n",
       " 12.304610930495498,\n",
       " 9.738545878289434,\n",
       " 8.264540780611066,\n",
       " 5.382986608745252,\n",
       " 1.3253997123834884,\n",
       " 6.639483458944019,\n",
       " 6.639483458944019,\n",
       " 5.382986608745252,\n",
       " 9.521037630809834,\n",
       " 6.639483458944019,\n",
       " 9.521037630809834,\n",
       " 5.382986608745252,\n",
       " 12.247465519419222,\n",
       " 6.4843571756875935,\n",
       " -1.630816617035932,\n",
       " 12.247465519419222,\n",
       " 12.247465519419222,\n",
       " 9.189931627068185,\n",
       " 8.264540780611066,\n",
       " 14.497714064257442,\n",
       " 12.155689753450902,\n",
       " 13.688971309149627,\n",
       " 25.448030782430383,\n",
       " 20.356477892482186,\n",
       " 35.04556027491303,\n",
       " 35.67380870001241,\n",
       " 35.67380870001241,\n",
       " 20.356477892482186,\n",
       " 16.671330466030177,\n",
       " 21.938228185465185,\n",
       " 12.34069869298254,\n",
       " 24.819782357331,\n",
       " 25.448030782430383,\n",
       " 15.222252864848354,\n",
       " 27.672643984476352,\n",
       " 21.081016693073096,\n",
       " 24.496951225476565,\n",
       " 24.496951225476565,\n",
       " 24.496951225476565,\n",
       " 25.221490026067478,\n",
       " 24.496951225476565,\n",
       " 23.2404543752778,\n",
       " 29.380828509998338,\n",
       " 17.557810157248987,\n",
       " 20.51402648666841,\n",
       " 20.51402648666841,\n",
       " 20.51402648666841,\n",
       " 21.23856528725932,\n",
       " 20.51402648666841,\n",
       " 20.761211037297457,\n",
       " 11.498719898419763,\n",
       " 23.367096843548136,\n",
       " 30.217797099496917,\n",
       " 26.634250922966043,\n",
       " 45.20699505619837,\n",
       " 36.376962616587434,\n",
       " 19.15294661499525,\n",
       " 13.945074352857688,\n",
       " 14.566427450777429,\n",
       " 13.945074352857688,\n",
       " 14.566427450777429,\n",
       " 9.730924124304801,\n",
       " 10.352277222224544,\n",
       " 9.730924124304801,\n",
       " 10.352277222224544,\n",
       " 14.566427450777429,\n",
       " 14.566427450777429,\n",
       " 22.976225999678668,\n",
       " 22.976225999678668,\n",
       " 10.294357336815855,\n",
       " 21.470739292015395,\n",
       " 13.945074352857688,\n",
       " 12.7023681570182,\n",
       " 8.488217928465316,\n",
       " 6.681718480151667,\n",
       " 12.7023681570182,\n",
       " 12.7023681570182,\n",
       " 8.488217928465316,\n",
       " 15.033957183607324,\n",
       " 7.24551173262583,\n",
       " 27.120591574228907,\n",
       " 13.785082749974372,\n",
       " 14.496333786546344,\n",
       " 12.670975278525429,\n",
       " 11.858758474031914,\n",
       " 14.496333786546344,\n",
       " 14.496333786546344,\n",
       " 14.496333786546344,\n",
       " 9.221183161517482,\n",
       " 15.739039982385831,\n",
       " 13.583654532535887,\n",
       " 12.670975278525429,\n",
       " 14.496333786546344,\n",
       " 14.496333786546344,\n",
       " 14.496333786546344,\n",
       " 11.858758474031914,\n",
       " 12.83772754714517,\n",
       " 12.83772754714517,\n",
       " 12.83772754714517,\n",
       " 12.83772754714517,\n",
       " 10.051512385093288,\n",
       " 12.83772754714517,\n",
       " 12.83772754714517,\n",
       " 7.265297223041406,\n",
       " 11.359211037816447,\n",
       " 8.572995875764564,\n",
       " 5.786780713712683,\n",
       " 9.880694528487725,\n",
       " 11.661683054181314,\n",
       " 12.83772754714517,\n",
       " 9.036967880511652,\n",
       " 9.036967880511652,\n",
       " 6.25075271845977,\n",
       " 9.036967880511652,\n",
       " 6.25075271845977,\n",
       " 3.4645375564078877,\n",
       " 7.5584513711829295,\n",
       " 7.5584513711829295,\n",
       " 4.772236209131047,\n",
       " 1.9860210470791655,\n",
       " 6.079934861854207,\n",
       " 7.860923387547796,\n",
       " 9.036967880511652,\n",
       " 9.036967880511652,\n",
       " 12.83772754714517,\n",
       " 10.051512385093288,\n",
       " 10.051512385093288,\n",
       " 11.359211037816447,\n",
       " 8.572995875764564,\n",
       " 9.036967880511652,\n",
       " 6.25075271845977,\n",
       " 6.25075271845977,\n",
       " 7.5584513711829295,\n",
       " 4.772236209131047,\n",
       " 12.83772754714517,\n",
       " 10.051512385093288,\n",
       " 12.83772754714517,\n",
       " 11.359211037816447,\n",
       " 8.572995875764564,\n",
       " 5.786780713712683,\n",
       " 11.359211037816447,\n",
       " 9.880694528487725,\n",
       " 9.880694528487725,\n",
       " 10.88752332925394,\n",
       " 13.55224470840169,\n",
       " 11.022298900094734,\n",
       " 13.55224470840169,\n",
       " 11.022298900094734,\n",
       " 12.476050452524987,\n",
       " 9.920651705694022,\n",
       " 7.390705897387068,\n",
       " 9.920651705694022,\n",
       " 8.588291016120147,\n",
       " 6.058345207813193,\n",
       " 3.5283993995062404,\n",
       " 8.588291016120147,\n",
       " 7.255930326546274,\n",
       " 7.255930326546274,\n",
       " 7.255930326546274,\n",
       " 9.920651705694022,\n",
       " 7.390705897387068,\n",
       " 9.920651705694022,\n",
       " 7.390705897387068,\n",
       " 8.844457449817321,\n",
       " 8.492353091787782,\n",
       " 10.88752332925394,\n",
       " 13.55224470840169,\n",
       " 13.55224470840169,\n",
       " 15.732872037047068,\n",
       " 12.1012790343394,\n",
       " 17.18662358947732,\n",
       " 13.555030586769655,\n",
       " 18.05139701410637,\n",
       " 16.108258284604247,\n",
       " 18.05139701410637,\n",
       " 18.05139701410637,\n",
       " 15.521451205799417,\n",
       " 15.521451205799417,\n",
       " 18.05139701410637,\n",
       " 18.05139701410637,\n",
       " 18.05139701410637,\n",
       " 18.05139701410637,\n",
       " 18.05139701410637,\n",
       " 19.505148566536626,\n",
       " 17.385216669319433,\n",
       " 22.105019413315816,\n",
       " 16.719036324532496,\n",
       " 16.719036324532496,\n",
       " 18.05139701410637,\n",
       " 19.505148566536626,\n",
       " 20.782600505839607,\n",
       " 16.804917454214166,\n",
       " 16.804917454214166,\n",
       " 14.602619660179279,\n",
       " 13.723735223960974,\n",
       " 13.723735223960974,\n",
       " 13.723735223960974,\n",
       " 11.965966351524365,\n",
       " 15.481504096397583,\n",
       " 16.804917454214166,\n",
       " 15.057834376272837,\n",
       " 11.976652146019642,\n",
       " 11.98733794051492,\n",
       " 11.98733794051492,\n",
       " 11.98733794051492,\n",
       " 15.481504096397583,\n",
       " 13.734421018456251,\n",
       " 39.36593197820214,\n",
       " 15.481504096397583,\n",
       " 16.804917454214166,\n",
       " 28.84622750354529,\n",
       " 15.926033017995863,\n",
       " 13.723735223960974,\n",
       " 13.723735223960974,\n",
       " 13.723735223960974,\n",
       " 11.976652146019642,\n",
       " 10.22956906807831,\n",
       " 13.723735223960974,\n",
       " 15.481504096397583,\n",
       " 15.481504096397583,\n",
       " 21.22655618301622,\n",
       " 15.481504096397583,\n",
       " 13.300065503836226,\n",
       " 12.649044619423213,\n",
       " 22.105440619234525,\n",
       " 22.105440619234525,\n",
       " 19.0315093165996,\n",
       " 16.143210775305874,\n",
       " 17.046389279874724,\n",
       " 16.16750484365642,\n",
       " 15.481504096397583,\n",
       " 18.373810748989982,\n",
       " 18.928128355472257,\n",
       " 11.98733794051492,\n",
       " 13.734421018456251,\n",
       " 15.299306201933392,\n",
       " 12.649044619423213,\n",
       " 27.49146252523262,\n",
       " 27.071571448949754,\n",
       " 18.95940764839274,\n",
       " 11.743583030283908,\n",
       " 6.628236069567041,\n",
       " 14.006888902735803,\n",
       " 14.006888902735803,\n",
       " 14.953964516456665,\n",
       " 23.223919488021465,\n",
       " 14.480426709596237,\n",
       " 49.20892014020699,\n",
       " 14.480426709596237,\n",
       " 14.006888902735803,\n",
       " 12.69065864400477,\n",
       " 12.69065864400477,\n",
       " 14.953964516456665,\n",
       " 32.018074270136395,\n",
       " 32.43796534641926,\n",
       " 14.006888902735803,\n",
       " 13.16710675017007,\n",
       " 54.56212187828739,\n",
       " 35.23158100423246,\n",
       " -17.239449727709108,\n",
       " -18.606416417712836,\n",
       " -18.186525341429974,\n",
       " -22.71313708633376,\n",
       " -19.866089646561434,\n",
       " -21.289613366447597,\n",
       " -21.289613366447597,\n",
       " 19.27881176849312,\n",
       " 14.006888902735803,\n",
       " 14.953964516456665,\n",
       " 19.088942002239065,\n",
       " 14.953964516456665,\n",
       " 8.418004135158505,\n",
       " 11.270045223423473,\n",
       " 14.006888902735803,\n",
       " 22.1190527032928,\n",
       " 14.006888902735803,\n",
       " 14.006888902735803,\n",
       " 14.006888902735803,\n",
       " 13.16710675017007,\n",
       " 12.327324597604338,\n",
       " 22.1190527032928,\n",
       " 12.327324597604338,\n",
       " 12.776145248408554,\n",
       " 11.175254679339272,\n",
       " 6.671713219951995,\n",
       " 10.96014106005406,\n",
       " 12.571276571272682,\n",
       " 8.067735111885403,\n",
       " 15.463682519441338,\n",
       " 14.067660627507928,\n",
       " 9.564119168120651,\n",
       " 14.067660627507928,\n",
       " 9.564119168120651,\n",
       " 15.463682519441338,\n",
       " 10.96014106005406,\n",
       " 14.067660627507928,\n",
       " 9.564119168120651,\n",
       " 7.78236634499931,\n",
       " 3.278824885612032,\n",
       " 12.67163873557452,\n",
       " 15.463682519441338,\n",
       " 10.96014106005406,\n",
       " 9.678870623104025,\n",
       " 5.175329163716747,\n",
       " 12.571276571272682,\n",
       " 8.067735111885403,\n",
       " 15.463682519441338,\n",
       " 9.678870623104025,\n",
       " 8.282848731170617,\n",
       " 3.7793072717833383,\n",
       " 15.463682519441338,\n",
       " 15.463682519441338,\n",
       " 15.463682519441338,\n",
       " 15.463682519441338,\n",
       " 11.175254679339272,\n",
       " 17.871350282506768,\n",
       " 17.173339336540064,\n",
       " 9.178388236932719,\n",
       " 17.25938269398311,\n",
       " 17.25938269398311,\n",
       " 18.456516143677625,\n",
       " 17.25938269398311,\n",
       " 17.25938269398311,\n",
       " 18.456516143677625,\n",
       " 17.857949418830366,\n",
       " 19.05508286852488,\n",
       " 28.913032604594626,\n",
       " 21.647608866461443,\n",
       " 17.857949418830366,\n",
       " 16.140337808457247,\n",
       " 16.140337808457247,\n",
       " 10.348434607621746,\n",
       " 14.263997471714438,\n",
       " 14.263997471714438,\n",
       " 15.836182920242203,\n",
       " 16.140337808457247,\n",
       " 22.029607182384993,\n",
       " 18.05524878304596,\n",
       " 16.778641466653482,\n",
       " 14.263997471714438,\n",
       " 12.425328650333423,\n",
       " 14.263997471714438,\n",
       " 12.425328650333423,\n",
       " 12.425328650333423,\n",
       " 10.31649551854922,\n",
       " 5.582785660806414,\n",
       " 11.554532197095794,\n",
       " 9.039888202156746,\n",
       " 5.7626289962602915,\n",
       " 11.554532197095794,\n",
       " 9.039888202156746,\n",
       " 11.888680967076985,\n",
       " 9.374036972137935,\n",
       " 10.612073650684511,\n",
       " 13.6256938135182,\n",
       " 14.263997471714438,\n",
       " 20.752999865992514,\n",
       " 20.752999865992514,\n",
       " 21.391303524188757,\n",
       " 21.391303524188757,\n",
       " 21.391303524188757,\n",
       " 21.391303524188757,\n",
       " 20.752999865992514,\n",
       " 34.218724279743284,\n",
       " 28.998084025863193,\n",
       " 16.8054979128273,\n",
       " 13.587123175672303,\n",
       " 12.64466462926102,\n",
       " 9.639621222507085,\n",
       " 8.697162676095802,\n",
       " 11.702206082849736,\n",
       " 7.754704129684518,\n",
       " 9.187562087910687,\n",
       " 5.240060134745469,\n",
       " 17.41694512484972]"
      ]
     },
     "execution_count": 130,
     "metadata": {},
     "output_type": "execute_result"
    }
   ],
   "source": [
    "ans"
   ]
  },
  {
   "cell_type": "code",
   "execution_count": null,
   "metadata": {},
   "outputs": [],
   "source": []
  },
  {
   "cell_type": "code",
   "execution_count": null,
   "metadata": {},
   "outputs": [],
   "source": []
  }
 ],
 "metadata": {
  "kernelspec": {
   "display_name": "Python 3",
   "language": "python",
   "name": "python3"
  },
  "language_info": {
   "codemirror_mode": {
    "name": "ipython",
    "version": 3
   },
   "file_extension": ".py",
   "mimetype": "text/x-python",
   "name": "python",
   "nbconvert_exporter": "python",
   "pygments_lexer": "ipython3",
   "version": "3.7.6"
  }
 },
 "nbformat": 4,
 "nbformat_minor": 4
}
