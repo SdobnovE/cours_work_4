{
 "cells": [
  {
   "cell_type": "code",
   "execution_count": 1,
   "metadata": {},
   "outputs": [],
   "source": [
    "import pandas as pd\n",
    "import numpy as np\n",
    "import matplotlib.pyplot as plt\n",
    "import re\n",
    "import ast\n",
    "from mgua import *\n",
    "from sklearn.linear_model import Ridge\n",
    "from sklearn.linear_model import LinearRegression\n",
    "from sklearn.model_selection import KFold\n",
    "from sklearn.manifold import TSNE\n",
    "from sklearn.decomposition import PCA\n",
    "from sklearn.cluster import AgglomerativeClustering\n",
    "from scipy.cluster.hierarchy import dendrogram\n",
    "import random as rnd\n",
    "from sklearn.metrics import mean_absolute_error as MAE\n",
    "from sklearn.metrics import mean_squared_error as MSE"
   ]
  },
  {
   "cell_type": "code",
   "execution_count": 2,
   "metadata": {},
   "outputs": [],
   "source": [
    "# БЕЗ ВКЛЮЧЕННЫХ МАРКЕРОВ"
   ]
  },
  {
   "cell_type": "code",
   "execution_count": 3,
   "metadata": {},
   "outputs": [
    {
     "data": {
      "text/plain": [
       "((467, 11), (467, 29), (467, 53), (467, 89))"
      ]
     },
     "execution_count": 3,
     "metadata": {},
     "output_type": "execute_result"
    }
   ],
   "source": [
    "tab1 = pd.read_csv(\"data_varvara/cox2/cox2_matrix_alphabet_NN***_UpTo2chains.csv\")\n",
    "tab2 = pd.read_csv(\"data_varvara/cox2/cox2_matrix_alphabet_NN***_UpTo3chains.csv\")\n",
    "tab3 = pd.read_csv(\"data_varvara/cox2/cox2_matrix_alphabet_NN***_UpTo4chains.csv\")\n",
    "tab4 = pd.read_csv(\"data_varvara/cox2/cox2_matrix_alphabet_NN***_UpTo5chains.csv\")\n",
    "\n",
    "tab1.shape, tab2.shape, tab3.shape, tab4.shape"
   ]
  },
  {
   "cell_type": "code",
   "execution_count": 4,
   "metadata": {},
   "outputs": [],
   "source": [
    "tab1[\"key\"] = [i for i in range(tab1.shape[0])]\n",
    "tab2[\"key\"] = [i for i in range(tab2.shape[0])]\n",
    "tab3[\"key\"] = [i for i in range(tab3.shape[0])]\n",
    "tab4[\"key\"] = [i for i in range(tab4.shape[0])]"
   ]
  },
  {
   "cell_type": "code",
   "execution_count": 5,
   "metadata": {
    "scrolled": true
   },
   "outputs": [],
   "source": [
    "tab = pd.merge(tab1, tab2, left_on=\"key\", right_on=\"key\", how=\"inner\")\n",
    "tab = pd.merge(tab, tab3, left_on=\"key\", right_on=\"key\", how=\"inner\")\n",
    "tab = pd.merge(tab, tab4, left_on=\"key\", right_on=\"key\", how=\"inner\")"
   ]
  },
  {
   "cell_type": "code",
   "execution_count": null,
   "metadata": {},
   "outputs": [],
   "source": []
  },
  {
   "cell_type": "code",
   "execution_count": 6,
   "metadata": {},
   "outputs": [
    {
     "data": {
      "text/plain": [
       "(467, 182)"
      ]
     },
     "execution_count": 6,
     "metadata": {},
     "output_type": "execute_result"
    }
   ],
   "source": [
    "tab = tab.drop(\"key\",axis=1)\n",
    "tab.shape"
   ]
  },
  {
   "cell_type": "code",
   "execution_count": 7,
   "metadata": {},
   "outputs": [
    {
     "data": {
      "text/html": [
       "<div>\n",
       "<style scoped>\n",
       "    .dataframe tbody tr th:only-of-type {\n",
       "        vertical-align: middle;\n",
       "    }\n",
       "\n",
       "    .dataframe tbody tr th {\n",
       "        vertical-align: top;\n",
       "    }\n",
       "\n",
       "    .dataframe thead th {\n",
       "        text-align: right;\n",
       "    }\n",
       "</style>\n",
       "<table border=\"1\" class=\"dataframe\">\n",
       "  <thead>\n",
       "    <tr style=\"text-align: right;\">\n",
       "      <th></th>\n",
       "      <th>Br***C***</th>\n",
       "      <th>C***C***</th>\n",
       "      <th>C***Cl***</th>\n",
       "      <th>C***F***</th>\n",
       "      <th>C***N***</th>\n",
       "      <th>C***O***</th>\n",
       "      <th>C***S***</th>\n",
       "      <th>N***N***</th>\n",
       "      <th>N***O***</th>\n",
       "      <th>N***S***</th>\n",
       "      <th>...</th>\n",
       "      <th>N***C***C***C***O***</th>\n",
       "      <th>N***C***C***C***S***</th>\n",
       "      <th>N***C***C***N***N***</th>\n",
       "      <th>N***C***C***N***O***</th>\n",
       "      <th>N***C***C***O***N***</th>\n",
       "      <th>N***C***C***S***O***</th>\n",
       "      <th>N***N***C***C***O***</th>\n",
       "      <th>N***N***C***C***S***</th>\n",
       "      <th>N***O***C***C***O***</th>\n",
       "      <th>S***C***C***C***S***</th>\n",
       "    </tr>\n",
       "  </thead>\n",
       "  <tbody>\n",
       "    <tr>\n",
       "      <th>0</th>\n",
       "      <td>0.0</td>\n",
       "      <td>17.0</td>\n",
       "      <td>0.0</td>\n",
       "      <td>1.0</td>\n",
       "      <td>3.0</td>\n",
       "      <td>0.0</td>\n",
       "      <td>2.0</td>\n",
       "      <td>0.0</td>\n",
       "      <td>0.0</td>\n",
       "      <td>0.0</td>\n",
       "      <td>...</td>\n",
       "      <td>0.0</td>\n",
       "      <td>0.0</td>\n",
       "      <td>0.0</td>\n",
       "      <td>0.0</td>\n",
       "      <td>0.0</td>\n",
       "      <td>0.0</td>\n",
       "      <td>0.0</td>\n",
       "      <td>0.0</td>\n",
       "      <td>0.0</td>\n",
       "      <td>0.0</td>\n",
       "    </tr>\n",
       "    <tr>\n",
       "      <th>1</th>\n",
       "      <td>0.0</td>\n",
       "      <td>16.0</td>\n",
       "      <td>0.0</td>\n",
       "      <td>1.0</td>\n",
       "      <td>3.0</td>\n",
       "      <td>0.0</td>\n",
       "      <td>2.0</td>\n",
       "      <td>0.0</td>\n",
       "      <td>0.0</td>\n",
       "      <td>0.0</td>\n",
       "      <td>...</td>\n",
       "      <td>0.0</td>\n",
       "      <td>0.0</td>\n",
       "      <td>0.0</td>\n",
       "      <td>0.0</td>\n",
       "      <td>0.0</td>\n",
       "      <td>0.0</td>\n",
       "      <td>0.0</td>\n",
       "      <td>0.0</td>\n",
       "      <td>0.0</td>\n",
       "      <td>0.0</td>\n",
       "    </tr>\n",
       "    <tr>\n",
       "      <th>2</th>\n",
       "      <td>0.0</td>\n",
       "      <td>16.0</td>\n",
       "      <td>0.0</td>\n",
       "      <td>1.0</td>\n",
       "      <td>3.0</td>\n",
       "      <td>0.0</td>\n",
       "      <td>2.0</td>\n",
       "      <td>0.0</td>\n",
       "      <td>0.0</td>\n",
       "      <td>0.0</td>\n",
       "      <td>...</td>\n",
       "      <td>0.0</td>\n",
       "      <td>0.0</td>\n",
       "      <td>0.0</td>\n",
       "      <td>0.0</td>\n",
       "      <td>0.0</td>\n",
       "      <td>0.0</td>\n",
       "      <td>0.0</td>\n",
       "      <td>0.0</td>\n",
       "      <td>0.0</td>\n",
       "      <td>0.0</td>\n",
       "    </tr>\n",
       "    <tr>\n",
       "      <th>3</th>\n",
       "      <td>0.0</td>\n",
       "      <td>17.0</td>\n",
       "      <td>0.0</td>\n",
       "      <td>0.0</td>\n",
       "      <td>3.0</td>\n",
       "      <td>0.0</td>\n",
       "      <td>2.0</td>\n",
       "      <td>0.0</td>\n",
       "      <td>0.0</td>\n",
       "      <td>0.0</td>\n",
       "      <td>...</td>\n",
       "      <td>0.0</td>\n",
       "      <td>0.0</td>\n",
       "      <td>0.0</td>\n",
       "      <td>0.0</td>\n",
       "      <td>0.0</td>\n",
       "      <td>0.0</td>\n",
       "      <td>0.0</td>\n",
       "      <td>0.0</td>\n",
       "      <td>0.0</td>\n",
       "      <td>0.0</td>\n",
       "    </tr>\n",
       "    <tr>\n",
       "      <th>4</th>\n",
       "      <td>0.0</td>\n",
       "      <td>18.0</td>\n",
       "      <td>0.0</td>\n",
       "      <td>3.0</td>\n",
       "      <td>3.0</td>\n",
       "      <td>0.0</td>\n",
       "      <td>2.0</td>\n",
       "      <td>0.0</td>\n",
       "      <td>0.0</td>\n",
       "      <td>0.0</td>\n",
       "      <td>...</td>\n",
       "      <td>0.0</td>\n",
       "      <td>0.0</td>\n",
       "      <td>0.0</td>\n",
       "      <td>0.0</td>\n",
       "      <td>0.0</td>\n",
       "      <td>0.0</td>\n",
       "      <td>0.0</td>\n",
       "      <td>0.0</td>\n",
       "      <td>0.0</td>\n",
       "      <td>0.0</td>\n",
       "    </tr>\n",
       "  </tbody>\n",
       "</table>\n",
       "<p>5 rows × 182 columns</p>\n",
       "</div>"
      ],
      "text/plain": [
       "   Br***C***  C***C***  C***Cl***  C***F***  C***N***  C***O***  C***S***  \\\n",
       "0        0.0      17.0        0.0       1.0       3.0       0.0       2.0   \n",
       "1        0.0      16.0        0.0       1.0       3.0       0.0       2.0   \n",
       "2        0.0      16.0        0.0       1.0       3.0       0.0       2.0   \n",
       "3        0.0      17.0        0.0       0.0       3.0       0.0       2.0   \n",
       "4        0.0      18.0        0.0       3.0       3.0       0.0       2.0   \n",
       "\n",
       "   N***N***  N***O***  N***S***  ...  N***C***C***C***O***  \\\n",
       "0       0.0       0.0       0.0  ...                   0.0   \n",
       "1       0.0       0.0       0.0  ...                   0.0   \n",
       "2       0.0       0.0       0.0  ...                   0.0   \n",
       "3       0.0       0.0       0.0  ...                   0.0   \n",
       "4       0.0       0.0       0.0  ...                   0.0   \n",
       "\n",
       "   N***C***C***C***S***  N***C***C***N***N***  N***C***C***N***O***  \\\n",
       "0                   0.0                   0.0                   0.0   \n",
       "1                   0.0                   0.0                   0.0   \n",
       "2                   0.0                   0.0                   0.0   \n",
       "3                   0.0                   0.0                   0.0   \n",
       "4                   0.0                   0.0                   0.0   \n",
       "\n",
       "   N***C***C***O***N***  N***C***C***S***O***  N***N***C***C***O***  \\\n",
       "0                   0.0                   0.0                   0.0   \n",
       "1                   0.0                   0.0                   0.0   \n",
       "2                   0.0                   0.0                   0.0   \n",
       "3                   0.0                   0.0                   0.0   \n",
       "4                   0.0                   0.0                   0.0   \n",
       "\n",
       "   N***N***C***C***S***  N***O***C***C***O***  S***C***C***C***S***  \n",
       "0                   0.0                   0.0                   0.0  \n",
       "1                   0.0                   0.0                   0.0  \n",
       "2                   0.0                   0.0                   0.0  \n",
       "3                   0.0                   0.0                   0.0  \n",
       "4                   0.0                   0.0                   0.0  \n",
       "\n",
       "[5 rows x 182 columns]"
      ]
     },
     "execution_count": 7,
     "metadata": {},
     "output_type": "execute_result"
    }
   ],
   "source": [
    "tab.head()"
   ]
  },
  {
   "cell_type": "code",
   "execution_count": 8,
   "metadata": {},
   "outputs": [],
   "source": [
    "y = pd.read_csv(\"data_varvara/cox2/cox2_y.csv\")"
   ]
  },
  {
   "cell_type": "code",
   "execution_count": 9,
   "metadata": {},
   "outputs": [],
   "source": [
    "y = np.array(y)"
   ]
  },
  {
   "cell_type": "code",
   "execution_count": 10,
   "metadata": {},
   "outputs": [],
   "source": [
    "r = []\n",
    "for i in y:\n",
    "    s = i[0]\n",
    "    s = re.sub('inf', '1_000_000_000', str(s))\n",
    "    r.append(ast.literal_eval(s))"
   ]
  },
  {
   "cell_type": "code",
   "execution_count": 11,
   "metadata": {},
   "outputs": [],
   "source": [
    "y = np.array(r)\n",
    "for i in range(y.shape[0]):\n",
    "    if y[i,1] == 1_000_000_000:\n",
    "        y[i,1] = np.inf"
   ]
  },
  {
   "cell_type": "code",
   "execution_count": 12,
   "metadata": {},
   "outputs": [],
   "source": [
    "X = np.array(tab)"
   ]
  },
  {
   "cell_type": "code",
   "execution_count": null,
   "metadata": {},
   "outputs": [],
   "source": []
  },
  {
   "cell_type": "code",
   "execution_count": null,
   "metadata": {},
   "outputs": [],
   "source": []
  },
  {
   "cell_type": "code",
   "execution_count": 13,
   "metadata": {},
   "outputs": [],
   "source": [
    "mdl = LinearRegression(normalize=True)"
   ]
  },
  {
   "cell_type": "code",
   "execution_count": 14,
   "metadata": {},
   "outputs": [],
   "source": [
    "ans = []\n",
    "for train_index, test_index in KFold(X.shape[0]).split(X):\n",
    "    X_train = X[train_index, :]\n",
    "    y_train = y[train_index,0]\n",
    "    \n",
    "    X_test = X[test_index, :]\n",
    "    y_test = y[test_index,0]\n",
    "    \n",
    "    mdl.fit(X_train, y_train)\n",
    "    ans.append(mdl.predict(X_test)[0])\n",
    "    "
   ]
  },
  {
   "cell_type": "code",
   "execution_count": 15,
   "metadata": {},
   "outputs": [
    {
     "data": {
      "text/plain": [
       "array([-1.47665219e+15,  4.65620850e+00, -3.24012806e+12,  7.49171154e-01,\n",
       "        5.61867965e+01,  1.13941974e+01, -4.36053689e+12, -2.91846075e+12,\n",
       "       -2.70934187e+13,  1.61981095e+13, -2.01411794e+13,  7.38326094e+14,\n",
       "        2.76557154e+14, -3.39437342e+00,  1.62006403e+12, -7.50326319e+00,\n",
       "       -1.97788820e+01,  1.99267898e+01,  7.98446039e+12, -2.99088543e+01,\n",
       "        2.91846075e+12, -4.12859625e+13,  3.07470349e+13, -7.11829772e+00,\n",
       "       -1.19988735e+14,  8.72107378e+12,  1.39687162e+13,  1.00705897e+13,\n",
       "       -9.51606728e+13,  2.72555950e+00, -2.26593082e+13,  7.07300748e+12,\n",
       "        3.08355855e+12,  3.74473148e+01,  3.79873492e+13, -1.07985519e+13,\n",
       "        3.94730082e+01, -2.97079560e+14,  7.94123685e+13, -1.98190060e+02,\n",
       "        2.93129677e+01, -7.04390107e+13, -3.06414625e+13, -1.62449480e+13,\n",
       "        2.42248223e+14, -2.64404027e+00, -1.68175221e+00, -6.61556220e+00,\n",
       "       -1.75219638e+01, -2.07426312e+01,  8.58679405e+11, -2.79816504e+01,\n",
       "       -1.58937346e+01,  2.94174458e+13, -1.49399902e+13, -3.36454740e+01,\n",
       "        3.58067956e+13, -7.98446039e+12,  6.53665613e+11,  5.58122548e+01,\n",
       "       -3.08355855e+12, -7.45193176e+12, -2.93342575e+13, -2.91846075e+12,\n",
       "        2.92373917e+13, -2.80222630e+13, -1.90008503e+13,  2.03508809e+13,\n",
       "       -6.15154944e+13, -1.36023865e+01,  8.47886589e+13,  4.16864023e+13,\n",
       "       -1.18764655e+11, -4.12061364e+12,  2.91542191e+13,  9.10726101e+00,\n",
       "       -9.02714184e-01, -2.69253048e+01,  2.24012829e+12, -4.43786993e+13,\n",
       "        3.85265348e+00,  1.81748364e+01, -1.17833570e+01,  9.88757798e+12,\n",
       "       -1.17682847e+12, -1.50730407e+01,  2.44336805e+01, -2.25125767e+12,\n",
       "       -6.28594377e+13,  3.80975348e+13, -3.25196491e+13,  5.56114383e+13,\n",
       "       -6.65187656e+13, -1.26385680e+01, -7.14894747e+00, -7.04390107e+13,\n",
       "        4.81953074e+12,  7.04390107e+13,  3.52195054e+13,  3.06414625e+13,\n",
       "        1.14254172e+13,  1.09760359e+14,  2.09940368e+00,  1.06059738e+01,\n",
       "        9.61487544e+00,  2.08354261e+00,  2.49399262e+00,  6.28763972e+00,\n",
       "        2.06355097e+01, -1.58006898e-01, -1.50808473e+13,  4.06843039e+12,\n",
       "        1.77112673e+01,  3.01616947e+13, -8.58679405e+11, -1.53080827e+12,\n",
       "       -2.42368136e+01,  1.71563150e+01, -9.82553826e+01,  3.72596588e+12,\n",
       "        2.47291205e+01,  1.08077388e+01,  6.58778829e+12,  1.82380107e+13,\n",
       "        9.11900534e+12,  7.32311146e+00,  1.15421366e+12, -3.72596588e+12,\n",
       "       -6.13735294e+01,  1.73215358e+13,  7.75333272e+12, -1.39923217e+01,\n",
       "        2.75471673e+13, -2.30029294e+12,  1.36233251e+01,  7.43832400e+13,\n",
       "        1.76384644e+13,  1.83164274e+01, -7.97296692e-01,  1.30189613e+01,\n",
       "       -2.60351303e+00, -6.89950842e+00,  3.08355855e+12,  6.52414603e+13,\n",
       "       -4.53247807e+12,  3.08781177e+13, -3.17099961e+13, -2.24012829e+12,\n",
       "        1.70641309e+01,  1.04038328e+01,  1.62598245e+13, -5.56114383e+13,\n",
       "        6.26186967e+13,  2.38727003e+02,  1.70486667e+13,  4.43786993e+13,\n",
       "       -9.88757798e+12,  2.25125767e+12, -2.78057191e+13,  3.32593828e+13,\n",
       "        5.27896886e-01,  1.82565783e+01,  2.23610313e+01,  1.29184308e+01,\n",
       "       -4.39555011e+00, -2.22335160e+00,  3.90028085e+01,  3.43380190e+00,\n",
       "       -5.45802063e+00, -3.94505292e+00, -2.48225633e+01, -9.11446439e-01,\n",
       "        3.85136274e+00,  1.98314119e+01, -1.03830125e+01, -7.54042367e+12,\n",
       "        4.30161290e+13,  7.34343697e+01, -3.21229922e+01, -2.09316012e+02,\n",
       "        3.25196491e+13, -8.11809008e+00])"
      ]
     },
     "execution_count": 15,
     "metadata": {},
     "output_type": "execute_result"
    }
   ],
   "source": [
    "mdl.coef_"
   ]
  },
  {
   "cell_type": "code",
   "execution_count": 16,
   "metadata": {},
   "outputs": [],
   "source": [
    "#КОЭФФИЦИЕНТЫ МОДЕЛИ очень большие, видно, что модель сильно переобучилась/"
   ]
  },
  {
   "cell_type": "code",
   "execution_count": 17,
   "metadata": {},
   "outputs": [
    {
     "data": {
      "text/plain": [
       "(6.929454483355078e+28, 29979123150096.06)"
      ]
     },
     "execution_count": 17,
     "metadata": {},
     "output_type": "execute_result"
    }
   ],
   "source": [
    "MSE(ans,y[:,0]), MAE(ans,y[:,0])\n"
   ]
  },
  {
   "cell_type": "code",
   "execution_count": null,
   "metadata": {},
   "outputs": [],
   "source": [
    "\n",
    "\n"
   ]
  },
  {
   "cell_type": "code",
   "execution_count": null,
   "metadata": {},
   "outputs": [],
   "source": []
  },
  {
   "cell_type": "code",
   "execution_count": 31,
   "metadata": {},
   "outputs": [],
   "source": [
    "mdl = Ridge(alpha=3, normalize=True)"
   ]
  },
  {
   "cell_type": "code",
   "execution_count": 32,
   "metadata": {},
   "outputs": [],
   "source": [
    "ans = []\n",
    "for train_index, test_index in KFold(X.shape[0]).split(X):\n",
    "    X_train = X[train_index, :]\n",
    "    y_train = y[train_index,0]\n",
    "    \n",
    "    X_test = X[test_index, :]\n",
    "    y_test = y[test_index,0]\n",
    "    \n",
    "    mdl.fit(X_train, y_train)\n",
    "    ans.append(mdl.predict(X_test)[0])"
   ]
  },
  {
   "cell_type": "code",
   "execution_count": 35,
   "metadata": {},
   "outputs": [
    {
     "data": {
      "text/plain": [
       "array([-1.29270287e+00, -1.11486223e-01, -6.70844250e-01, -1.20923821e-01,\n",
       "        1.07931298e-01,  3.07145963e-02,  8.94871729e-02,  1.12174668e+00,\n",
       "        1.11098190e+00, -1.04374855e+00,  1.36086247e+00, -6.42872063e-01,\n",
       "       -2.08905635e+00, -6.31035433e-02, -3.32294815e-01,  2.48838706e-02,\n",
       "        6.92061928e-02, -3.73943672e-02, -2.06649356e-01,  2.74787430e-02,\n",
       "        3.13917876e-01,  8.07362626e-01,  6.75731239e+00, -7.98773270e-01,\n",
       "        2.24508952e+00,  3.92016111e-01, -1.04374855e+00,  6.09110325e-01,\n",
       "       -2.24966509e+00, -2.35263292e-01, -3.55956747e-01, -1.64176623e+00,\n",
       "       -3.59440421e-01,  1.90783369e+00, -7.35680507e-01, -5.21874276e-01,\n",
       "        4.00558713e+00,  1.15144980e+00,  1.49063355e+00,  2.01653643e+00,\n",
       "       -6.35328597e-01, -1.72603618e+00, -2.44966752e-01, -1.47881590e+00,\n",
       "       -2.08905635e+00, -3.73656630e-02, -2.68373235e-01,  3.39191979e-02,\n",
       "        1.68000097e-01, -6.12152704e-03, -1.52377694e-01,  1.65065091e-02,\n",
       "        1.53418772e-01,  2.28314261e-01,  4.40454472e+00, -3.75896820e-01,\n",
       "       -7.29523153e-02,  1.26957418e-01, -5.60572519e-01,  6.70369942e-01,\n",
       "       -1.20674374e-01, -3.70937946e+00, -7.35680507e-01,  4.24487568e-01,\n",
       "        9.29096926e-01,  6.75731239e+00,  3.37865619e+00, -3.55956747e-01,\n",
       "        1.70283934e+00, -7.14726435e-01,  1.15144980e+00, -2.24966509e+00,\n",
       "       -1.64176623e+00, -7.35680507e-01,  1.15144980e+00, -1.98225204e+00,\n",
       "       -2.32505778e+00, -1.43962014e+00,  4.53586190e-02,  2.24629417e+00,\n",
       "        6.79259968e-01, -3.61640274e-01,  9.82985092e-01, -6.03924011e-01,\n",
       "       -8.20883114e-01, -5.48980916e-01,  2.38299918e+00, -6.43412669e-01,\n",
       "        1.27083939e+01,  1.16607054e+01, -1.44093092e+00, -1.75626297e+00,\n",
       "       -2.04737815e+00, -2.97185334e-01, -4.25241795e-01, -3.05939589e+00,\n",
       "       -1.47881590e+00, -1.87249690e+00, -1.01992014e+00, -2.44966752e-01,\n",
       "       -1.47881590e+00, -1.04452818e+00, -2.76975244e-02, -2.24796346e-01,\n",
       "        1.95802745e-01,  1.70660783e-01, -9.39206012e-02, -1.36291998e-01,\n",
       "        5.75705888e-02,  1.85006989e-01, -5.46090011e-02,  4.40454472e+00,\n",
       "       -3.18633786e-01,  1.88913689e-01,  7.66835297e-02, -5.60572519e-01,\n",
       "        6.18086690e-01,  6.59530391e-02, -8.39875648e-02, -1.93209752e+00,\n",
       "       -3.90812037e-01,  1.00616532e-01, -3.56969230e-01,  4.40454472e+00,\n",
       "        2.20227236e+00, -1.97342029e-01, -1.77978373e-01, -8.74885187e-01,\n",
       "       -5.26858535e-01,  1.15144980e+00, -3.56969230e-01, -1.04532000e-02,\n",
       "       -1.12483254e+00, -8.20883114e-01, -3.69520945e-01,  5.75724900e-01,\n",
       "        3.26672236e+00, -1.35394794e+00, -4.97407612e-01, -1.83442527e-01,\n",
       "        1.58365881e+00, -5.34633546e-01, -1.81505823e-01, -1.98888127e+00,\n",
       "       -7.35680507e-01,  6.35419697e+00,  4.65252153e+00,  4.53586190e-02,\n",
       "        8.19305974e-01,  2.23573192e-01, -6.66720016e-01, -3.51252595e+00,\n",
       "        1.27083939e+01, -1.92052536e+00,  1.15144980e+00,  2.24629417e+00,\n",
       "       -6.03924011e-01, -6.43412669e-01, -1.75626297e+00, -1.02368907e+00,\n",
       "        2.31885559e-01, -6.59227505e-01,  2.35990782e+00,  1.89626879e+00,\n",
       "        2.53316937e-01, -9.75030132e-01,  7.72299419e+00,  2.62594931e-01,\n",
       "       -5.04632874e-01, -2.09015378e+00, -4.09796433e-02,  1.25827472e+00,\n",
       "        1.90225768e+00,  1.17634358e+00, -1.49689177e+00, -1.41557564e+00,\n",
       "        1.16607054e+01,  1.15898688e+00,  1.10434953e+00, -1.63422434e+00,\n",
       "       -3.62436315e+00, -2.41077532e+00])"
      ]
     },
     "execution_count": 35,
     "metadata": {},
     "output_type": "execute_result"
    }
   ],
   "source": [
    "mdl.coef_"
   ]
  },
  {
   "cell_type": "code",
   "execution_count": 36,
   "metadata": {},
   "outputs": [
    {
     "data": {
      "text/plain": [
       "(955.6740185122885, 21.1350830372012)"
      ]
     },
     "execution_count": 36,
     "metadata": {},
     "output_type": "execute_result"
    }
   ],
   "source": [
    "MSE(ans,y[:,0]), MAE(ans,y[:,0])"
   ]
  },
  {
   "cell_type": "code",
   "execution_count": null,
   "metadata": {},
   "outputs": [],
   "source": []
  },
  {
   "cell_type": "code",
   "execution_count": null,
   "metadata": {},
   "outputs": [],
   "source": []
  },
  {
   "cell_type": "code",
   "execution_count": null,
   "metadata": {},
   "outputs": [],
   "source": []
  }
 ],
 "metadata": {
  "kernelspec": {
   "display_name": "Python 3",
   "language": "python",
   "name": "python3"
  },
  "language_info": {
   "codemirror_mode": {
    "name": "ipython",
    "version": 3
   },
   "file_extension": ".py",
   "mimetype": "text/x-python",
   "name": "python",
   "nbconvert_exporter": "python",
   "pygments_lexer": "ipython3",
   "version": "3.7.6"
  }
 },
 "nbformat": 4,
 "nbformat_minor": 4
}
