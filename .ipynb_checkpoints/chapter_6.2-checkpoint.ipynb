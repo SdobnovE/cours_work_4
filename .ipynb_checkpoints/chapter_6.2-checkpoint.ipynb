{
 "cells": [
  {
   "cell_type": "code",
   "execution_count": 23,
   "metadata": {},
   "outputs": [],
   "source": [
    "import pandas as pd\n",
    "import numpy as np\n",
    "import matplotlib.pyplot as plt\n",
    "import re\n",
    "import ast\n",
    "from mgua import *\n",
    "from sklearn.linear_model import Ridge\n",
    "from sklearn.linear_model import Lasso\n",
    "from sklearn.linear_model import LinearRegression\n",
    "from sklearn.model_selection import KFold\n",
    "from sklearn.manifold import TSNE\n",
    "\n",
    "\n",
    "import random as rnd\n",
    "from sklearn.metrics import mean_absolute_error as MAE\n",
    "from sklearn.metrics import mean_squared_error as MSE\n",
    "from sklearn.ensemble import RandomForestRegressor\n",
    "from sklearn.decomposition import PCA\n",
    "from sklearn.metrics import silhouette_score\n",
    "from sklearn.cluster import DBSCAN\n",
    "from sklearn.cluster import AgglomerativeClustering\n",
    "from scipy.cluster.hierarchy import dendrogram\n",
    "from sklearn.ensemble import GradientBoostingRegressor\n",
    "\n",
    "\n",
    "from sklearn.feature_extraction.text import TfidfTransformer"
   ]
  },
  {
   "cell_type": "code",
   "execution_count": null,
   "metadata": {},
   "outputs": [],
   "source": []
  },
  {
   "cell_type": "code",
   "execution_count": 24,
   "metadata": {},
   "outputs": [
    {
     "data": {
      "text/plain": [
       "((467, 107), (467, 274), (467, 577), (467, 1066))"
      ]
     },
     "execution_count": 24,
     "metadata": {},
     "output_type": "execute_result"
    }
   ],
   "source": [
    "tab1 = pd.read_csv(\"data_varvara/cox2/cox2_matrix_alphabet_NNdbr_UpTo2chains.csv\")\n",
    "tab2 = pd.read_csv(\"data_varvara/cox2/cox2_matrix_alphabet_NNdbr_UpTo3chains.csv\")\n",
    "tab3 = pd.read_csv(\"data_varvara/cox2/cox2_matrix_alphabet_NNdbr_UpTo4chains.csv\")\n",
    "tab4 = pd.read_csv(\"data_varvara/cox2/cox2_matrix_alphabet_NNdbr_UpTo5chains.csv\")\n",
    "\n",
    "tab1.shape, tab2.shape, tab3.shape, tab4.shape"
   ]
  },
  {
   "cell_type": "code",
   "execution_count": 25,
   "metadata": {},
   "outputs": [],
   "source": [
    "tab1[\"key\"] = [i for i in range(tab1.shape[0])]\n",
    "tab2[\"key\"] = [i for i in range(tab2.shape[0])]\n",
    "tab3[\"key\"] = [i for i in range(tab3.shape[0])]\n",
    "tab4[\"key\"] = [i for i in range(tab4.shape[0])]"
   ]
  },
  {
   "cell_type": "code",
   "execution_count": 26,
   "metadata": {
    "scrolled": true
   },
   "outputs": [],
   "source": [
    "tab = pd.merge(tab1, tab2, left_on=\"key\", right_on=\"key\", how=\"inner\")\n",
    "tab = pd.merge(tab, tab3, left_on=\"key\", right_on=\"key\", how=\"inner\")\n",
    "tab = pd.merge(tab, tab4, left_on=\"key\", right_on=\"key\", how=\"inner\")"
   ]
  },
  {
   "cell_type": "code",
   "execution_count": 27,
   "metadata": {},
   "outputs": [
    {
     "name": "stdout",
     "output_type": "stream",
     "text": [
      "Br1scC3as; C1dcC2dc; C1scC2sc; C1scC3as; C1scC3dc; C1scC4sc; C1scC4ss; C1scN2sc; C1scN3as; C1scN3sc; C1scO2sc; C1scS2sc; C1scS3dc; C1scS4wc; C2arC2ar; C2arC3as; C2arN2ar; C2arN3as; C2arO2ar; C2arS2ar; C2dcC2sc; C2dcC3as; C2dcO1dc; C2drC2sr; C2drC3ds; C2drC4ss; C2scC2sc; C2scC2tc; C2scC3as; C2scC3dc; C2scC4sc; C2scC4ss; C2scF1sc; C2scN1sc; C2scN2sc; C2scN3as; C2scN3sc; C2scO1sc; C2scO2sc; C2scS2sc; C2scS4wc; C2srC2sr; C2srC3as; C2srC3ds; C2srC3ss; C2srC4ss; C2srO2sr; C2srS2sr; C2tcC3as; C2tcN1tc; C3asC3as; C3asC3dc; C3asC3ds; C3asC3sc; C3asC3ss; C3asC4sc; C3asCl1sc; C3asF1sc; C3asN1sc; C3asN2ar; C3asN2sc; C3asN3as; C3asN3dc; C3asN3sc; C3asO1sc; C3asO2ar; C3asO2sc; C3asO2sr; C3asS2ar; C3asS2sc; C3asS2sr; C3asS3dc; C3asS4wc; C3dcC4sc; C3dcN1sc; C3dcN2sc; C3dcO1dc; C3dcO1sc; C3dcO2sc; C3dsC3ds; C3dsN2dr; C3dsS2sr; C3scC4sc; C3scF1sc; C3scO1sc; C3scO2sc; C3ssC3ss; C3ssF1sc; C3ssN2dr; C3ssN3as; C3ssS2sr; C4scC4ss; C4scF1sc; C4scO2sc; C4scS4wc; N1scO2sc; N1scS4wc; N2arN2ar; N2arN3as; N2arO2ar; N2scS4wc; N3dcO1dc; N3dcO1sc; N3scO2sc; N3scS4wc; O1dcS3dc; O1dcS4wc; key; Br1scC3asC2ar; Br1scC3asC3as; Br1scC3asS2ar; C1dcC2dcC2sc; C1scC2scC2sc; C1scC2scC3as; C1scC2scC4ss; C1scC2scN3as; C1scC2scN3sc; C1scC2scO2sc; C1scC2scS4wc; C1scC3asC2ar; C1scC3asC3as; C1scC3asN2ar; C1scC3asN3as; C1scC3asO2ar; C1scC3asS2ar; C1scC3dcC3as; C1scC3dcO1dc; C1scC3dcO2sc; C1scC4scC1sc; C1scC4scC3as; C1scC4ssC1sc; C1scC4ssC2sr; C1scN2scC3as; C1scN2scS4wc; C1scN3asC2ar; C1scN3asC3as; C1scN3scC1sc; C1scN3scC2sc; C1scN3scC3as; C1scN3scS4wc; C1scO2scC2sc; C1scO2scC3as; C1scO2scC3dc; C1scS2scC2sc; C1scS2scC3as; C1scS3dcC3as; C1scS3dcO1dc; C1scS4wcC2sc; C1scS4wcC3as; C1scS4wcN2sc; C1scS4wcO1dc; C2arC2arC2ar; C2arC2arC3as; C2arC2arN2ar; C2arC2arN3as; C2arC2arS2ar; C2arC3asC2ar; C2arC3asC2dc; C2arC3asC2sc; C2arC3asC2sr; C2arC3asC2tc; C2arC3asC3as; C2arC3asC3dc; C2arC3asC3ds; C2arC3asC3sc; C2arC3asC3ss; C2arC3asC4sc; C2arC3asCl1sc; C2arC3asF1sc; C2arC3asN1sc; C2arC3asN2ar; C2arC3asN2sc; C2arC3asN3as; C2arC3asN3dc; C2arC3asN3sc; C2arC3asO1sc; C2arC3asO2ar; C2arC3asO2sc; C2arC3asO2sr; C2arC3asS2ar; C2arC3asS2sc; C2arC3asS2sr; C2arC3asS3dc; C2arC3asS4wc; C2arN2arC2ar; C2arN2arC3as; C2arN2arN2ar; C2arN2arN3as; C2arN3asC2sc; C2arN3asC3as; C2arN3asN2ar; C2arO2arC3as; C2arS2arC2ar; C2arS2arC3as; C2dcC2scN3as; C2dcC3asC3as; C2dcC3asN2ar; C2drC2srC2sr; C2drC3dsC2sr; C2drC3dsC3as; C2drC3dsC3ds; C2drC4ssC2dr; C2drC4ssC2sr; C2scC2scC2sc; C2scC2scC3as; C2scC2scC3dc; C2scC2scN3as; C2scC2tcN1tc; C2scC3asC3as; C2scC3asN2ar; C2scC3asN3as; C2scC3asO2ar; C2scC3asS2ar; C2scC3dcN2sc; C2scC3dcO1dc; C2scC3dcO1sc; C2scC3dcO2sc; C2scC4scF1sc; C2scC4ssC2sc; C2scC4ssC2sr; C2scN2scC3as; C2scN3asC3as; C2scN3asN2ar; C2scN3scC2sc; C2scN3scO2sc; C2scO2scC2sc; C2scO2scC3as; C2scO2scC3dc; C2scS2scC3as; C2scS4wcC3as; C2scS4wcO1dc; C2srC2drC3ds; C2srC2srC2sr; C2srC2srC3as; C2srC2srC3ds; C2srC2srC3ss; C2srC2srC4ss; C2srC2srO2sr; C2srC2srS2sr; C2srC3asC3as; C2srC3dsC3as; C2srC3dsC3ds; C2srC3ssC2sr; C2srC3ssF1sc; C2srC3ssN3as; C2srC4ssC2sr; C2srC4ssC4sc; C2srO2srC3as; C2srS2srC3as; C2tcC2scC3as; C2tcC3asC3as; C2tcC3asN2ar; C3asC2arC3as; C3asC2arN2ar; C3asC2arN3as; C3asC2arO2ar; C3asC2arS2ar; C3asC2dcO1dc; C3asC2scC3as; C3asC2scC4sc; C3asC2scF1sc; C3asC2scN1sc; C3asC2scN2sc; C3asC2scN3sc; C3asC2scO1sc; C3asC2scO2sc; C3asC2scS2sc; C3asC2scS4wc; C3asC2srC3ds; C3asC2tcN1tc; C3asC3asC3as; C3asC3asC3dc; C3asC3asC3ds; C3asC3asC3sc; C3asC3asC4sc; C3asC3asCl1sc; C3asC3asF1sc; C3asC3asN1sc; C3asC3asN2ar; C3asC3asN2sc; C3asC3asN3as; C3asC3asN3dc; C3asC3asN3sc; C3asC3asO1sc; C3asC3asO2ar; C3asC3asO2sc; C3asC3asO2sr; C3asC3asS2ar; C3asC3asS2sc; C3asC3asS2sr; C3asC3asS4wc; C3asC3dcC3as; C3asC3dcC4sc; C3asC3dcN1sc; C3asC3dcN2sc; C3asC3dcO1dc; C3asC3dcO1sc; C3asC3dcO2sc; C3asC3dsC3as; C3asC3dsC3ds; C3asC3dsN2dr; C3asC3dsS2sr; C3asC3scC4sc; C3asC3scF1sc; C3asC3scO1sc; C3asC3scO2sc; C3asC3ssC3ss; C3asC3ssN2dr; C3asC3ssS2sr; C3asC4scF1sc; C3asN2arC3as; C3asN2arN2ar; C3asN2arN3as; C3asN2arO2ar; C3asN2scC3dc; C3asN2scS4wc; C3asN3asC3as; C3asN3asC3ss; C3asN3asN2ar; C3asN3dcO1dc; C3asN3dcO1sc; C3asO2arC3as; C3asO2arN2ar; C3asO2scC3sc; C3asO2scC4sc; C3asS2arC3as; C3asS3dcO1dc; C3asS4wcC3as; C3asS4wcC4sc; C3asS4wcN1sc; C3asS4wcN2sc; C3asS4wcN3sc; C3asS4wcO1dc; C3dcC2scN3as; C3dcC3asN2ar; C3dcC3asS2ar; C3dcC4scF1sc; C3dcO2scN1sc; C3dcO2scN3sc; C3dsC2drC4ss; C3dsC2srC4ss; C3dsC3asN3as; C3dsN2drC3ss; C3dsS2srC3ss; C3scC3asN2ar; C3scC4scF1sc; C3ssC3asS2ar; C3ssC3ssN2dr; C3ssC3ssS2sr; C4scC3asN2ar; C4scC3asN3as; C4scC3asS2ar; C4scC3dcO1dc; C4scC3scO1sc; C4scC3scO2sc; C4scC4ssC4sc; C4scS4wcO1dc; C4ssC2scF1sc; C4ssC4scF1sc; Cl1scC3asS2ar; F1scC3scF1sc; F1scC4scF1sc; F1scC4scO2sc; F1scC4scS4wc; N1scC3dcO1dc; N1scS4wcO1dc; N2arC3asN2sc; N2arC3asN3as; N2arC3asO2ar; N2arC3asO2sc; N2arC3asS2ar; N2drC3dsS2sr; N2scC3asS2ar; N2scC3dcO1dc; N2scS4wcO1dc; N3scS4wcO1dc; O1dcC3dcO1sc; O1dcC3dcO2sc; O1dcN3dcO1sc; O1dcS4wcO1dc; O2scC3asS2ar; O2srC2srO2sr; Br1scC3asC2arC2ar; Br1scC3asC2arC3as; Br1scC3asC2arN2ar; Br1scC3asC2arS2ar; Br1scC3asC3asC1sc; Br1scC3asC3asC2ar; Br1scC3asC3asC3as; Br1scC3asC3asN3as; Br1scC3asC3asO2sc; Br1scC3asS2arC3as; C1dcC2dcC2scN3as; C1scC2scC2scC3as; C1scC2scC3asC2ar; C1scC2scC3asC3as; C1scC2scC3asN2ar; C1scC2scC3asN3as; C1scC2scC3asS2ar; C1scC2scC4ssC2sc; C1scC2scC4ssC2sr; C1scC2scN3asC3as; C1scC2scN3asN2ar; C1scC2scN3scC2sc; C1scC2scN3scO2sc; C1scC2scO2scC3as; C1scC2scO2scC3dc; C1scC2scS4wcC3as; C1scC2scS4wcO1dc; C1scC3asC2arC2ar; C1scC3asC2arC3as; C1scC3asC2arN2ar; C1scC3asC2arN3as; C1scC3asC2arS2ar; C1scC3asC3asC1sc; C1scC3asC3asC2ar; C1scC3asC3asC2dc; C1scC3asC3asC2sc; C1scC3asC3asC2tc; C1scC3asC3asC3as; C1scC3asC3asC3dc; C1scC3asC3asC3ds; C1scC3asC3asC3sc; C1scC3asC3asC4sc; C1scC3asC3asCl1sc; C1scC3asC3asF1sc; C1scC3asC3asN2ar; C1scC3asC3asN3as; C1scC3asC3asO2sc; C1scC3asC3asO2sr; C1scC3asC3asS2ar; C1scC3asC3asS2sc; C1scC3asC3asS4wc; C1scC3asN2arC2ar; C1scC3asN2arC3as; C1scC3asN2arN3as; C1scC3asN3asC3as; C1scC3asN3asC3ss; C1scC3asO2arC2ar; C1scC3asO2arC3as; C1scC3asO2arN2ar; C1scC3asS2arC2ar; C1scC3asS2arC3as; C1scC3dcC3asC2ar; C1scC3dcC3asC3as; C1scC3dcO2scC2sc; C1scC4scC3asC2ar; C1scC4scC3asN2ar; C1scC4scC3asS2ar; C1scC4ssC2srC3ds; C1scN2scC3asC2ar; C1scN2scC3asC3as; C1scN2scS4wcC3as; C1scN2scS4wcO1dc; C1scN3asC2arC3as; C1scN3asC3asC2ar; C1scN3asC3asC3as; C1scN3scC2scC3as; C1scN3scC3asC2ar; C1scN3scC3asC3as; C1scN3scS4wcC3as; C1scN3scS4wcO1dc; C1scO2scC2scC3as; C1scO2scC3asC2ar; C1scO2scC3asC3as; C1scO2scC3asN2ar; C1scO2scC3dcC3as; C1scO2scC3dcO1dc; C1scS2scC2scC3as; C1scS2scC3asC2ar; C1scS2scC3asC3as; C1scS3dcC3asC2ar; C1scS4wcC2scC3as; C1scS4wcC3asC2ar; C1scS4wcC3asC3as; C1scS4wcN2scC3as; C2arC2arC2arC2ar; C2arC2arC2arC3as; C2arC2arC2arN2ar; C2arC2arC2arN3as; C2arC2arC2arS2ar; C2arC2arC3asC2ar; C2arC2arC3asC2sc; C2arC2arC3asC2sr; C2arC2arC3asC2tc; C2arC2arC3asC3as; C2arC2arC3asC3dc; C2arC2arC3asC3ds; C2arC2arC3asC3ss; C2arC2arC3asC4sc; C2arC2arC3asCl1sc; C2arC2arC3asF1sc; C2arC2arC3asN1sc; C2arC2arC3asN2ar; C2arC2arC3asN2sc; C2arC2arC3asN3as; C2arC2arC3asN3dc; C2arC2arC3asN3sc; C2arC2arC3asO1sc; C2arC2arC3asO2ar; C2arC2arC3asO2sc; C2arC2arC3asO2sr; C2arC2arC3asS2ar; C2arC2arC3asS2sc; C2arC2arC3asS2sr; C2arC2arC3asS3dc; C2arC2arC3asS4wc; C2arC2arN2arC2ar; C2arC2arN2arC3as; C2arC2arN2arN3as; C2arC2arN3asC3as; C2arC2arS2arC2ar; C2arC2arS2arC3as; C2arC3asC2arC3as; C2arC3asC2arN2ar; C2arC3asC2arS2ar; C2arC3asC2dcO1dc; C2arC3asC2scC2sc; C2arC3asC2scC2tc; C2arC3asC2scC3as; C2arC3asC2scC4sc; C2arC3asC2scF1sc; C2arC3asC2scN1sc; C2arC3asC2scN2sc; C2arC3asC2scN3sc; C2arC3asC2scO1sc; C2arC3asC2scO2sc; C2arC3asC2scS2sc; C2arC3asC2scS4wc; C2arC3asC2srC2sr; C2arC3asC2srC3ds; C2arC3asC2tcN1tc; C2arC3asC3asC2ar; C2arC3asC3asC2sc; C2arC3asC3asC2sr; C2arC3asC3asC3as; C2arC3asC3asC3ds; C2arC3asC3asC4sc; C2arC3asC3asCl1sc; C2arC3asC3asF1sc; C2arC3asC3asN2ar; C2arC3asC3asN2sc; C2arC3asC3asN3as; C2arC3asC3asN3sc; C2arC3asC3asO2ar; C2arC3asC3asO2sc; C2arC3asC3asO2sr; C2arC3asC3asS2ar; C2arC3asC3asS2sc; C2arC3asC3asS2sr; C2arC3asC3asS4wc; C2arC3asC3dcC3as; C2arC3asC3dcC4sc; C2arC3asC3dcN1sc; C2arC3asC3dcN2sc; C2arC3asC3dcO1dc; C2arC3asC3dcO1sc; C2arC3asC3dcO2sc; C2arC3asC3dsC2dr; C2arC3asC3dsC2sr; C2arC3asC3dsC3as; C2arC3asC3dsC3ds; C2arC3asC3dsN2dr; C2arC3asC3dsS2sr; C2arC3asC3scC4sc; C2arC3asC3scF1sc; C2arC3asC3scO1sc; C2arC3asC3scO2sc; C2arC3asC3ssC3ss; C2arC3asC3ssN2dr; C2arC3asC3ssS2sr; C2arC3asC4scF1sc; C2arC3asN2arC2ar; C2arC3asN2arC3as; C2arC3asN2arN3as; C2arC3asN2arO2ar; C2arC3asN2scC3dc; C2arC3asN2scS4wc; C2arC3asN3asC2ar; C2arC3asN3asC3as; C2arC3asN3asC3ss; C2arC3asN3asN2ar; C2arC3asN3dcO1dc; C2arC3asN3dcO1sc; C2arC3asO2arC3as; C2arC3asO2arN2ar; C2arC3asO2scC2sc; C2arC3asO2scC3sc; C2arC3asO2scC4sc; C2arC3asO2srC2sr; C2arC3asS2arC2ar; C2arC3asS2arC3as; C2arC3asS2scC2sc; C2arC3asS2srC2sr; C2arC3asS3dcO1dc; C2arC3asS4wcC2sc; C2arC3asS4wcC3as; C2arC3asS4wcC4sc; C2arC3asS4wcN1sc; C2arC3asS4wcN2sc; C2arC3asS4wcN3sc; C2arC3asS4wcO1dc; C2arN2arC2arC3as; C2arN2arC3asC3as; C2arN2arC3asN3as; C2arN2arC3asO2sc; C2arN2arC3asS2ar; C2arN2arN2arC3as; C2arN2arN3asC3as; C2arN3asC2scC2dc; C2arN3asC2scC2sc; C2arN3asC3asC3as; C2arN3asC3asN2ar; C2arN3asN2arC3as; C2arO2arC3asN2ar; C2arS2arC2arC3as; C2arS2arC3asC3as; C2arS2arC3asC3ss; C2arS2arC3asN2ar; C2dcC2scN3asC3as; C2dcC2scN3asN2ar; C2dcC3asC2arC3as; C2dcC3asC2arN3as; C2dcC3asC3asN3as; C2dcC3asN2arC3as; C2drC2srC2srC2sr; C2drC3dsC2srC2sr; C2drC3dsC3asN3as; C2drC3dsC3dsC2dr; C2drC3dsC3dsC3as; C2drC4ssC2drC3ds; C2drC4ssC2srC2sr; C2scC2scC2scC3as; C2scC2scC3asC3as; C2scC2scC3asN2ar; C2scC2scC3asN3as; C2scC2scC3asS2ar; C2scC2scC3dcO1dc; C2scC2scC3dcO1sc; C2scC2scN3asC3as; C2scC2scN3asN2ar; C2scC3asC2arC3as; C2scC3asC2arN3as; C2scC3asC3asC3as; C2scC3asC3asC4sc; C2scC3asC3asCl1sc; C2scC3asC3asN2ar; C2scC3asC3asN3as; C2scC3asC3asO2sc; C2scC3asN2arC3as; C2scC3asN2arN3as; C2scC3asN3asC3as; C2scC3asO2arN2ar; C2scC3asS2arC3as; C2scC3dcN2scC3as; C2scC3dcO2scC2sc; C2scC4ssC2scF1sc; C2scC4ssC2srC3ds; C2scN2scC3asN2ar; C2scN2scC3asS2ar; C2scN3asC2arC3as; C2scN3asC3asC3as; C2scN3asC3asC4sc; C2scN3asN2arC3as; C2scN3scO2scC3dc; C2scO2scC2scC3as; C2scO2scC3asN2ar; C2scO2scC3asS2ar; C2scO2scC3dcC3as; C2scO2scC3dcO1dc; C2srC2drC3dsC2sr; C2srC2drC3dsC3as; C2srC2srC2drC3ds; C2srC2srC2srC2sr; C2srC2srC2srC3as; C2srC2srC2srC3ds; C2srC2srC2srC4ss; C2srC2srC2srS2sr; C2srC2srC3asC3as; C2srC2srC3dsC3as; C2srC2srC3dsC3ds; C2srC2srC3ssC2sr; C2srC2srC3ssF1sc; C2srC2srC3ssN3as; C2srC2srC4ssC2sr; C2srC2srO2srC3as; C2srC2srS2srC3as; C2srC3asC2arC3as; C2srC3asC3asC2sr; C2srC3asC3asC3ds; C2srC3asC3asO2sr; C2srC3asC3asS2sr; C2srC3dsC3asC3as; C2srC3dsC3asN3as; C2srC3dsC3dsC2sr; C2srC3dsC3dsC3as; C2srC3ssN3asC3as; C2srC4ssC2drC3ds; C2srC4ssC2scF1sc; C2srC4ssC2srC3ds; C2srC4ssC4scF1sc; C2srO2srC3asC3as; C2srS2srC3asC3as; C2tcC2scC3asN2ar; C2tcC2scC3asS2ar; C2tcC3asC2arC3as; C2tcC3asC2arN2ar; C2tcC3asC2arN3as; C2tcC3asC3asC3as; C2tcC3asC3asCl1sc; C2tcC3asC3asN3as; C2tcC3asN2arC3as; C2tcC3asN2arN3as; C3asC2arC2arC3as; C3asC2arC2arN2ar; C3asC2arC2arS2ar; C3asC2arC3asC3as; C3asC2arC3asC3dc; C3asC2arC3asC3ds; C3asC2arC3asC3sc; C3asC2arC3asC4sc; C3asC2arC3asCl1sc; C3asC2arC3asF1sc; C3asC2arC3asN1sc; C3asC2arC3asN2ar; C3asC2arC3asN2sc; C3asC2arC3asN3as; C3asC2arC3asN3dc; C3asC2arC3asN3sc; C3asC2arC3asO2ar; C3asC2arC3asO2sc; C3asC2arC3asO2sr; C3asC2arC3asS2ar; C3asC2arC3asS2sc; C3asC2arC3asS4wc; C3asC2arN2arC3as; C3asC2arN2arN2ar; C3asC2arN2arN3as; C3asC2arN3asC3as; C3asC2arN3asN2ar; C3asC2arO2arC3as; C3asC2arS2arC3as; C3asC2scC2scC3as; C3asC2scC2scC3dc; C3asC2scC2scN3as; C3asC2scC2tcN1tc; C3asC2scC3asN2ar; C3asC2scC3asS2ar; C3asC2scC4scF1sc; C3asC2scN2scC3as; C3asC2scO2scC3as; C3asC2scO2scC3dc; C3asC2scS2scC3as; C3asC2scS4wcO1dc; C3asC2srC2srO2sr; C3asC2srC3dsC3as; C3asC2srC3dsC3ds; C3asC3asC2arN2ar; C3asC3asC2arN3as; C3asC3asC2arO2ar; C3asC3asC2arS2ar; C3asC3asC2dcO1dc; C3asC3asC2scC4sc; C3asC3asC2scN3sc; C3asC3asC2scO1sc; C3asC3asC2scO2sc; C3asC3asC2srC3ds; C3asC3asC2tcN1tc; C3asC3asC3asC3as; C3asC3asC3asC3dc; C3asC3asC3asC4sc; C3asC3asC3asCl1sc; C3asC3asC3asF1sc; C3asC3asC3asN1sc; C3asC3asC3asN2ar; C3asC3asC3asN3as; C3asC3asC3asN3dc; C3asC3asC3asN3sc; C3asC3asC3asO1sc; C3asC3asC3asO2ar; C3asC3asC3asO2sc; C3asC3asC3asO2sr; C3asC3asC3asS2ar; C3asC3asC3asS4wc; C3asC3asC3dcC3as; C3asC3asC3dcC4sc; C3asC3asC3dcN1sc; C3asC3asC3dcO1dc; C3asC3asC3dcO1sc; C3asC3asC3dcO2sc; C3asC3asC3dsC3as; C3asC3asC3dsC3ds; C3asC3asC3dsN2dr; C3asC3asC3dsS2sr; C3asC3asC3scC4sc; C3asC3asC3scO1sc; C3asC3asC3scO2sc; C3asC3asC4scF1sc; C3asC3asN2arC3as; C3asC3asN2arN2ar; C3asC3asN2arN3as; C3asC3asN2arO2ar; C3asC3asN3asC3as; C3asC3asN3asC3ss; C3asC3asN3asN2ar; C3asC3asN3dcO1dc; C3asC3asN3dcO1sc; C3asC3asO2arC3as; C3asC3asO2arN2ar; C3asC3asS2arC3as; C3asC3asS4wcC4sc; C3asC3asS4wcO1dc; C3asC3dcC4scF1sc; C3asC3dcN2scC3as; C3asC3dcO2scN1sc; C3asC3dcO2scN3sc; C3asC3dsC2drC4ss; C3asC3dsC2srC4ss; C3asC3dsC3dsC3as; C3asC3dsN2drC3ss; C3asC3dsS2srC3ss; C3asC3scC4scF1sc; C3asC3scO2scC3as; C3asC3ssC3ssC3as; C3asC3ssC3ssN2dr; C3asC3ssC3ssS2sr; C3asC3ssN2drC3ds; C3asC3ssS2srC3ds; C3asN2arC3asC3dc; C3asN2arC3asC3sc; C3asN2arC3asC4sc; C3asN2arC3asN2sc; C3asN2arC3asN3as; C3asN2arC3asO2ar; C3asN2arC3asO2sc; C3asN2arC3asS2ar; C3asN2arN2arC3as; C3asN2arN3asC3as; C3asN2arO2arC3as; C3asN2scC3dcO1dc; C3asN2scS4wcO1dc; C3asN3asC2scC3dc; C3asN3asC3asC3ds; C3asN3asC3asC4sc; C3asN3asC3asN2ar; C3asO2scC3scC4sc; C3asO2scC4scF1sc; C3asO2srC2srO2sr; C3asS2arC3asC3dc; C3asS2arC3asC4sc; C3asS2arC3asCl1sc; C3asS2arC3asN2ar; C3asS2arC3asN2sc; C3asS2arC3asO2sc; C3asS4wcC4scF1sc; C3dcC2scN3asN2ar; C3dcC3asC2arN3as; C3dcC3asC3asCl1sc; C3dcC3asC3asN3as; C3dcC3asN2arN3as; C3dsC2srC4ssC4sc; C3dsC3asC3asCl1sc; C3dsC3asC3asF1sc; C3dsC3asN3asN2ar; C3dsC3dsC2drC4ss; C3dsC3dsC2srC4ss; C3dsN2drC3ssC3ss; C3dsS2srC3ssC3ss; C3scC3asC2arN3as; C3scC3asC3asN3as; C3scC3asN2arN3as; C3ssC2srC2srC3ss; C3ssC3asC2arS2ar; C3ssC3ssC3asS2ar; C3ssN2drC3dsS2sr; C3ssS2srC3dsN2dr; C4scC3asC2arN3as; C4scC3asC3asCl1sc; C4scC3asC3asF1sc; C4scC3asC3asO1sc; C4scC3asC3asO2sc; C4scC3asN2arN2ar; C4scC3asN2arN3as; C4scC3asN3asN2ar; C4scC4ssC4scF1sc; Cl1scC3asC2arN2ar; Cl1scC3asC3asCl1sc; Cl1scC3asC3asF1sc; Cl1scC3asC3asN2ar; Cl1scC3asC3asN2sc; Cl1scC3asC3asN3as; Cl1scC3asC3asN3sc; Cl1scC3asC3asO2sc; Cl1scC3asC3asS2sc; Cl1scC3asC3asS4wc; F1scC2scC3asN2ar; F1scC3asC2arN2ar; F1scC3asC3asF1sc; F1scC3asC3asN2ar; F1scC3asC3asN3as; F1scC3asC3asN3sc; F1scC3asC3asO2sc; F1scC3scC3asN2ar; F1scC4scC3asN2ar; F1scC4scC3asN3as; F1scC4scC3asS2ar; F1scC4scC3dcO1dc; F1scC4scC3scO1sc; F1scC4scC3scO2sc; F1scC4scS4wcO1dc; N1scC2scC3asN2ar; N1scC3asC2arN2ar; N1scC3asC3asN3as; N1scC3dcC3asN2ar; N1scO2scC3dcO1dc; N1tcC2tcC3asN2ar; N2arC2arC2arN2ar; N2arC2arC2arN3as; N2arC2arC3asN3dc; N2arC2arC3asO2sc; N2arC2arC3asS2ar; N2arC2arC3asS4wc; N2arC3asC2arN3as; N2arC3asC2arO2ar; N2arC3asC2arS2ar; N2arC3asC2dcO1dc; N2arC3asC2scO1sc; N2arC3asC2scO2sc; N2arC3asC2scS2sc; N2arC3asC2scS4wc; N2arC3asC3asN2ar; N2arC3asC3asN3as; N2arC3asC3asO1sc; N2arC3asC3asO2sc; N2arC3asC3asS2ar; N2arC3asC3dcN2sc; N2arC3asC3dcO1dc; N2arC3asC3dcO1sc; N2arC3asC3dcO2sc; N2drC3ssC3asS2ar; N2drC3ssC3ssS2sr; N2scC3dcC2scN3as; N3asC2scC3dcO1dc; N3asC2scC3dcO2sc; N3asC3asC3asN3dc; N3asC3asC3asO1sc; N3asC3asC3asO2ar; N3asC3asC3asO2sc; N3asC3asC3asS2ar; N3asC3asC3asS4wc; N3asN2arC3asO2sc; N3scO2scC3dcO1dc; O1dcC3dcC3asS2ar; O1scC2scC3asO2ar; O2scC3asC3asO2sc; O2scC3dcC3asS2ar; O2srC2srC2srO2sr; O2srC3asC3asO2sr; S2arC3asC3asS2ar; Br1scC3asC2arC2arC2ar; Br1scC3asC2arC2arC3as; Br1scC3asC2arC3asC2ar; Br1scC3asC2arC3asC3as; Br1scC3asC2arC3asC3ds; Br1scC3asC2arC3asN3as; Br1scC3asC2arC3asS2ar; Br1scC3asC2arN2arC2ar; Br1scC3asC2arN2arN3as; Br1scC3asC2arS2arC3as; Br1scC3asC3asC2arC2ar; Br1scC3asC3asC3asBr1sc; Br1scC3asC3asC3asC2ar; Br1scC3asC3asC3asC3as; Br1scC3asC3asC3asS2ar; Br1scC3asC3asN3asC3as; Br1scC3asC3asN3asN2ar; Br1scC3asC3asO2scC1sc; Br1scC3asS2arC3asC2ar; Br1scC3asS2arC3asC3as; C1dcC2dcC2scN3asC2ar; C1dcC2dcC2scN3asC3as; C1dcC2dcC2scN3asN2ar; C1scC2scC2scC3asC3as; C1scC2scC3asC2arC2ar; C1scC2scC3asC2arC3as; C1scC2scC3asC3asC2ar; C1scC2scC3asC3asC3as; C1scC2scC3asC3asC4sc; C1scC2scC3asC3asN2ar; C1scC2scC3asC3asN3as; C1scC2scC3asC3asO2sc; C1scC2scC3asN2arC3as; C1scC2scC3asN3asC3as; C1scC2scC3asS2arC3as; C1scC2scC4ssC2scC1sc; C1scC2scC4ssC2srC3ds; C1scC2scN3asC3asC3as; C1scC2scN3asC3asC4sc; C1scC2scN3asN2arC3as; C1scC2scN3scC2scC1sc; C1scC2scN3scO2scC3dc; C1scC2scO2scC3asC2ar; C1scC2scO2scC3dcC2sc; C1scC2scO2scC3dcC3as; C1scC2scO2scC3dcO1dc; C1scC2scS4wcC3asC2ar; C1scC3asC2arC2arC2ar; C1scC3asC2arC2arC3as; C1scC3asC2arC2arN2ar; C1scC3asC2arC2arS2ar; C1scC3asC2arC3asC1sc; C1scC3asC2arC3asC2ar; C1scC3asC2arC3asC3as; C1scC3asC2arC3asCl1sc; C1scC3asC2arC3asF1sc; C1scC3asC2arC3asN2ar; C1scC3asC2arC3asN3as; C1scC3asC2arC3asO2sc; C1scC3asC2arN2arC2ar; C1scC3asC2arN2arC3as; C1scC3asC2arN2arN3as; C1scC3asC2arN3asC3as; C1scC3asC2arS2arC3as; C1scC3asC3asC2arC2ar; C1scC3asC3asC2arC3as; C1scC3asC3asC2arN2ar; C1scC3asC3asC2dcO1dc; C1scC3asC3asC2scC4sc; C1scC3asC3asC2scN3sc; C1scC3asC3asC2scO1sc; C1scC3asC3asC2scO2sc; C1scC3asC3asC2tcN1tc; C1scC3asC3asC3asC1sc; C1scC3asC3asC3asC2ar; C1scC3asC3asC3asC3as; C1scC3asC3asC3asCl1sc; C1scC3asC3asC3asN2ar; C1scC3asC3asC3asN3as; C1scC3asC3asC3asO2sr; C1scC3asC3asC3dcC1sc; C1scC3asC3asC3dcC3as; C1scC3asC3asC3dcC4sc; C1scC3asC3asC3dcO1dc; C1scC3asC3asC3dsC2sr; C1scC3asC3asC3dsC3ds; C1scC3asC3asC3scC4sc; C1scC3asC3asC3scO1sc; C1scC3asC3asC3scO2sc; C1scC3asC3asC4scF1sc; C1scC3asC3asN2arC2ar; C1scC3asC3asN2arN3as; C1scC3asC3asN3asC3as; C1scC3asC3asN3asN2ar; C1scC3asC3asO2scC1sc; C1scC3asC3asO2srC2sr; C1scC3asC3asS2arC2ar; C1scC3asC3asS2scC1sc; C1scC3asC3asS4wcC4sc; C1scC3asC3asS4wcO1dc; C1scC3asN2arC2arC2ar; C1scC3asN2arC2arC3as; C1scC3asN2arC3asC2ar; C1scC3asN2arC3asC3as; C1scC3asN2arC3asN3as; C1scC3asN2arC3asS2ar; C1scC3asN2arN3asC3as; C1scC3asN3asC3asC2ar; C1scC3asN3asC3asC3as; C1scC3asN3asC3ssC2sr; C1scC3asO2arC2arC3as; C1scC3asO2arC3asC2ar; C1scC3asO2arC3asC3as; C1scC3asO2arN2arC3as; C1scC3asS2arC2arC3as; C1scC3asS2arC3asC2ar; C1scC3asS2arC3asC3as; C1scC3dcC3asC2arC2ar; C1scC3dcC3asC2arC3as; C1scC3dcC3asC3asN3as; C1scC3dcO2scC2scC3as; C1scC4scC3asC2arC2ar; C1scC4scC3asN2arC3as; C1scC4scC3asS2arC3as; C1scC4ssC2srC3dsC3as; C1scC4ssC2srC3dsC3ds; C1scN2scC3asC2arC2ar; C1scN2scC3asC2arC3as; C1scN2scC3asC3asC2ar; C1scN2scC3asC3asCl1sc; C1scN2scS4wcC3asC2ar; C1scN3asC2arC3asC3as; C1scN3asC3asC2arC2ar; C1scN3asC3asC3asC2ar; C1scN3asC3asC3asC3as; C1scN3scC2scC3asC2ar; C1scN3scC2scC3asC3as; C1scN3scC3asC2arC2ar; C1scN3scC3asC2arC3as; C1scN3scC3asC3asC2ar; C1scN3scC3asC3asC3as; C1scN3scC3asC3asCl1sc; C1scN3scC3asC3asF1sc; C1scN3scS4wcC3asC2ar; C1scO2scC2scC3asC2ar; C1scO2scC2scC3asN2ar; C1scO2scC3asC2arC2ar; C1scO2scC3asC2arC3as; C1scO2scC3asC2arN2ar; C1scO2scC3asC3asC2ar; C1scO2scC3asC3asC2sc; C1scO2scC3asC3asC3as; C1scO2scC3asC3asC4sc; C1scO2scC3asC3asCl1sc; C1scO2scC3asC3asF1sc; C1scO2scC3asC3asN2ar; C1scO2scC3asC3asN3as; C1scO2scC3asC3asO2sc; C1scO2scC3asN2arC2ar; C1scO2scC3asN2arN3as; C1scO2scC3dcC3asC2ar; C1scO2scC3dcC3asC3as; C1scO2scC3dcC3asN2ar; C1scS2scC2scC3asC2ar; C1scS2scC2scC3asN2ar; C1scS2scC3asC2arC2ar; C1scS2scC3asC2arC3as; C1scS2scC3asC3asC2ar; C1scS2scC3asC3asCl1sc; C1scS3dcC3asC2arC2ar; C1scS4wcC2scC3asC2ar; C1scS4wcC2scC3asN2ar; C1scS4wcC3asC2arC2ar; C1scS4wcC3asC2arC3as; C1scS4wcC3asC2arN2ar; C1scS4wcC3asC3asC2ar; C1scS4wcC3asC3asC3as; C1scS4wcC3asC3asCl1sc; C1scS4wcC3asC3asN3as; C1scS4wcN2scC3asC2ar; C2arC2arC2arC2arC2ar; C2arC2arC2arC2arC3as; C2arC2arC2arC2arN2ar; C2arC2arC2arC3asC2ar; C2arC2arC2arC3asC2sc; C2arC2arC2arC3asC2sr; C2arC2arC2arC3asC3as; C2arC2arC2arC3asC3dc; C2arC2arC2arC3asC3ds; C2arC2arC2arC3asC3ss; C2arC2arC2arC3asC4sc; C2arC2arC2arC3asCl1sc; C2arC2arC2arC3asF1sc; C2arC2arC2arC3asN1sc; C2arC2arC2arC3asN2ar; C2arC2arC2arC3asN2sc; C2arC2arC2arC3asN3as; C2arC2arC2arC3asN3dc; C2arC2arC2arC3asN3sc; C2arC2arC2arC3asO2ar; C2arC2arC2arC3asO2sc; C2arC2arC2arC3asO2sr; C2arC2arC2arC3asS2ar; C2arC2arC2arC3asS2sc; C2arC2arC2arC3asS4wc; C2arC2arC2arN2arC2ar; C2arC2arC2arN2arC3as; C2arC2arC2arN3asC3as; C2arC2arC2arS2arC3as; C2arC2arC3asC2arC2ar; C2arC2arC3asC2arC3as; C2arC2arC3asC2arN2ar; C2arC2arC3asC2arS2ar; C2arC2arC3asC2scC2sc; C2arC2arC3asC2scC3as; C2arC2arC3asC2scN2sc; C2arC2arC3asC2scO1sc; C2arC2arC3asC2scO2sc; C2arC2arC3asC2srC2sr; C2arC2arC3asC2srC3ds; C2arC2arC3asC2tcN1tc; C2arC2arC3asC3asC2ar; C2arC2arC3asC3asC2sc; C2arC2arC3asC3asC2sr; C2arC2arC3asC3asC3as; C2arC2arC3asC3asC3ds; C2arC2arC3asC3asC4sc; C2arC2arC3asC3asCl1sc; C2arC2arC3asC3asF1sc; C2arC2arC3asC3asN2ar; C2arC2arC3asC3asN3as; C2arC2arC3asC3asN3sc; C2arC2arC3asC3asO2ar; C2arC2arC3asC3asO2sc; C2arC2arC3asC3asO2sr; C2arC2arC3asC3asS2ar; C2arC2arC3asC3dcC3as; C2arC2arC3asC3dcC4sc; C2arC2arC3asC3dcN1sc; C2arC2arC3asC3dcO1dc; C2arC2arC3asC3dcO1sc; C2arC2arC3asC3dsC2dr; C2arC2arC3asC3dsC2sr; C2arC2arC3asC3dsC3as; C2arC2arC3asC3dsC3ds; C2arC2arC3asC3dsN2dr; C2arC2arC3asC3dsS2sr; C2arC2arC3asC3ssC3ss; C2arC2arC3asC3ssN2dr; C2arC2arC3asC3ssS2sr; C2arC2arC3asC4scF1sc; C2arC2arC3asN2arC2ar; C2arC2arC3asN2arC3as; C2arC2arC3asN2scC3dc; C2arC2arC3asN2scS4wc; C2arC2arC3asN3asC2ar; C2arC2arC3asN3asC3as; C2arC2arC3asN3asC3ss; C2arC2arC3asN3asN2ar; C2arC2arC3asN3dcO1dc; C2arC2arC3asN3dcO1sc; C2arC2arC3asO2arC3as; C2arC2arC3asO2scC2sc; C2arC2arC3asO2scC3sc; C2arC2arC3asO2scC4sc; C2arC2arC3asO2srC2sr; C2arC2arC3asS2arC2ar; C2arC2arC3asS2arC3as; C2arC2arC3asS2scC2sc; C2arC2arC3asS2srC2sr; C2arC2arC3asS3dcO1dc; C2arC2arC3asS4wcC2sc; C2arC2arC3asS4wcC3as; C2arC2arC3asS4wcN1sc; C2arC2arC3asS4wcN2sc; C2arC2arC3asS4wcN3sc; C2arC2arC3asS4wcO1dc; C2arC2arN2arC2arC2ar; C2arC2arN2arC2arC3as; C2arC2arN2arC3asC2ar; C2arC2arN2arC3asC3as; C2arC2arN2arC3asN3as; C2arC2arN2arN3asC3as; C2arC2arN3asC3asC2ar; C2arC2arN3asC3asC3as; C2arC2arN3asC3asN2ar; C2arC2arS2arC2arC3as; C2arC2arS2arC3asC2ar; C2arC2arS2arC3asC3as; C2arC2arS2arC3asC3ss; C2arC3asC2arC2arC3as; C2arC3asC2arC2arN2ar; C2arC3asC2arC2arS2ar; C2arC3asC2arC3asC2ar; C2arC3asC2arC3asC2sc; C2arC3asC2arC3asC2sr; C2arC3asC2arC3asC3as; C2arC3asC2arC3asC4sc; C2arC3asC2arC3asCl1sc; C2arC3asC2arC3asF1sc; C2arC3asC2arC3asN1sc; C2arC3asC2arC3asN2ar; C2arC3asC2arC3asN2sc; C2arC3asC2arC3asN3as; C2arC3asC2arC3asN3dc; C2arC3asC2arC3asN3sc; C2arC3asC2arC3asO2ar; C2arC3asC2arC3asO2sc; C2arC3asC2arC3asO2sr; C2arC3asC2arC3asS2ar; C2arC3asC2arC3asS2sc; C2arC3asC2arC3asS4wc; C2arC3asC2arN2arC2ar; C2arC3asC2arN2arC3as; C2arC3asC2arS2arC2ar; C2arC3asC2arS2arC3as; C2arC3asC2scC2scC2sc; C2arC3asC2scC2scC3as; C2arC3asC2scC2scC3dc; C2arC3asC2scC2scN3as; C2arC3asC2scC2tcN1tc; C2arC3asC2scC3asN2ar; C2arC3asC2scC3asS2ar; C2arC3asC2scC4scF1sc; C2arC3asC2scN2scC3as; C2arC3asC2scO2scC2sc; C2arC3asC2scO2scC3as; C2arC3asC2scO2scC3dc; C2arC3asC2scS2scC3as; C2arC3asC2scS4wcO1dc; C2arC3asC2srC2srC2sr; C2arC3asC2srC2srO2sr; C2arC3asC2srC3dsC3as; C2arC3asC2srC3dsC3ds; C2arC3asC3asC2arC3as; C2arC3asC3asC2arN2ar; C2arC3asC3asC2arN3as; C2arC3asC3asC2arS2ar; C2arC3asC3asC2srC2sr; C2arC3asC3asC2srC3ds; C2arC3asC3asC3asC2ar; C2arC3asC3asC3asC2sc; C2arC3asC3asC3asC2tc; C2arC3asC3asC3asC3as; C2arC3asC3asC3asC4sc; C2arC3asC3asC3asCl1sc; C2arC3asC3asC3asF1sc; C2arC3asC3asC3asN1sc; C2arC3asC3asC3asN2ar; C2arC3asC3asC3asN3as; C2arC3asC3asC3asN3dc; C2arC3asC3asC3asN3sc; C2arC3asC3asC3asO1sc; C2arC3asC3asC3asO2ar; C2arC3asC3asC3asO2sc; C2arC3asC3asC3asO2sr; C2arC3asC3asC3asS2ar; C2arC3asC3asC3asS4wc; C2arC3asC3asC3dsC2sr; C2arC3asC3asC3dsC3as; C2arC3asC3asC3dsC3ds; C2arC3asC3asC3dsN2dr; C2arC3asC3asC3dsS2sr; C2arC3asC3asC4scF1sc; C2arC3asC3asN2arC2ar; C2arC3asC3asN2arC3as; C2arC3asC3asN2arN2ar; C2arC3asC3asN2arN3as; C2arC3asC3asN2arO2ar; C2arC3asC3asN3asC2ar; C2arC3asC3asN3asC3as; C2arC3asC3asN3asC3ss; C2arC3asC3asN3asN2ar; C2arC3asC3asO2arC3as; C2arC3asC3asO2srC2sr; C2arC3asC3asS2arC2ar; C2arC3asC3asS2arC3as; C2arC3asC3asS2srC2sr; C2arC3asC3asS4wcO1dc; C2arC3asC3dcC3asC2ar; C2arC3asC3dcC3asC3as; C2arC3asC3dcC4scF1sc; C2arC3asC3dcN2scC3as; C2arC3asC3dcO2scC2sc; C2arC3asC3dcO2scN1sc; C2arC3asC3dcO2scN3sc; C2arC3asC3dsC2drC2sr; C2arC3asC3dsC2drC4ss; C2arC3asC3dsC2srC2sr; C2arC3asC3dsC2srC3as; C2arC3asC3dsC2srC4ss; C2arC3asC3dsC3asC2ar; C2arC3asC3dsC3asC3as; C2arC3asC3dsC3dsC2dr; C2arC3asC3dsC3dsC2sr; C2arC3asC3dsC3dsC3as; C2arC3asC3dsN2drC3ss; C2arC3asC3dsS2srC3ss; C2arC3asC3scC4scF1sc; C2arC3asC3scO2scC3as; C2arC3asC3ssC3ssC3as; C2arC3asC3ssC3ssN2dr; C2arC3asC3ssC3ssS2sr; C2arC3asC3ssN2drC3ds; C2arC3asC3ssS2srC3ds; C2arC3asN2arC2arC3as; C2arC3asN2arC3asC2ar; C2arC3asN2arC3asC3as; C2arC3asN2arC3asN3as; C2arC3asN2arC3asO2ar; C2arC3asN2arC3asS2ar; C2arC3asN2arN3asC3as; C2arC3asN2arO2arC3as; C2arC3asN2scC3dcC2sc; C2arC3asN2scC3dcC3as; C2arC3asN2scC3dcO1dc; C2arC3asN2scS4wcO1dc; C2arC3asN3asC2arC3as; C2arC3asN3asC3asC2ar; C2arC3asN3asC3asC2sc; C2arC3asN3asC3asC3as; C2arC3asN3asC3asC3ds; C2arC3asN3asC3asC4sc; C2arC3asN3asC3asN2ar; C2arC3asN3asC3ssC2sr; C2arC3asN3asN2arC2ar; C2arC3asN3asN2arC3as; C2arC3asO2arC3asC2ar; C2arC3asO2arC3asC3as; C2arC3asO2arN2arC3as; C2arC3asO2scC2scC3as; C2arC3asO2scC3scC3as; C2arC3asO2scC3scC4sc; C2arC3asO2scC4scF1sc; C2arC3asO2srC2srC2sr; C2arC3asO2srC2srO2sr; C2arC3asS2arC2arC3as; C2arC3asS2arC3asC2ar; C2arC3asS2arC3asC3as; C2arC3asS2arC3asCl1sc; C2arC3asS2arC3asN2ar; C2arC3asS2scC2scC3as; C2arC3asS2srC2srC2sr; C2arC3asS4wcC3asC2ar; C2arC3asS4wcC4scF1sc; C2arN2arC2arC2arC3as; C2arN2arC2arC3asC3as; C2arN2arC2arC3asO2sc; C2arN2arC3asC2arC3as; C2arN2arC3asC3asC3as; C2arN2arC3asC3asN2ar; C2arN2arC3asC3asN3as; C2arN2arC3asN3asC2ar; C2arN2arC3asN3asC3as; C2arN2arC3asS2arC3as; C2arN2arN2arC3asC3as; C2arN2arN3asC3asC3as; C2arN3asC2scC2scC3as; C2arN3asC3asC2arC3as; C2arN3asC3asC3asC3as; C2arN3asC3asC3asN2ar; C2arN3asC3asC3asS2ar; C2arN3asC3asN2arC3as; C2arN3asN2arC3asC3as; C2arO2arC3asN2arC3as; C2arS2arC2arC2arC3as; C2arS2arC2arC3asC3as; C2arS2arC2arC3asC3ss; C2arS2arC3asC2arC3as; C2arS2arC3asC3asC3as; C2arS2arC3asC3asN2ar; C2arS2arC3asC3asN3as; C2arS2arC3asC3asS2ar; C2arS2arC3asC3ssC3ss; C2arS2arC3asC3ssN2dr; C2arS2arC3asN2arC3as; C2dcC2scN3asC2arC3as; C2dcC2scN3asC3asC3as; C2dcC2scN3asC3asC4sc; C2dcC2scN3asN2arC3as; C2dcC3asC2arC3asC3as; C2dcC3asC2arC3asN3as; C2dcC3asC2arN3asC3as; C2dcC3asC3asN3asC3as; C2dcC3asN2arC3asC3as; C2dcC3asN2arC3asN3as; C2drC2srC2srC2srC2sr; C2drC3dsC2srC2srC2sr; C2drC3dsC3asC2arC3as; C2drC3dsC3asN3asC3as; C2drC3dsC3asN3asN2ar; C2drC3dsC3dsC2drC4ss; C2drC4ssC2drC3dsC3as; C2drC4ssC2drC3dsC3ds; C2scC2scC2scC3asN2ar; C2scC2scC2scC3asS2ar; C2scC2scC3asC3asC3as; C2scC2scC3asC3asC4sc; C2scC2scC3asC3asN2ar; C2scC2scC3asC3asN3as; C2scC2scC3asN2arC3as; C2scC2scC3asN3asC3as; C2scC2scC3asS2arC3as; C2scC2scN3asC2arC3as; C2scC2scN3asC3asC3as; C2scC2scN3asC3asC4sc; C2scC2scN3asN2arC3as; C2scC3asC2arC2arC3as; C2scC3asC2arC3asC3as; C2scC3asC2arC3asCl1sc; C2scC3asC2arC3asN3as; C2scC3asC2arN3asC3as; C2scC3asC3asC3asC3as; C2scC3asC3asC3asN2ar; C2scC3asC3asC3asN3as; C2scC3asC3asC4scF1sc; C2scC3asC3asN2arN3as; C2scC3asC3asN3asC3as; C2scC3asC3asN3asN2ar; C2scC3asN2arC3asC3as; C2scC3asN2arC3asN3as; C2scC3asN2arN3asC3as; C2scC3asN3asC3asC3as; C2scC3asO2arN2arC3as; C2scC3asS2arC3asC3as; C2scC4ssC2srC3dsC3as; C2scC4ssC2srC3dsC3ds; C2scN2scC3asN2arC3as; C2scN2scC3asS2arC3as; C2scN3asC2arC3asC3as; C2scN3asC3asC3asC3as; C2scN3asC3asC4scF1sc; C2scN3asN2arC3asC3as; C2scN3scO2scC3dcC3as; C2scN3scO2scC3dcO1dc; C2scO2scC2scC3asN2ar; C2scO2scC3asC2arC3as; C2scO2scC3asN2arC3as; C2scO2scC3asS2arC3as; C2scO2scC3dcC2scN3as; C2scO2scC3dcC3asN2ar; C2scO2scC3dcC3asS2ar; C2srC2drC3dsC2srC2sr; C2srC2drC3dsC3asN3as; C2srC2srC2drC3dsC2sr; C2srC2srC2drC3dsC3as; C2srC2srC2srC2drC3ds; C2srC2srC2srC2srC2sr; C2srC2srC2srC2srC3ds; C2srC2srC2srC2srC4ss; C2srC2srC2srC3asC3as; C2srC2srC2srC3dsC3as; C2srC2srC2srC3dsC3ds; C2srC2srC2srC4ssC2sr; C2srC2srC2srS2srC3as; C2srC2srC3asC2arC3as; C2srC2srC3asC3asC2sr; C2srC2srC3asC3asO2sr; C2srC2srC3asC3asS2sr; C2srC2srC3dsC3asC3as; C2srC2srC3dsC3asN3as; C2srC2srC3dsC3dsC2sr; C2srC2srC3dsC3dsC3as; C2srC2srC3ssC2srC2sr; C2srC2srC3ssN3asC3as; C2srC2srC4ssC2drC3ds; C2srC2srC4ssC2srC2sr; C2srC2srC4ssC2srC3ds; C2srC2srO2srC3asC3as; C2srC2srS2srC3asC3as; C2srC3asC2arC2arC3as; C2srC3asC2arC3asC3as; C2srC3asC3asC2arC3as; C2srC3asC3asC3dsC3as; C2srC3asC3asC3dsC3ds; C2srC3asC3asO2srC2sr; C2srC3asC3asS2srC2sr; C2srC3dsC3asC2arC3as; C2srC3dsC3asC3asCl1sc; C2srC3dsC3asC3asF1sc; C2srC3dsC3asN3asC3as; C2srC3dsC3asN3asN2ar; C2srC3dsC3dsC2srC4ss; C2srC3dsC3dsC3asC3as; C2srC3ssC2srC2srC3ss; C2srC3ssN3asC3asC3as; C2srC4ssC2drC3dsC3as; C2srC4ssC2drC3dsC3ds; C2srC4ssC2srC3dsC3as; C2srC4ssC2srC3dsC3ds; C2srO2srC3asC2arC3as; C2srO2srC3asC3asC3as; C2srO2srC3asC3asO2sr; C2tcC2scC3asC2arC3as; C2tcC2scC3asC2arN3as; C2tcC2scC3asN2arC3as; C2tcC2scC3asN2arN3as; C2tcC2scC3asS2arC3as; C2tcC3asC2arC2arC3as; C2tcC3asC2arC3asC3as; C2tcC3asC2arC3asN3as; C2tcC3asC2arN2arN3as; C2tcC3asC2arN3asC3as; C2tcC3asC3asC3asC3as; C2tcC3asC3asC3asN3as; C2tcC3asC3asN3asC3as; C2tcC3asC3asN3asN2ar; C2tcC3asN2arC3asC3as; C2tcC3asN2arC3asN3as; C2tcC3asN2arN3asC3as; C3asC2arC2arC2arC3as; C3asC2arC2arC2arN2ar; C3asC2arC2arC2arN3as; C3asC2arC2arC2arS2ar; C3asC2arC2arC3asC3as; C3asC2arC2arC3asC3dc; C3asC2arC2arC3asC3ds; C3asC2arC2arC3asC3ss; C3asC2arC2arC3asC4sc; C3asC2arC2arC3asCl1sc; C3asC2arC2arC3asF1sc; C3asC2arC2arC3asN1sc; C3asC2arC2arC3asN2ar; C3asC2arC2arC3asN2sc; C3asC2arC2arC3asN3as; C3asC2arC2arC3asN3dc; C3asC2arC2arC3asN3sc; C3asC2arC2arC3asO1sc; C3asC2arC2arC3asO2ar; C3asC2arC2arC3asO2sc; C3asC2arC2arC3asO2sr; C3asC2arC2arC3asS2ar; C3asC2arC2arC3asS2sc; C3asC2arC2arC3asS2sr; C3asC2arC2arC3asS3dc; C3asC2arC2arC3asS4wc; C3asC2arC2arN2arC3as; C3asC2arC2arN2arN3as; C3asC2arC2arS2arC3as; C3asC2arC3asC2arC3as; C3asC2arC3asC2arN2ar; C3asC2arC3asC2arS2ar; C3asC2arC3asC2dcO1dc; C3asC2arC3asC2scC4sc; C3asC2arC3asC2scF1sc; C3asC2arC3asC2scN3sc; C3asC2arC3asC2scO1sc; C3asC2arC3asC2scO2sc; C3asC2arC3asC2tcN1tc; C3asC2arC3asC3asC3as; C3asC2arC3asC3asC3ds; C3asC2arC3asC3asC4sc; C3asC2arC3asC3asCl1sc; C3asC2arC3asC3asF1sc; C3asC2arC3asC3asN2ar; C3asC2arC3asC3asN2sc; C3asC2arC3asC3asN3as; C3asC2arC3asC3asN3sc; C3asC2arC3asC3asO2ar; C3asC2arC3asC3asO2sc; C3asC2arC3asC3asO2sr; C3asC2arC3asC3asS2ar; C3asC2arC3asC3asS2sc; C3asC2arC3asC3asS2sr; C3asC2arC3asC3asS4wc; C3asC2arC3asC3dcC3as; C3asC2arC3asC3dcC4sc; C3asC2arC3asC3dcN2sc; C3asC2arC3asC3dcO1dc; C3asC2arC3asC3dcO1sc; C3asC2arC3asC3dcO2sc; C3asC2arC3asC3dsC3ds; C3asC2arC3asC3scC4sc; C3asC2arC3asC3scF1sc; C3asC2arC3asC3scO1sc; C3asC2arC3asC3scO2sc; C3asC2arC3asC4scF1sc; C3asC2arC3asN2arN3as; C3asC2arC3asN2arO2ar; C3asC2arC3asN2scC3dc; C3asC2arC3asN3asC3as; C3asC2arC3asN3asN2ar; C3asC2arC3asN3dcO1dc; C3asC2arC3asN3dcO1sc; C3asC2arC3asO2arC3as; C3asC2arC3asO2arN2ar; C3asC2arC3asO2scC3sc; C3asC2arC3asS4wcC4sc; C3asC2arC3asS4wcO1dc; C3asC2arN2arC2arC3as; C3asC2arN2arC3asC3as; C3asC2arN2arC3asO2sc; C3asC2arN2arC3asS2ar; C3asC2arN2arN2arC3as; C3asC2arN2arN3asC3as; C3asC2arN3asC3asC3as; C3asC2arN3asC3asN2ar; C3asC2arN3asN2arC3as; C3asC2arO2arC3asN2ar; C3asC2arS2arC3asC3as; C3asC2arS2arC3asN2ar; C3asC2scC2scC2scC3as; C3asC2scC2scC3asN2ar; C3asC2scC2scC3asS2ar; C3asC2scC2scC3dcO1dc; C3asC2scC2scC3dcO1sc; C3asC2scC2scN3asC3as; C3asC2scC2scN3asN2ar; C3asC2scC3asN2arC3as; C3asC2scC3asS2arC3as; C3asC2scN2scC3asN2ar; C3asC2scN2scC3asS2ar; C3asC2scO2scC2scC3as; C3asC2scO2scC3asN2ar; C3asC2scO2scC3asS2ar; C3asC2scO2scC3dcO1dc; C3asC2srC2srC2srC3as; C3asC2srC2srC2srS2sr; C3asC2srC2srO2srC3as; C3asC2srC3dsC3dsC3as; C3asC3asC2arC2arN2ar; C3asC3asC2arC2arS2ar; C3asC3asC2arC3asC3as; C3asC3asC2arC3asC3dc; C3asC3asC2arC3asC3ds; C3asC3asC2arC3asC3sc; C3asC3asC2arC3asC4sc; C3asC3asC2arC3asCl1sc; C3asC3asC2arC3asF1sc; C3asC3asC2arC3asN1sc; C3asC3asC2arC3asN2ar; C3asC3asC2arC3asN2sc; C3asC3asC2arC3asN3as; C3asC3asC2arC3asN3dc; C3asC3asC2arC3asN3sc; C3asC3asC2arC3asO2ar; C3asC3asC2arC3asO2sc; C3asC3asC2arC3asO2sr; C3asC3asC2arC3asS2sc; C3asC3asC2arC3asS4wc; C3asC3asC2arN2arC3as; C3asC3asC2arN2arN2ar; C3asC3asC2arN2arN3as; C3asC3asC2arN3asC3as; C3asC3asC2arN3asN2ar; C3asC3asC2arO2arC3as; C3asC3asC2arS2arC3as; C3asC3asC2scC4scF1sc; C3asC3asC2scO2scC3as; C3asC3asC2scO2scC3dc; C3asC3asC2srC2srO2sr; C3asC3asC2srC3dsC3as; C3asC3asC2srC3dsC3ds; C3asC3asC3asC2arN2ar; C3asC3asC3asC2arN3as; C3asC3asC3asC2arS2ar; C3asC3asC3asC2scO1sc; C3asC3asC3asC2tcN1tc; C3asC3asC3asC3asC3as; C3asC3asC3asC3asC3dc; C3asC3asC3asC3asC4sc; C3asC3asC3asC3asF1sc; C3asC3asC3asC3asN2ar; C3asC3asC3asC3asN3as; C3asC3asC3asC3asO2ar; C3asC3asC3asC3asO2sr; C3asC3asC3asC3asS2ar; C3asC3asC3asC3dcN1sc; C3asC3asC3asC3dcO1dc; C3asC3asC3asC3dcO1sc; C3asC3asC3asC3dcO2sc; C3asC3asC3asC4scF1sc; C3asC3asC3asN2arC3as; C3asC3asC3asN2arN2ar; C3asC3asC3asN2arN3as; C3asC3asC3asN2arO2ar; C3asC3asC3asN3asC3as; C3asC3asC3asN3asN2ar; C3asC3asC3asN3dcO1dc; C3asC3asC3asN3dcO1sc; C3asC3asC3asO2arC3as; C3asC3asC3asO2arN2ar; C3asC3asC3asS2arC3as; C3asC3asC3asS4wcO1dc; C3asC3asC3dcC4scF1sc; C3asC3asC3dsC2srC4ss; C3asC3asC3dsC3dsC3as; C3asC3asC3dsN2drC3ss; C3asC3asC3dsS2srC3ss; C3asC3asC3scC4scF1sc; C3asC3asC3scO2scC3as; C3asC3asN2arC3asC3as; C3asC3asN2arC3asC3dc; C3asC3asN2arC3asC3sc; C3asC3asN2arC3asC4sc; C3asC3asN2arC3asN2sc; C3asC3asN2arC3asN3as; C3asC3asN2arC3asO2ar; C3asC3asN2arC3asO2sc; C3asC3asN2arC3asS2ar; C3asC3asN2arN2arC3as; C3asC3asN2arN3asC3as; C3asC3asN2arO2arC3as; C3asC3asN3asC2scC3dc; C3asC3asN3asC3asC3as; C3asC3asN3asC3asC4sc; C3asC3asN3asN2arC3as; C3asC3asO2arC3asC3as; C3asC3asO2arN2arC3as; C3asC3asO2srC2srO2sr; C3asC3asS2arC3asC3as; C3asC3asS2arC3asC3dc; C3asC3asS2arC3asC4sc; C3asC3asS2arC3asCl1sc; C3asC3asS2arC3asN2ar; C3asC3asS2arC3asN2sc; C3asC3asS2arC3asO2sc; C3asC3asS4wcC4scF1sc; C3asC3dcC3asC3asN3as; C3asC3dsC2srC4ssC4sc; C3asC3dsC3dsC2drC4ss; C3asC3dsC3dsC2srC4ss; C3asC3dsN2drC3ssC3as; C3asC3dsN2drC3ssC3ss; C3asC3dsS2srC3ssC3as; C3asC3dsS2srC3ssC3ss; C3asC3ssC3ssC3asS2ar; C3asC3ssC3ssN2drC3ds; C3asC3ssC3ssS2srC3ds; C3asC3ssN2drC3dsS2sr; C3asC3ssS2srC3dsN2dr; C3asN2arC2arC2arN2ar; C3asN2arC2arC2arN3as; C3asN2arC2arC3asS2ar; C3asN2arC3asC2arN3as; C3asN2arC3asC2arO2ar; C3asN2arC3asC2arS2ar; C3asN2arC3asC2dcO1dc; C3asN2arC3asC2scF1sc; C3asN2arC3asC2scN1sc; C3asN2arC3asC2scO1sc; C3asN2arC3asC2scO2sc; C3asN2arC3asC2scS2sc; C3asN2arC3asC2scS4wc; C3asN2arC3asC2tcN1tc; C3asN2arC3asC3asN2ar; C3asN2arC3asC3asN3as; C3asN2arC3asC3asS2ar; C3asN2arC3asC3dcO1dc; C3asN2arC3asC3dcO1sc; C3asN2arC3asC3dcO2sc; C3asN2arC3asC3scF1sc; C3asN2arC3asC4scF1sc; C3asN2arC3asN3asC3as; C3asN2arC3asS2arC3as; C3asN2arN2arC3asC4sc; C3asN2arN3asC2scC3dc; C3asN2arN3asC3asC3ds; C3asN2arN3asC3asC4sc; C3asN2scC3dcC2scN3as; C3asN2scC3dcC3asN2ar; C3asN3asC2arC2arN2ar; C3asN3asC2arC3asC3dc; C3asN3asC2arC3asC3sc; C3asN3asC2arC3asC4sc; C3asN3asC2arC3asN2ar; C3asN3asC2scC3dcN2sc; C3asN3asC2scC3dcO1dc; C3asN3asC2scC3dcO2sc; C3asN3asC3asC3asC3dc; C3asN3asC3asC3asC3sc; C3asN3asC3asC3asCl1sc; C3asN3asC3asC3asF1sc; C3asN3asC3asC3asN1sc; C3asN3asC3asC3asN2ar; C3asN3asC3asC3asN3dc; C3asN3asC3asC3asO1sc; C3asN3asC3asC3asO2ar; C3asN3asC3asC3asO2sc; C3asN3asC3asC3asS2ar; C3asN3asC3asC3asS4wc; C3asN3asC3asC4scF1sc; C3asN3asN2arC3asC3dc; C3asN3asN2arC3asC3sc; C3asN3asN2arC3asC4sc; C3asN3asN2arC3asO2sc; C3asO2arC2arC3asN2ar; C3asO2arC3asC3asN3as; C3asO2scC2scC3asN2ar; C3asO2scC3scC4scF1sc; C3asO2srC2srC2srO2sr; C3asO2srC2srO2srC3as; C3asS2arC2arC3asN2ar; C3asS2arC3asC2arN2ar; C3asS2arC3asC3asN2ar; C3asS2arC3asC3asN3as; C3asS2arC3asC3asS2ar; C3asS2arC3asC3dcO1dc; C3asS2arC3asC3dcO2sc; C3asS2arC3asC4scF1sc; C3asS2scC2scC3asN2ar; C3dcC2scC2scC3asN3as; C3dcC2scN3asC3asC4sc; C3dcC3asC2arC3asN3as; C3dcC3asC3asC3asN3as; C3dcC3asN2arC3asN3as; C3dsC2drC4ssC2drC3ds; C3dsC2srC2srC2srC3ds; C3dsC2srC3asC3asC3ds; C3dsC2srC4ssC2scF1sc; C3dsC2srC4ssC2srC3ds; C3dsC2srC4ssC4scF1sc; C3dsC3asC2arC3asC4sc; C3dsC3asC2arC3asCl1sc; C3dsC3asC2arC3asF1sc; C3dsC3asC2arC3asN2ar; C3dsC3asC2arC3asO2sr; C3dsC3dsC2srC4ssC4sc; C3dsC3dsC3asC3asCl1sc; C3dsC3dsC3asC3asF1sc; C3dsN2drC3ssC3asS2ar; C3dsN2drC3ssC3ssS2sr; C3dsS2srC3ssC3ssN2dr; C3scC3asC2arC3asN3as; C3scC3asN2arC3asN3as; C3ssC2srC2srC3ssF1sc; C3ssC2srC2srC3ssN3as; C3ssC3asC2arC2arS2ar; C3ssC3ssC3asC2arS2ar; C3ssC3ssN2drC3dsS2sr; C3ssC3ssS2srC3dsN2dr; C3ssN2drC3dsS2srC3ss; C4scC2scC3asC3asN3as; C4scC3asC2arC3asF1sc; C4scC3asC2arC3asN3as; C4scC3asC3asC3asN2ar; C4scC3asC3asC3asN3as; C4scC3asN2arC3asN3as; C4scC3dcC3asC3asN3as; C4scC3scC3asC3asN3as; C4scS4wcC3asC3asN3as; Cl1scC3asC2arC3asCl1sc; Cl1scC3asC2arC3asN2sc; Cl1scC3asC2arC3asN3as; Cl1scC3asC2arC3asO2sc; Cl1scC3asC2arN2arN3as; Cl1scC3asC3asC2scO1sc; Cl1scC3asC3asC2tcN1tc; Cl1scC3asC3asC3asCl1sc; Cl1scC3asC3asC3asN2ar; Cl1scC3asC3asC3asN3as; Cl1scC3asC3asC3asS2ar; Cl1scC3asC3asC3dcN1sc; Cl1scC3asC3asC3dcO1dc; Cl1scC3asC3asC3dcO1sc; Cl1scC3asC3asC3dcO2sc; Cl1scC3asC3asC3dsN2dr; Cl1scC3asC3asC3dsS2sr; Cl1scC3asC3asC4scF1sc; Cl1scC3asC3asN2arN3as; Cl1scC3asC3asN3asN2ar; Cl1scC3asC3asS4wcO1dc; F1scC2scC3asC2arN3as; F1scC2scC3asN2arN3as; F1scC2scC4ssC2scF1sc; F1scC3asC2arC3asF1sc; F1scC3asC2arC3asN3as; F1scC3asC2arC3asO2sc; F1scC3asC2arN2arN3as; F1scC3asC3asC3asF1sc; F1scC3asC3asC3asN2ar; F1scC3asC3asC3asN3as; F1scC3asC3asC4scF1sc; F1scC3asC3asN2arN3as; F1scC3asC3asN3asN2ar; F1scC3scC3asC2arN3as; F1scC3scC3asN2arN3as; F1scC4scC3asC2arN3as; F1scC4scC3asC3asO1sc; F1scC4scC3asC3asO2sc; F1scC4scC3asN2arN2ar; F1scC4scC3asN2arN3as; F1scC4scC3asN3asN2ar; F1scC4scC4ssC4scF1sc; N1scC2scC3asC2arN3as; N1scC3asC2arN2arN3as; N1scC3asC3asN3asN2ar; N1scC3dcC3asN2arN3as; N1scO2scC3dcC3asN2ar; N1tcC2tcC2scC3asN2ar; N1tcC2tcC2scC3asS2ar; N1tcC2tcC3asC2arN2ar; N1tcC2tcC3asC2arN3as; N1tcC2tcC3asC3asN3as; N1tcC2tcC3asN2arN3as; N2arC2arC2arC3asN3as; N2arC2arC3asC3asN2ar; N2arC2arC3asC3asN3as; N2arC2arC3asC3asS2ar; N2arC2arC3asN3dcO1dc; N2arC2arC3asN3dcO1sc; N2arC2arC3asS4wcO1dc; N2arC3asC2arC3asN3as; N2arC3asC2arC3asO2ar; N2arC3asC2scS4wcO1dc; N2arC3asC3asC2arN3as; N2arC3asC3asC2arO2ar; N2arC3asC3asC2arS2ar; N2arC3asC3asC3asN2ar; N2arC3asC3asC3asN3as; N2arC3asC3asC3asO2ar; N2arC3asC3asC3asO2sc; N2arC3asC3asC3asO2sr; N2arC3asC3asN2arO2ar; N2arC3asC3asN3asN2ar; N2arC3asC3dcO2scN3sc; N2arN3asC2scC3dcN2sc; N2arN3asC2scC3dcO1dc; N2arN3asC2scC3dcO2sc; N2arN3asC3asC3asN3dc; N2arN3asC3asC3asO1sc; N2arN3asC3asC3asO2ar; N2arN3asC3asC3asO2sc; N2arN3asC3asC3asS2ar; N2arN3asC3asC3asS4wc; N2arO2arC3asC2scO1sc; N2drC3ssC3asC2arS2ar; N2scC3dcC3asN2arN3as; N3asC2arC3asC2dcO1dc; N3asC2arC3asC2scO1sc; N3asC2arC3asC2scO2sc; N3asC2arC3asC2scS2sc; N3asC2arC3asC2scS4wc; N3asC2arC3asC3asN3as; N3asC2arC3asC3dcO1dc; N3asC2arC3asC3dcO1sc; N3asC2arC3asC3dcO2sc; N3asC3asC2arC3asO2sc; N3asC3asC2arC3asS4wc; N3asC3asC3asC2arO2ar; N3asC3asC3asC2arS2ar; N3asC3asC3asC2dcO1dc; N3asC3asC3asC2scN3sc; N3asC3asC3asC2scO1sc; N3asC3asC3asC2scO2sc; N3asC3asC3asC3asN3sc; N3asC3asC3asC3asO2sc; N3asC3asC3asC3asO2sr; N3asC3asC3asC3dcO1dc; N3asC3asC3asC3scO1sc; N3asC3asC3asC3scO2sc; N3asC3asC3asN2arO2ar; N3asC3asC3asN3dcO1dc; N3asC3asC3asN3dcO1sc; N3asC3asC3asS4wcO1dc; N3asN2arC2arC3asN3dc; N3asN2arC2arC3asS4wc; N3asN2arC3asC2scO1sc; N3asN2arC3asC2scO2sc; N3asN2arC3asC3asO1sc; N3asN2arC3asC3asO2sc; N3asN2arC3asC3asS2ar; N3asN2arC3asC3dcO1dc; N3asN2arC3asC3dcO1sc; N3asN2arC3asC3dcO2sc; S2arC3asC3ssC3ssS2sr; "
     ]
    }
   ],
   "source": [
    "for i in tab.keys():\n",
    "    print(i+\"; \",end=\"\")"
   ]
  },
  {
   "cell_type": "code",
   "execution_count": 28,
   "metadata": {},
   "outputs": [],
   "source": [
    "rnd.seed(0)"
   ]
  },
  {
   "cell_type": "code",
   "execution_count": 29,
   "metadata": {},
   "outputs": [
    {
     "data": {
      "text/plain": [
       "(467, 2024)"
      ]
     },
     "execution_count": 29,
     "metadata": {},
     "output_type": "execute_result"
    }
   ],
   "source": [
    "tab = tab.drop(\"key\",axis=1)\n",
    "tab.shape"
   ]
  },
  {
   "cell_type": "code",
   "execution_count": 30,
   "metadata": {},
   "outputs": [
    {
     "data": {
      "text/html": [
       "<div>\n",
       "<style scoped>\n",
       "    .dataframe tbody tr th:only-of-type {\n",
       "        vertical-align: middle;\n",
       "    }\n",
       "\n",
       "    .dataframe tbody tr th {\n",
       "        vertical-align: top;\n",
       "    }\n",
       "\n",
       "    .dataframe thead th {\n",
       "        text-align: right;\n",
       "    }\n",
       "</style>\n",
       "<table border=\"1\" class=\"dataframe\">\n",
       "  <thead>\n",
       "    <tr style=\"text-align: right;\">\n",
       "      <th></th>\n",
       "      <th>Br1scC3as</th>\n",
       "      <th>C1dcC2dc</th>\n",
       "      <th>C1scC2sc</th>\n",
       "      <th>C1scC3as</th>\n",
       "      <th>C1scC3dc</th>\n",
       "      <th>C1scC4sc</th>\n",
       "      <th>C1scC4ss</th>\n",
       "      <th>C1scN2sc</th>\n",
       "      <th>C1scN3as</th>\n",
       "      <th>C1scN3sc</th>\n",
       "      <th>...</th>\n",
       "      <th>N3asN2arC2arC3asS4wc</th>\n",
       "      <th>N3asN2arC3asC2scO1sc</th>\n",
       "      <th>N3asN2arC3asC2scO2sc</th>\n",
       "      <th>N3asN2arC3asC3asO1sc</th>\n",
       "      <th>N3asN2arC3asC3asO2sc</th>\n",
       "      <th>N3asN2arC3asC3asS2ar</th>\n",
       "      <th>N3asN2arC3asC3dcO1dc</th>\n",
       "      <th>N3asN2arC3asC3dcO1sc</th>\n",
       "      <th>N3asN2arC3asC3dcO2sc</th>\n",
       "      <th>S2arC3asC3ssC3ssS2sr</th>\n",
       "    </tr>\n",
       "  </thead>\n",
       "  <tbody>\n",
       "    <tr>\n",
       "      <th>0</th>\n",
       "      <td>0.0</td>\n",
       "      <td>0.0</td>\n",
       "      <td>0.0</td>\n",
       "      <td>1.0</td>\n",
       "      <td>0.0</td>\n",
       "      <td>0.0</td>\n",
       "      <td>0.0</td>\n",
       "      <td>0.0</td>\n",
       "      <td>0.0</td>\n",
       "      <td>0.0</td>\n",
       "      <td>...</td>\n",
       "      <td>0.0</td>\n",
       "      <td>0.0</td>\n",
       "      <td>0.0</td>\n",
       "      <td>0.0</td>\n",
       "      <td>0.0</td>\n",
       "      <td>0.0</td>\n",
       "      <td>0.0</td>\n",
       "      <td>0.0</td>\n",
       "      <td>0.0</td>\n",
       "      <td>0.0</td>\n",
       "    </tr>\n",
       "    <tr>\n",
       "      <th>1</th>\n",
       "      <td>0.0</td>\n",
       "      <td>0.0</td>\n",
       "      <td>0.0</td>\n",
       "      <td>0.0</td>\n",
       "      <td>0.0</td>\n",
       "      <td>0.0</td>\n",
       "      <td>0.0</td>\n",
       "      <td>0.0</td>\n",
       "      <td>0.0</td>\n",
       "      <td>0.0</td>\n",
       "      <td>...</td>\n",
       "      <td>0.0</td>\n",
       "      <td>0.0</td>\n",
       "      <td>0.0</td>\n",
       "      <td>0.0</td>\n",
       "      <td>0.0</td>\n",
       "      <td>0.0</td>\n",
       "      <td>0.0</td>\n",
       "      <td>0.0</td>\n",
       "      <td>0.0</td>\n",
       "      <td>0.0</td>\n",
       "    </tr>\n",
       "    <tr>\n",
       "      <th>2</th>\n",
       "      <td>0.0</td>\n",
       "      <td>0.0</td>\n",
       "      <td>0.0</td>\n",
       "      <td>0.0</td>\n",
       "      <td>0.0</td>\n",
       "      <td>0.0</td>\n",
       "      <td>0.0</td>\n",
       "      <td>0.0</td>\n",
       "      <td>0.0</td>\n",
       "      <td>0.0</td>\n",
       "      <td>...</td>\n",
       "      <td>0.0</td>\n",
       "      <td>0.0</td>\n",
       "      <td>0.0</td>\n",
       "      <td>0.0</td>\n",
       "      <td>0.0</td>\n",
       "      <td>0.0</td>\n",
       "      <td>0.0</td>\n",
       "      <td>0.0</td>\n",
       "      <td>0.0</td>\n",
       "      <td>0.0</td>\n",
       "    </tr>\n",
       "    <tr>\n",
       "      <th>3</th>\n",
       "      <td>0.0</td>\n",
       "      <td>0.0</td>\n",
       "      <td>0.0</td>\n",
       "      <td>1.0</td>\n",
       "      <td>0.0</td>\n",
       "      <td>0.0</td>\n",
       "      <td>0.0</td>\n",
       "      <td>0.0</td>\n",
       "      <td>0.0</td>\n",
       "      <td>0.0</td>\n",
       "      <td>...</td>\n",
       "      <td>0.0</td>\n",
       "      <td>0.0</td>\n",
       "      <td>0.0</td>\n",
       "      <td>0.0</td>\n",
       "      <td>0.0</td>\n",
       "      <td>0.0</td>\n",
       "      <td>0.0</td>\n",
       "      <td>0.0</td>\n",
       "      <td>0.0</td>\n",
       "      <td>0.0</td>\n",
       "    </tr>\n",
       "    <tr>\n",
       "      <th>4</th>\n",
       "      <td>0.0</td>\n",
       "      <td>0.0</td>\n",
       "      <td>0.0</td>\n",
       "      <td>1.0</td>\n",
       "      <td>0.0</td>\n",
       "      <td>0.0</td>\n",
       "      <td>0.0</td>\n",
       "      <td>0.0</td>\n",
       "      <td>0.0</td>\n",
       "      <td>0.0</td>\n",
       "      <td>...</td>\n",
       "      <td>0.0</td>\n",
       "      <td>0.0</td>\n",
       "      <td>0.0</td>\n",
       "      <td>0.0</td>\n",
       "      <td>0.0</td>\n",
       "      <td>0.0</td>\n",
       "      <td>0.0</td>\n",
       "      <td>0.0</td>\n",
       "      <td>0.0</td>\n",
       "      <td>0.0</td>\n",
       "    </tr>\n",
       "  </tbody>\n",
       "</table>\n",
       "<p>5 rows × 2024 columns</p>\n",
       "</div>"
      ],
      "text/plain": [
       "   Br1scC3as  C1dcC2dc  C1scC2sc  C1scC3as  C1scC3dc  C1scC4sc  C1scC4ss  \\\n",
       "0        0.0       0.0       0.0       1.0       0.0       0.0       0.0   \n",
       "1        0.0       0.0       0.0       0.0       0.0       0.0       0.0   \n",
       "2        0.0       0.0       0.0       0.0       0.0       0.0       0.0   \n",
       "3        0.0       0.0       0.0       1.0       0.0       0.0       0.0   \n",
       "4        0.0       0.0       0.0       1.0       0.0       0.0       0.0   \n",
       "\n",
       "   C1scN2sc  C1scN3as  C1scN3sc  ...  N3asN2arC2arC3asS4wc  \\\n",
       "0       0.0       0.0       0.0  ...                   0.0   \n",
       "1       0.0       0.0       0.0  ...                   0.0   \n",
       "2       0.0       0.0       0.0  ...                   0.0   \n",
       "3       0.0       0.0       0.0  ...                   0.0   \n",
       "4       0.0       0.0       0.0  ...                   0.0   \n",
       "\n",
       "   N3asN2arC3asC2scO1sc  N3asN2arC3asC2scO2sc  N3asN2arC3asC3asO1sc  \\\n",
       "0                   0.0                   0.0                   0.0   \n",
       "1                   0.0                   0.0                   0.0   \n",
       "2                   0.0                   0.0                   0.0   \n",
       "3                   0.0                   0.0                   0.0   \n",
       "4                   0.0                   0.0                   0.0   \n",
       "\n",
       "   N3asN2arC3asC3asO2sc  N3asN2arC3asC3asS2ar  N3asN2arC3asC3dcO1dc  \\\n",
       "0                   0.0                   0.0                   0.0   \n",
       "1                   0.0                   0.0                   0.0   \n",
       "2                   0.0                   0.0                   0.0   \n",
       "3                   0.0                   0.0                   0.0   \n",
       "4                   0.0                   0.0                   0.0   \n",
       "\n",
       "   N3asN2arC3asC3dcO1sc  N3asN2arC3asC3dcO2sc  S2arC3asC3ssC3ssS2sr  \n",
       "0                   0.0                   0.0                   0.0  \n",
       "1                   0.0                   0.0                   0.0  \n",
       "2                   0.0                   0.0                   0.0  \n",
       "3                   0.0                   0.0                   0.0  \n",
       "4                   0.0                   0.0                   0.0  \n",
       "\n",
       "[5 rows x 2024 columns]"
      ]
     },
     "execution_count": 30,
     "metadata": {},
     "output_type": "execute_result"
    }
   ],
   "source": [
    "tab.head()"
   ]
  },
  {
   "cell_type": "code",
   "execution_count": 31,
   "metadata": {},
   "outputs": [],
   "source": [
    "y = pd.read_csv(\"data_varvara/cox2/cox2_y.csv\")"
   ]
  },
  {
   "cell_type": "code",
   "execution_count": 32,
   "metadata": {},
   "outputs": [],
   "source": [
    "y = np.array(y)"
   ]
  },
  {
   "cell_type": "code",
   "execution_count": 33,
   "metadata": {},
   "outputs": [],
   "source": [
    "r = []\n",
    "for i in y:\n",
    "    s = i[0]\n",
    "    s = re.sub('inf', '1_000_000_000', str(s))\n",
    "    r.append(ast.literal_eval(s))"
   ]
  },
  {
   "cell_type": "code",
   "execution_count": 34,
   "metadata": {},
   "outputs": [],
   "source": [
    "y = np.array(r)\n",
    "for i in range(y.shape[0]):\n",
    "    if y[i,1] == 1_000_000_000:\n",
    "        y[i,1] = np.inf"
   ]
  },
  {
   "cell_type": "code",
   "execution_count": 35,
   "metadata": {},
   "outputs": [],
   "source": [
    "X = np.array(tab)"
   ]
  },
  {
   "cell_type": "code",
   "execution_count": 36,
   "metadata": {},
   "outputs": [],
   "source": [
    "X = TfidfTransformer().fit_transform(X)"
   ]
  },
  {
   "cell_type": "code",
   "execution_count": 37,
   "metadata": {},
   "outputs": [],
   "source": [
    "X = X.todense()"
   ]
  },
  {
   "cell_type": "code",
   "execution_count": 38,
   "metadata": {},
   "outputs": [],
   "source": [
    "my_pca = PCA(20)"
   ]
  },
  {
   "cell_type": "code",
   "execution_count": 39,
   "metadata": {},
   "outputs": [],
   "source": [
    "X_pca = my_pca.fit_transform(X)"
   ]
  },
  {
   "cell_type": "code",
   "execution_count": 40,
   "metadata": {
    "scrolled": true
   },
   "outputs": [
    {
     "data": {
      "text/plain": [
       "<matplotlib.collections.PathCollection at 0x7f6127156950>"
      ]
     },
     "execution_count": 40,
     "metadata": {},
     "output_type": "execute_result"
    },
    {
     "data": {
      "image/png": "[encoded data removed]",
      "text/plain": [
       "<Figure size 432x288 with 1 Axes>"
      ]
     },
     "metadata": {
      "needs_background": "light"
     },
     "output_type": "display_data"
    }
   ],
   "source": [
    "plt.scatter(X_pca[:,0], X_pca[:,1])\n"
   ]
  },
  {
   "cell_type": "code",
   "execution_count": null,
   "metadata": {},
   "outputs": [],
   "source": []
  },
  {
   "cell_type": "code",
   "execution_count": 41,
   "metadata": {},
   "outputs": [],
   "source": [
    "my_tsne = TSNE()\n",
    "X_tsne = my_tsne.fit_transform(X)"
   ]
  },
  {
   "cell_type": "code",
   "execution_count": 42,
   "metadata": {},
   "outputs": [
    {
     "data": {
      "text/plain": [
       "<matplotlib.collections.PathCollection at 0x7f61276f3590>"
      ]
     },
     "execution_count": 42,
     "metadata": {},
     "output_type": "execute_result"
    },
    {
     "data": {
      "image/png": "[encoded data removed]",
      "text/plain": [
       "<Figure size 432x288 with 1 Axes>"
      ]
     },
     "metadata": {
      "needs_background": "light"
     },
     "output_type": "display_data"
    }
   ],
   "source": [
    "plt.scatter(X_tsne[:, 0], X_tsne[:, 1])"
   ]
  },
  {
   "cell_type": "markdown",
   "metadata": {},
   "source": [
    "# AGGL\n"
   ]
  },
  {
   "cell_type": "code",
   "execution_count": 76,
   "metadata": {},
   "outputs": [],
   "source": [
    "aggl = AgglomerativeClustering(n_clusters=7, linkage=\"complete\", affinity=\"cosine\")"
   ]
  },
  {
   "cell_type": "code",
   "execution_count": 77,
   "metadata": {},
   "outputs": [],
   "source": [
    "res = aggl.fit_predict(X_tsne)\n",
    "cluster_structure = res"
   ]
  },
  {
   "cell_type": "code",
   "execution_count": 78,
   "metadata": {},
   "outputs": [
    {
     "data": {
      "text/plain": [
       "<matplotlib.collections.PathCollection at 0x7f61271df390>"
      ]
     },
     "execution_count": 78,
     "metadata": {},
     "output_type": "execute_result"
    },
    {
     "data": {
      "image/png": "[encoded data removed]",
      "text/plain": [
       "<Figure size 432x288 with 1 Axes>"
      ]
     },
     "metadata": {
      "needs_background": "light"
     },
     "output_type": "display_data"
    }
   ],
   "source": [
    "plt.scatter(X_tsne[:, 0], X_tsne[:, 1], c=res, cmap=plt.cm.Paired)"
   ]
  },
  {
   "cell_type": "code",
   "execution_count": 79,
   "metadata": {},
   "outputs": [
    {
     "data": {
      "text/plain": [
       "<matplotlib.collections.PathCollection at 0x7f6124dccf90>"
      ]
     },
     "execution_count": 79,
     "metadata": {},
     "output_type": "execute_result"
    },
    {
     "data": {
      "image/png": "[encoded data removed]",
      "text/plain": [
       "<Figure size 432x288 with 1 Axes>"
      ]
     },
     "metadata": {
      "needs_background": "light"
     },
     "output_type": "display_data"
    }
   ],
   "source": [
    "plt.scatter(X_pca[:,0], X_pca[:,1], c=res, cmap=plt.cm.Paired)"
   ]
  },
  {
   "cell_type": "code",
   "execution_count": 80,
   "metadata": {},
   "outputs": [
    {
     "data": {
      "text/plain": [
       "0.13633831706228536"
      ]
     },
     "execution_count": 80,
     "metadata": {},
     "output_type": "execute_result"
    }
   ],
   "source": [
    "silhouette_score(X,res)"
   ]
  },
  {
   "cell_type": "code",
   "execution_count": 81,
   "metadata": {},
   "outputs": [],
   "source": [
    "mdl = Ridge(3)"
   ]
  },
  {
   "cell_type": "code",
   "execution_count": 82,
   "metadata": {},
   "outputs": [
    {
     "name": "stdout",
     "output_type": "stream",
     "text": [
      "Значения ошибок на 1-ом кластере размера 78\n",
      "\n",
      "MSE 1534.7247\n",
      "\n",
      "MAE 32.2372\n",
      "\n",
      "\\(R^2\\) 0.0225\n",
      "\n",
      "\\bigskip\n",
      "\n",
      "Значения ошибок на 2-ом кластере размера 119\n",
      "\n",
      "MSE 898.2617\n",
      "\n",
      "MAE 20.2616\n",
      "\n",
      "\\(R^2\\) 0.0863\n",
      "\n",
      "\\bigskip\n",
      "\n",
      "Значения ошибок на 3-ом кластере размера 106\n",
      "\n",
      "MSE 855.4287\n",
      "\n",
      "MAE 18.1395\n",
      "\n",
      "\\(R^2\\) 0.0168\n",
      "\n",
      "\\bigskip\n",
      "\n",
      "Значения ошибок на 4-ом кластере размера 100\n",
      "\n",
      "MSE 663.8516\n",
      "\n",
      "MAE 13.7635\n",
      "\n",
      "\\(R^2\\) -0.0316\n",
      "\n",
      "\\bigskip\n",
      "\n",
      "Значения ошибок на 5-ом кластере размера 25\n",
      "\n",
      "MSE 1359.968\n",
      "\n",
      "MAE 29.4434\n",
      "\n",
      "\\(R^2\\) 0.2329\n",
      "\n",
      "\\bigskip\n",
      "\n",
      "Значения ошибок на 6-ом кластере размера 36\n",
      "\n",
      "MSE 1388.6744\n",
      "\n",
      "MAE 31.4506\n",
      "\n",
      "\\(R^2\\) 0.0393\n",
      "\n",
      "\\bigskip\n",
      "\n",
      "Значения ошибок на 7-ом кластере размера 3\n",
      "\n",
      "MSE 0.0335\n",
      "\n",
      "MAE 0.1582\n",
      "\n",
      "\\(R^2\\) -1.1835\n",
      "\n",
      "\\bigskip\n",
      "\n",
      "\\bigskip\n",
      "\n",
      "\\textbf{ИТОГОВЫЕ ОШИБКИ НА ВСЕЙ ВЫБОРКЕ:}\n",
      "\n",
      "MSE 1001.0\n",
      "\n",
      "MAE 21.6136\n",
      "\n",
      "\\(R^2\\) 0.0863\n",
      "\n",
      "\\bigskip\n"
     ]
    }
   ],
   "source": [
    "y_new = []\n",
    "ans_all = []\n",
    "iterat = 1 \n",
    "for i in np.unique(cluster_structure):\n",
    "    if i == -1:\n",
    "        continue\n",
    "    X_in_clust = X[np.where(res==i)[0],:]\n",
    "    y_in_clust = y[np.where(res==i)[0],0]\n",
    "    ans = []\n",
    "    \n",
    "    for train_index, test_index in KFold(min(10, X_in_clust.shape[0])).split(X_in_clust):\n",
    "        \n",
    "        \n",
    "        X_train = X_in_clust[train_index, :]\n",
    "        y_train = y_in_clust[train_index]\n",
    "\n",
    "        X_test = X_in_clust[test_index, :]\n",
    "        y_test = y_in_clust[test_index]\n",
    "        \n",
    "        \n",
    "        mdl.fit(X_train, y_train)\n",
    "        for j in mdl.predict(X_test):\n",
    "            ans.append(j)\n",
    "        for j in mdl.predict(X_test):\n",
    "            ans_all.append(j)\n",
    "        for j in y_test:\n",
    "            y_new.append(j)\n",
    "    print (\"Значения ошибок на \" + str(iterat) + \"-ом кластере размера \" + str(X_in_clust.shape[0]))\n",
    "    print()\n",
    "    print(\"MSE \" + str(round(MSE(ans,y_in_clust[:]),4)))\n",
    "    print()\n",
    "    print(\"MAE \" + str(round(MAE(ans,y_in_clust[:]),4)))\n",
    "    print()\n",
    "    print(\"\\\\(R^2\\\\) \" + str(round(r2_score(y_in_clust[:], ans),4)))\n",
    "    print()\n",
    "    print(\"\\\\bigskip\")\n",
    "    print()\n",
    "    iterat+=1\n",
    "print(\"\\\\bigskip\")\n",
    "print()\n",
    "print(\"\\\\textbf{ИТОГОВЫЕ ОШИБКИ НА ВСЕЙ ВЫБОРКЕ:}\")\n",
    "print()\n",
    "print(\"MSE \" + str(round(MSE(ans_all,y_new[:]))))\n",
    "print()\n",
    "print(\"MAE \" + str(round(MAE(ans_all,y_new[:]),4)))\n",
    "print()\n",
    "print(\"\\\\(R^2\\\\) \" + str(round(r2_score(y_new[:], ans_all),4)))\n",
    "print()\n",
    "print(\"\\\\bigskip\")"
   ]
  },
  {
   "cell_type": "markdown",
   "metadata": {},
   "source": [
    "# AGGL"
   ]
  },
  {
   "cell_type": "code",
   "execution_count": 83,
   "metadata": {},
   "outputs": [],
   "source": [
    "aggl = AgglomerativeClustering(n_clusters=5, linkage=\"average\", affinity=\"manhattan\")"
   ]
  },
  {
   "cell_type": "code",
   "execution_count": 84,
   "metadata": {},
   "outputs": [],
   "source": [
    "res = aggl.fit_predict(X)\n",
    "cluster_structure = res"
   ]
  },
  {
   "cell_type": "code",
   "execution_count": 86,
   "metadata": {},
   "outputs": [
    {
     "data": {
      "text/plain": [
       "<matplotlib.collections.PathCollection at 0x7f6124db99d0>"
      ]
     },
     "execution_count": 86,
     "metadata": {},
     "output_type": "execute_result"
    },
    {
     "data": {
      "image/png": "[encoded data removed]",
      "text/plain": [
       "<Figure size 432x288 with 1 Axes>"
      ]
     },
     "metadata": {
      "needs_background": "light"
     },
     "output_type": "display_data"
    }
   ],
   "source": [
    "plt.scatter(X_tsne[:, 0], X_tsne[:, 1], c=res, cmap=plt.cm.Paired)"
   ]
  },
  {
   "cell_type": "code",
   "execution_count": 87,
   "metadata": {},
   "outputs": [
    {
     "data": {
      "text/plain": [
       "<matplotlib.collections.PathCollection at 0x7f6124d28690>"
      ]
     },
     "execution_count": 87,
     "metadata": {},
     "output_type": "execute_result"
    },
    {
     "data": {
      "image/png": "[encoded data removed]",
      "text/plain": [
       "<Figure size 432x288 with 1 Axes>"
      ]
     },
     "metadata": {
      "needs_background": "light"
     },
     "output_type": "display_data"
    }
   ],
   "source": [
    "plt.scatter(X_pca[:,0], X_pca[:,1], c=res, cmap=plt.cm.Paired)"
   ]
  },
  {
   "cell_type": "code",
   "execution_count": 88,
   "metadata": {},
   "outputs": [
    {
     "data": {
      "text/plain": [
       "0.1509072811004872"
      ]
     },
     "execution_count": 88,
     "metadata": {},
     "output_type": "execute_result"
    }
   ],
   "source": [
    "silhouette_score(X,res)"
   ]
  },
  {
   "cell_type": "code",
   "execution_count": 90,
   "metadata": {},
   "outputs": [
    {
     "name": "stdout",
     "output_type": "stream",
     "text": [
      "Значения ошибок на 1-ом кластере размера 78\n",
      "\n",
      "MSE 519.0265\n",
      "\n",
      "MAE 10.8979\n",
      "\n",
      "\\(R^2\\) -0.0759\n",
      "\n",
      "\\bigskip\n",
      "\n",
      "Значения ошибок на 2-ом кластере размера 248\n",
      "\n",
      "MSE 1239.4402\n",
      "\n",
      "MAE 27.3444\n",
      "\n",
      "\\(R^2\\) 0.1014\n",
      "\n",
      "\\bigskip\n",
      "\n",
      "Значения ошибок на 3-ом кластере размера 2\n",
      "\n",
      "MSE 0.0005\n",
      "\n",
      "MAE 0.022\n",
      "\n",
      "\\(R^2\\) -3.0\n",
      "\n",
      "\\bigskip\n",
      "\n",
      "Значения ошибок на 4-ом кластере размера 138\n",
      "\n",
      "MSE 823.1442\n",
      "\n",
      "MAE 18.1465\n",
      "\n",
      "\\(R^2\\) 0.0524\n",
      "\n",
      "\\bigskip\n",
      "\n",
      "\\bigskip\n",
      "\n",
      "\\textbf{ИТОГОВЫЕ ОШИБКИ НА ВСЕЙ ВЫБОРКЕ:}\n",
      "\n",
      "MSE 990.0\n",
      "\n",
      "MAE 21.7505\n",
      "\n",
      "\\(R^2\\) 0.098\n",
      "\n",
      "\\bigskip\n"
     ]
    }
   ],
   "source": [
    "y_new = []\n",
    "ans_all = []\n",
    "iterat = 1 \n",
    "for i in np.unique(cluster_structure):\n",
    "    if i == -1:\n",
    "        continue\n",
    "    X_in_clust = X[np.where(res==i)[0],:]\n",
    "    y_in_clust = y[np.where(res==i)[0],0]\n",
    "    if X_in_clust.shape[0] == 1:\n",
    "        continue\n",
    "    ans = []\n",
    "    \n",
    "    for train_index, test_index in KFold(min(10, X_in_clust.shape[0])).split(X_in_clust):\n",
    "        \n",
    "        \n",
    "        X_train = X_in_clust[train_index, :]\n",
    "        y_train = y_in_clust[train_index]\n",
    "\n",
    "        X_test = X_in_clust[test_index, :]\n",
    "        y_test = y_in_clust[test_index]\n",
    "        \n",
    "        \n",
    "        mdl.fit(X_train, y_train)\n",
    "        for j in mdl.predict(X_test):\n",
    "            ans.append(j)\n",
    "        for j in mdl.predict(X_test):\n",
    "            ans_all.append(j)\n",
    "        for j in y_test:\n",
    "            y_new.append(j)\n",
    "    print (\"Значения ошибок на \" + str(iterat) + \"-ом кластере размера \" + str(X_in_clust.shape[0]))\n",
    "    print()\n",
    "    print(\"MSE \" + str(round(MSE(ans,y_in_clust[:]),4)))\n",
    "    print()\n",
    "    print(\"MAE \" + str(round(MAE(ans,y_in_clust[:]),4)))\n",
    "    print()\n",
    "    print(\"\\\\(R^2\\\\) \" + str(round(r2_score(y_in_clust[:], ans),4)))\n",
    "    print()\n",
    "    print(\"\\\\bigskip\")\n",
    "    print()\n",
    "    iterat+=1\n",
    "print(\"\\\\bigskip\")\n",
    "print()\n",
    "print(\"\\\\textbf{ИТОГОВЫЕ ОШИБКИ НА ВСЕЙ ВЫБОРКЕ:}\")\n",
    "print()\n",
    "print(\"MSE \" + str(round(MSE(ans_all,y_new[:]))))\n",
    "print()\n",
    "print(\"MAE \" + str(round(MAE(ans_all,y_new[:]),4)))\n",
    "print()\n",
    "print(\"\\\\(R^2\\\\) \" + str(round(r2_score(y_new[:], ans_all),4)))\n",
    "print()\n",
    "print(\"\\\\bigskip\")"
   ]
  },
  {
   "cell_type": "markdown",
   "metadata": {},
   "source": [
    "# DBSCAN"
   ]
  },
  {
   "cell_type": "code",
   "execution_count": 91,
   "metadata": {},
   "outputs": [],
   "source": [
    "dbscan = DBSCAN(eps=0.04, min_samples=7, metric=\"cosine\")"
   ]
  },
  {
   "cell_type": "code",
   "execution_count": 92,
   "metadata": {},
   "outputs": [],
   "source": [
    "res = dbscan.fit_predict(X_tsne)\n",
    "cluster_structure = res"
   ]
  },
  {
   "cell_type": "code",
   "execution_count": 93,
   "metadata": {},
   "outputs": [
    {
     "data": {
      "text/plain": [
       "<matplotlib.collections.PathCollection at 0x7f6117b13c90>"
      ]
     },
     "execution_count": 93,
     "metadata": {},
     "output_type": "execute_result"
    },
    {
     "data": {
      "image/png": "[encoded data removed]",
      "text/plain": [
       "<Figure size 432x288 with 1 Axes>"
      ]
     },
     "metadata": {
      "needs_background": "light"
     },
     "output_type": "display_data"
    }
   ],
   "source": [
    "plt.scatter(X_tsne[:, 0], X_tsne[:, 1], c=res, cmap=plt.cm.Paired)"
   ]
  },
  {
   "cell_type": "code",
   "execution_count": 94,
   "metadata": {},
   "outputs": [
    {
     "data": {
      "text/plain": [
       "<matplotlib.collections.PathCollection at 0x7f6117840fd0>"
      ]
     },
     "execution_count": 94,
     "metadata": {},
     "output_type": "execute_result"
    },
    {
     "data": {
      "image/png": "[encoded data removed]",
      "text/plain": [
       "<Figure size 432x288 with 1 Axes>"
      ]
     },
     "metadata": {
      "needs_background": "light"
     },
     "output_type": "display_data"
    }
   ],
   "source": [
    "plt.scatter(X_pca[:,0], X_pca[:,1], c=res, cmap=plt.cm.Paired)"
   ]
  },
  {
   "cell_type": "code",
   "execution_count": 95,
   "metadata": {},
   "outputs": [
    {
     "data": {
      "text/plain": [
       "0.10305388910517926"
      ]
     },
     "execution_count": 95,
     "metadata": {},
     "output_type": "execute_result"
    }
   ],
   "source": [
    "silhouette_score(X,res)"
   ]
  },
  {
   "cell_type": "code",
   "execution_count": 96,
   "metadata": {},
   "outputs": [
    {
     "name": "stdout",
     "output_type": "stream",
     "text": [
      "Значения ошибок на 1-ом кластере размера 214\n",
      "\n",
      "MSE 1122.1079\n",
      "\n",
      "MAE 24.183\n",
      "\n",
      "\\(R^2\\) 0.0485\n",
      "\n",
      "\\bigskip\n",
      "\n",
      "Значения ошибок на 2-ом кластере размера 144\n",
      "\n",
      "MSE 953.4561\n",
      "\n",
      "MAE 21.248\n",
      "\n",
      "\\(R^2\\) 0.1623\n",
      "\n",
      "\\bigskip\n",
      "\n",
      "Значения ошибок на 3-ом кластере размера 106\n",
      "\n",
      "MSE 855.4287\n",
      "\n",
      "MAE 18.1395\n",
      "\n",
      "\\(R^2\\) 0.0168\n",
      "\n",
      "\\bigskip\n",
      "\n",
      "\\bigskip\n",
      "\n",
      "\\textbf{ИТОГОВЫЕ ОШИБКИ НА ВСЕЙ ВЫБОРКЕ:}\n",
      "\n",
      "MSE 1009.0\n",
      "\n",
      "MAE 21.8915\n",
      "\n",
      "\\(R^2\\) 0.0843\n",
      "\n",
      "\\bigskip\n"
     ]
    }
   ],
   "source": [
    "y_new = []\n",
    "ans_all = []\n",
    "iterat = 1 \n",
    "for i in np.unique(cluster_structure):\n",
    "    if i == -1:\n",
    "        continue\n",
    "    X_in_clust = X[np.where(res==i)[0],:]\n",
    "    y_in_clust = y[np.where(res==i)[0],0]\n",
    "    if X_in_clust.shape[0] == 1:\n",
    "        continue\n",
    "    ans = []\n",
    "    \n",
    "    for train_index, test_index in KFold(min(10, X_in_clust.shape[0])).split(X_in_clust):\n",
    "        \n",
    "        \n",
    "        X_train = X_in_clust[train_index, :]\n",
    "        y_train = y_in_clust[train_index]\n",
    "\n",
    "        X_test = X_in_clust[test_index, :]\n",
    "        y_test = y_in_clust[test_index]\n",
    "        \n",
    "        \n",
    "        mdl.fit(X_train, y_train)\n",
    "        for j in mdl.predict(X_test):\n",
    "            ans.append(j)\n",
    "        for j in mdl.predict(X_test):\n",
    "            ans_all.append(j)\n",
    "        for j in y_test:\n",
    "            y_new.append(j)\n",
    "    print (\"Значения ошибок на \" + str(iterat) + \"-ом кластере размера \" + str(X_in_clust.shape[0]))\n",
    "    print()\n",
    "    print(\"MSE \" + str(round(MSE(ans,y_in_clust[:]),4)))\n",
    "    print()\n",
    "    print(\"MAE \" + str(round(MAE(ans,y_in_clust[:]),4)))\n",
    "    print()\n",
    "    print(\"\\\\(R^2\\\\) \" + str(round(r2_score(y_in_clust[:], ans),4)))\n",
    "    print()\n",
    "    print(\"\\\\bigskip\")\n",
    "    print()\n",
    "    iterat+=1\n",
    "print(\"\\\\bigskip\")\n",
    "print()\n",
    "print(\"\\\\textbf{ИТОГОВЫЕ ОШИБКИ НА ВСЕЙ ВЫБОРКЕ:}\")\n",
    "print()\n",
    "print(\"MSE \" + str(round(MSE(ans_all,y_new[:]))))\n",
    "print()\n",
    "print(\"MAE \" + str(round(MAE(ans_all,y_new[:]),4)))\n",
    "print()\n",
    "print(\"\\\\(R^2\\\\) \" + str(round(r2_score(y_new[:], ans_all),4)))\n",
    "print()\n",
    "print(\"\\\\bigskip\")"
   ]
  },
  {
   "cell_type": "code",
   "execution_count": null,
   "metadata": {},
   "outputs": [],
   "source": []
  },
  {
   "cell_type": "code",
   "execution_count": null,
   "metadata": {},
   "outputs": [],
   "source": []
  },
  {
   "cell_type": "markdown",
   "metadata": {},
   "source": [
    "# DBSCAN"
   ]
  },
  {
   "cell_type": "code",
   "execution_count": 225,
   "metadata": {},
   "outputs": [],
   "source": [
    "dbscan = DBSCAN(eps=0.83, min_samples=3, metric=\"euclidean\")"
   ]
  },
  {
   "cell_type": "code",
   "execution_count": 226,
   "metadata": {},
   "outputs": [],
   "source": [
    "res = dbscan.fit_predict(X)\n",
    "cluster_structure = res"
   ]
  },
  {
   "cell_type": "code",
   "execution_count": 227,
   "metadata": {},
   "outputs": [
    {
     "data": {
      "text/plain": [
       "<matplotlib.collections.PathCollection at 0x7f6116652ed0>"
      ]
     },
     "execution_count": 227,
     "metadata": {},
     "output_type": "execute_result"
    },
    {
     "data": {
      "image/png": "[encoded data removed]",
      "text/plain": [
       "<Figure size 432x288 with 1 Axes>"
      ]
     },
     "metadata": {
      "needs_background": "light"
     },
     "output_type": "display_data"
    }
   ],
   "source": [
    "plt.scatter(X_tsne[:, 0], X_tsne[:, 1], c=res, cmap=plt.cm.Paired)"
   ]
  },
  {
   "cell_type": "code",
   "execution_count": 228,
   "metadata": {},
   "outputs": [
    {
     "data": {
      "text/plain": [
       "<matplotlib.collections.PathCollection at 0x7f61165c2cd0>"
      ]
     },
     "execution_count": 228,
     "metadata": {},
     "output_type": "execute_result"
    },
    {
     "data": {
      "image/png": "[encoded data removed]",
      "text/plain": [
       "<Figure size 432x288 with 1 Axes>"
      ]
     },
     "metadata": {
      "needs_background": "light"
     },
     "output_type": "display_data"
    }
   ],
   "source": [
    "plt.scatter(X_pca[:,0], X_pca[:,1], c=res, cmap=plt.cm.Paired)"
   ]
  },
  {
   "cell_type": "code",
   "execution_count": 229,
   "metadata": {},
   "outputs": [
    {
     "data": {
      "text/plain": [
       "0.11525922320238854"
      ]
     },
     "execution_count": 229,
     "metadata": {},
     "output_type": "execute_result"
    }
   ],
   "source": [
    "silhouette_score(X,res)"
   ]
  },
  {
   "cell_type": "code",
   "execution_count": 230,
   "metadata": {},
   "outputs": [
    {
     "name": "stdout",
     "output_type": "stream",
     "text": [
      "Значения ошибок на 1-ом кластере размера 292\n",
      "\n",
      "MSE 1005.3651\n",
      "\n",
      "MAE 22.2064\n",
      "\n",
      "\\(R^2\\) 0.0631\n",
      "\n",
      "\\bigskip\n",
      "\n",
      "Значения ошибок на 2-ом кластере размера 3\n",
      "\n",
      "MSE 193.0776\n",
      "\n",
      "MAE 13.1448\n",
      "\n",
      "\\(R^2\\) -1.2829\n",
      "\n",
      "\\bigskip\n",
      "\n",
      "Значения ошибок на 3-ом кластере размера 37\n",
      "\n",
      "MSE 716.1103\n",
      "\n",
      "MAE 14.1752\n",
      "\n",
      "\\(R^2\\) -0.1145\n",
      "\n",
      "\\bigskip\n",
      "\n",
      "Значения ошибок на 4-ом кластере размера 7\n",
      "\n",
      "MSE 1654.2157\n",
      "\n",
      "MAE 28.2883\n",
      "\n",
      "\\(R^2\\) -0.3661\n",
      "\n",
      "\\bigskip\n",
      "\n",
      "Значения ошибок на 5-ом кластере размера 7\n",
      "\n",
      "MSE 419.9416\n",
      "\n",
      "MAE 17.8792\n",
      "\n",
      "\\(R^2\\) -0.3584\n",
      "\n",
      "\\bigskip\n",
      "\n",
      "Значения ошибок на 6-ом кластере размера 31\n",
      "\n",
      "MSE 330.8144\n",
      "\n",
      "MAE 5.9561\n",
      "\n",
      "\\(R^2\\) -0.06\n",
      "\n",
      "\\bigskip\n",
      "\n",
      "Значения ошибок на 7-ом кластере размера 32\n",
      "\n",
      "MSE 343.5998\n",
      "\n",
      "MAE 7.7797\n",
      "\n",
      "\\(R^2\\) -0.0655\n",
      "\n",
      "\\bigskip\n",
      "\n",
      "Значения ошибок на 8-ом кластере размера 6\n",
      "\n",
      "MSE 0.0479\n",
      "\n",
      "MAE 0.2019\n",
      "\n",
      "\\(R^2\\) -0.3791\n",
      "\n",
      "\\bigskip\n",
      "\n",
      "Значения ошибок на 9-ом кластере размера 6\n",
      "\n",
      "MSE 0.0023\n",
      "\n",
      "MAE 0.0444\n",
      "\n",
      "\\(R^2\\) -0.4324\n",
      "\n",
      "\\bigskip\n",
      "\n",
      "\\bigskip\n",
      "\n",
      "\\textbf{ИТОГОВЫЕ ОШИБКИ НА ВСЕЙ ВЫБОРКЕ:}\n",
      "\n",
      "MSE 847.0\n",
      "\n",
      "MAE 18.5426\n",
      "\n",
      "\\(R^2\\) 0.055\n",
      "\n",
      "\\bigskip\n"
     ]
    }
   ],
   "source": [
    "y_new = []\n",
    "ans_all = []\n",
    "iterat = 1 \n",
    "for i in np.unique(cluster_structure):\n",
    "    if i == -1:\n",
    "        continue\n",
    "    X_in_clust = X[np.where(res==i)[0],:]\n",
    "    y_in_clust = y[np.where(res==i)[0],0]\n",
    "    if X_in_clust.shape[0] == 1:\n",
    "        continue\n",
    "    ans = []\n",
    "    \n",
    "    for train_index, test_index in KFold(min(10, X_in_clust.shape[0])).split(X_in_clust):\n",
    "        \n",
    "        \n",
    "        X_train = X_in_clust[train_index, :]\n",
    "        y_train = y_in_clust[train_index]\n",
    "\n",
    "        X_test = X_in_clust[test_index, :]\n",
    "        y_test = y_in_clust[test_index]\n",
    "        \n",
    "        \n",
    "        mdl.fit(X_train, y_train)\n",
    "        for j in mdl.predict(X_test):\n",
    "            ans.append(j)\n",
    "        for j in mdl.predict(X_test):\n",
    "            ans_all.append(j)\n",
    "        for j in y_test:\n",
    "            y_new.append(j)\n",
    "    print (\"Значения ошибок на \" + str(iterat) + \"-ом кластере размера \" + str(X_in_clust.shape[0]))\n",
    "    print()\n",
    "    print(\"MSE \" + str(round(MSE(ans,y_in_clust[:]),4)))\n",
    "    print()\n",
    "    print(\"MAE \" + str(round(MAE(ans,y_in_clust[:]),4)))\n",
    "    print()\n",
    "    print(\"\\\\(R^2\\\\) \" + str(round(r2_score(y_in_clust[:], ans),4)))\n",
    "    print()\n",
    "    print(\"\\\\bigskip\")\n",
    "    print()\n",
    "    iterat+=1\n",
    "print(\"\\\\bigskip\")\n",
    "print()\n",
    "print(\"\\\\textbf{ИТОГОВЫЕ ОШИБКИ НА ВСЕЙ ВЫБОРКЕ:}\")\n",
    "print()\n",
    "print(\"MSE \" + str(round(MSE(ans_all,y_new[:]))))\n",
    "print()\n",
    "print(\"MAE \" + str(round(MAE(ans_all,y_new[:]),4)))\n",
    "print()\n",
    "print(\"\\\\(R^2\\\\) \" + str(round(r2_score(y_new[:], ans_all),4)))\n",
    "print()\n",
    "print(\"\\\\bigskip\")"
   ]
  },
  {
   "cell_type": "code",
   "execution_count": null,
   "metadata": {},
   "outputs": [],
   "source": []
  },
  {
   "cell_type": "code",
   "execution_count": null,
   "metadata": {},
   "outputs": [],
   "source": []
  },
  {
   "cell_type": "code",
   "execution_count": null,
   "metadata": {},
   "outputs": [],
   "source": []
  },
  {
   "cell_type": "code",
   "execution_count": null,
   "metadata": {},
   "outputs": [],
   "source": []
  },
  {
   "cell_type": "code",
   "execution_count": null,
   "metadata": {},
   "outputs": [],
   "source": []
  },
  {
   "cell_type": "code",
   "execution_count": null,
   "metadata": {},
   "outputs": [],
   "source": []
  },
  {
   "cell_type": "code",
   "execution_count": null,
   "metadata": {},
   "outputs": [],
   "source": []
  },
  {
   "cell_type": "code",
   "execution_count": null,
   "metadata": {},
   "outputs": [],
   "source": []
  },
  {
   "cell_type": "code",
   "execution_count": null,
   "metadata": {},
   "outputs": [],
   "source": []
  },
  {
   "cell_type": "code",
   "execution_count": null,
   "metadata": {},
   "outputs": [],
   "source": []
  },
  {
   "cell_type": "code",
   "execution_count": null,
   "metadata": {},
   "outputs": [],
   "source": []
  },
  {
   "cell_type": "code",
   "execution_count": null,
   "metadata": {},
   "outputs": [],
   "source": []
  },
  {
   "cell_type": "code",
   "execution_count": null,
   "metadata": {},
   "outputs": [],
   "source": []
  },
  {
   "cell_type": "code",
   "execution_count": null,
   "metadata": {},
   "outputs": [],
   "source": []
  },
  {
   "cell_type": "code",
   "execution_count": null,
   "metadata": {},
   "outputs": [],
   "source": []
  },
  {
   "cell_type": "code",
   "execution_count": null,
   "metadata": {},
   "outputs": [],
   "source": []
  },
  {
   "cell_type": "code",
   "execution_count": null,
   "metadata": {},
   "outputs": [],
   "source": []
  },
  {
   "cell_type": "code",
   "execution_count": null,
   "metadata": {},
   "outputs": [],
   "source": []
  },
  {
   "cell_type": "code",
   "execution_count": null,
   "metadata": {},
   "outputs": [],
   "source": []
  },
  {
   "cell_type": "code",
   "execution_count": null,
   "metadata": {},
   "outputs": [],
   "source": []
  },
  {
   "cell_type": "code",
   "execution_count": null,
   "metadata": {},
   "outputs": [],
   "source": []
  },
  {
   "cell_type": "code",
   "execution_count": null,
   "metadata": {},
   "outputs": [],
   "source": []
  },
  {
   "cell_type": "code",
   "execution_count": null,
   "metadata": {},
   "outputs": [],
   "source": []
  },
  {
   "cell_type": "code",
   "execution_count": null,
   "metadata": {},
   "outputs": [],
   "source": []
  },
  {
   "cell_type": "code",
   "execution_count": null,
   "metadata": {},
   "outputs": [],
   "source": []
  }
 ],
 "metadata": {
  "kernelspec": {
   "display_name": "Python 3",
   "language": "python",
   "name": "python3"
  },
  "language_info": {
   "codemirror_mode": {
    "name": "ipython",
    "version": 3
   },
   "file_extension": ".py",
   "mimetype": "text/x-python",
   "name": "python",
   "nbconvert_exporter": "python",
   "pygments_lexer": "ipython3",
   "version": "3.7.6"
  }
 },
 "nbformat": 4,
 "nbformat_minor": 4
}
