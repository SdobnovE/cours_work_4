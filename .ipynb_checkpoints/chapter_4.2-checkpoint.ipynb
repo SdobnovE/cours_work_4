{
 "cells": [
  {
   "cell_type": "code",
   "execution_count": 1,
   "metadata": {},
   "outputs": [],
   "source": [
    "import pandas as pd\n",
    "import numpy as np\n",
    "import matplotlib.pyplot as plt\n",
    "import re\n",
    "import ast\n",
    "from mgua import *\n",
    "from sklearn.linear_model import Ridge\n",
    "from sklearn.linear_model import Lasso\n",
    "from sklearn.linear_model import LinearRegression\n",
    "from sklearn.model_selection import KFold\n",
    "from sklearn.manifold import TSNE\n",
    "from sklearn.decomposition import PCA\n",
    "from sklearn.cluster import AgglomerativeClustering\n",
    "from scipy.cluster.hierarchy import dendrogram\n",
    "import random as rnd\n",
    "from sklearn.metrics import mean_absolute_error as MAE\n",
    "from sklearn.metrics import mean_squared_error as MSE\n",
    "from sklearn.ensemble import RandomForestRegressor"
   ]
  },
  {
   "cell_type": "code",
   "execution_count": 2,
   "metadata": {},
   "outputs": [],
   "source": [
    "\n",
    "# БЕЗ ВКЛЮЧЕННЫХ МАРКЕРОВ"
   ]
  },
  {
   "cell_type": "code",
   "execution_count": 3,
   "metadata": {},
   "outputs": [
    {
     "data": {
      "text/plain": [
       "((467, 107), (467, 274), (467, 577), (467, 1066))"
      ]
     },
     "execution_count": 3,
     "metadata": {},
     "output_type": "execute_result"
    }
   ],
   "source": [
    "tab1 = pd.read_csv(\"data_varvara/cox2/cox2_matrix_alphabet_NNdbr_UpTo2chains.csv\")\n",
    "tab2 = pd.read_csv(\"data_varvara/cox2/cox2_matrix_alphabet_NNdbr_UpTo3chains.csv\")\n",
    "tab3 = pd.read_csv(\"data_varvara/cox2/cox2_matrix_alphabet_NNdbr_UpTo4chains.csv\")\n",
    "tab4 = pd.read_csv(\"data_varvara/cox2/cox2_matrix_alphabet_NNdbr_UpTo5chains.csv\")\n",
    "\n",
    "tab1.shape, tab2.shape, tab3.shape, tab4.shape"
   ]
  },
  {
   "cell_type": "code",
   "execution_count": 4,
   "metadata": {},
   "outputs": [],
   "source": [
    "tab1[\"key\"] = [i for i in range(tab1.shape[0])]\n",
    "tab2[\"key\"] = [i for i in range(tab2.shape[0])]\n",
    "tab3[\"key\"] = [i for i in range(tab3.shape[0])]\n",
    "tab4[\"key\"] = [i for i in range(tab4.shape[0])]"
   ]
  },
  {
   "cell_type": "code",
   "execution_count": 5,
   "metadata": {
    "scrolled": true
   },
   "outputs": [],
   "source": [
    "tab = pd.merge(tab1, tab2, left_on=\"key\", right_on=\"key\", how=\"inner\")\n",
    "tab = pd.merge(tab, tab3, left_on=\"key\", right_on=\"key\", how=\"inner\")\n",
    "tab = pd.merge(tab, tab4, left_on=\"key\", right_on=\"key\", how=\"inner\")"
   ]
  },
  {
   "cell_type": "code",
   "execution_count": 6,
   "metadata": {},
   "outputs": [
    {
     "name": "stdout",
     "output_type": "stream",
     "text": [
      "Br1scC3as; C1dcC2dc; C1scC2sc; C1scC3as; C1scC3dc; C1scC4sc; C1scC4ss; C1scN2sc; C1scN3as; C1scN3sc; C1scO2sc; C1scS2sc; C1scS3dc; C1scS4wc; C2arC2ar; C2arC3as; C2arN2ar; C2arN3as; C2arO2ar; C2arS2ar; C2dcC2sc; C2dcC3as; C2dcO1dc; C2drC2sr; C2drC3ds; C2drC4ss; C2scC2sc; C2scC2tc; C2scC3as; C2scC3dc; C2scC4sc; C2scC4ss; C2scF1sc; C2scN1sc; C2scN2sc; C2scN3as; C2scN3sc; C2scO1sc; C2scO2sc; C2scS2sc; C2scS4wc; C2srC2sr; C2srC3as; C2srC3ds; C2srC3ss; C2srC4ss; C2srO2sr; C2srS2sr; C2tcC3as; C2tcN1tc; C3asC3as; C3asC3dc; C3asC3ds; C3asC3sc; C3asC3ss; C3asC4sc; C3asCl1sc; C3asF1sc; C3asN1sc; C3asN2ar; C3asN2sc; C3asN3as; C3asN3dc; C3asN3sc; C3asO1sc; C3asO2ar; C3asO2sc; C3asO2sr; C3asS2ar; C3asS2sc; C3asS2sr; C3asS3dc; C3asS4wc; C3dcC4sc; C3dcN1sc; C3dcN2sc; C3dcO1dc; C3dcO1sc; C3dcO2sc; C3dsC3ds; C3dsN2dr; C3dsS2sr; C3scC4sc; C3scF1sc; C3scO1sc; C3scO2sc; C3ssC3ss; C3ssF1sc; C3ssN2dr; C3ssN3as; C3ssS2sr; C4scC4ss; C4scF1sc; C4scO2sc; C4scS4wc; N1scO2sc; N1scS4wc; N2arN2ar; N2arN3as; N2arO2ar; N2scS4wc; N3dcO1dc; N3dcO1sc; N3scO2sc; N3scS4wc; O1dcS3dc; O1dcS4wc; key; Br1scC3asC2ar; Br1scC3asC3as; Br1scC3asS2ar; C1dcC2dcC2sc; C1scC2scC2sc; C1scC2scC3as; C1scC2scC4ss; C1scC2scN3as; C1scC2scN3sc; C1scC2scO2sc; C1scC2scS4wc; C1scC3asC2ar; C1scC3asC3as; C1scC3asN2ar; C1scC3asN3as; C1scC3asO2ar; C1scC3asS2ar; C1scC3dcC3as; C1scC3dcO1dc; C1scC3dcO2sc; C1scC4scC1sc; C1scC4scC3as; C1scC4ssC1sc; C1scC4ssC2sr; C1scN2scC3as; C1scN2scS4wc; C1scN3asC2ar; C1scN3asC3as; C1scN3scC1sc; C1scN3scC2sc; C1scN3scC3as; C1scN3scS4wc; C1scO2scC2sc; C1scO2scC3as; C1scO2scC3dc; C1scS2scC2sc; C1scS2scC3as; C1scS3dcC3as; C1scS3dcO1dc; C1scS4wcC2sc; C1scS4wcC3as; C1scS4wcN2sc; C1scS4wcO1dc; C2arC2arC2ar; C2arC2arC3as; C2arC2arN2ar; C2arC2arN3as; C2arC2arS2ar; C2arC3asC2ar; C2arC3asC2dc; C2arC3asC2sc; C2arC3asC2sr; C2arC3asC2tc; C2arC3asC3as; C2arC3asC3dc; C2arC3asC3ds; C2arC3asC3sc; C2arC3asC3ss; C2arC3asC4sc; C2arC3asCl1sc; C2arC3asF1sc; C2arC3asN1sc; C2arC3asN2ar; C2arC3asN2sc; C2arC3asN3as; C2arC3asN3dc; C2arC3asN3sc; C2arC3asO1sc; C2arC3asO2ar; C2arC3asO2sc; C2arC3asO2sr; C2arC3asS2ar; C2arC3asS2sc; C2arC3asS2sr; C2arC3asS3dc; C2arC3asS4wc; C2arN2arC2ar; C2arN2arC3as; C2arN2arN2ar; C2arN2arN3as; C2arN3asC2sc; C2arN3asC3as; C2arN3asN2ar; C2arO2arC3as; C2arS2arC2ar; C2arS2arC3as; C2dcC2scN3as; C2dcC3asC3as; C2dcC3asN2ar; C2drC2srC2sr; C2drC3dsC2sr; C2drC3dsC3as; C2drC3dsC3ds; C2drC4ssC2dr; C2drC4ssC2sr; C2scC2scC2sc; C2scC2scC3as; C2scC2scC3dc; C2scC2scN3as; C2scC2tcN1tc; C2scC3asC3as; C2scC3asN2ar; C2scC3asN3as; C2scC3asO2ar; C2scC3asS2ar; C2scC3dcN2sc; C2scC3dcO1dc; C2scC3dcO1sc; C2scC3dcO2sc; C2scC4scF1sc; C2scC4ssC2sc; C2scC4ssC2sr; C2scN2scC3as; C2scN3asC3as; C2scN3asN2ar; C2scN3scC2sc; C2scN3scO2sc; C2scO2scC2sc; C2scO2scC3as; C2scO2scC3dc; C2scS2scC3as; C2scS4wcC3as; C2scS4wcO1dc; C2srC2drC3ds; C2srC2srC2sr; C2srC2srC3as; C2srC2srC3ds; C2srC2srC3ss; C2srC2srC4ss; C2srC2srO2sr; C2srC2srS2sr; C2srC3asC3as; C2srC3dsC3as; C2srC3dsC3ds; C2srC3ssC2sr; C2srC3ssF1sc; C2srC3ssN3as; C2srC4ssC2sr; C2srC4ssC4sc; C2srO2srC3as; C2srS2srC3as; C2tcC2scC3as; C2tcC3asC3as; C2tcC3asN2ar; C3asC2arC3as; C3asC2arN2ar; C3asC2arN3as; C3asC2arO2ar; C3asC2arS2ar; C3asC2dcO1dc; C3asC2scC3as; C3asC2scC4sc; C3asC2scF1sc; C3asC2scN1sc; C3asC2scN2sc; C3asC2scN3sc; C3asC2scO1sc; C3asC2scO2sc; C3asC2scS2sc; C3asC2scS4wc; C3asC2srC3ds; C3asC2tcN1tc; C3asC3asC3as; C3asC3asC3dc; C3asC3asC3ds; C3asC3asC3sc; C3asC3asC4sc; C3asC3asCl1sc; C3asC3asF1sc; C3asC3asN1sc; C3asC3asN2ar; C3asC3asN2sc; C3asC3asN3as; C3asC3asN3dc; C3asC3asN3sc; C3asC3asO1sc; C3asC3asO2ar; C3asC3asO2sc; C3asC3asO2sr; C3asC3asS2ar; C3asC3asS2sc; C3asC3asS2sr; C3asC3asS4wc; C3asC3dcC3as; C3asC3dcC4sc; C3asC3dcN1sc; C3asC3dcN2sc; C3asC3dcO1dc; C3asC3dcO1sc; C3asC3dcO2sc; C3asC3dsC3as; C3asC3dsC3ds; C3asC3dsN2dr; C3asC3dsS2sr; C3asC3scC4sc; C3asC3scF1sc; C3asC3scO1sc; C3asC3scO2sc; C3asC3ssC3ss; C3asC3ssN2dr; C3asC3ssS2sr; C3asC4scF1sc; C3asN2arC3as; C3asN2arN2ar; C3asN2arN3as; C3asN2arO2ar; C3asN2scC3dc; C3asN2scS4wc; C3asN3asC3as; C3asN3asC3ss; C3asN3asN2ar; C3asN3dcO1dc; C3asN3dcO1sc; C3asO2arC3as; C3asO2arN2ar; C3asO2scC3sc; C3asO2scC4sc; C3asS2arC3as; C3asS3dcO1dc; C3asS4wcC3as; C3asS4wcC4sc; C3asS4wcN1sc; C3asS4wcN2sc; C3asS4wcN3sc; C3asS4wcO1dc; C3dcC2scN3as; C3dcC3asN2ar; C3dcC3asS2ar; C3dcC4scF1sc; C3dcO2scN1sc; C3dcO2scN3sc; C3dsC2drC4ss; C3dsC2srC4ss; C3dsC3asN3as; C3dsN2drC3ss; C3dsS2srC3ss; C3scC3asN2ar; C3scC4scF1sc; C3ssC3asS2ar; C3ssC3ssN2dr; C3ssC3ssS2sr; C4scC3asN2ar; C4scC3asN3as; C4scC3asS2ar; C4scC3dcO1dc; C4scC3scO1sc; C4scC3scO2sc; C4scC4ssC4sc; C4scS4wcO1dc; C4ssC2scF1sc; C4ssC4scF1sc; Cl1scC3asS2ar; F1scC3scF1sc; F1scC4scF1sc; F1scC4scO2sc; F1scC4scS4wc; N1scC3dcO1dc; N1scS4wcO1dc; N2arC3asN2sc; N2arC3asN3as; N2arC3asO2ar; N2arC3asO2sc; N2arC3asS2ar; N2drC3dsS2sr; N2scC3asS2ar; N2scC3dcO1dc; N2scS4wcO1dc; N3scS4wcO1dc; O1dcC3dcO1sc; O1dcC3dcO2sc; O1dcN3dcO1sc; O1dcS4wcO1dc; O2scC3asS2ar; O2srC2srO2sr; Br1scC3asC2arC2ar; Br1scC3asC2arC3as; Br1scC3asC2arN2ar; Br1scC3asC2arS2ar; Br1scC3asC3asC1sc; Br1scC3asC3asC2ar; Br1scC3asC3asC3as; Br1scC3asC3asN3as; Br1scC3asC3asO2sc; Br1scC3asS2arC3as; C1dcC2dcC2scN3as; C1scC2scC2scC3as; C1scC2scC3asC2ar; C1scC2scC3asC3as; C1scC2scC3asN2ar; C1scC2scC3asN3as; C1scC2scC3asS2ar; C1scC2scC4ssC2sc; C1scC2scC4ssC2sr; C1scC2scN3asC3as; C1scC2scN3asN2ar; C1scC2scN3scC2sc; C1scC2scN3scO2sc; C1scC2scO2scC3as; C1scC2scO2scC3dc; C1scC2scS4wcC3as; C1scC2scS4wcO1dc; C1scC3asC2arC2ar; C1scC3asC2arC3as; C1scC3asC2arN2ar; C1scC3asC2arN3as; C1scC3asC2arS2ar; C1scC3asC3asC1sc; C1scC3asC3asC2ar; C1scC3asC3asC2dc; C1scC3asC3asC2sc; C1scC3asC3asC2tc; C1scC3asC3asC3as; C1scC3asC3asC3dc; C1scC3asC3asC3ds; C1scC3asC3asC3sc; C1scC3asC3asC4sc; C1scC3asC3asCl1sc; C1scC3asC3asF1sc; C1scC3asC3asN2ar; C1scC3asC3asN3as; C1scC3asC3asO2sc; C1scC3asC3asO2sr; C1scC3asC3asS2ar; C1scC3asC3asS2sc; C1scC3asC3asS4wc; C1scC3asN2arC2ar; C1scC3asN2arC3as; C1scC3asN2arN3as; C1scC3asN3asC3as; C1scC3asN3asC3ss; C1scC3asO2arC2ar; C1scC3asO2arC3as; C1scC3asO2arN2ar; C1scC3asS2arC2ar; C1scC3asS2arC3as; C1scC3dcC3asC2ar; C1scC3dcC3asC3as; C1scC3dcO2scC2sc; C1scC4scC3asC2ar; C1scC4scC3asN2ar; C1scC4scC3asS2ar; C1scC4ssC2srC3ds; C1scN2scC3asC2ar; C1scN2scC3asC3as; C1scN2scS4wcC3as; C1scN2scS4wcO1dc; C1scN3asC2arC3as; C1scN3asC3asC2ar; C1scN3asC3asC3as; C1scN3scC2scC3as; C1scN3scC3asC2ar; C1scN3scC3asC3as; C1scN3scS4wcC3as; C1scN3scS4wcO1dc; C1scO2scC2scC3as; C1scO2scC3asC2ar; C1scO2scC3asC3as; C1scO2scC3asN2ar; C1scO2scC3dcC3as; C1scO2scC3dcO1dc; C1scS2scC2scC3as; C1scS2scC3asC2ar; C1scS2scC3asC3as; C1scS3dcC3asC2ar; C1scS4wcC2scC3as; C1scS4wcC3asC2ar; C1scS4wcC3asC3as; C1scS4wcN2scC3as; C2arC2arC2arC2ar; C2arC2arC2arC3as; C2arC2arC2arN2ar; C2arC2arC2arN3as; C2arC2arC2arS2ar; C2arC2arC3asC2ar; C2arC2arC3asC2sc; C2arC2arC3asC2sr; C2arC2arC3asC2tc; C2arC2arC3asC3as; C2arC2arC3asC3dc; C2arC2arC3asC3ds; C2arC2arC3asC3ss; C2arC2arC3asC4sc; C2arC2arC3asCl1sc; C2arC2arC3asF1sc; C2arC2arC3asN1sc; C2arC2arC3asN2ar; C2arC2arC3asN2sc; C2arC2arC3asN3as; C2arC2arC3asN3dc; C2arC2arC3asN3sc; C2arC2arC3asO1sc; C2arC2arC3asO2ar; C2arC2arC3asO2sc; C2arC2arC3asO2sr; C2arC2arC3asS2ar; C2arC2arC3asS2sc; C2arC2arC3asS2sr; C2arC2arC3asS3dc; C2arC2arC3asS4wc; C2arC2arN2arC2ar; C2arC2arN2arC3as; C2arC2arN2arN3as; C2arC2arN3asC3as; C2arC2arS2arC2ar; C2arC2arS2arC3as; C2arC3asC2arC3as; C2arC3asC2arN2ar; C2arC3asC2arS2ar; C2arC3asC2dcO1dc; C2arC3asC2scC2sc; C2arC3asC2scC2tc; C2arC3asC2scC3as; C2arC3asC2scC4sc; C2arC3asC2scF1sc; C2arC3asC2scN1sc; C2arC3asC2scN2sc; C2arC3asC2scN3sc; C2arC3asC2scO1sc; C2arC3asC2scO2sc; C2arC3asC2scS2sc; C2arC3asC2scS4wc; C2arC3asC2srC2sr; C2arC3asC2srC3ds; C2arC3asC2tcN1tc; C2arC3asC3asC2ar; C2arC3asC3asC2sc; C2arC3asC3asC2sr; C2arC3asC3asC3as; C2arC3asC3asC3ds; C2arC3asC3asC4sc; C2arC3asC3asCl1sc; C2arC3asC3asF1sc; C2arC3asC3asN2ar; C2arC3asC3asN2sc; C2arC3asC3asN3as; C2arC3asC3asN3sc; C2arC3asC3asO2ar; C2arC3asC3asO2sc; C2arC3asC3asO2sr; C2arC3asC3asS2ar; C2arC3asC3asS2sc; C2arC3asC3asS2sr; C2arC3asC3asS4wc; C2arC3asC3dcC3as; C2arC3asC3dcC4sc; C2arC3asC3dcN1sc; C2arC3asC3dcN2sc; C2arC3asC3dcO1dc; C2arC3asC3dcO1sc; C2arC3asC3dcO2sc; C2arC3asC3dsC2dr; C2arC3asC3dsC2sr; C2arC3asC3dsC3as; C2arC3asC3dsC3ds; C2arC3asC3dsN2dr; C2arC3asC3dsS2sr; C2arC3asC3scC4sc; C2arC3asC3scF1sc; C2arC3asC3scO1sc; C2arC3asC3scO2sc; C2arC3asC3ssC3ss; C2arC3asC3ssN2dr; C2arC3asC3ssS2sr; C2arC3asC4scF1sc; C2arC3asN2arC2ar; C2arC3asN2arC3as; C2arC3asN2arN3as; C2arC3asN2arO2ar; C2arC3asN2scC3dc; C2arC3asN2scS4wc; C2arC3asN3asC2ar; C2arC3asN3asC3as; C2arC3asN3asC3ss; C2arC3asN3asN2ar; C2arC3asN3dcO1dc; C2arC3asN3dcO1sc; C2arC3asO2arC3as; C2arC3asO2arN2ar; C2arC3asO2scC2sc; C2arC3asO2scC3sc; C2arC3asO2scC4sc; C2arC3asO2srC2sr; C2arC3asS2arC2ar; C2arC3asS2arC3as; C2arC3asS2scC2sc; C2arC3asS2srC2sr; C2arC3asS3dcO1dc; C2arC3asS4wcC2sc; C2arC3asS4wcC3as; C2arC3asS4wcC4sc; C2arC3asS4wcN1sc; C2arC3asS4wcN2sc; C2arC3asS4wcN3sc; C2arC3asS4wcO1dc; C2arN2arC2arC3as; C2arN2arC3asC3as; C2arN2arC3asN3as; C2arN2arC3asO2sc; C2arN2arC3asS2ar; C2arN2arN2arC3as; C2arN2arN3asC3as; C2arN3asC2scC2dc; C2arN3asC2scC2sc; C2arN3asC3asC3as; C2arN3asC3asN2ar; C2arN3asN2arC3as; C2arO2arC3asN2ar; C2arS2arC2arC3as; C2arS2arC3asC3as; C2arS2arC3asC3ss; C2arS2arC3asN2ar; C2dcC2scN3asC3as; C2dcC2scN3asN2ar; C2dcC3asC2arC3as; C2dcC3asC2arN3as; C2dcC3asC3asN3as; C2dcC3asN2arC3as; C2drC2srC2srC2sr; C2drC3dsC2srC2sr; C2drC3dsC3asN3as; C2drC3dsC3dsC2dr; C2drC3dsC3dsC3as; C2drC4ssC2drC3ds; C2drC4ssC2srC2sr; C2scC2scC2scC3as; C2scC2scC3asC3as; C2scC2scC3asN2ar; C2scC2scC3asN3as; C2scC2scC3asS2ar; C2scC2scC3dcO1dc; C2scC2scC3dcO1sc; C2scC2scN3asC3as; C2scC2scN3asN2ar; C2scC3asC2arC3as; C2scC3asC2arN3as; C2scC3asC3asC3as; C2scC3asC3asC4sc; C2scC3asC3asCl1sc; C2scC3asC3asN2ar; C2scC3asC3asN3as; C2scC3asC3asO2sc; C2scC3asN2arC3as; C2scC3asN2arN3as; C2scC3asN3asC3as; C2scC3asO2arN2ar; C2scC3asS2arC3as; C2scC3dcN2scC3as; C2scC3dcO2scC2sc; C2scC4ssC2scF1sc; C2scC4ssC2srC3ds; C2scN2scC3asN2ar; C2scN2scC3asS2ar; C2scN3asC2arC3as; C2scN3asC3asC3as; C2scN3asC3asC4sc; C2scN3asN2arC3as; C2scN3scO2scC3dc; C2scO2scC2scC3as; C2scO2scC3asN2ar; C2scO2scC3asS2ar; C2scO2scC3dcC3as; C2scO2scC3dcO1dc; C2srC2drC3dsC2sr; C2srC2drC3dsC3as; C2srC2srC2drC3ds; C2srC2srC2srC2sr; C2srC2srC2srC3as; C2srC2srC2srC3ds; C2srC2srC2srC4ss; C2srC2srC2srS2sr; C2srC2srC3asC3as; C2srC2srC3dsC3as; C2srC2srC3dsC3ds; C2srC2srC3ssC2sr; C2srC2srC3ssF1sc; C2srC2srC3ssN3as; C2srC2srC4ssC2sr; C2srC2srO2srC3as; C2srC2srS2srC3as; C2srC3asC2arC3as; C2srC3asC3asC2sr; C2srC3asC3asC3ds; C2srC3asC3asO2sr; C2srC3asC3asS2sr; C2srC3dsC3asC3as; C2srC3dsC3asN3as; C2srC3dsC3dsC2sr; C2srC3dsC3dsC3as; C2srC3ssN3asC3as; C2srC4ssC2drC3ds; C2srC4ssC2scF1sc; C2srC4ssC2srC3ds; C2srC4ssC4scF1sc; C2srO2srC3asC3as; C2srS2srC3asC3as; C2tcC2scC3asN2ar; C2tcC2scC3asS2ar; C2tcC3asC2arC3as; C2tcC3asC2arN2ar; C2tcC3asC2arN3as; C2tcC3asC3asC3as; C2tcC3asC3asCl1sc; C2tcC3asC3asN3as; C2tcC3asN2arC3as; C2tcC3asN2arN3as; C3asC2arC2arC3as; C3asC2arC2arN2ar; C3asC2arC2arS2ar; C3asC2arC3asC3as; C3asC2arC3asC3dc; C3asC2arC3asC3ds; C3asC2arC3asC3sc; C3asC2arC3asC4sc; C3asC2arC3asCl1sc; C3asC2arC3asF1sc; C3asC2arC3asN1sc; C3asC2arC3asN2ar; C3asC2arC3asN2sc; C3asC2arC3asN3as; C3asC2arC3asN3dc; C3asC2arC3asN3sc; C3asC2arC3asO2ar; C3asC2arC3asO2sc; C3asC2arC3asO2sr; C3asC2arC3asS2ar; C3asC2arC3asS2sc; C3asC2arC3asS4wc; C3asC2arN2arC3as; C3asC2arN2arN2ar; C3asC2arN2arN3as; C3asC2arN3asC3as; C3asC2arN3asN2ar; C3asC2arO2arC3as; C3asC2arS2arC3as; C3asC2scC2scC3as; C3asC2scC2scC3dc; C3asC2scC2scN3as; C3asC2scC2tcN1tc; C3asC2scC3asN2ar; C3asC2scC3asS2ar; C3asC2scC4scF1sc; C3asC2scN2scC3as; C3asC2scO2scC3as; C3asC2scO2scC3dc; C3asC2scS2scC3as; C3asC2scS4wcO1dc; C3asC2srC2srO2sr; C3asC2srC3dsC3as; C3asC2srC3dsC3ds; C3asC3asC2arN2ar; C3asC3asC2arN3as; C3asC3asC2arO2ar; C3asC3asC2arS2ar; C3asC3asC2dcO1dc; C3asC3asC2scC4sc; C3asC3asC2scN3sc; C3asC3asC2scO1sc; C3asC3asC2scO2sc; C3asC3asC2srC3ds; C3asC3asC2tcN1tc; C3asC3asC3asC3as; C3asC3asC3asC3dc; C3asC3asC3asC4sc; C3asC3asC3asCl1sc; C3asC3asC3asF1sc; C3asC3asC3asN1sc; C3asC3asC3asN2ar; C3asC3asC3asN3as; C3asC3asC3asN3dc; C3asC3asC3asN3sc; C3asC3asC3asO1sc; C3asC3asC3asO2ar; C3asC3asC3asO2sc; C3asC3asC3asO2sr; C3asC3asC3asS2ar; C3asC3asC3asS4wc; C3asC3asC3dcC3as; C3asC3asC3dcC4sc; C3asC3asC3dcN1sc; C3asC3asC3dcO1dc; C3asC3asC3dcO1sc; C3asC3asC3dcO2sc; C3asC3asC3dsC3as; C3asC3asC3dsC3ds; C3asC3asC3dsN2dr; C3asC3asC3dsS2sr; C3asC3asC3scC4sc; C3asC3asC3scO1sc; C3asC3asC3scO2sc; C3asC3asC4scF1sc; C3asC3asN2arC3as; C3asC3asN2arN2ar; C3asC3asN2arN3as; C3asC3asN2arO2ar; C3asC3asN3asC3as; C3asC3asN3asC3ss; C3asC3asN3asN2ar; C3asC3asN3dcO1dc; C3asC3asN3dcO1sc; C3asC3asO2arC3as; C3asC3asO2arN2ar; C3asC3asS2arC3as; C3asC3asS4wcC4sc; C3asC3asS4wcO1dc; C3asC3dcC4scF1sc; C3asC3dcN2scC3as; C3asC3dcO2scN1sc; C3asC3dcO2scN3sc; C3asC3dsC2drC4ss; C3asC3dsC2srC4ss; C3asC3dsC3dsC3as; C3asC3dsN2drC3ss; C3asC3dsS2srC3ss; C3asC3scC4scF1sc; C3asC3scO2scC3as; C3asC3ssC3ssC3as; C3asC3ssC3ssN2dr; C3asC3ssC3ssS2sr; C3asC3ssN2drC3ds; C3asC3ssS2srC3ds; C3asN2arC3asC3dc; C3asN2arC3asC3sc; C3asN2arC3asC4sc; C3asN2arC3asN2sc; C3asN2arC3asN3as; C3asN2arC3asO2ar; C3asN2arC3asO2sc; C3asN2arC3asS2ar; C3asN2arN2arC3as; C3asN2arN3asC3as; C3asN2arO2arC3as; C3asN2scC3dcO1dc; C3asN2scS4wcO1dc; C3asN3asC2scC3dc; C3asN3asC3asC3ds; C3asN3asC3asC4sc; C3asN3asC3asN2ar; C3asO2scC3scC4sc; C3asO2scC4scF1sc; C3asO2srC2srO2sr; C3asS2arC3asC3dc; C3asS2arC3asC4sc; C3asS2arC3asCl1sc; C3asS2arC3asN2ar; C3asS2arC3asN2sc; C3asS2arC3asO2sc; C3asS4wcC4scF1sc; C3dcC2scN3asN2ar; C3dcC3asC2arN3as; C3dcC3asC3asCl1sc; C3dcC3asC3asN3as; C3dcC3asN2arN3as; C3dsC2srC4ssC4sc; C3dsC3asC3asCl1sc; C3dsC3asC3asF1sc; C3dsC3asN3asN2ar; C3dsC3dsC2drC4ss; C3dsC3dsC2srC4ss; C3dsN2drC3ssC3ss; C3dsS2srC3ssC3ss; C3scC3asC2arN3as; C3scC3asC3asN3as; C3scC3asN2arN3as; C3ssC2srC2srC3ss; C3ssC3asC2arS2ar; C3ssC3ssC3asS2ar; C3ssN2drC3dsS2sr; C3ssS2srC3dsN2dr; C4scC3asC2arN3as; C4scC3asC3asCl1sc; C4scC3asC3asF1sc; C4scC3asC3asO1sc; C4scC3asC3asO2sc; C4scC3asN2arN2ar; C4scC3asN2arN3as; C4scC3asN3asN2ar; C4scC4ssC4scF1sc; Cl1scC3asC2arN2ar; Cl1scC3asC3asCl1sc; Cl1scC3asC3asF1sc; Cl1scC3asC3asN2ar; Cl1scC3asC3asN2sc; Cl1scC3asC3asN3as; Cl1scC3asC3asN3sc; Cl1scC3asC3asO2sc; Cl1scC3asC3asS2sc; Cl1scC3asC3asS4wc; F1scC2scC3asN2ar; F1scC3asC2arN2ar; F1scC3asC3asF1sc; F1scC3asC3asN2ar; F1scC3asC3asN3as; F1scC3asC3asN3sc; F1scC3asC3asO2sc; F1scC3scC3asN2ar; F1scC4scC3asN2ar; F1scC4scC3asN3as; F1scC4scC3asS2ar; F1scC4scC3dcO1dc; F1scC4scC3scO1sc; F1scC4scC3scO2sc; F1scC4scS4wcO1dc; N1scC2scC3asN2ar; N1scC3asC2arN2ar; N1scC3asC3asN3as; N1scC3dcC3asN2ar; N1scO2scC3dcO1dc; N1tcC2tcC3asN2ar; N2arC2arC2arN2ar; N2arC2arC2arN3as; N2arC2arC3asN3dc; N2arC2arC3asO2sc; N2arC2arC3asS2ar; N2arC2arC3asS4wc; N2arC3asC2arN3as; N2arC3asC2arO2ar; N2arC3asC2arS2ar; N2arC3asC2dcO1dc; N2arC3asC2scO1sc; N2arC3asC2scO2sc; N2arC3asC2scS2sc; N2arC3asC2scS4wc; N2arC3asC3asN2ar; N2arC3asC3asN3as; N2arC3asC3asO1sc; N2arC3asC3asO2sc; N2arC3asC3asS2ar; N2arC3asC3dcN2sc; N2arC3asC3dcO1dc; N2arC3asC3dcO1sc; N2arC3asC3dcO2sc; N2drC3ssC3asS2ar; N2drC3ssC3ssS2sr; N2scC3dcC2scN3as; N3asC2scC3dcO1dc; N3asC2scC3dcO2sc; N3asC3asC3asN3dc; N3asC3asC3asO1sc; N3asC3asC3asO2ar; N3asC3asC3asO2sc; N3asC3asC3asS2ar; N3asC3asC3asS4wc; N3asN2arC3asO2sc; N3scO2scC3dcO1dc; O1dcC3dcC3asS2ar; O1scC2scC3asO2ar; O2scC3asC3asO2sc; O2scC3dcC3asS2ar; O2srC2srC2srO2sr; O2srC3asC3asO2sr; S2arC3asC3asS2ar; Br1scC3asC2arC2arC2ar; Br1scC3asC2arC2arC3as; Br1scC3asC2arC3asC2ar; Br1scC3asC2arC3asC3as; Br1scC3asC2arC3asC3ds; Br1scC3asC2arC3asN3as; Br1scC3asC2arC3asS2ar; Br1scC3asC2arN2arC2ar; Br1scC3asC2arN2arN3as; Br1scC3asC2arS2arC3as; Br1scC3asC3asC2arC2ar; Br1scC3asC3asC3asBr1sc; Br1scC3asC3asC3asC2ar; Br1scC3asC3asC3asC3as; Br1scC3asC3asC3asS2ar; Br1scC3asC3asN3asC3as; Br1scC3asC3asN3asN2ar; Br1scC3asC3asO2scC1sc; Br1scC3asS2arC3asC2ar; Br1scC3asS2arC3asC3as; C1dcC2dcC2scN3asC2ar; C1dcC2dcC2scN3asC3as; C1dcC2dcC2scN3asN2ar; C1scC2scC2scC3asC3as; C1scC2scC3asC2arC2ar; C1scC2scC3asC2arC3as; C1scC2scC3asC3asC2ar; C1scC2scC3asC3asC3as; C1scC2scC3asC3asC4sc; C1scC2scC3asC3asN2ar; C1scC2scC3asC3asN3as; C1scC2scC3asC3asO2sc; C1scC2scC3asN2arC3as; C1scC2scC3asN3asC3as; C1scC2scC3asS2arC3as; C1scC2scC4ssC2scC1sc; C1scC2scC4ssC2srC3ds; C1scC2scN3asC3asC3as; C1scC2scN3asC3asC4sc; C1scC2scN3asN2arC3as; C1scC2scN3scC2scC1sc; C1scC2scN3scO2scC3dc; C1scC2scO2scC3asC2ar; C1scC2scO2scC3dcC2sc; C1scC2scO2scC3dcC3as; C1scC2scO2scC3dcO1dc; C1scC2scS4wcC3asC2ar; C1scC3asC2arC2arC2ar; C1scC3asC2arC2arC3as; C1scC3asC2arC2arN2ar; C1scC3asC2arC2arS2ar; C1scC3asC2arC3asC1sc; C1scC3asC2arC3asC2ar; C1scC3asC2arC3asC3as; C1scC3asC2arC3asCl1sc; C1scC3asC2arC3asF1sc; C1scC3asC2arC3asN2ar; C1scC3asC2arC3asN3as; C1scC3asC2arC3asO2sc; C1scC3asC2arN2arC2ar; C1scC3asC2arN2arC3as; C1scC3asC2arN2arN3as; C1scC3asC2arN3asC3as; C1scC3asC2arS2arC3as; C1scC3asC3asC2arC2ar; C1scC3asC3asC2arC3as; C1scC3asC3asC2arN2ar; C1scC3asC3asC2dcO1dc; C1scC3asC3asC2scC4sc; C1scC3asC3asC2scN3sc; C1scC3asC3asC2scO1sc; C1scC3asC3asC2scO2sc; C1scC3asC3asC2tcN1tc; C1scC3asC3asC3asC1sc; C1scC3asC3asC3asC2ar; C1scC3asC3asC3asC3as; C1scC3asC3asC3asCl1sc; C1scC3asC3asC3asN2ar; C1scC3asC3asC3asN3as; C1scC3asC3asC3asO2sr; C1scC3asC3asC3dcC1sc; C1scC3asC3asC3dcC3as; C1scC3asC3asC3dcC4sc; C1scC3asC3asC3dcO1dc; C1scC3asC3asC3dsC2sr; C1scC3asC3asC3dsC3ds; C1scC3asC3asC3scC4sc; C1scC3asC3asC3scO1sc; C1scC3asC3asC3scO2sc; C1scC3asC3asC4scF1sc; C1scC3asC3asN2arC2ar; C1scC3asC3asN2arN3as; C1scC3asC3asN3asC3as; C1scC3asC3asN3asN2ar; C1scC3asC3asO2scC1sc; C1scC3asC3asO2srC2sr; C1scC3asC3asS2arC2ar; C1scC3asC3asS2scC1sc; C1scC3asC3asS4wcC4sc; C1scC3asC3asS4wcO1dc; C1scC3asN2arC2arC2ar; C1scC3asN2arC2arC3as; C1scC3asN2arC3asC2ar; C1scC3asN2arC3asC3as; C1scC3asN2arC3asN3as; C1scC3asN2arC3asS2ar; C1scC3asN2arN3asC3as; C1scC3asN3asC3asC2ar; C1scC3asN3asC3asC3as; C1scC3asN3asC3ssC2sr; C1scC3asO2arC2arC3as; C1scC3asO2arC3asC2ar; C1scC3asO2arC3asC3as; C1scC3asO2arN2arC3as; C1scC3asS2arC2arC3as; C1scC3asS2arC3asC2ar; C1scC3asS2arC3asC3as; C1scC3dcC3asC2arC2ar; C1scC3dcC3asC2arC3as; C1scC3dcC3asC3asN3as; C1scC3dcO2scC2scC3as; C1scC4scC3asC2arC2ar; C1scC4scC3asN2arC3as; C1scC4scC3asS2arC3as; C1scC4ssC2srC3dsC3as; C1scC4ssC2srC3dsC3ds; C1scN2scC3asC2arC2ar; C1scN2scC3asC2arC3as; C1scN2scC3asC3asC2ar; C1scN2scC3asC3asCl1sc; C1scN2scS4wcC3asC2ar; C1scN3asC2arC3asC3as; C1scN3asC3asC2arC2ar; C1scN3asC3asC3asC2ar; C1scN3asC3asC3asC3as; C1scN3scC2scC3asC2ar; C1scN3scC2scC3asC3as; C1scN3scC3asC2arC2ar; C1scN3scC3asC2arC3as; C1scN3scC3asC3asC2ar; C1scN3scC3asC3asC3as; C1scN3scC3asC3asCl1sc; C1scN3scC3asC3asF1sc; C1scN3scS4wcC3asC2ar; C1scO2scC2scC3asC2ar; C1scO2scC2scC3asN2ar; C1scO2scC3asC2arC2ar; C1scO2scC3asC2arC3as; C1scO2scC3asC2arN2ar; C1scO2scC3asC3asC2ar; C1scO2scC3asC3asC2sc; C1scO2scC3asC3asC3as; C1scO2scC3asC3asC4sc; C1scO2scC3asC3asCl1sc; C1scO2scC3asC3asF1sc; C1scO2scC3asC3asN2ar; C1scO2scC3asC3asN3as; C1scO2scC3asC3asO2sc; C1scO2scC3asN2arC2ar; C1scO2scC3asN2arN3as; C1scO2scC3dcC3asC2ar; C1scO2scC3dcC3asC3as; C1scO2scC3dcC3asN2ar; C1scS2scC2scC3asC2ar; C1scS2scC2scC3asN2ar; C1scS2scC3asC2arC2ar; C1scS2scC3asC2arC3as; C1scS2scC3asC3asC2ar; C1scS2scC3asC3asCl1sc; C1scS3dcC3asC2arC2ar; C1scS4wcC2scC3asC2ar; C1scS4wcC2scC3asN2ar; C1scS4wcC3asC2arC2ar; C1scS4wcC3asC2arC3as; C1scS4wcC3asC2arN2ar; C1scS4wcC3asC3asC2ar; C1scS4wcC3asC3asC3as; C1scS4wcC3asC3asCl1sc; C1scS4wcC3asC3asN3as; C1scS4wcN2scC3asC2ar; C2arC2arC2arC2arC2ar; C2arC2arC2arC2arC3as; C2arC2arC2arC2arN2ar; C2arC2arC2arC3asC2ar; C2arC2arC2arC3asC2sc; C2arC2arC2arC3asC2sr; C2arC2arC2arC3asC3as; C2arC2arC2arC3asC3dc; C2arC2arC2arC3asC3ds; C2arC2arC2arC3asC3ss; C2arC2arC2arC3asC4sc; C2arC2arC2arC3asCl1sc; C2arC2arC2arC3asF1sc; C2arC2arC2arC3asN1sc; C2arC2arC2arC3asN2ar; C2arC2arC2arC3asN2sc; C2arC2arC2arC3asN3as; C2arC2arC2arC3asN3dc; C2arC2arC2arC3asN3sc; C2arC2arC2arC3asO2ar; C2arC2arC2arC3asO2sc; C2arC2arC2arC3asO2sr; C2arC2arC2arC3asS2ar; C2arC2arC2arC3asS2sc; C2arC2arC2arC3asS4wc; C2arC2arC2arN2arC2ar; C2arC2arC2arN2arC3as; C2arC2arC2arN3asC3as; C2arC2arC2arS2arC3as; C2arC2arC3asC2arC2ar; C2arC2arC3asC2arC3as; C2arC2arC3asC2arN2ar; C2arC2arC3asC2arS2ar; C2arC2arC3asC2scC2sc; C2arC2arC3asC2scC3as; C2arC2arC3asC2scN2sc; C2arC2arC3asC2scO1sc; C2arC2arC3asC2scO2sc; C2arC2arC3asC2srC2sr; C2arC2arC3asC2srC3ds; C2arC2arC3asC2tcN1tc; C2arC2arC3asC3asC2ar; C2arC2arC3asC3asC2sc; C2arC2arC3asC3asC2sr; C2arC2arC3asC3asC3as; C2arC2arC3asC3asC3ds; C2arC2arC3asC3asC4sc; C2arC2arC3asC3asCl1sc; C2arC2arC3asC3asF1sc; C2arC2arC3asC3asN2ar; C2arC2arC3asC3asN3as; C2arC2arC3asC3asN3sc; C2arC2arC3asC3asO2ar; C2arC2arC3asC3asO2sc; C2arC2arC3asC3asO2sr; C2arC2arC3asC3asS2ar; C2arC2arC3asC3dcC3as; C2arC2arC3asC3dcC4sc; C2arC2arC3asC3dcN1sc; C2arC2arC3asC3dcO1dc; C2arC2arC3asC3dcO1sc; C2arC2arC3asC3dsC2dr; C2arC2arC3asC3dsC2sr; C2arC2arC3asC3dsC3as; C2arC2arC3asC3dsC3ds; C2arC2arC3asC3dsN2dr; C2arC2arC3asC3dsS2sr; C2arC2arC3asC3ssC3ss; C2arC2arC3asC3ssN2dr; C2arC2arC3asC3ssS2sr; C2arC2arC3asC4scF1sc; C2arC2arC3asN2arC2ar; C2arC2arC3asN2arC3as; C2arC2arC3asN2scC3dc; C2arC2arC3asN2scS4wc; C2arC2arC3asN3asC2ar; C2arC2arC3asN3asC3as; C2arC2arC3asN3asC3ss; C2arC2arC3asN3asN2ar; C2arC2arC3asN3dcO1dc; C2arC2arC3asN3dcO1sc; C2arC2arC3asO2arC3as; C2arC2arC3asO2scC2sc; C2arC2arC3asO2scC3sc; C2arC2arC3asO2scC4sc; C2arC2arC3asO2srC2sr; C2arC2arC3asS2arC2ar; C2arC2arC3asS2arC3as; C2arC2arC3asS2scC2sc; C2arC2arC3asS2srC2sr; C2arC2arC3asS3dcO1dc; C2arC2arC3asS4wcC2sc; C2arC2arC3asS4wcC3as; C2arC2arC3asS4wcN1sc; C2arC2arC3asS4wcN2sc; C2arC2arC3asS4wcN3sc; C2arC2arC3asS4wcO1dc; C2arC2arN2arC2arC2ar; C2arC2arN2arC2arC3as; C2arC2arN2arC3asC2ar; C2arC2arN2arC3asC3as; C2arC2arN2arC3asN3as; C2arC2arN2arN3asC3as; C2arC2arN3asC3asC2ar; C2arC2arN3asC3asC3as; C2arC2arN3asC3asN2ar; C2arC2arS2arC2arC3as; C2arC2arS2arC3asC2ar; C2arC2arS2arC3asC3as; C2arC2arS2arC3asC3ss; C2arC3asC2arC2arC3as; C2arC3asC2arC2arN2ar; C2arC3asC2arC2arS2ar; C2arC3asC2arC3asC2ar; C2arC3asC2arC3asC2sc; C2arC3asC2arC3asC2sr; C2arC3asC2arC3asC3as; C2arC3asC2arC3asC4sc; C2arC3asC2arC3asCl1sc; C2arC3asC2arC3asF1sc; C2arC3asC2arC3asN1sc; C2arC3asC2arC3asN2ar; C2arC3asC2arC3asN2sc; C2arC3asC2arC3asN3as; C2arC3asC2arC3asN3dc; C2arC3asC2arC3asN3sc; C2arC3asC2arC3asO2ar; C2arC3asC2arC3asO2sc; C2arC3asC2arC3asO2sr; C2arC3asC2arC3asS2ar; C2arC3asC2arC3asS2sc; C2arC3asC2arC3asS4wc; C2arC3asC2arN2arC2ar; C2arC3asC2arN2arC3as; C2arC3asC2arS2arC2ar; C2arC3asC2arS2arC3as; C2arC3asC2scC2scC2sc; C2arC3asC2scC2scC3as; C2arC3asC2scC2scC3dc; C2arC3asC2scC2scN3as; C2arC3asC2scC2tcN1tc; C2arC3asC2scC3asN2ar; C2arC3asC2scC3asS2ar; C2arC3asC2scC4scF1sc; C2arC3asC2scN2scC3as; C2arC3asC2scO2scC2sc; C2arC3asC2scO2scC3as; C2arC3asC2scO2scC3dc; C2arC3asC2scS2scC3as; C2arC3asC2scS4wcO1dc; C2arC3asC2srC2srC2sr; C2arC3asC2srC2srO2sr; C2arC3asC2srC3dsC3as; C2arC3asC2srC3dsC3ds; C2arC3asC3asC2arC3as; C2arC3asC3asC2arN2ar; C2arC3asC3asC2arN3as; C2arC3asC3asC2arS2ar; C2arC3asC3asC2srC2sr; C2arC3asC3asC2srC3ds; C2arC3asC3asC3asC2ar; C2arC3asC3asC3asC2sc; C2arC3asC3asC3asC2tc; C2arC3asC3asC3asC3as; C2arC3asC3asC3asC4sc; C2arC3asC3asC3asCl1sc; C2arC3asC3asC3asF1sc; C2arC3asC3asC3asN1sc; C2arC3asC3asC3asN2ar; C2arC3asC3asC3asN3as; C2arC3asC3asC3asN3dc; C2arC3asC3asC3asN3sc; C2arC3asC3asC3asO1sc; C2arC3asC3asC3asO2ar; C2arC3asC3asC3asO2sc; C2arC3asC3asC3asO2sr; C2arC3asC3asC3asS2ar; C2arC3asC3asC3asS4wc; C2arC3asC3asC3dsC2sr; C2arC3asC3asC3dsC3as; C2arC3asC3asC3dsC3ds; C2arC3asC3asC3dsN2dr; C2arC3asC3asC3dsS2sr; C2arC3asC3asC4scF1sc; C2arC3asC3asN2arC2ar; C2arC3asC3asN2arC3as; C2arC3asC3asN2arN2ar; C2arC3asC3asN2arN3as; C2arC3asC3asN2arO2ar; C2arC3asC3asN3asC2ar; C2arC3asC3asN3asC3as; C2arC3asC3asN3asC3ss; C2arC3asC3asN3asN2ar; C2arC3asC3asO2arC3as; C2arC3asC3asO2srC2sr; C2arC3asC3asS2arC2ar; C2arC3asC3asS2arC3as; C2arC3asC3asS2srC2sr; C2arC3asC3asS4wcO1dc; C2arC3asC3dcC3asC2ar; C2arC3asC3dcC3asC3as; C2arC3asC3dcC4scF1sc; C2arC3asC3dcN2scC3as; C2arC3asC3dcO2scC2sc; C2arC3asC3dcO2scN1sc; C2arC3asC3dcO2scN3sc; C2arC3asC3dsC2drC2sr; C2arC3asC3dsC2drC4ss; C2arC3asC3dsC2srC2sr; C2arC3asC3dsC2srC3as; C2arC3asC3dsC2srC4ss; C2arC3asC3dsC3asC2ar; C2arC3asC3dsC3asC3as; C2arC3asC3dsC3dsC2dr; C2arC3asC3dsC3dsC2sr; C2arC3asC3dsC3dsC3as; C2arC3asC3dsN2drC3ss; C2arC3asC3dsS2srC3ss; C2arC3asC3scC4scF1sc; C2arC3asC3scO2scC3as; C2arC3asC3ssC3ssC3as; C2arC3asC3ssC3ssN2dr; C2arC3asC3ssC3ssS2sr; C2arC3asC3ssN2drC3ds; C2arC3asC3ssS2srC3ds; C2arC3asN2arC2arC3as; C2arC3asN2arC3asC2ar; C2arC3asN2arC3asC3as; C2arC3asN2arC3asN3as; C2arC3asN2arC3asO2ar; C2arC3asN2arC3asS2ar; C2arC3asN2arN3asC3as; C2arC3asN2arO2arC3as; C2arC3asN2scC3dcC2sc; C2arC3asN2scC3dcC3as; C2arC3asN2scC3dcO1dc; C2arC3asN2scS4wcO1dc; C2arC3asN3asC2arC3as; C2arC3asN3asC3asC2ar; C2arC3asN3asC3asC2sc; C2arC3asN3asC3asC3as; C2arC3asN3asC3asC3ds; C2arC3asN3asC3asC4sc; C2arC3asN3asC3asN2ar; C2arC3asN3asC3ssC2sr; C2arC3asN3asN2arC2ar; C2arC3asN3asN2arC3as; C2arC3asO2arC3asC2ar; C2arC3asO2arC3asC3as; C2arC3asO2arN2arC3as; C2arC3asO2scC2scC3as; C2arC3asO2scC3scC3as; C2arC3asO2scC3scC4sc; C2arC3asO2scC4scF1sc; C2arC3asO2srC2srC2sr; C2arC3asO2srC2srO2sr; C2arC3asS2arC2arC3as; C2arC3asS2arC3asC2ar; C2arC3asS2arC3asC3as; C2arC3asS2arC3asCl1sc; C2arC3asS2arC3asN2ar; C2arC3asS2scC2scC3as; C2arC3asS2srC2srC2sr; C2arC3asS4wcC3asC2ar; C2arC3asS4wcC4scF1sc; C2arN2arC2arC2arC3as; C2arN2arC2arC3asC3as; C2arN2arC2arC3asO2sc; C2arN2arC3asC2arC3as; C2arN2arC3asC3asC3as; C2arN2arC3asC3asN2ar; C2arN2arC3asC3asN3as; C2arN2arC3asN3asC2ar; C2arN2arC3asN3asC3as; C2arN2arC3asS2arC3as; C2arN2arN2arC3asC3as; C2arN2arN3asC3asC3as; C2arN3asC2scC2scC3as; C2arN3asC3asC2arC3as; C2arN3asC3asC3asC3as; C2arN3asC3asC3asN2ar; C2arN3asC3asC3asS2ar; C2arN3asC3asN2arC3as; C2arN3asN2arC3asC3as; C2arO2arC3asN2arC3as; C2arS2arC2arC2arC3as; C2arS2arC2arC3asC3as; C2arS2arC2arC3asC3ss; C2arS2arC3asC2arC3as; C2arS2arC3asC3asC3as; C2arS2arC3asC3asN2ar; C2arS2arC3asC3asN3as; C2arS2arC3asC3asS2ar; C2arS2arC3asC3ssC3ss; C2arS2arC3asC3ssN2dr; C2arS2arC3asN2arC3as; C2dcC2scN3asC2arC3as; C2dcC2scN3asC3asC3as; C2dcC2scN3asC3asC4sc; C2dcC2scN3asN2arC3as; C2dcC3asC2arC3asC3as; C2dcC3asC2arC3asN3as; C2dcC3asC2arN3asC3as; C2dcC3asC3asN3asC3as; C2dcC3asN2arC3asC3as; C2dcC3asN2arC3asN3as; C2drC2srC2srC2srC2sr; C2drC3dsC2srC2srC2sr; C2drC3dsC3asC2arC3as; C2drC3dsC3asN3asC3as; C2drC3dsC3asN3asN2ar; C2drC3dsC3dsC2drC4ss; C2drC4ssC2drC3dsC3as; C2drC4ssC2drC3dsC3ds; C2scC2scC2scC3asN2ar; C2scC2scC2scC3asS2ar; C2scC2scC3asC3asC3as; C2scC2scC3asC3asC4sc; C2scC2scC3asC3asN2ar; C2scC2scC3asC3asN3as; C2scC2scC3asN2arC3as; C2scC2scC3asN3asC3as; C2scC2scC3asS2arC3as; C2scC2scN3asC2arC3as; C2scC2scN3asC3asC3as; C2scC2scN3asC3asC4sc; C2scC2scN3asN2arC3as; C2scC3asC2arC2arC3as; C2scC3asC2arC3asC3as; C2scC3asC2arC3asCl1sc; C2scC3asC2arC3asN3as; C2scC3asC2arN3asC3as; C2scC3asC3asC3asC3as; C2scC3asC3asC3asN2ar; C2scC3asC3asC3asN3as; C2scC3asC3asC4scF1sc; C2scC3asC3asN2arN3as; C2scC3asC3asN3asC3as; C2scC3asC3asN3asN2ar; C2scC3asN2arC3asC3as; C2scC3asN2arC3asN3as; C2scC3asN2arN3asC3as; C2scC3asN3asC3asC3as; C2scC3asO2arN2arC3as; C2scC3asS2arC3asC3as; C2scC4ssC2srC3dsC3as; C2scC4ssC2srC3dsC3ds; C2scN2scC3asN2arC3as; C2scN2scC3asS2arC3as; C2scN3asC2arC3asC3as; C2scN3asC3asC3asC3as; C2scN3asC3asC4scF1sc; C2scN3asN2arC3asC3as; C2scN3scO2scC3dcC3as; C2scN3scO2scC3dcO1dc; C2scO2scC2scC3asN2ar; C2scO2scC3asC2arC3as; C2scO2scC3asN2arC3as; C2scO2scC3asS2arC3as; C2scO2scC3dcC2scN3as; C2scO2scC3dcC3asN2ar; C2scO2scC3dcC3asS2ar; C2srC2drC3dsC2srC2sr; C2srC2drC3dsC3asN3as; C2srC2srC2drC3dsC2sr; C2srC2srC2drC3dsC3as; C2srC2srC2srC2drC3ds; C2srC2srC2srC2srC2sr; C2srC2srC2srC2srC3ds; C2srC2srC2srC2srC4ss; C2srC2srC2srC3asC3as; C2srC2srC2srC3dsC3as; C2srC2srC2srC3dsC3ds; C2srC2srC2srC4ssC2sr; C2srC2srC2srS2srC3as; C2srC2srC3asC2arC3as; C2srC2srC3asC3asC2sr; C2srC2srC3asC3asO2sr; C2srC2srC3asC3asS2sr; C2srC2srC3dsC3asC3as; C2srC2srC3dsC3asN3as; C2srC2srC3dsC3dsC2sr; C2srC2srC3dsC3dsC3as; C2srC2srC3ssC2srC2sr; C2srC2srC3ssN3asC3as; C2srC2srC4ssC2drC3ds; C2srC2srC4ssC2srC2sr; C2srC2srC4ssC2srC3ds; C2srC2srO2srC3asC3as; C2srC2srS2srC3asC3as; C2srC3asC2arC2arC3as; C2srC3asC2arC3asC3as; C2srC3asC3asC2arC3as; C2srC3asC3asC3dsC3as; C2srC3asC3asC3dsC3ds; C2srC3asC3asO2srC2sr; C2srC3asC3asS2srC2sr; C2srC3dsC3asC2arC3as; C2srC3dsC3asC3asCl1sc; C2srC3dsC3asC3asF1sc; C2srC3dsC3asN3asC3as; C2srC3dsC3asN3asN2ar; C2srC3dsC3dsC2srC4ss; C2srC3dsC3dsC3asC3as; C2srC3ssC2srC2srC3ss; C2srC3ssN3asC3asC3as; C2srC4ssC2drC3dsC3as; C2srC4ssC2drC3dsC3ds; C2srC4ssC2srC3dsC3as; C2srC4ssC2srC3dsC3ds; C2srO2srC3asC2arC3as; C2srO2srC3asC3asC3as; C2srO2srC3asC3asO2sr; C2tcC2scC3asC2arC3as; C2tcC2scC3asC2arN3as; C2tcC2scC3asN2arC3as; C2tcC2scC3asN2arN3as; C2tcC2scC3asS2arC3as; C2tcC3asC2arC2arC3as; C2tcC3asC2arC3asC3as; C2tcC3asC2arC3asN3as; C2tcC3asC2arN2arN3as; C2tcC3asC2arN3asC3as; C2tcC3asC3asC3asC3as; C2tcC3asC3asC3asN3as; C2tcC3asC3asN3asC3as; C2tcC3asC3asN3asN2ar; C2tcC3asN2arC3asC3as; C2tcC3asN2arC3asN3as; C2tcC3asN2arN3asC3as; C3asC2arC2arC2arC3as; C3asC2arC2arC2arN2ar; C3asC2arC2arC2arN3as; C3asC2arC2arC2arS2ar; C3asC2arC2arC3asC3as; C3asC2arC2arC3asC3dc; C3asC2arC2arC3asC3ds; C3asC2arC2arC3asC3ss; C3asC2arC2arC3asC4sc; C3asC2arC2arC3asCl1sc; C3asC2arC2arC3asF1sc; C3asC2arC2arC3asN1sc; C3asC2arC2arC3asN2ar; C3asC2arC2arC3asN2sc; C3asC2arC2arC3asN3as; C3asC2arC2arC3asN3dc; C3asC2arC2arC3asN3sc; C3asC2arC2arC3asO1sc; C3asC2arC2arC3asO2ar; C3asC2arC2arC3asO2sc; C3asC2arC2arC3asO2sr; C3asC2arC2arC3asS2ar; C3asC2arC2arC3asS2sc; C3asC2arC2arC3asS2sr; C3asC2arC2arC3asS3dc; C3asC2arC2arC3asS4wc; C3asC2arC2arN2arC3as; C3asC2arC2arN2arN3as; C3asC2arC2arS2arC3as; C3asC2arC3asC2arC3as; C3asC2arC3asC2arN2ar; C3asC2arC3asC2arS2ar; C3asC2arC3asC2dcO1dc; C3asC2arC3asC2scC4sc; C3asC2arC3asC2scF1sc; C3asC2arC3asC2scN3sc; C3asC2arC3asC2scO1sc; C3asC2arC3asC2scO2sc; C3asC2arC3asC2tcN1tc; C3asC2arC3asC3asC3as; C3asC2arC3asC3asC3ds; C3asC2arC3asC3asC4sc; C3asC2arC3asC3asCl1sc; C3asC2arC3asC3asF1sc; C3asC2arC3asC3asN2ar; C3asC2arC3asC3asN2sc; C3asC2arC3asC3asN3as; C3asC2arC3asC3asN3sc; C3asC2arC3asC3asO2ar; C3asC2arC3asC3asO2sc; C3asC2arC3asC3asO2sr; C3asC2arC3asC3asS2ar; C3asC2arC3asC3asS2sc; C3asC2arC3asC3asS2sr; C3asC2arC3asC3asS4wc; C3asC2arC3asC3dcC3as; C3asC2arC3asC3dcC4sc; C3asC2arC3asC3dcN2sc; C3asC2arC3asC3dcO1dc; C3asC2arC3asC3dcO1sc; C3asC2arC3asC3dcO2sc; C3asC2arC3asC3dsC3ds; C3asC2arC3asC3scC4sc; C3asC2arC3asC3scF1sc; C3asC2arC3asC3scO1sc; C3asC2arC3asC3scO2sc; C3asC2arC3asC4scF1sc; C3asC2arC3asN2arN3as; C3asC2arC3asN2arO2ar; C3asC2arC3asN2scC3dc; C3asC2arC3asN3asC3as; C3asC2arC3asN3asN2ar; C3asC2arC3asN3dcO1dc; C3asC2arC3asN3dcO1sc; C3asC2arC3asO2arC3as; C3asC2arC3asO2arN2ar; C3asC2arC3asO2scC3sc; C3asC2arC3asS4wcC4sc; C3asC2arC3asS4wcO1dc; C3asC2arN2arC2arC3as; C3asC2arN2arC3asC3as; C3asC2arN2arC3asO2sc; C3asC2arN2arC3asS2ar; C3asC2arN2arN2arC3as; C3asC2arN2arN3asC3as; C3asC2arN3asC3asC3as; C3asC2arN3asC3asN2ar; C3asC2arN3asN2arC3as; C3asC2arO2arC3asN2ar; C3asC2arS2arC3asC3as; C3asC2arS2arC3asN2ar; C3asC2scC2scC2scC3as; C3asC2scC2scC3asN2ar; C3asC2scC2scC3asS2ar; C3asC2scC2scC3dcO1dc; C3asC2scC2scC3dcO1sc; C3asC2scC2scN3asC3as; C3asC2scC2scN3asN2ar; C3asC2scC3asN2arC3as; C3asC2scC3asS2arC3as; C3asC2scN2scC3asN2ar; C3asC2scN2scC3asS2ar; C3asC2scO2scC2scC3as; C3asC2scO2scC3asN2ar; C3asC2scO2scC3asS2ar; C3asC2scO2scC3dcO1dc; C3asC2srC2srC2srC3as; C3asC2srC2srC2srS2sr; C3asC2srC2srO2srC3as; C3asC2srC3dsC3dsC3as; C3asC3asC2arC2arN2ar; C3asC3asC2arC2arS2ar; C3asC3asC2arC3asC3as; C3asC3asC2arC3asC3dc; C3asC3asC2arC3asC3ds; C3asC3asC2arC3asC3sc; C3asC3asC2arC3asC4sc; C3asC3asC2arC3asCl1sc; C3asC3asC2arC3asF1sc; C3asC3asC2arC3asN1sc; C3asC3asC2arC3asN2ar; C3asC3asC2arC3asN2sc; C3asC3asC2arC3asN3as; C3asC3asC2arC3asN3dc; C3asC3asC2arC3asN3sc; C3asC3asC2arC3asO2ar; C3asC3asC2arC3asO2sc; C3asC3asC2arC3asO2sr; C3asC3asC2arC3asS2sc; C3asC3asC2arC3asS4wc; C3asC3asC2arN2arC3as; C3asC3asC2arN2arN2ar; C3asC3asC2arN2arN3as; C3asC3asC2arN3asC3as; C3asC3asC2arN3asN2ar; C3asC3asC2arO2arC3as; C3asC3asC2arS2arC3as; C3asC3asC2scC4scF1sc; C3asC3asC2scO2scC3as; C3asC3asC2scO2scC3dc; C3asC3asC2srC2srO2sr; C3asC3asC2srC3dsC3as; C3asC3asC2srC3dsC3ds; C3asC3asC3asC2arN2ar; C3asC3asC3asC2arN3as; C3asC3asC3asC2arS2ar; C3asC3asC3asC2scO1sc; C3asC3asC3asC2tcN1tc; C3asC3asC3asC3asC3as; C3asC3asC3asC3asC3dc; C3asC3asC3asC3asC4sc; C3asC3asC3asC3asF1sc; C3asC3asC3asC3asN2ar; C3asC3asC3asC3asN3as; C3asC3asC3asC3asO2ar; C3asC3asC3asC3asO2sr; C3asC3asC3asC3asS2ar; C3asC3asC3asC3dcN1sc; C3asC3asC3asC3dcO1dc; C3asC3asC3asC3dcO1sc; C3asC3asC3asC3dcO2sc; C3asC3asC3asC4scF1sc; C3asC3asC3asN2arC3as; C3asC3asC3asN2arN2ar; C3asC3asC3asN2arN3as; C3asC3asC3asN2arO2ar; C3asC3asC3asN3asC3as; C3asC3asC3asN3asN2ar; C3asC3asC3asN3dcO1dc; C3asC3asC3asN3dcO1sc; C3asC3asC3asO2arC3as; C3asC3asC3asO2arN2ar; C3asC3asC3asS2arC3as; C3asC3asC3asS4wcO1dc; C3asC3asC3dcC4scF1sc; C3asC3asC3dsC2srC4ss; C3asC3asC3dsC3dsC3as; C3asC3asC3dsN2drC3ss; C3asC3asC3dsS2srC3ss; C3asC3asC3scC4scF1sc; C3asC3asC3scO2scC3as; C3asC3asN2arC3asC3as; C3asC3asN2arC3asC3dc; C3asC3asN2arC3asC3sc; C3asC3asN2arC3asC4sc; C3asC3asN2arC3asN2sc; C3asC3asN2arC3asN3as; C3asC3asN2arC3asO2ar; C3asC3asN2arC3asO2sc; C3asC3asN2arC3asS2ar; C3asC3asN2arN2arC3as; C3asC3asN2arN3asC3as; C3asC3asN2arO2arC3as; C3asC3asN3asC2scC3dc; C3asC3asN3asC3asC3as; C3asC3asN3asC3asC4sc; C3asC3asN3asN2arC3as; C3asC3asO2arC3asC3as; C3asC3asO2arN2arC3as; C3asC3asO2srC2srO2sr; C3asC3asS2arC3asC3as; C3asC3asS2arC3asC3dc; C3asC3asS2arC3asC4sc; C3asC3asS2arC3asCl1sc; C3asC3asS2arC3asN2ar; C3asC3asS2arC3asN2sc; C3asC3asS2arC3asO2sc; C3asC3asS4wcC4scF1sc; C3asC3dcC3asC3asN3as; C3asC3dsC2srC4ssC4sc; C3asC3dsC3dsC2drC4ss; C3asC3dsC3dsC2srC4ss; C3asC3dsN2drC3ssC3as; C3asC3dsN2drC3ssC3ss; C3asC3dsS2srC3ssC3as; C3asC3dsS2srC3ssC3ss; C3asC3ssC3ssC3asS2ar; C3asC3ssC3ssN2drC3ds; C3asC3ssC3ssS2srC3ds; C3asC3ssN2drC3dsS2sr; C3asC3ssS2srC3dsN2dr; C3asN2arC2arC2arN2ar; C3asN2arC2arC2arN3as; C3asN2arC2arC3asS2ar; C3asN2arC3asC2arN3as; C3asN2arC3asC2arO2ar; C3asN2arC3asC2arS2ar; C3asN2arC3asC2dcO1dc; C3asN2arC3asC2scF1sc; C3asN2arC3asC2scN1sc; C3asN2arC3asC2scO1sc; C3asN2arC3asC2scO2sc; C3asN2arC3asC2scS2sc; C3asN2arC3asC2scS4wc; C3asN2arC3asC2tcN1tc; C3asN2arC3asC3asN2ar; C3asN2arC3asC3asN3as; C3asN2arC3asC3asS2ar; C3asN2arC3asC3dcO1dc; C3asN2arC3asC3dcO1sc; C3asN2arC3asC3dcO2sc; C3asN2arC3asC3scF1sc; C3asN2arC3asC4scF1sc; C3asN2arC3asN3asC3as; C3asN2arC3asS2arC3as; C3asN2arN2arC3asC4sc; C3asN2arN3asC2scC3dc; C3asN2arN3asC3asC3ds; C3asN2arN3asC3asC4sc; C3asN2scC3dcC2scN3as; C3asN2scC3dcC3asN2ar; C3asN3asC2arC2arN2ar; C3asN3asC2arC3asC3dc; C3asN3asC2arC3asC3sc; C3asN3asC2arC3asC4sc; C3asN3asC2arC3asN2ar; C3asN3asC2scC3dcN2sc; C3asN3asC2scC3dcO1dc; C3asN3asC2scC3dcO2sc; C3asN3asC3asC3asC3dc; C3asN3asC3asC3asC3sc; C3asN3asC3asC3asCl1sc; C3asN3asC3asC3asF1sc; C3asN3asC3asC3asN1sc; C3asN3asC3asC3asN2ar; C3asN3asC3asC3asN3dc; C3asN3asC3asC3asO1sc; C3asN3asC3asC3asO2ar; C3asN3asC3asC3asO2sc; C3asN3asC3asC3asS2ar; C3asN3asC3asC3asS4wc; C3asN3asC3asC4scF1sc; C3asN3asN2arC3asC3dc; C3asN3asN2arC3asC3sc; C3asN3asN2arC3asC4sc; C3asN3asN2arC3asO2sc; C3asO2arC2arC3asN2ar; C3asO2arC3asC3asN3as; C3asO2scC2scC3asN2ar; C3asO2scC3scC4scF1sc; C3asO2srC2srC2srO2sr; C3asO2srC2srO2srC3as; C3asS2arC2arC3asN2ar; C3asS2arC3asC2arN2ar; C3asS2arC3asC3asN2ar; C3asS2arC3asC3asN3as; C3asS2arC3asC3asS2ar; C3asS2arC3asC3dcO1dc; C3asS2arC3asC3dcO2sc; C3asS2arC3asC4scF1sc; C3asS2scC2scC3asN2ar; C3dcC2scC2scC3asN3as; C3dcC2scN3asC3asC4sc; C3dcC3asC2arC3asN3as; C3dcC3asC3asC3asN3as; C3dcC3asN2arC3asN3as; C3dsC2drC4ssC2drC3ds; C3dsC2srC2srC2srC3ds; C3dsC2srC3asC3asC3ds; C3dsC2srC4ssC2scF1sc; C3dsC2srC4ssC2srC3ds; C3dsC2srC4ssC4scF1sc; C3dsC3asC2arC3asC4sc; C3dsC3asC2arC3asCl1sc; C3dsC3asC2arC3asF1sc; C3dsC3asC2arC3asN2ar; C3dsC3asC2arC3asO2sr; C3dsC3dsC2srC4ssC4sc; C3dsC3dsC3asC3asCl1sc; C3dsC3dsC3asC3asF1sc; C3dsN2drC3ssC3asS2ar; C3dsN2drC3ssC3ssS2sr; C3dsS2srC3ssC3ssN2dr; C3scC3asC2arC3asN3as; C3scC3asN2arC3asN3as; C3ssC2srC2srC3ssF1sc; C3ssC2srC2srC3ssN3as; C3ssC3asC2arC2arS2ar; C3ssC3ssC3asC2arS2ar; C3ssC3ssN2drC3dsS2sr; C3ssC3ssS2srC3dsN2dr; C3ssN2drC3dsS2srC3ss; C4scC2scC3asC3asN3as; C4scC3asC2arC3asF1sc; C4scC3asC2arC3asN3as; C4scC3asC3asC3asN2ar; C4scC3asC3asC3asN3as; C4scC3asN2arC3asN3as; C4scC3dcC3asC3asN3as; C4scC3scC3asC3asN3as; C4scS4wcC3asC3asN3as; Cl1scC3asC2arC3asCl1sc; Cl1scC3asC2arC3asN2sc; Cl1scC3asC2arC3asN3as; Cl1scC3asC2arC3asO2sc; Cl1scC3asC2arN2arN3as; Cl1scC3asC3asC2scO1sc; Cl1scC3asC3asC2tcN1tc; Cl1scC3asC3asC3asCl1sc; Cl1scC3asC3asC3asN2ar; Cl1scC3asC3asC3asN3as; Cl1scC3asC3asC3asS2ar; Cl1scC3asC3asC3dcN1sc; Cl1scC3asC3asC3dcO1dc; Cl1scC3asC3asC3dcO1sc; Cl1scC3asC3asC3dcO2sc; Cl1scC3asC3asC3dsN2dr; Cl1scC3asC3asC3dsS2sr; Cl1scC3asC3asC4scF1sc; Cl1scC3asC3asN2arN3as; Cl1scC3asC3asN3asN2ar; Cl1scC3asC3asS4wcO1dc; F1scC2scC3asC2arN3as; F1scC2scC3asN2arN3as; F1scC2scC4ssC2scF1sc; F1scC3asC2arC3asF1sc; F1scC3asC2arC3asN3as; F1scC3asC2arC3asO2sc; F1scC3asC2arN2arN3as; F1scC3asC3asC3asF1sc; F1scC3asC3asC3asN2ar; F1scC3asC3asC3asN3as; F1scC3asC3asC4scF1sc; F1scC3asC3asN2arN3as; F1scC3asC3asN3asN2ar; F1scC3scC3asC2arN3as; F1scC3scC3asN2arN3as; F1scC4scC3asC2arN3as; F1scC4scC3asC3asO1sc; F1scC4scC3asC3asO2sc; F1scC4scC3asN2arN2ar; F1scC4scC3asN2arN3as; F1scC4scC3asN3asN2ar; F1scC4scC4ssC4scF1sc; N1scC2scC3asC2arN3as; N1scC3asC2arN2arN3as; N1scC3asC3asN3asN2ar; N1scC3dcC3asN2arN3as; N1scO2scC3dcC3asN2ar; N1tcC2tcC2scC3asN2ar; N1tcC2tcC2scC3asS2ar; N1tcC2tcC3asC2arN2ar; N1tcC2tcC3asC2arN3as; N1tcC2tcC3asC3asN3as; N1tcC2tcC3asN2arN3as; N2arC2arC2arC3asN3as; N2arC2arC3asC3asN2ar; N2arC2arC3asC3asN3as; N2arC2arC3asC3asS2ar; N2arC2arC3asN3dcO1dc; N2arC2arC3asN3dcO1sc; N2arC2arC3asS4wcO1dc; N2arC3asC2arC3asN3as; N2arC3asC2arC3asO2ar; N2arC3asC2scS4wcO1dc; N2arC3asC3asC2arN3as; N2arC3asC3asC2arO2ar; N2arC3asC3asC2arS2ar; N2arC3asC3asC3asN2ar; N2arC3asC3asC3asN3as; N2arC3asC3asC3asO2ar; N2arC3asC3asC3asO2sc; N2arC3asC3asC3asO2sr; N2arC3asC3asN2arO2ar; N2arC3asC3asN3asN2ar; N2arC3asC3dcO2scN3sc; N2arN3asC2scC3dcN2sc; N2arN3asC2scC3dcO1dc; N2arN3asC2scC3dcO2sc; N2arN3asC3asC3asN3dc; N2arN3asC3asC3asO1sc; N2arN3asC3asC3asO2ar; N2arN3asC3asC3asO2sc; N2arN3asC3asC3asS2ar; N2arN3asC3asC3asS4wc; N2arO2arC3asC2scO1sc; N2drC3ssC3asC2arS2ar; N2scC3dcC3asN2arN3as; N3asC2arC3asC2dcO1dc; N3asC2arC3asC2scO1sc; N3asC2arC3asC2scO2sc; N3asC2arC3asC2scS2sc; N3asC2arC3asC2scS4wc; N3asC2arC3asC3asN3as; N3asC2arC3asC3dcO1dc; N3asC2arC3asC3dcO1sc; N3asC2arC3asC3dcO2sc; N3asC3asC2arC3asO2sc; N3asC3asC2arC3asS4wc; N3asC3asC3asC2arO2ar; N3asC3asC3asC2arS2ar; N3asC3asC3asC2dcO1dc; N3asC3asC3asC2scN3sc; N3asC3asC3asC2scO1sc; N3asC3asC3asC2scO2sc; N3asC3asC3asC3asN3sc; N3asC3asC3asC3asO2sc; N3asC3asC3asC3asO2sr; N3asC3asC3asC3dcO1dc; N3asC3asC3asC3scO1sc; N3asC3asC3asC3scO2sc; N3asC3asC3asN2arO2ar; N3asC3asC3asN3dcO1dc; N3asC3asC3asN3dcO1sc; N3asC3asC3asS4wcO1dc; N3asN2arC2arC3asN3dc; N3asN2arC2arC3asS4wc; N3asN2arC3asC2scO1sc; N3asN2arC3asC2scO2sc; N3asN2arC3asC3asO1sc; N3asN2arC3asC3asO2sc; N3asN2arC3asC3asS2ar; N3asN2arC3asC3dcO1dc; N3asN2arC3asC3dcO1sc; N3asN2arC3asC3dcO2sc; S2arC3asC3ssC3ssS2sr; "
     ]
    }
   ],
   "source": [
    "for i in tab.keys():\n",
    "    print(i+\"; \",end=\"\")"
   ]
  },
  {
   "cell_type": "code",
   "execution_count": 7,
   "metadata": {},
   "outputs": [
    {
     "data": {
      "text/plain": [
       "(467, 2024)"
      ]
     },
     "execution_count": 7,
     "metadata": {},
     "output_type": "execute_result"
    }
   ],
   "source": [
    "tab = tab.drop(\"key\",axis=1)\n",
    "tab.shape"
   ]
  },
  {
   "cell_type": "code",
   "execution_count": 8,
   "metadata": {},
   "outputs": [
    {
     "data": {
      "text/html": [
       "<div>\n",
       "<style scoped>\n",
       "    .dataframe tbody tr th:only-of-type {\n",
       "        vertical-align: middle;\n",
       "    }\n",
       "\n",
       "    .dataframe tbody tr th {\n",
       "        vertical-align: top;\n",
       "    }\n",
       "\n",
       "    .dataframe thead th {\n",
       "        text-align: right;\n",
       "    }\n",
       "</style>\n",
       "<table border=\"1\" class=\"dataframe\">\n",
       "  <thead>\n",
       "    <tr style=\"text-align: right;\">\n",
       "      <th></th>\n",
       "      <th>Br1scC3as</th>\n",
       "      <th>C1dcC2dc</th>\n",
       "      <th>C1scC2sc</th>\n",
       "      <th>C1scC3as</th>\n",
       "      <th>C1scC3dc</th>\n",
       "      <th>C1scC4sc</th>\n",
       "      <th>C1scC4ss</th>\n",
       "      <th>C1scN2sc</th>\n",
       "      <th>C1scN3as</th>\n",
       "      <th>C1scN3sc</th>\n",
       "      <th>...</th>\n",
       "      <th>N3asN2arC2arC3asS4wc</th>\n",
       "      <th>N3asN2arC3asC2scO1sc</th>\n",
       "      <th>N3asN2arC3asC2scO2sc</th>\n",
       "      <th>N3asN2arC3asC3asO1sc</th>\n",
       "      <th>N3asN2arC3asC3asO2sc</th>\n",
       "      <th>N3asN2arC3asC3asS2ar</th>\n",
       "      <th>N3asN2arC3asC3dcO1dc</th>\n",
       "      <th>N3asN2arC3asC3dcO1sc</th>\n",
       "      <th>N3asN2arC3asC3dcO2sc</th>\n",
       "      <th>S2arC3asC3ssC3ssS2sr</th>\n",
       "    </tr>\n",
       "  </thead>\n",
       "  <tbody>\n",
       "    <tr>\n",
       "      <th>0</th>\n",
       "      <td>0.0</td>\n",
       "      <td>0.0</td>\n",
       "      <td>0.0</td>\n",
       "      <td>1.0</td>\n",
       "      <td>0.0</td>\n",
       "      <td>0.0</td>\n",
       "      <td>0.0</td>\n",
       "      <td>0.0</td>\n",
       "      <td>0.0</td>\n",
       "      <td>0.0</td>\n",
       "      <td>...</td>\n",
       "      <td>0.0</td>\n",
       "      <td>0.0</td>\n",
       "      <td>0.0</td>\n",
       "      <td>0.0</td>\n",
       "      <td>0.0</td>\n",
       "      <td>0.0</td>\n",
       "      <td>0.0</td>\n",
       "      <td>0.0</td>\n",
       "      <td>0.0</td>\n",
       "      <td>0.0</td>\n",
       "    </tr>\n",
       "    <tr>\n",
       "      <th>1</th>\n",
       "      <td>0.0</td>\n",
       "      <td>0.0</td>\n",
       "      <td>0.0</td>\n",
       "      <td>0.0</td>\n",
       "      <td>0.0</td>\n",
       "      <td>0.0</td>\n",
       "      <td>0.0</td>\n",
       "      <td>0.0</td>\n",
       "      <td>0.0</td>\n",
       "      <td>0.0</td>\n",
       "      <td>...</td>\n",
       "      <td>0.0</td>\n",
       "      <td>0.0</td>\n",
       "      <td>0.0</td>\n",
       "      <td>0.0</td>\n",
       "      <td>0.0</td>\n",
       "      <td>0.0</td>\n",
       "      <td>0.0</td>\n",
       "      <td>0.0</td>\n",
       "      <td>0.0</td>\n",
       "      <td>0.0</td>\n",
       "    </tr>\n",
       "    <tr>\n",
       "      <th>2</th>\n",
       "      <td>0.0</td>\n",
       "      <td>0.0</td>\n",
       "      <td>0.0</td>\n",
       "      <td>0.0</td>\n",
       "      <td>0.0</td>\n",
       "      <td>0.0</td>\n",
       "      <td>0.0</td>\n",
       "      <td>0.0</td>\n",
       "      <td>0.0</td>\n",
       "      <td>0.0</td>\n",
       "      <td>...</td>\n",
       "      <td>0.0</td>\n",
       "      <td>0.0</td>\n",
       "      <td>0.0</td>\n",
       "      <td>0.0</td>\n",
       "      <td>0.0</td>\n",
       "      <td>0.0</td>\n",
       "      <td>0.0</td>\n",
       "      <td>0.0</td>\n",
       "      <td>0.0</td>\n",
       "      <td>0.0</td>\n",
       "    </tr>\n",
       "    <tr>\n",
       "      <th>3</th>\n",
       "      <td>0.0</td>\n",
       "      <td>0.0</td>\n",
       "      <td>0.0</td>\n",
       "      <td>1.0</td>\n",
       "      <td>0.0</td>\n",
       "      <td>0.0</td>\n",
       "      <td>0.0</td>\n",
       "      <td>0.0</td>\n",
       "      <td>0.0</td>\n",
       "      <td>0.0</td>\n",
       "      <td>...</td>\n",
       "      <td>0.0</td>\n",
       "      <td>0.0</td>\n",
       "      <td>0.0</td>\n",
       "      <td>0.0</td>\n",
       "      <td>0.0</td>\n",
       "      <td>0.0</td>\n",
       "      <td>0.0</td>\n",
       "      <td>0.0</td>\n",
       "      <td>0.0</td>\n",
       "      <td>0.0</td>\n",
       "    </tr>\n",
       "    <tr>\n",
       "      <th>4</th>\n",
       "      <td>0.0</td>\n",
       "      <td>0.0</td>\n",
       "      <td>0.0</td>\n",
       "      <td>1.0</td>\n",
       "      <td>0.0</td>\n",
       "      <td>0.0</td>\n",
       "      <td>0.0</td>\n",
       "      <td>0.0</td>\n",
       "      <td>0.0</td>\n",
       "      <td>0.0</td>\n",
       "      <td>...</td>\n",
       "      <td>0.0</td>\n",
       "      <td>0.0</td>\n",
       "      <td>0.0</td>\n",
       "      <td>0.0</td>\n",
       "      <td>0.0</td>\n",
       "      <td>0.0</td>\n",
       "      <td>0.0</td>\n",
       "      <td>0.0</td>\n",
       "      <td>0.0</td>\n",
       "      <td>0.0</td>\n",
       "    </tr>\n",
       "  </tbody>\n",
       "</table>\n",
       "<p>5 rows × 2024 columns</p>\n",
       "</div>"
      ],
      "text/plain": [
       "   Br1scC3as  C1dcC2dc  C1scC2sc  C1scC3as  C1scC3dc  C1scC4sc  C1scC4ss  \\\n",
       "0        0.0       0.0       0.0       1.0       0.0       0.0       0.0   \n",
       "1        0.0       0.0       0.0       0.0       0.0       0.0       0.0   \n",
       "2        0.0       0.0       0.0       0.0       0.0       0.0       0.0   \n",
       "3        0.0       0.0       0.0       1.0       0.0       0.0       0.0   \n",
       "4        0.0       0.0       0.0       1.0       0.0       0.0       0.0   \n",
       "\n",
       "   C1scN2sc  C1scN3as  C1scN3sc  ...  N3asN2arC2arC3asS4wc  \\\n",
       "0       0.0       0.0       0.0  ...                   0.0   \n",
       "1       0.0       0.0       0.0  ...                   0.0   \n",
       "2       0.0       0.0       0.0  ...                   0.0   \n",
       "3       0.0       0.0       0.0  ...                   0.0   \n",
       "4       0.0       0.0       0.0  ...                   0.0   \n",
       "\n",
       "   N3asN2arC3asC2scO1sc  N3asN2arC3asC2scO2sc  N3asN2arC3asC3asO1sc  \\\n",
       "0                   0.0                   0.0                   0.0   \n",
       "1                   0.0                   0.0                   0.0   \n",
       "2                   0.0                   0.0                   0.0   \n",
       "3                   0.0                   0.0                   0.0   \n",
       "4                   0.0                   0.0                   0.0   \n",
       "\n",
       "   N3asN2arC3asC3asO2sc  N3asN2arC3asC3asS2ar  N3asN2arC3asC3dcO1dc  \\\n",
       "0                   0.0                   0.0                   0.0   \n",
       "1                   0.0                   0.0                   0.0   \n",
       "2                   0.0                   0.0                   0.0   \n",
       "3                   0.0                   0.0                   0.0   \n",
       "4                   0.0                   0.0                   0.0   \n",
       "\n",
       "   N3asN2arC3asC3dcO1sc  N3asN2arC3asC3dcO2sc  S2arC3asC3ssC3ssS2sr  \n",
       "0                   0.0                   0.0                   0.0  \n",
       "1                   0.0                   0.0                   0.0  \n",
       "2                   0.0                   0.0                   0.0  \n",
       "3                   0.0                   0.0                   0.0  \n",
       "4                   0.0                   0.0                   0.0  \n",
       "\n",
       "[5 rows x 2024 columns]"
      ]
     },
     "execution_count": 8,
     "metadata": {},
     "output_type": "execute_result"
    }
   ],
   "source": [
    "tab.head()"
   ]
  },
  {
   "cell_type": "code",
   "execution_count": 9,
   "metadata": {},
   "outputs": [],
   "source": [
    "y = pd.read_csv(\"data_varvara/cox2/cox2_y.csv\")"
   ]
  },
  {
   "cell_type": "code",
   "execution_count": 10,
   "metadata": {},
   "outputs": [],
   "source": [
    "y = np.array(y)"
   ]
  },
  {
   "cell_type": "code",
   "execution_count": 11,
   "metadata": {},
   "outputs": [],
   "source": [
    "r = []\n",
    "for i in y:\n",
    "    s = i[0]\n",
    "    s = re.sub('inf', '1_000_000_000', str(s))\n",
    "    r.append(ast.literal_eval(s))"
   ]
  },
  {
   "cell_type": "code",
   "execution_count": 12,
   "metadata": {},
   "outputs": [],
   "source": [
    "y = np.array(r)\n",
    "for i in range(y.shape[0]):\n",
    "    if y[i,1] == 1_000_000_000:\n",
    "        y[i,1] = np.inf"
   ]
  },
  {
   "cell_type": "code",
   "execution_count": 13,
   "metadata": {},
   "outputs": [],
   "source": [
    "X = np.array(tab)"
   ]
  },
  {
   "cell_type": "code",
   "execution_count": null,
   "metadata": {},
   "outputs": [],
   "source": []
  },
  {
   "cell_type": "code",
   "execution_count": null,
   "metadata": {},
   "outputs": [],
   "source": []
  },
  {
   "cell_type": "code",
   "execution_count": 14,
   "metadata": {},
   "outputs": [],
   "source": [
    "mdl = LinearRegression(normalize=True)"
   ]
  },
  {
   "cell_type": "code",
   "execution_count": 15,
   "metadata": {},
   "outputs": [
    {
     "name": "stdout",
     "output_type": "stream",
     "text": [
      "HA 0\n",
      "HA 1\n",
      "HA 2\n",
      "HA 3\n",
      "HA 4\n",
      "HA 5\n",
      "HA 6\n",
      "HA 7\n",
      "HA 8\n",
      "HA 9\n",
      "HA 10\n",
      "HA 11\n",
      "HA 12\n",
      "HA 13\n",
      "HA 14\n",
      "HA 15\n",
      "HA 16\n",
      "HA 17\n",
      "HA 18\n",
      "HA 19\n",
      "HA 20\n",
      "HA 21\n",
      "HA 22\n",
      "HA 23\n",
      "HA 24\n",
      "HA 25\n",
      "HA 26\n",
      "HA 27\n",
      "HA 28\n",
      "HA 29\n",
      "HA 30\n",
      "HA 31\n",
      "HA 32\n",
      "HA 33\n",
      "HA 34\n",
      "HA 35\n",
      "HA 36\n",
      "HA 37\n",
      "HA 38\n",
      "HA 39\n",
      "HA 40\n",
      "HA 41\n",
      "HA 42\n",
      "HA 43\n",
      "HA 44\n",
      "HA 45\n",
      "HA 46\n",
      "HA 47\n",
      "HA 48\n",
      "HA 49\n"
     ]
    }
   ],
   "source": [
    "ans = []\n",
    "ind = 0\n",
    "for train_index, test_index in KFold(50).split(X):\n",
    "    print(\"HA\", ind)\n",
    "    ind+=1\n",
    "    X_train = X[train_index, :]\n",
    "    y_train = y[train_index,0]\n",
    "    \n",
    "    X_test = X[test_index, :]\n",
    "    y_test = y[test_index,0]\n",
    "    \n",
    "    mdl.fit(X_train, y_train)\n",
    "    for i in mdl.predict(X_test):\n",
    "        ans.append(i)\n",
    "    "
   ]
  },
  {
   "cell_type": "code",
   "execution_count": 19,
   "metadata": {},
   "outputs": [
    {
     "data": {
      "text/plain": [
       "array([-5.11059916e+12, -5.07175902e+12,  3.49519785e+13, ...,\n",
       "        1.03044059e+12, -3.87719150e+12,  1.71749274e+12])"
      ]
     },
     "execution_count": 19,
     "metadata": {},
     "output_type": "execute_result"
    }
   ],
   "source": [
    "mdl.coef_"
   ]
  },
  {
   "cell_type": "code",
   "execution_count": 20,
   "metadata": {},
   "outputs": [],
   "source": [
    "#КОЭФФИЦИЕНТЫ МОДЕЛИ очень большие, видно, что модель сильно переобучилась/"
   ]
  },
  {
   "cell_type": "code",
   "execution_count": 22,
   "metadata": {},
   "outputs": [
    {
     "data": {
      "text/plain": [
       "(2.2851894005613042e+29, 114363204835153.62)"
      ]
     },
     "execution_count": 22,
     "metadata": {},
     "output_type": "execute_result"
    }
   ],
   "source": [
    "MSE(ans,y[:,0]), MAE(ans,y[:,0])\n"
   ]
  },
  {
   "cell_type": "code",
   "execution_count": null,
   "metadata": {},
   "outputs": [],
   "source": [
    "\n",
    "\n"
   ]
  },
  {
   "cell_type": "code",
   "execution_count": null,
   "metadata": {},
   "outputs": [],
   "source": []
  },
  {
   "cell_type": "code",
   "execution_count": 23,
   "metadata": {},
   "outputs": [],
   "source": [
    "mdl = Ridge(alpha=1, normalize=True)"
   ]
  },
  {
   "cell_type": "code",
   "execution_count": 24,
   "metadata": {},
   "outputs": [],
   "source": [
    "ans = []\n",
    "for train_index, test_index in KFold(50).split(X):\n",
    "    X_train = X[train_index, :]\n",
    "    y_train = y[train_index,0]\n",
    "    \n",
    "    X_test = X[test_index, :]\n",
    "    y_test = y[test_index,0]\n",
    "    \n",
    "    mdl.fit(X_train, y_train)\n",
    "    for i in mdl.predict(X_test):\n",
    "        ans.append(i)"
   ]
  },
  {
   "cell_type": "code",
   "execution_count": 25,
   "metadata": {},
   "outputs": [
    {
     "data": {
      "text/plain": [
       "array([-0.68246949,  2.53800202,  1.20413029, ...,  9.29956417,\n",
       "        3.47965563,  1.15015775])"
      ]
     },
     "execution_count": 25,
     "metadata": {},
     "output_type": "execute_result"
    }
   ],
   "source": [
    "mdl.coef_"
   ]
  },
  {
   "cell_type": "code",
   "execution_count": 26,
   "metadata": {},
   "outputs": [
    {
     "data": {
      "text/plain": [
       "(1124.7655541931097, 21.123455433268838)"
      ]
     },
     "execution_count": 26,
     "metadata": {},
     "output_type": "execute_result"
    }
   ],
   "source": [
    "MSE(ans,y[:,0]), MAE(ans,y[:,0])"
   ]
  },
  {
   "cell_type": "code",
   "execution_count": null,
   "metadata": {},
   "outputs": [],
   "source": []
  },
  {
   "cell_type": "code",
   "execution_count": null,
   "metadata": {},
   "outputs": [],
   "source": []
  },
  {
   "cell_type": "code",
   "execution_count": 266,
   "metadata": {},
   "outputs": [],
   "source": [
    "mdl = Lasso(alpha=0.01, normalize=True)"
   ]
  },
  {
   "cell_type": "code",
   "execution_count": 267,
   "metadata": {},
   "outputs": [],
   "source": [
    "ans = []\n",
    "for train_index, test_index in KFold(X.shape[0]).split(X):\n",
    "    X_train = X[train_index, :]\n",
    "    y_train = y[train_index,0]\n",
    "    \n",
    "    X_test = X[test_index, :]\n",
    "    y_test = y[test_index,0]\n",
    "    \n",
    "    mdl.fit(X_train, y_train)\n",
    "    ans.append(mdl.predict(X_test)[0])"
   ]
  },
  {
   "cell_type": "code",
   "execution_count": 281,
   "metadata": {},
   "outputs": [],
   "source": [
    "my_coef = mdl.coef_"
   ]
  },
  {
   "cell_type": "code",
   "execution_count": 282,
   "metadata": {},
   "outputs": [
    {
     "data": {
      "text/plain": [
       "array([-0.00000000e+00, -1.23156955e+00, -0.00000000e+00,  0.00000000e+00,\n",
       "        0.00000000e+00, -0.00000000e+00, -0.00000000e+00,  1.33693848e+01,\n",
       "        0.00000000e+00, -0.00000000e+00,  0.00000000e+00, -7.82973104e-01,\n",
       "        3.78976653e+01, -0.00000000e+00, -2.77538550e+00,  0.00000000e+00,\n",
       "       -0.00000000e+00,  0.00000000e+00, -3.05253914e+00, -0.00000000e+00,\n",
       "        0.00000000e+00,  0.00000000e+00,  3.94089391e+01, -3.83919690e+00,\n",
       "       -0.00000000e+00, -0.00000000e+00, -0.00000000e+00,  2.43833132e+00,\n",
       "        3.60999671e+01,  0.00000000e+00,  0.00000000e+00, -2.74722339e+01,\n",
       "        0.00000000e+00,  2.67070406e+01, -0.00000000e+00, -0.00000000e+00,\n",
       "        3.59955772e+01,  0.00000000e+00,  8.44695027e+00, -6.17730888e+01,\n",
       "       -0.00000000e+00, -7.61093065e+00,  0.00000000e+00, -0.00000000e+00,\n",
       "        2.33906394e+00, -0.00000000e+00, -0.00000000e+00, -0.00000000e+00,\n",
       "        0.00000000e+00,  0.00000000e+00, -0.00000000e+00, -0.00000000e+00,\n",
       "        0.00000000e+00,  0.00000000e+00,  1.49979389e+01, -5.83819027e-01,\n",
       "       -0.00000000e+00, -0.00000000e+00, -2.59505714e+00,  1.64424507e+01,\n",
       "        0.00000000e+00, -4.23612283e+01, -0.00000000e+00, -0.00000000e+00,\n",
       "       -0.00000000e+00,  8.40957880e+00,  0.00000000e+00,  0.00000000e+00,\n",
       "        0.00000000e+00, -2.03468178e+01,  2.35207817e+01,  4.85378724e+00,\n",
       "       -1.85914258e+00, -0.00000000e+00,  5.19212216e-02,  0.00000000e+00,\n",
       "       -3.96372309e+00, -8.22769646e+00,  2.57750924e+00,  1.16259111e-01,\n",
       "        3.48363382e-01, -0.00000000e+00,  1.22899866e+00, -1.57571379e+00,\n",
       "       -4.27763339e-02, -4.47912709e-01,  1.47915560e+01, -0.00000000e+00,\n",
       "        4.01033277e+01,  2.24554501e+01, -0.00000000e+00, -1.94463418e+01,\n",
       "       -0.00000000e+00, -0.00000000e+00, -0.00000000e+00, -0.00000000e+00,\n",
       "       -2.58543723e+00, -5.60745095e+00, -0.00000000e+00,  0.00000000e+00,\n",
       "       -7.80058541e-02,  1.77324929e+00, -0.00000000e+00,  0.00000000e+00,\n",
       "        1.11198123e+00,  1.00853645e+00,  0.00000000e+00, -0.00000000e+00,\n",
       "        0.00000000e+00,  0.00000000e+00,  0.00000000e+00,  2.41425236e+01,\n",
       "       -0.00000000e+00, -7.60832250e-01, -0.00000000e+00, -1.20135373e+00,\n",
       "        0.00000000e+00, -2.72433507e-01,  0.00000000e+00, -0.00000000e+00,\n",
       "       -9.63792022e-01, -0.00000000e+00, -0.00000000e+00,  6.03060193e-03,\n",
       "        3.33424852e-15,  0.00000000e+00,  0.00000000e+00,  0.00000000e+00,\n",
       "       -0.00000000e+00,  3.02872868e+00, -0.00000000e+00,  0.00000000e+00,\n",
       "        2.65274648e+00, -2.92315136e-01, -0.00000000e+00,  9.52375818e-03,\n",
       "        0.00000000e+00, -0.00000000e+00, -1.69127295e+00, -0.00000000e+00,\n",
       "       -4.06926890e+00, -0.00000000e+00,  0.00000000e+00,  0.00000000e+00,\n",
       "       -0.00000000e+00,  7.97568654e-01,  0.00000000e+00,  2.68894701e+00,\n",
       "        3.39547219e+00, -0.00000000e+00, -0.00000000e+00, -1.76377322e-02,\n",
       "        3.89939809e-01,  0.00000000e+00,  4.39818648e-01,  4.07988763e+00,\n",
       "       -7.23283442e-02, -0.00000000e+00, -4.72612600e-05, -0.00000000e+00,\n",
       "        2.41338292e+00,  6.58611386e+00,  1.38141084e+01,  9.32747075e+00,\n",
       "       -1.25247690e+00, -6.95767350e+00,  2.63381774e+01, -9.78998352e-02,\n",
       "       -2.17423607e+00, -3.98796473e+00, -5.35982980e+00,  5.25433553e+00,\n",
       "        9.41279377e-01,  6.65896321e+00, -8.12596187e+00, -3.68299445e+00,\n",
       "        7.86501097e-01,  2.89720627e+01, -1.19029365e+01, -5.82318736e+01,\n",
       "       -4.61864463e+00, -1.55154990e+00])"
      ]
     },
     "execution_count": 282,
     "metadata": {},
     "output_type": "execute_result"
    }
   ],
   "source": [
    "my_coef"
   ]
  },
  {
   "cell_type": "code",
   "execution_count": 293,
   "metadata": {},
   "outputs": [
    {
     "data": {
      "text/plain": [
       "(1158.0172654997343, 21.992801414102722)"
      ]
     },
     "execution_count": 293,
     "metadata": {},
     "output_type": "execute_result"
    }
   ],
   "source": [
    "MSE(ans,y[:,0]), MAE(ans,y[:,0])"
   ]
  },
  {
   "cell_type": "code",
   "execution_count": 296,
   "metadata": {},
   "outputs": [],
   "source": [
    "res = []\n",
    "for i in range(len(my_coef)):\n",
    "    if abs(my_coef[i]) > 1e-8:\n",
    "        res.append(i)\n",
    "        "
   ]
  },
  {
   "cell_type": "code",
   "execution_count": null,
   "metadata": {},
   "outputs": [],
   "source": []
  },
  {
   "cell_type": "code",
   "execution_count": 297,
   "metadata": {
    "scrolled": true
   },
   "outputs": [
    {
     "name": "stdout",
     "output_type": "stream",
     "text": [
      "1 7 11 12 14 18 22 23 27 28 31 33 36 38 39 41 44 54 55 58 59 61 65 69 70 71 72 74 76 77 78 79 80 82 83 84 85 86 88 89 91 96 97 100 101 104 105 111 113 115 117 120 123 129 132 133 135 138 140 145 147 148 151 152 154 155 156 158 160 161 162 163 164 165 166 167 168 169 170 171 172 173 174 175 176 177 178 179 180 181 "
     ]
    }
   ],
   "source": [
    "for i in res:\n",
    "    print(i, end=\" \")"
   ]
  },
  {
   "cell_type": "code",
   "execution_count": 30,
   "metadata": {},
   "outputs": [],
   "source": [
    "mdl = RandomForestRegressor(n_jobs=-1, max_depth=10, min_samples_leaf=2, criterion=\"mse\", max_features=\"log2\")"
   ]
  },
  {
   "cell_type": "code",
   "execution_count": 31,
   "metadata": {},
   "outputs": [],
   "source": [
    "ans = []\n",
    "for train_index, test_index in KFold(50).split(X):\n",
    "    X_train = X[train_index, :]\n",
    "    y_train = y[train_index,0]\n",
    "    \n",
    "    X_test = X[test_index, :]\n",
    "    y_test = y[test_index,0]\n",
    "    \n",
    "    mdl.fit(X_train, y_train)\n",
    "    for i in mdl.predict(X_test):\n",
    "        ans.append(i)\n",
    "    "
   ]
  },
  {
   "cell_type": "code",
   "execution_count": 32,
   "metadata": {},
   "outputs": [
    {
     "data": {
      "text/plain": [
       "(1004.3095136728566, 21.88011990321476)"
      ]
     },
     "execution_count": 32,
     "metadata": {},
     "output_type": "execute_result"
    }
   ],
   "source": [
    "MSE(ans,y[:,0]), MAE(ans,y[:,0])"
   ]
  },
  {
   "cell_type": "code",
   "execution_count": 329,
   "metadata": {},
   "outputs": [],
   "source": [
    "importances = mdl.feature_importances_"
   ]
  },
  {
   "cell_type": "code",
   "execution_count": 347,
   "metadata": {},
   "outputs": [],
   "source": [
    "res = []\n",
    "for i in range(len(importances)):\n",
    "    if abs(importances[i]) > 1e-3:\n",
    "        res.append(i)"
   ]
  },
  {
   "cell_type": "code",
   "execution_count": 348,
   "metadata": {},
   "outputs": [
    {
     "name": "stdout",
     "output_type": "stream",
     "text": [
      "1 2 3 4 5 6 7 8 9 10 13 14 15 16 17 18 19 20 21 22 23 25 26 27 29 32 33 35 36 39 45 46 47 48 49 50 51 52 55 56 57 58 59 60 63 65 66 78 80 81 82 85 86 87 89 102 103 104 105 106 107 108 109 112 113 114 115 116 117 118 120 121 125 130 131 136 137 138 139 140 141 142 148 149 157 162 167 168 170 171 172 173 176 177 178 "
     ]
    }
   ],
   "source": [
    "for i in res:\n",
    "    print(i, end=\" \")"
   ]
  },
  {
   "cell_type": "code",
   "execution_count": 101,
   "metadata": {},
   "outputs": [],
   "source": [
    "X_expanded = np.zeros((X.shape[0], X.shape[1]**2))"
   ]
  },
  {
   "cell_type": "code",
   "execution_count": 102,
   "metadata": {},
   "outputs": [],
   "source": [
    "num = 0\n",
    "for i in range(X.shape[1]):\n",
    "    X_expanded[:,num] = X[:,i] * (X[:,i] - 1) / 2\n",
    "    num+=1\n",
    "    for j in range(i+1, X.shape[1]):\n",
    "        X_expanded[:,num] = X[:,i] * X[:,j]\n",
    "        num+=1"
   ]
  },
  {
   "cell_type": "code",
   "execution_count": 103,
   "metadata": {},
   "outputs": [
    {
     "data": {
      "text/plain": [
       "(467, 33124)"
      ]
     },
     "execution_count": 103,
     "metadata": {},
     "output_type": "execute_result"
    }
   ],
   "source": [
    "X_expanded.shape"
   ]
  },
  {
   "cell_type": "code",
   "execution_count": 33,
   "metadata": {},
   "outputs": [],
   "source": [
    "def plot_answer(ans, true):\n",
    "    \n",
    "    x = [i for i in range(len(ans))]\n",
    "    \n",
    "    fig = plt.figure(figsize=(17,10))\n",
    "    ax = fig.add_subplot(1, 1, 1)\n",
    "    ax.legend()\n",
    "    \n",
    "    ax.scatter(x, ans, alpha=0.8, c=\"blue\", label=\"Answer\")\n",
    "    ax.scatter(x, true, alpha=0.8, c=\"red\", label=\"True\")\n",
    "    ax.legend(loc='upper left', fontsize=20)\n",
    "    \n",
    "    \n",
    "    plt.show()"
   ]
  },
  {
   "cell_type": "code",
   "execution_count": 34,
   "metadata": {},
   "outputs": [
    {
     "name": "stderr",
     "output_type": "stream",
     "text": [
      "No handles with labels found to put in legend.\n"
     ]
    },
    {
     "data": {
      "image/png": "[encoded data removed]",
      "text/plain": [
       "<Figure size 1224x720 with 1 Axes>"
      ]
     },
     "metadata": {
      "needs_background": "light"
     },
     "output_type": "display_data"
    }
   ],
   "source": [
    "plot_answer(ans, y[:,0])"
   ]
  },
  {
   "cell_type": "code",
   "execution_count": 228,
   "metadata": {},
   "outputs": [
    {
     "data": {
      "text/plain": [
       "[-11.608766972100653,\n",
       " -2.5384544721006534,\n",
       " -2.5384544721006534,\n",
       " -6.6361107221006534,\n",
       " -2.0306419721006534,\n",
       " -9.784548222100653,\n",
       " 20.684201777899347,\n",
       " -24.983766972100653,\n",
       " 11.172483027899347,\n",
       " -19.550173222100653,\n",
       " 277078467719478.34,\n",
       " 387649059867947.9,\n",
       " 20.85926892778994,\n",
       " -4.265731072210059,\n",
       " 33.98426892778994,\n",
       " 86.10926892778994,\n",
       " 91.67176892778994,\n",
       " -40.76573107221006,\n",
       " 46.35926892778994,\n",
       " 67.10926892778994,\n",
       " 10.967685776805247,\n",
       " 1195029525490941.2,\n",
       " 37.24893577680525,\n",
       " 36.57706077680525,\n",
       " 1147832596426262.2,\n",
       " 14.936435776805247,\n",
       " 38.13956077680525,\n",
       " 44.67081077680525,\n",
       " 37.24893577680525,\n",
       " 4.561435776805247,\n",
       " -1.0803722100656472,\n",
       " 48.85712778993435,\n",
       " 70.95087778993435,\n",
       " 10.075877789934353,\n",
       " 3.513377789934353,\n",
       " -7.111622210065647,\n",
       " -0.8616222100656472,\n",
       " 12.325877789934353,\n",
       " 16.669627789934353,\n",
       " 13.107127789934353,\n",
       " 4.313208205689278,\n",
       " 16.75070820568928,\n",
       " -5.499291794310722,\n",
       " -2.4055417943107216,\n",
       " 169228648083079.6,\n",
       " 3.8600832056892784,\n",
       " -11.889916794310722,\n",
       " -1.1399167943107216,\n",
       " 6.110083205689278,\n",
       " 2.4850832056892784,\n",
       " 10.706747934901529,\n",
       " 19.68965809115153,\n",
       " 10.609091684901529,\n",
       " 16.09908191927653,\n",
       " 23.74312488802653,\n",
       " 6.512167856776529,\n",
       " 6.706259653651529,\n",
       " -9.865517690098471,\n",
       " -1.7671290182234713,\n",
       " 20.60689441927653,\n",
       " 16.430516055798684,\n",
       " 43.828953555798684,\n",
       " -2.307765194201316,\n",
       " 7.266453555798684,\n",
       " -11.842921444201316,\n",
       " 4.004734805798684,\n",
       " 60.797703555798684,\n",
       " -8.335108944201316,\n",
       " 16.024266055798684,\n",
       " -34.483546444201316,\n",
       " -25.375340754923414,\n",
       " 4.046534245076586,\n",
       " 12.640284245076586,\n",
       " 7.827784245076586,\n",
       " 10.640284245076586,\n",
       " -1.328465754923414,\n",
       " 18.859034245076586,\n",
       " -3.140965754923414,\n",
       " 6.890284245076586,\n",
       " 10.140284245076586,\n",
       " 2.4109865153172834,\n",
       " -5.689599422182717,\n",
       " -3.8634275471827166,\n",
       " -11.866357234682717,\n",
       " -2.1368650471827166,\n",
       " 14.411963077817283,\n",
       " 8.579931827817283,\n",
       " 25.057470890317283,\n",
       " 29.382666202817283,\n",
       " 5.477392765317283,\n",
       " 16.027778449808537,\n",
       " 3.7943800123085367,\n",
       " 6.717231574808537,\n",
       " 20.826606574808537,\n",
       " -2.6177293626914633,\n",
       " -8.613823112691463,\n",
       " -6.148979362691463,\n",
       " -10.876518425191463,\n",
       " -9.496635612691463,\n",
       " -15.996635612691463,\n",
       " 2.4227291985776773,\n",
       " 9.989135448577677,\n",
       " 17.231322948577677,\n",
       " 2.0418698235776773,\n",
       " 25.536010448577677,\n",
       " 10.391479198577677,\n",
       " -1249788983764.7961,\n",
       " -2.5968020514223227,\n",
       " 0.2899166985776773,\n",
       " 4.582885448577677,\n",
       " 12.328890645514221,\n",
       " -1696422383217.9446,\n",
       " -9.800015604485779,\n",
       " -14.557828104485779,\n",
       " 46.18826564551422,\n",
       " -7.315640604485779,\n",
       " 56.28982814551422,\n",
       " 146.8171718955142,\n",
       " 1728988538818504.2,\n",
       " -7.315640604485779,\n",
       " 17.10643731537199,\n",
       " 12.674796690371991,\n",
       " -8.836922059628009,\n",
       " 56.13573419037199,\n",
       " 40.97753106537199,\n",
       " 50.63964044037199,\n",
       " 57716050455744.15,\n",
       " 27.33299981537199,\n",
       " 27.76073419037199,\n",
       " 0.5888591903719913,\n",
       " -2.0692336706783365,\n",
       " 44.60654757932166,\n",
       " 25.450297579321663,\n",
       " 38429306289683.19,\n",
       " 64.74717257932167,\n",
       " 12.934672579321663,\n",
       " 22.241313204321663,\n",
       " -15.434468045678337,\n",
       " -13.684468045678337,\n",
       " 32.99131320432166,\n",
       " 5.374180579868707,\n",
       " 10.846836829868707,\n",
       " -12.032069420131293,\n",
       " 10.491368079868707,\n",
       " 35.38199307986871,\n",
       " -0.024256920131293214,\n",
       " 8.460118079868707,\n",
       " 32.98355557986871,\n",
       " -1.6687881701312932,\n",
       " -0.8289444201312932,\n",
       " 64.14479463894968,\n",
       " 61.457294638949676,\n",
       " 69.08229463894968,\n",
       " 27.582294638949673,\n",
       " 52.847919638949676,\n",
       " 50.066669638949676,\n",
       " 57.691669638949676,\n",
       " 71.64479463894968,\n",
       " 78.70729463894968,\n",
       " 16.207294638949673,\n",
       " 54.79576550875274,\n",
       " -2.329234491247263,\n",
       " 2.164906133752737,\n",
       " -5.819468866247263,\n",
       " 48.83482800875274,\n",
       " 36.83824597750274,\n",
       " 85534877185851.23,\n",
       " 48.58873425875274,\n",
       " -29.739390741247263,\n",
       " -41.73548449124726,\n",
       " -194493784384317.72,\n",
       " -15.716745851528387,\n",
       " -5091723991293240.0,\n",
       " 3804836235307386.5,\n",
       " 20.853566648471613,\n",
       " 17.916066648471613,\n",
       " 10.587941648471613,\n",
       " 25.650441648471613,\n",
       " 30.962941648471613,\n",
       " 26.980199563318777,\n",
       " 9.034887063318777,\n",
       " 19.152074563318777,\n",
       " 15.198949563318777,\n",
       " 26.816137063318777,\n",
       " 4.128637063318777,\n",
       " 21.695043313318777,\n",
       " 17.183324563318777,\n",
       " 6.253637063318777,\n",
       " -21.64321924126638,\n",
       " 0.22592138373362047,\n",
       " 8.97103857123362,\n",
       " 12.21224950873362,\n",
       " 5.0325620087336205,\n",
       " 3.2054135712336205,\n",
       " 8.96810888373362,\n",
       " 4.7571713837336205,\n",
       " 17.71713232123362,\n",
       " 13.50185322052402,\n",
       " 16.59560322052402,\n",
       " 4.249900095524019,\n",
       " 5.072165720524019,\n",
       " 33.91982197052402,\n",
       " 4.616599314274019,\n",
       " 8.11415790802402,\n",
       " -6.132912404475981,\n",
       " 16.31264423614902,\n",
       " -7.796257638509829,\n",
       " -6.999382638509829,\n",
       " -2.658074044759829,\n",
       " 4.741340017740171,\n",
       " -0.18151154475982878,\n",
       " 2.634894705240171,\n",
       " -9.606804513509829,\n",
       " -9.092644357259829,\n",
       " 13.517218923990171,\n",
       " 21.159406304585154,\n",
       " 14.100812554585154,\n",
       " 5.303937554585154,\n",
       " 2.850812554585154,\n",
       " 11.413312554585154,\n",
       " 9.928937554585154,\n",
       " 3.425031304585154,\n",
       " -5.367937445414846,\n",
       " -7.801531195414846,\n",
       " 8.190124781659392,\n",
       " 0.7526247816593923,\n",
       " 23.041687281659392,\n",
       " 14.424499781659392,\n",
       " 15.635437281659392,\n",
       " 25.979187281659392,\n",
       " 18.565124781659392,\n",
       " 13.041687281659392,\n",
       " 15.151062281659392,\n",
       " 8.797738864628826,\n",
       " 16.000863864628826,\n",
       " 12.844613864628826,\n",
       " 28.196176364628826,\n",
       " 22.883676364628826,\n",
       " 23.758676364628826,\n",
       " 14.094613864628826,\n",
       " 14.743051364628826,\n",
       " 12.258676364628826,\n",
       " 1.7970870496724913,\n",
       " 3.0548995496724913,\n",
       " 12.461149549672491,\n",
       " 7.875212049672491,\n",
       " 11.047087049672491,\n",
       " 1.0548995496724913,\n",
       " -9.866975450327509,\n",
       " -8.179475450327509,\n",
       " -1.4372879503275087,\n",
       " 9.369763155021836,\n",
       " 3.744763155021836,\n",
       " 4.651013155021836,\n",
       " -5.630236844978164,\n",
       " -2.958361844978164,\n",
       " 15.791638155021836,\n",
       " 2.744763155021836,\n",
       " 30.557263155021836,\n",
       " 7.197888155021836,\n",
       " 28.16670174672489,\n",
       " 18.46357674672489,\n",
       " 43.26045174672489,\n",
       " 33.58857674672489,\n",
       " 22.47920174672489,\n",
       " 13.16670174672489,\n",
       " 24.66670174672489,\n",
       " 15.35420174672489,\n",
       " 40.72920174672489,\n",
       " 3.335569650655021,\n",
       " 20.77306965065502,\n",
       " 20.83556965065502,\n",
       " 19.02306965065502,\n",
       " 18.89806965065502,\n",
       " 25.39806965065502,\n",
       " 43.14806965065502,\n",
       " 4.648069650655021,\n",
       " 14.773069650655021,\n",
       " 8.662772270742359,\n",
       " 16.28777227074236,\n",
       " 1.2877722707423587,\n",
       " 17.85027227074236,\n",
       " 26.97527227074236,\n",
       " 21.47527227074236,\n",
       " -1.1497277292576413,\n",
       " -1.0247277292576413,\n",
       " 51.78777227074236,\n",
       " 6.468610152838423,\n",
       " 6.452985152838423,\n",
       " -3.5001398471615772,\n",
       " -9.000139847161577,\n",
       " 21.687360152838423,\n",
       " 5.249860152838423,\n",
       " 20.312360152838423,\n",
       " 6.031110152838423,\n",
       " 20.577985152838423,\n",
       " 7.258677729257641,\n",
       " 15.133677729257641,\n",
       " -2.7413222707423586,\n",
       " 77.63367772925764,\n",
       " 15.383677729257641,\n",
       " 19.63367772925764,\n",
       " -11.366322270742359,\n",
       " -12.491322270742359,\n",
       " 35.38367772925764,\n",
       " 15.903976582969435,\n",
       " 26.153976582969435,\n",
       " 20.028976582969435,\n",
       " 22.966476582969435,\n",
       " 39.466476582969435,\n",
       " 22.997726582969435,\n",
       " 27.372726582969435,\n",
       " 19.466476582969435,\n",
       " 35.841476582969435,\n",
       " -18.023619486899563,\n",
       " 11.398255513100437,\n",
       " 110.44513051310044,\n",
       " 761687784605675.8,\n",
       " 46.33575551310044,\n",
       " 53.89825551310044,\n",
       " 59.57013051310044,\n",
       " 52.89825551310044,\n",
       " 42.83575551310044,\n",
       " 29.361875764192142,\n",
       " 11572549392018.518,\n",
       " -48.98187423580786,\n",
       " -10.044374235807858,\n",
       " 2.549375764192142,\n",
       " 4.049375764192142,\n",
       " 69.29937576419215,\n",
       " 94.42437576419215,\n",
       " 116.01812576419215,\n",
       " 12799657874330.234,\n",
       " -927604375243056.9,\n",
       " 12799657874374.422,\n",
       " 12799657874371.61,\n",
       " 12799657874374.734,\n",
       " 12799657874376.984,\n",
       " -323947056333055.6,\n",
       " -7560002406219497.0,\n",
       " 12799657874343.922,\n",
       " 4.350654885371178,\n",
       " -14.137626364628822,\n",
       " -9.914970114628822,\n",
       " 1.9756548853711777,\n",
       " -25.075126364628822,\n",
       " -7.196220114628822,\n",
       " 13.499092385371178,\n",
       " 7.678779885371178,\n",
       " 146.61237363537117,\n",
       " 49687167792295.78,\n",
       " -40.43115605895196,\n",
       " -62.05615605895196,\n",
       " -21.353031058951963,\n",
       " -54.98974980895196,\n",
       " -42.98584355895196,\n",
       " -48.98193730895196,\n",
       " -48.98193730895196,\n",
       " 19.818843941048037,\n",
       " 15.98848886462882,\n",
       " -42.01151113537118,\n",
       " 32.98848886462882,\n",
       " 32.95723886462882,\n",
       " 2061555091418443.8,\n",
       " -33.63651113537118,\n",
       " 36.30098886462882,\n",
       " 7.30098886462882,\n",
       " 19.67598886462882,\n",
       " 16.21323504366812,\n",
       " -25.90004620633188,\n",
       " 8.55356707491812,\n",
       " 0.13657488741812074,\n",
       " 22.30454363741812,\n",
       " 8.51596941866812,\n",
       " 8.21714129366812,\n",
       " 4.826516293668121,\n",
       " -6.733542300081879,\n",
       " -4.224664792576419,\n",
       " -3.3184147925764194,\n",
       " -15.31841479257642,\n",
       " 11.43939770742358,\n",
       " 1.9472102074235806,\n",
       " -10.08403979257642,\n",
       " 119426641135323.45,\n",
       " 119426641135311.5,\n",
       " 18.90033520742358,\n",
       " 8.338358569868994,\n",
       " 10.986796069868994,\n",
       " -0.49757893013100585,\n",
       " 10.924296069868994,\n",
       " -0.48195393013100585,\n",
       " -2.981953930131006,\n",
       " 13.924296069868994,\n",
       " 2.346171069868994,\n",
       " -1.3257039301310058,\n",
       " -16.38305270537664,\n",
       " -3.9274862991266417,\n",
       " -15.949947236626642,\n",
       " 17.26782620087336,\n",
       " -0.6306112991266417,\n",
       " 6.666263700873358,\n",
       " -5.380611299126642,\n",
       " 5.385013700873358,\n",
       " 15.377201200873358,\n",
       " 5.33978891239083,\n",
       " 5.84955453739083,\n",
       " 3.48432016239083,\n",
       " 18161210710916.78,\n",
       " 15179096328782.8,\n",
       " 145161868097765.88,\n",
       " 0.028265474890829978,\n",
       " 4.32514047489083,\n",
       " 15.28607797489083,\n",
       " 0.045547884825325013,\n",
       " 8.973282259825325,\n",
       " 15.070938509825325,\n",
       " 5.692032259825325,\n",
       " -9.706405240174675,\n",
       " 74342998922700.69,\n",
       " 53.871719759825325,\n",
       " 20.184219759825325,\n",
       " 12.785782259825325,\n",
       " 0.3685509893558958,\n",
       " 1.9701134893558958,\n",
       " 15.577535364355896,\n",
       " -9.078714635644104,\n",
       " -4.307230260644104,\n",
       " 22837298619132.43,\n",
       " 56.431050989355896,\n",
       " 35.048238489355896,\n",
       " -23.020120885644104,\n",
       " 11.79952598253275,\n",
       " -7.137974017467251,\n",
       " 10.67452598253275,\n",
       " -8.26297401746725,\n",
       " -11.20047401746725,\n",
       " -8.20047401746725,\n",
       " 456820108435353.25,\n",
       " -2.8254740174672506,\n",
       " -22.51297401746725,\n",
       " -17.70626441048035,\n",
       " -6.925014410480351,\n",
       " -24.67501441048035,\n",
       " 271243764033365.84,\n",
       " 4.887485589519649,\n",
       " -13.034389410480351,\n",
       " 13.418735589519649,\n",
       " 22.73123558951965,\n",
       " 110.68436058951966,\n",
       " -2839989906900.61,\n",
       " 5679979814027.922,\n",
       " 5679979814030.672,\n",
       " 2839989907060.015,\n",
       " 2839989907062.7964,\n",
       " 2839989907056.015,\n",
       " 2839989907026.2026,\n",
       " 2839989907019.156,\n",
       " 2839989907044.7026,\n",
       " 29.244534989082972,\n",
       " 21.182034989082972,\n",
       " 17.486722489082972,\n",
       " 9.424222489082972,\n",
       " 23.432034989082972,\n",
       " 11.674222489082972,\n",
       " 17.853909989082972,\n",
       " 6.142972489082972,\n",
       " 17.283597489082972]"
      ]
     },
     "execution_count": 228,
     "metadata": {},
     "output_type": "execute_result"
    }
   ],
   "source": [
    "ans"
   ]
  },
  {
   "cell_type": "code",
   "execution_count": null,
   "metadata": {},
   "outputs": [],
   "source": []
  },
  {
   "cell_type": "code",
   "execution_count": null,
   "metadata": {},
   "outputs": [],
   "source": []
  }
 ],
 "metadata": {
  "kernelspec": {
   "display_name": "Python 3",
   "language": "python",
   "name": "python3"
  },
  "language_info": {
   "codemirror_mode": {
    "name": "ipython",
    "version": 3
   },
   "file_extension": ".py",
   "mimetype": "text/x-python",
   "name": "python",
   "nbconvert_exporter": "python",
   "pygments_lexer": "ipython3",
   "version": "3.7.6"
  }
 },
 "nbformat": 4,
 "nbformat_minor": 4
}
