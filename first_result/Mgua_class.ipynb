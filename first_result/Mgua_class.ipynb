{
 "cells": [
  {
   "cell_type": "code",
   "execution_count": 3,
   "metadata": {},
   "outputs": [],
   "source": [
    "class MGUA():\n",
    "    \n",
    "    \n",
    "    def _init_(self, size_buf, num_selections):\n",
    "        self.size_buf = size_buf\n",
    "        self.num_selections = num_selections\n",
    "    \n",
    "    \n",
    "    def R_rise_2 (Eps, y, y_mean):\n",
    "        result1 = np.sum(Eps ** 2)\n",
    "        result2 = np.sum((y - y_mean) ** 2)\n",
    "        return 1 - result1 / result2\n",
    "    \n",
    "    def fit(X_train, y_train):\n",
    "        "
   ]
  },
  {
   "cell_type": "code",
   "execution_count": null,
   "metadata": {},
   "outputs": [],
   "source": []
  }
 ],
 "metadata": {
  "kernelspec": {
   "display_name": "Python 3",
   "language": "python",
   "name": "python3"
  },
  "language_info": {
   "codemirror_mode": {
    "name": "ipython",
    "version": 3
   },
   "file_extension": ".py",
   "mimetype": "text/x-python",
   "name": "python",
   "nbconvert_exporter": "python",
   "pygments_lexer": "ipython3",
   "version": "3.7.3"
  }
 },
 "nbformat": 4,
 "nbformat_minor": 2
}
