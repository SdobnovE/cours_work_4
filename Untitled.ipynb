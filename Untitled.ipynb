{
 "cells": [
  {
   "cell_type": "code",
   "execution_count": null,
   "metadata": {},
   "outputs": [],
   "source": []
  },
  {
   "cell_type": "code",
   "execution_count": null,
   "metadata": {},
   "outputs": [],
   "source": []
  },
  {
   "cell_type": "code",
   "execution_count": 1,
   "metadata": {},
   "outputs": [],
   "source": [
    "import random as rnd"
   ]
  },
  {
   "cell_type": "code",
   "execution_count": 389,
   "metadata": {},
   "outputs": [],
   "source": [
    "from sklearn.linear_model import LinearRegression\n",
    "import numpy as np\n",
    "import matplotlib.pyplot as plt\n",
    "from sklearn.metrics import r2_score\n",
    "import copy\n",
    "from scipy import stats\n",
    "\n",
    "class MGUA:\n",
    "    def __init__(self, size_buf=10, \n",
    "                 num_selections = 10,\n",
    "                 min_correlation = 0.95,\n",
    "                model=LinearRegression()):\n",
    "        '''\n",
    "            size_buf - размер буфера\n",
    "            num_selections - число селекций\n",
    "            min_correlation - минимальная корреляция для добавления в буфер\n",
    "        '''\n",
    "        self.size_buf = size_buf\n",
    "        self.num_selections = num_selections\n",
    "        self.min_correlation = min_correlation\n",
    "        self.model = model\n",
    "        \n",
    "        self.buf_r = np.array([0.0 for i in range(size_buf)])\n",
    "        self.buf_size_ar = np.array([0 for i in range(num_selections)])\n",
    "\n",
    "        self.buf_numbers = np.array([\n",
    "            [-1 for i in range(size_buf)] \n",
    "            for k in range(num_selections)])\n",
    "        \n",
    "        self.buf_numbers_1 = np.array(\n",
    "            [[-1 for i in range(size_buf)] \n",
    "             for k in range(num_selections)])\n",
    "\n",
    "        \n",
    "    \n",
    "    \n",
    "    def first_selection(self):\n",
    "        iter_buf = 0\n",
    "        m = len(self.data[0])\n",
    "        \n",
    "        n  = len(self.data)\n",
    "        \n",
    "        X1 = np.array([[float(i) for i in range(1)] for j in range(n)])\n",
    "        \n",
    "        for i in range(m):\n",
    "            X1[:,0] = self.data[:,i]\n",
    "            \n",
    "            self.model.fit(X1, self.y)\n",
    "            if iter_buf < self.size_buf:\n",
    "                tmp = self.model.predict(X1)\n",
    "                ar = np.array([])\n",
    "\n",
    "                for j in range (iter_buf):\n",
    "                    t = abs(np.corrcoef (self.buf[0, :,j], tmp)[0,1])\n",
    "                    ar = np.append (ar, t)\n",
    "                \n",
    "                if (iter_buf == 0) or (ar.max() < self.min_correlation):    \n",
    "                    self.buf_r[iter_buf] = r2_score(tmp, self.y)\n",
    "                    self.buf_numbers[0, iter_buf] = i\n",
    "                    \n",
    "                    self.buf[0, :, iter_buf] = tmp[:]\n",
    "                    iter_buf += 1\n",
    "\n",
    "            else:\n",
    "                tmp = self.model.predict(X1)\n",
    "                ind = self.buf_r.argmin()\n",
    "                ar = np.array([])\n",
    "                for j in range (self.buf.shape[2]):\n",
    "                    t = abs(np.corrcoef (self.buf[0, :,j], tmp)[0,1])\n",
    "                    ar = np.append (ar, t)\n",
    "                \n",
    "                if (\n",
    "                    (ar.max() < self.min_correlation) \n",
    "                    and \n",
    "                    (self.buf_r[ind] < r2_score(tmp, self.y))\n",
    "                   ):\n",
    "                    \n",
    "                    self.buf_r[ind] = r2_score(tmp, self.y)\n",
    "                    self.buf_numbers[0, ind] = i\n",
    "                    self.buf[0, :, ind] = tmp[:]\n",
    "                    \n",
    "        self.buf_numbers_1[0, :] = -2\n",
    "        \n",
    "        self.buf_size_ar[0] = iter_buf\n",
    "        \n",
    "    \n",
    "    \n",
    "    def __other_selections(self):\n",
    "        m = len(self.data[0])\n",
    "        n  = len(self.data)\n",
    "        \n",
    "        X2 = np.array([[float(i) for i in range(2)] for j in range(n)])\n",
    "        for k in range (1, self.num_selections):\n",
    "            iter_buf = 0\n",
    "            for i in range(self.buf_size_ar[k - 1]):\n",
    "                for j in range(0, m):  \n",
    "                    #print(data[:,i].shape)\n",
    "                    X2[:, 0] = self.buf[k - 1, :, i]\n",
    "                    X2[:, 1] = self.data[:, j]\n",
    "                    self.model.fit(X2, self.y)\n",
    "                    if iter_buf < self.size_buf:\n",
    "                        tmp = self.model.predict(X2)\n",
    "                        ar = np.array([])\n",
    "\n",
    "                        for j1 in range (iter_buf):\n",
    "                            t = abs(np.corrcoef (self.buf[k,:,j1], tmp)[0,1])\n",
    "                            ar = np.append (ar, t)\n",
    "                        \n",
    "\n",
    "                        if (iter_buf == 0) or (ar.max() < self.min_correlation):\n",
    "                            \n",
    "                            self.buf_r[iter_buf] = r2_score(tmp, self.y)\n",
    "                            self.buf_numbers[k, iter_buf] = j\n",
    "                            \n",
    "                            self.buf_numbers_1[k, iter_buf] = i\n",
    "                            self.buf[k, :,iter_buf] = tmp[:]\n",
    "                            iter_buf += 1\n",
    "\n",
    "                    else:\n",
    "                        tmp = self.model.predict(X2)\n",
    "                        ind = self.buf_r.argmin()\n",
    "                        ar = np.array([])\n",
    "                        for j1 in range (self.buf.shape[2]):\n",
    "                            #print(self.buf.shape, i, j1)\n",
    "                            t = abs(np.corrcoef (self.buf[k,:,j1], tmp)[0,1])\n",
    "                            ar = np.append (ar, t)\n",
    "                        if (\n",
    "                            (ar.max() < self.min_correlation) \n",
    "                            and \n",
    "                            (self.buf_r[ind] < r2_score(tmp, self.y))\n",
    "                        ):\n",
    "                            self.buf_r[ind] = r2_score(tmp, self.y)\n",
    "                            self.buf_numbers[k, ind] = j\n",
    "                            self.buf_numbers_1[k, ind] = i\n",
    "                            self.buf[k, :, ind] = tmp[:]\n",
    "            self.buf_size_ar[k] = iter_buf\n",
    "\n",
    "            print(\"selection\", k + 1, \"from\", self.num_selections)\n",
    "            \n",
    "            \n",
    "    def fit(self, X, y):\n",
    "        n = len(y)\n",
    "        self.buf = np.array(\n",
    "            [[[float(i) for i in range(self.size_buf)] for j in range(n)] \n",
    "                for k in range(self.num_selections)])\n",
    "\n",
    "        self.X1 = np.array([[float(i) for i in range(1)] for j in range(n)])\n",
    "        self.X2 = np.array([[float(i) for i in range(2)] for j in range(n)])\n",
    "        \n",
    "        \n",
    "        self.data = copy.deepcopy(X)\n",
    "        self.y = copy.deepcopy(y)\n",
    "        \n",
    "        \n",
    "        \n",
    "        self.first_selection()\n",
    "        self.__other_selections()\n",
    "        \n",
    "        lis = []\n",
    "       \n",
    "        \n",
    "        for i in range(self.buf_size_ar[self.num_selections - 1]):\n",
    "            lis.append([self.buf_numbers[self.num_selections - 1][i]])\n",
    "        \n",
    "        for i in range(self.num_selections - 1, 0, -1):\n",
    "            for j in range(len(lis)):\n",
    "                lis[j].append(self.buf_numbers[i - 1][self.buf_numbers_1[i,j]])\n",
    "        \n",
    "        for i in range(self.buf_size_ar[self.num_selections-1]):\n",
    "            lis[i].sort()\n",
    "        \n",
    "        for i in range(len(lis)):\n",
    "            lis[i] = np.unique(lis[i])\n",
    "        self.lis = lis\n",
    "        \n",
    "    \n",
    "    def predict_hist(self, X_test):\n",
    "        '''принимает один вектор \n",
    "           рисует гистограмму всех ответов\n",
    "        '''\n",
    "        predic = []\n",
    "        \n",
    "        X_test = X_test.reshape((1,-1))\n",
    "        for i in self.lis:\n",
    "            self.model.fit(self.data[:,np.unique(i)], self.y)\n",
    "            predic.append(self.model.predict(X_test[:,np.unique(i)]))\n",
    "            \n",
    "        predic = np.array(predic)\n",
    "        predic -= predic.mean()\n",
    "        predic /= predic.std()\n",
    "        print(stats.kstest(predic, 'norm'))\n",
    "        plt.hist(predic, bins = 8)\n",
    "        \n",
    "        \n",
    "    def predict(self, X):\n",
    "        predic = []\n",
    "        for i in self.lis:\n",
    "            self.model.fit(self.data[:,np.unique(i)], self.y)\n",
    "            predic.append(self.model.predict(X[:,np.unique(i)]))\n",
    "            \n",
    "        predic = np.array(predic).T\n",
    "        return predic.mean(axis=1)\n",
    "        \n",
    "    def score(self, X, y):\n",
    "        res = self.predict(X)\n",
    "        for i in self.lis:\n",
    "            self.model.fit(self.data[:,np.unique(i)], self.y)\n",
    "            print(self.model.score(X[:,np.unique(i)], y))\n",
    "            \n",
    "        return r2_score(res, y)\n",
    "    def get_indexes(self):\n",
    "        return self.lis"
   ]
  },
  {
   "cell_type": "code",
   "execution_count": 418,
   "metadata": {},
   "outputs": [
    {
     "data": {
      "text/plain": [
       "array([[ 2.,  1.,  0., ...,  2.,  1.,  1.],\n",
       "       [ 2.,  0.,  2., ...,  5.,  2.,  1.],\n",
       "       [ 2.,  0.,  2., ..., 10.,  4.,  2.],\n",
       "       ...,\n",
       "       [ 6.,  0.,  0., ..., 31., 13.,  2.],\n",
       "       [ 6.,  0.,  0., ..., 32., 14.,  2.],\n",
       "       [ 6.,  0.,  0., ..., 30., 12.,  2.]])"
      ]
     },
     "execution_count": 418,
     "metadata": {},
     "output_type": "execute_result"
    }
   ],
   "source": [
    "data = np.loadtxt(\"alkan/ALKAN.BLD\")\n",
    "data"
   ]
  },
  {
   "cell_type": "code",
   "execution_count": 401,
   "metadata": {},
   "outputs": [],
   "source": [
    "l = []\n",
    "word = 'A1 '\n",
    "with open('alkan/set-str/ALKAN.SET') as file:\n",
    "    for line in file:\n",
    "        if (word in line):\n",
    "            ape = float(line.split()[1])\n",
    "            l.append(ape)"
   ]
  },
  {
   "cell_type": "code",
   "execution_count": 402,
   "metadata": {},
   "outputs": [
    {
     "name": "stdout",
     "output_type": "stream",
     "text": [
      "Num_features = 74\n",
      "feature 0 = -88.63\n",
      "feature 1 = -42.07\n",
      "feature 2 = -0.5\n",
      "feature 3 = -11.73\n",
      "feature 4 = 36.074\n",
      "feature 5 = 27.852\n",
      "feature 6 = 9.503\n",
      "feature 7 = 68.74\n",
      "feature 8 = 60.271\n",
      "feature 9 = 63.282\n"
     ]
    }
   ],
   "source": [
    "print(\"Num_features =\", len(l))\n",
    "for i in range(min(len(l), 10)):\n",
    "    print(\"feature\", i,\"=\", l[i])"
   ]
  },
  {
   "cell_type": "code",
   "execution_count": 403,
   "metadata": {},
   "outputs": [],
   "source": [
    "y = np.array(l)\n",
    "    "
   ]
  },
  {
   "cell_type": "code",
   "execution_count": 404,
   "metadata": {},
   "outputs": [],
   "source": [
    "data1 = []\n",
    "for i in range(data.shape[1]):\n",
    "    for j in range(i, data.shape[1]):\n",
    "        if i == j:\n",
    "            data1.append(data[:,i]*(data[:,i] - 1) / 2)\n",
    "        else:\n",
    "            data1.append(data[:,i] * data[:,j])"
   ]
  },
  {
   "cell_type": "code",
   "execution_count": 405,
   "metadata": {},
   "outputs": [],
   "source": [
    "data1 = np.array(data1).T"
   ]
  },
  {
   "cell_type": "code",
   "execution_count": null,
   "metadata": {},
   "outputs": [],
   "source": [
    "\n"
   ]
  },
  {
   "cell_type": "code",
   "execution_count": 406,
   "metadata": {},
   "outputs": [
    {
     "data": {
      "text/plain": [
       "(74, 22155)"
      ]
     },
     "execution_count": 406,
     "metadata": {},
     "output_type": "execute_result"
    }
   ],
   "source": [
    "data1.shape"
   ]
  },
  {
   "cell_type": "code",
   "execution_count": 407,
   "metadata": {},
   "outputs": [],
   "source": [
    "mdl = MGUA(num_selections=4)"
   ]
  },
  {
   "cell_type": "code",
   "execution_count": 411,
   "metadata": {},
   "outputs": [
    {
     "name": "stdout",
     "output_type": "stream",
     "text": [
      "selection 2 from 4\n",
      "selection 3 from 4\n",
      "selection 4 from 4\n"
     ]
    }
   ],
   "source": [
    "mdl.fit(data,y)\n"
   ]
  },
  {
   "cell_type": "code",
   "execution_count": 409,
   "metadata": {},
   "outputs": [],
   "source": [
    "# mdl.score(data,y)"
   ]
  },
  {
   "cell_type": "code",
   "execution_count": 412,
   "metadata": {},
   "outputs": [
    {
     "name": "stdout",
     "output_type": "stream",
     "text": [
      "KstestResult(statistic=0.9759003058318235, pvalue=5.484458786619195e-15)\n"
     ]
    },
    {
     "data": {
      "image/png": "[encoded data removed]",
      "text/plain": [
       "<Figure size 432x288 with 1 Axes>"
      ]
     },
     "metadata": {
      "needs_background": "light"
     },
     "output_type": "display_data"
    }
   ],
   "source": [
    "mdl.predict_hist(data[7,:])"
   ]
  },
  {
   "cell_type": "code",
   "execution_count": 385,
   "metadata": {},
   "outputs": [],
   "source": [
    "from sklearn.model_selection import KFold"
   ]
  },
  {
   "cell_type": "code",
   "execution_count": 399,
   "metadata": {},
   "outputs": [
    {
     "name": "stdout",
     "output_type": "stream",
     "text": [
      "selection 2 from 10\n",
      "selection 3 from 10\n",
      "selection 4 from 10\n",
      "selection 5 from 10\n",
      "selection 6 from 10\n",
      "selection 7 from 10\n",
      "selection 8 from 10\n",
      "selection 9 from 10\n",
      "selection 10 from 10\n",
      "-1.4979282424953722\n",
      "-1.5186135225753548\n",
      "-1.4568030601951358\n",
      "-1.5168692481636594\n",
      "-1.4130356515154712\n",
      "-1.589038686519087\n",
      "-1.462156755012564\n",
      "-1.4831793268034277\n",
      "-1.5795274425901393\n",
      "-1.5482932098439819\n",
      "-560.1917242440585\n",
      "selection 2 from 10\n"
     ]
    },
    {
     "ename": "KeyboardInterrupt",
     "evalue": "",
     "output_type": "error",
     "traceback": [
      "\u001b[0;31m---------------------------------------------------------------------------\u001b[0m",
      "\u001b[0;31mKeyboardInterrupt\u001b[0m                         Traceback (most recent call last)",
      "\u001b[0;32m<ipython-input-399-78cc4bab0579>\u001b[0m in \u001b[0;36m<module>\u001b[0;34m\u001b[0m\n\u001b[1;32m      1\u001b[0m \u001b[0;32mfor\u001b[0m \u001b[0mtrain_index\u001b[0m\u001b[0;34m,\u001b[0m \u001b[0mtest_index\u001b[0m \u001b[0;32min\u001b[0m \u001b[0mKFold\u001b[0m\u001b[0;34m(\u001b[0m\u001b[0mn_splits\u001b[0m\u001b[0;34m=\u001b[0m\u001b[0;36m2\u001b[0m\u001b[0;34m)\u001b[0m\u001b[0;34m.\u001b[0m\u001b[0msplit\u001b[0m\u001b[0;34m(\u001b[0m\u001b[0mdata\u001b[0m\u001b[0;34m)\u001b[0m\u001b[0;34m:\u001b[0m\u001b[0;34m\u001b[0m\u001b[0;34m\u001b[0m\u001b[0m\n\u001b[1;32m      2\u001b[0m     \u001b[0mmdl\u001b[0m \u001b[0;34m=\u001b[0m \u001b[0mMGUA\u001b[0m\u001b[0;34m(\u001b[0m\u001b[0;34m)\u001b[0m\u001b[0;34m\u001b[0m\u001b[0;34m\u001b[0m\u001b[0m\n\u001b[0;32m----> 3\u001b[0;31m     \u001b[0mmdl\u001b[0m\u001b[0;34m.\u001b[0m\u001b[0mfit\u001b[0m\u001b[0;34m(\u001b[0m\u001b[0mdata1\u001b[0m\u001b[0;34m[\u001b[0m\u001b[0mtrain_index\u001b[0m\u001b[0;34m,\u001b[0m\u001b[0;34m:\u001b[0m\u001b[0;34m]\u001b[0m\u001b[0;34m,\u001b[0m \u001b[0my\u001b[0m\u001b[0;34m[\u001b[0m\u001b[0mtrain_index\u001b[0m\u001b[0;34m]\u001b[0m\u001b[0;34m)\u001b[0m\u001b[0;34m\u001b[0m\u001b[0;34m\u001b[0m\u001b[0m\n\u001b[0m\u001b[1;32m      4\u001b[0m     \u001b[0mprint\u001b[0m\u001b[0;34m(\u001b[0m\u001b[0mmdl\u001b[0m\u001b[0;34m.\u001b[0m\u001b[0mscore\u001b[0m\u001b[0;34m(\u001b[0m\u001b[0mdata1\u001b[0m\u001b[0;34m[\u001b[0m\u001b[0mtest_index\u001b[0m\u001b[0;34m,\u001b[0m\u001b[0;34m:\u001b[0m\u001b[0;34m]\u001b[0m\u001b[0;34m,\u001b[0m\u001b[0my\u001b[0m\u001b[0;34m[\u001b[0m\u001b[0mtest_index\u001b[0m\u001b[0;34m]\u001b[0m\u001b[0;34m)\u001b[0m\u001b[0;34m)\u001b[0m\u001b[0;34m\u001b[0m\u001b[0;34m\u001b[0m\u001b[0m\n",
      "\u001b[0;32m<ipython-input-389-b937927dbe95>\u001b[0m in \u001b[0;36mfit\u001b[0;34m(self, X, y)\u001b[0m\n\u001b[1;32m    155\u001b[0m \u001b[0;34m\u001b[0m\u001b[0m\n\u001b[1;32m    156\u001b[0m         \u001b[0mself\u001b[0m\u001b[0;34m.\u001b[0m\u001b[0mfirst_selection\u001b[0m\u001b[0;34m(\u001b[0m\u001b[0;34m)\u001b[0m\u001b[0;34m\u001b[0m\u001b[0;34m\u001b[0m\u001b[0m\n\u001b[0;32m--> 157\u001b[0;31m         \u001b[0mself\u001b[0m\u001b[0;34m.\u001b[0m\u001b[0m__other_selections\u001b[0m\u001b[0;34m(\u001b[0m\u001b[0;34m)\u001b[0m\u001b[0;34m\u001b[0m\u001b[0;34m\u001b[0m\u001b[0m\n\u001b[0m\u001b[1;32m    158\u001b[0m \u001b[0;34m\u001b[0m\u001b[0m\n\u001b[1;32m    159\u001b[0m         \u001b[0mlis\u001b[0m \u001b[0;34m=\u001b[0m \u001b[0;34m[\u001b[0m\u001b[0;34m]\u001b[0m\u001b[0;34m\u001b[0m\u001b[0;34m\u001b[0m\u001b[0m\n",
      "\u001b[0;32m<ipython-input-389-b937927dbe95>\u001b[0m in \u001b[0;36m__other_selections\u001b[0;34m(self)\u001b[0m\n\u001b[1;32m    128\u001b[0m                             \u001b[0;34m(\u001b[0m\u001b[0mar\u001b[0m\u001b[0;34m.\u001b[0m\u001b[0mmax\u001b[0m\u001b[0;34m(\u001b[0m\u001b[0;34m)\u001b[0m \u001b[0;34m<\u001b[0m \u001b[0mself\u001b[0m\u001b[0;34m.\u001b[0m\u001b[0mmin_correlation\u001b[0m\u001b[0;34m)\u001b[0m\u001b[0;34m\u001b[0m\u001b[0;34m\u001b[0m\u001b[0m\n\u001b[1;32m    129\u001b[0m                             \u001b[0;32mand\u001b[0m\u001b[0;34m\u001b[0m\u001b[0;34m\u001b[0m\u001b[0m\n\u001b[0;32m--> 130\u001b[0;31m                             \u001b[0;34m(\u001b[0m\u001b[0mself\u001b[0m\u001b[0;34m.\u001b[0m\u001b[0mbuf_r\u001b[0m\u001b[0;34m[\u001b[0m\u001b[0mind\u001b[0m\u001b[0;34m]\u001b[0m \u001b[0;34m<\u001b[0m \u001b[0mr2_score\u001b[0m\u001b[0;34m(\u001b[0m\u001b[0mtmp\u001b[0m\u001b[0;34m,\u001b[0m \u001b[0mself\u001b[0m\u001b[0;34m.\u001b[0m\u001b[0my\u001b[0m\u001b[0;34m)\u001b[0m\u001b[0;34m)\u001b[0m\u001b[0;34m\u001b[0m\u001b[0;34m\u001b[0m\u001b[0m\n\u001b[0m\u001b[1;32m    131\u001b[0m                         ):\n\u001b[1;32m    132\u001b[0m                             \u001b[0mself\u001b[0m\u001b[0;34m.\u001b[0m\u001b[0mbuf_r\u001b[0m\u001b[0;34m[\u001b[0m\u001b[0mind\u001b[0m\u001b[0;34m]\u001b[0m \u001b[0;34m=\u001b[0m \u001b[0mr2_score\u001b[0m\u001b[0;34m(\u001b[0m\u001b[0mtmp\u001b[0m\u001b[0;34m,\u001b[0m \u001b[0mself\u001b[0m\u001b[0;34m.\u001b[0m\u001b[0my\u001b[0m\u001b[0;34m)\u001b[0m\u001b[0;34m\u001b[0m\u001b[0;34m\u001b[0m\u001b[0m\n",
      "\u001b[0;32m~/anaconda3/lib/python3.7/site-packages/sklearn/metrics/regression.py\u001b[0m in \u001b[0;36mr2_score\u001b[0;34m(y_true, y_pred, sample_weight, multioutput)\u001b[0m\n\u001b[1;32m    537\u001b[0m     y_type, y_true, y_pred, multioutput = _check_reg_targets(\n\u001b[1;32m    538\u001b[0m         y_true, y_pred, multioutput)\n\u001b[0;32m--> 539\u001b[0;31m     \u001b[0mcheck_consistent_length\u001b[0m\u001b[0;34m(\u001b[0m\u001b[0my_true\u001b[0m\u001b[0;34m,\u001b[0m \u001b[0my_pred\u001b[0m\u001b[0;34m,\u001b[0m \u001b[0msample_weight\u001b[0m\u001b[0;34m)\u001b[0m\u001b[0;34m\u001b[0m\u001b[0;34m\u001b[0m\u001b[0m\n\u001b[0m\u001b[1;32m    540\u001b[0m \u001b[0;34m\u001b[0m\u001b[0m\n\u001b[1;32m    541\u001b[0m     \u001b[0;32mif\u001b[0m \u001b[0m_num_samples\u001b[0m\u001b[0;34m(\u001b[0m\u001b[0my_pred\u001b[0m\u001b[0;34m)\u001b[0m \u001b[0;34m<\u001b[0m \u001b[0;36m2\u001b[0m\u001b[0;34m:\u001b[0m\u001b[0;34m\u001b[0m\u001b[0;34m\u001b[0m\u001b[0m\n",
      "\u001b[0;32m~/anaconda3/lib/python3.7/site-packages/sklearn/utils/validation.py\u001b[0m in \u001b[0;36mcheck_consistent_length\u001b[0;34m(*arrays)\u001b[0m\n\u001b[1;32m    200\u001b[0m \u001b[0;34m\u001b[0m\u001b[0m\n\u001b[1;32m    201\u001b[0m     \u001b[0mlengths\u001b[0m \u001b[0;34m=\u001b[0m \u001b[0;34m[\u001b[0m\u001b[0m_num_samples\u001b[0m\u001b[0;34m(\u001b[0m\u001b[0mX\u001b[0m\u001b[0;34m)\u001b[0m \u001b[0;32mfor\u001b[0m \u001b[0mX\u001b[0m \u001b[0;32min\u001b[0m \u001b[0marrays\u001b[0m \u001b[0;32mif\u001b[0m \u001b[0mX\u001b[0m \u001b[0;32mis\u001b[0m \u001b[0;32mnot\u001b[0m \u001b[0;32mNone\u001b[0m\u001b[0;34m]\u001b[0m\u001b[0;34m\u001b[0m\u001b[0;34m\u001b[0m\u001b[0m\n\u001b[0;32m--> 202\u001b[0;31m     \u001b[0muniques\u001b[0m \u001b[0;34m=\u001b[0m \u001b[0mnp\u001b[0m\u001b[0;34m.\u001b[0m\u001b[0munique\u001b[0m\u001b[0;34m(\u001b[0m\u001b[0mlengths\u001b[0m\u001b[0;34m)\u001b[0m\u001b[0;34m\u001b[0m\u001b[0;34m\u001b[0m\u001b[0m\n\u001b[0m\u001b[1;32m    203\u001b[0m     \u001b[0;32mif\u001b[0m \u001b[0mlen\u001b[0m\u001b[0;34m(\u001b[0m\u001b[0muniques\u001b[0m\u001b[0;34m)\u001b[0m \u001b[0;34m>\u001b[0m \u001b[0;36m1\u001b[0m\u001b[0;34m:\u001b[0m\u001b[0;34m\u001b[0m\u001b[0;34m\u001b[0m\u001b[0m\n\u001b[1;32m    204\u001b[0m         raise ValueError(\"Found input variables with inconsistent numbers of\"\n",
      "\u001b[0;32m<__array_function__ internals>\u001b[0m in \u001b[0;36munique\u001b[0;34m(*args, **kwargs)\u001b[0m\n",
      "\u001b[0;32m~/anaconda3/lib/python3.7/site-packages/numpy/lib/arraysetops.py\u001b[0m in \u001b[0;36munique\u001b[0;34m(ar, return_index, return_inverse, return_counts, axis)\u001b[0m\n\u001b[1;32m    260\u001b[0m     \u001b[0mar\u001b[0m \u001b[0;34m=\u001b[0m \u001b[0mnp\u001b[0m\u001b[0;34m.\u001b[0m\u001b[0masanyarray\u001b[0m\u001b[0;34m(\u001b[0m\u001b[0mar\u001b[0m\u001b[0;34m)\u001b[0m\u001b[0;34m\u001b[0m\u001b[0;34m\u001b[0m\u001b[0m\n\u001b[1;32m    261\u001b[0m     \u001b[0;32mif\u001b[0m \u001b[0maxis\u001b[0m \u001b[0;32mis\u001b[0m \u001b[0;32mNone\u001b[0m\u001b[0;34m:\u001b[0m\u001b[0;34m\u001b[0m\u001b[0;34m\u001b[0m\u001b[0m\n\u001b[0;32m--> 262\u001b[0;31m         \u001b[0mret\u001b[0m \u001b[0;34m=\u001b[0m \u001b[0m_unique1d\u001b[0m\u001b[0;34m(\u001b[0m\u001b[0mar\u001b[0m\u001b[0;34m,\u001b[0m \u001b[0mreturn_index\u001b[0m\u001b[0;34m,\u001b[0m \u001b[0mreturn_inverse\u001b[0m\u001b[0;34m,\u001b[0m \u001b[0mreturn_counts\u001b[0m\u001b[0;34m)\u001b[0m\u001b[0;34m\u001b[0m\u001b[0;34m\u001b[0m\u001b[0m\n\u001b[0m\u001b[1;32m    263\u001b[0m         \u001b[0;32mreturn\u001b[0m \u001b[0m_unpack_tuple\u001b[0m\u001b[0;34m(\u001b[0m\u001b[0mret\u001b[0m\u001b[0;34m)\u001b[0m\u001b[0;34m\u001b[0m\u001b[0;34m\u001b[0m\u001b[0m\n\u001b[1;32m    264\u001b[0m \u001b[0;34m\u001b[0m\u001b[0m\n",
      "\u001b[0;32m~/anaconda3/lib/python3.7/site-packages/numpy/lib/arraysetops.py\u001b[0m in \u001b[0;36m_unique1d\u001b[0;34m(ar, return_index, return_inverse, return_counts)\u001b[0m\n\u001b[1;32m    312\u001b[0m     \u001b[0mmask\u001b[0m \u001b[0;34m=\u001b[0m \u001b[0mnp\u001b[0m\u001b[0;34m.\u001b[0m\u001b[0mempty\u001b[0m\u001b[0;34m(\u001b[0m\u001b[0maux\u001b[0m\u001b[0;34m.\u001b[0m\u001b[0mshape\u001b[0m\u001b[0;34m,\u001b[0m \u001b[0mdtype\u001b[0m\u001b[0;34m=\u001b[0m\u001b[0mnp\u001b[0m\u001b[0;34m.\u001b[0m\u001b[0mbool_\u001b[0m\u001b[0;34m)\u001b[0m\u001b[0;34m\u001b[0m\u001b[0;34m\u001b[0m\u001b[0m\n\u001b[1;32m    313\u001b[0m     \u001b[0mmask\u001b[0m\u001b[0;34m[\u001b[0m\u001b[0;34m:\u001b[0m\u001b[0;36m1\u001b[0m\u001b[0;34m]\u001b[0m \u001b[0;34m=\u001b[0m \u001b[0;32mTrue\u001b[0m\u001b[0;34m\u001b[0m\u001b[0;34m\u001b[0m\u001b[0m\n\u001b[0;32m--> 314\u001b[0;31m     \u001b[0mmask\u001b[0m\u001b[0;34m[\u001b[0m\u001b[0;36m1\u001b[0m\u001b[0;34m:\u001b[0m\u001b[0;34m]\u001b[0m \u001b[0;34m=\u001b[0m \u001b[0maux\u001b[0m\u001b[0;34m[\u001b[0m\u001b[0;36m1\u001b[0m\u001b[0;34m:\u001b[0m\u001b[0;34m]\u001b[0m \u001b[0;34m!=\u001b[0m \u001b[0maux\u001b[0m\u001b[0;34m[\u001b[0m\u001b[0;34m:\u001b[0m\u001b[0;34m-\u001b[0m\u001b[0;36m1\u001b[0m\u001b[0;34m]\u001b[0m\u001b[0;34m\u001b[0m\u001b[0;34m\u001b[0m\u001b[0m\n\u001b[0m\u001b[1;32m    315\u001b[0m \u001b[0;34m\u001b[0m\u001b[0m\n\u001b[1;32m    316\u001b[0m     \u001b[0mret\u001b[0m \u001b[0;34m=\u001b[0m \u001b[0;34m(\u001b[0m\u001b[0maux\u001b[0m\u001b[0;34m[\u001b[0m\u001b[0mmask\u001b[0m\u001b[0;34m]\u001b[0m\u001b[0;34m,\u001b[0m\u001b[0;34m)\u001b[0m\u001b[0;34m\u001b[0m\u001b[0;34m\u001b[0m\u001b[0m\n",
      "\u001b[0;31mKeyboardInterrupt\u001b[0m: "
     ]
    }
   ],
   "source": [
    "\n",
    "for train_index, test_index in KFold(n_splits=2).split(data):\n",
    "    mdl = MGUA()\n",
    "    mdl.fit(data1[train_index,:], y[train_index])\n",
    "    print(mdl.score(data1[test_index,:],y[test_index]))"
   ]
  },
  {
   "cell_type": "code",
   "execution_count": null,
   "metadata": {},
   "outputs": [],
   "source": [
    "# как предсказывать в среднем или по максимальному\n",
    "# нет нормального распределения на гистограмме"
   ]
  },
  {
   "cell_type": "code",
   "execution_count": 413,
   "metadata": {},
   "outputs": [],
   "source": [
    "from sklearn.manifold import TSNE"
   ]
  },
  {
   "cell_type": "code",
   "execution_count": 476,
   "metadata": {},
   "outputs": [],
   "source": [
    "clast = TSNE(n_components=2)"
   ]
  },
  {
   "cell_type": "code",
   "execution_count": 477,
   "metadata": {},
   "outputs": [],
   "source": [
    "res = clast.fit_transform(data)"
   ]
  },
  {
   "cell_type": "code",
   "execution_count": 478,
   "metadata": {},
   "outputs": [
    {
     "data": {
      "text/plain": [
       "<matplotlib.collections.PathCollection at 0x7f8b2f1f3550>"
      ]
     },
     "execution_count": 478,
     "metadata": {},
     "output_type": "execute_result"
    },
    {
     "data": {
      "image/png": "[encoded data removed]",
      "text/plain": [
       "<Figure size 432x288 with 1 Axes>"
      ]
     },
     "metadata": {
      "needs_background": "light"
     },
     "output_type": "display_data"
    }
   ],
   "source": [
    "plt.scatter(res[:,0],res[:,1])"
   ]
  },
  {
   "cell_type": "code",
   "execution_count": null,
   "metadata": {},
   "outputs": [],
   "source": []
  }
 ],
 "metadata": {
  "kernelspec": {
   "display_name": "Python 3",
   "language": "python",
   "name": "python3"
  },
  "language_info": {
   "codemirror_mode": {
    "name": "ipython",
    "version": 3
   },
   "file_extension": ".py",
   "mimetype": "text/x-python",
   "name": "python",
   "nbconvert_exporter": "python",
   "pygments_lexer": "ipython3",
   "version": "3.7.7"
  }
 },
 "nbformat": 4,
 "nbformat_minor": 2
}
