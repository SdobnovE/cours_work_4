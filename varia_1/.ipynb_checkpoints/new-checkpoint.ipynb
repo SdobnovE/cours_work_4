{
 "cells": [
  {
   "cell_type": "code",
   "execution_count": 33,
   "metadata": {},
   "outputs": [],
   "source": [
    "import mguaJN\n",
    "import numpy as np\n",
    "import sklearn\n",
    "import pandas as pd\n",
    "from sklearn import datasets\n",
    "from sklearn.neighbors import NearestNeighbors\n",
    "from sklearn import metrics\n",
    "import math\n",
    "from sklearn.metrics import r2_score\n",
    "import json\n",
    "import matplotlib.pyplot as plt\n",
    "from sklearn.linear_model import LinearRegression"
   ]
  },
  {
   "cell_type": "code",
   "execution_count": null,
   "metadata": {},
   "outputs": [],
   "source": []
  },
  {
   "cell_type": "code",
   "execution_count": 98,
   "metadata": {},
   "outputs": [],
   "source": [
    "bzr = pd.read_csv('bzr/bzr_matrix_alphabet_NNdb*_UpTo4chains.csv', sep=',')\n",
    "bzr_y = pd.read_csv('bzr/bzr_y.csv', sep=',')"
   ]
  },
  {
   "cell_type": "code",
   "execution_count": 99,
   "metadata": {},
   "outputs": [],
   "source": [
    "for i, elem in bzr_y['IC50_uM'].items():\n",
    "    bzr_y['IC50_uM'][i] = float(elem.strip('[]').strip('()').split(', ')[0])"
   ]
  },
  {
   "cell_type": "code",
   "execution_count": 100,
   "metadata": {},
   "outputs": [
    {
     "data": {
      "text/html": [
       "<div>\n",
       "<style scoped>\n",
       "    .dataframe tbody tr th:only-of-type {\n",
       "        vertical-align: middle;\n",
       "    }\n",
       "\n",
       "    .dataframe tbody tr th {\n",
       "        vertical-align: top;\n",
       "    }\n",
       "\n",
       "    .dataframe thead th {\n",
       "        text-align: right;\n",
       "    }\n",
       "</style>\n",
       "<table border=\"1\" class=\"dataframe\">\n",
       "  <thead>\n",
       "    <tr style=\"text-align: right;\">\n",
       "      <th></th>\n",
       "      <th>IC50_uM</th>\n",
       "    </tr>\n",
       "  </thead>\n",
       "  <tbody>\n",
       "    <tr>\n",
       "      <td>0</td>\n",
       "      <td>0.04</td>\n",
       "    </tr>\n",
       "    <tr>\n",
       "      <td>1</td>\n",
       "      <td>0.017</td>\n",
       "    </tr>\n",
       "    <tr>\n",
       "      <td>2</td>\n",
       "      <td>0.0074</td>\n",
       "    </tr>\n",
       "    <tr>\n",
       "      <td>3</td>\n",
       "      <td>0.0051</td>\n",
       "    </tr>\n",
       "    <tr>\n",
       "      <td>4</td>\n",
       "      <td>0.0094</td>\n",
       "    </tr>\n",
       "    <tr>\n",
       "      <td>...</td>\n",
       "      <td>...</td>\n",
       "    </tr>\n",
       "    <tr>\n",
       "      <td>400</td>\n",
       "      <td>0.0106</td>\n",
       "    </tr>\n",
       "    <tr>\n",
       "      <td>401</td>\n",
       "      <td>0.0515</td>\n",
       "    </tr>\n",
       "    <tr>\n",
       "      <td>402</td>\n",
       "      <td>0.0102</td>\n",
       "    </tr>\n",
       "    <tr>\n",
       "      <td>403</td>\n",
       "      <td>3</td>\n",
       "    </tr>\n",
       "    <tr>\n",
       "      <td>404</td>\n",
       "      <td>0.005</td>\n",
       "    </tr>\n",
       "  </tbody>\n",
       "</table>\n",
       "<p>405 rows × 1 columns</p>\n",
       "</div>"
      ],
      "text/plain": [
       "    IC50_uM\n",
       "0      0.04\n",
       "1     0.017\n",
       "2    0.0074\n",
       "3    0.0051\n",
       "4    0.0094\n",
       "..      ...\n",
       "400  0.0106\n",
       "401  0.0515\n",
       "402  0.0102\n",
       "403       3\n",
       "404   0.005\n",
       "\n",
       "[405 rows x 1 columns]"
      ]
     },
     "execution_count": 100,
     "metadata": {},
     "output_type": "execute_result"
    }
   ],
   "source": [
    "bzr_y"
   ]
  },
  {
   "cell_type": "markdown",
   "metadata": {},
   "source": [
    "A set of 405 ligands for the benzodiazepine\n",
    "receptor (BZR) has been assembled mostly from the work\n",
    "of Haefely et al. and Cook et al. No differentiation of\n",
    "agonists, antagonists, and inverse agonists is made. \n",
    "In vitro binding affinities as measured by inhibition\n",
    "of [ 3 H] diazepam binding are expressed as IC 50 \n",
    "values, ranging from 0.34 nM to >70 μM (65 compounds \n",
    "have indeterminate values). We have selected pIC_50=7.0\n",
    "as the threshold for activity by considering a \n",
    "histogram plot of compound counts vs pIC_50 and the \n",
    "resulting balance of active and inactive compounds.\n",
    "\n",
    "training, test, unused - set, 1,2,0 respectively.\n",
    "Benzodiazepine receptor (BZR) ligands.\n",
    "pIC_50=-np.log10(IC50)=-np.log10(IC50_uM)+6.0\n",
    "Target property: IC50_uM, threshold 0.1.\n",
    "    Inactive: IC50_uM > 0.1\n",
    "    Active: IC50_uM <= 0.1"
   ]
  },
  {
   "cell_type": "code",
   "execution_count": 101,
   "metadata": {},
   "outputs": [
    {
     "data": {
      "text/plain": [
       "13285"
      ]
     },
     "execution_count": 101,
     "metadata": {},
     "output_type": "execute_result"
    }
   ],
   "source": [
    "np.count_nonzero(bzr)"
   ]
  },
  {
   "cell_type": "code",
   "execution_count": 34,
   "metadata": {},
   "outputs": [],
   "source": [
    "def make_ordinary_mgua(X, y, fitted_model_file, q=4, c=0.997, it=5, model=LinearRegression(normalize=True), print_num_points=None, figname='bzr'):\n",
    "    mgua_model = mguaJN.MGUA(Q=q, C=c, I=it, model=model)\n",
    "    \n",
    "    train_size = int(0.7 * X.shape[0])\n",
    "    X_train = X[:][:train_size]\n",
    "    y_train = y[:][:train_size]\n",
    "    X_test = X[:][train_size:]\n",
    "    y_test = y[:][train_size:]\n",
    "    mgua_model.fit(X_train, y_train)\n",
    "    \n",
    "    json_file = fitted_model_file\n",
    "    mgua_model.save_json(json_file)\n",
    "    res = mgua_model.predict(X_test)\n",
    "    scores = [r2_score(y_test, res[i]) for i in range(mgua_model.Q)]\n",
    "    print('scores = ', scores)\n",
    "    print(' ')\n",
    "    print('useful columns:', mgua_model.column_indexes)\n",
    "    print(' ')\n",
    "    print('best score: ', max(scores))\n",
    "    \n",
    "    \n",
    "#     # data = ((np.arange(40, 80), y_test.to_numpy().reshape(-1)[40:80]), (np.arange(40, 80), ridge_soil_pred[2].reshape(-1)[40:80]))\n",
    "#     data = ((np.arange(y_test[:40].shape[0]), y_test.to_numpy().reshape(-1)[:40]), (np.arange(y_test[:40].shape[0]), res[scores.index(max(scores))].reshape(-1)[:40]))\n",
    "#     colors = (\"red\", \"green\")\n",
    "#     groups = (\"y_test\", \"y_pred\")\n",
    "\n",
    "#     # Create plot\n",
    "#     fig, ax = plt.subplots()\n",
    "#     fig.set_figwidth(15)\n",
    "#     fig.set_figheight(5)\n",
    "\n",
    "#     for data, color, group in zip(data, colors, groups):\n",
    "#         x, y = data\n",
    "#         ax.scatter(x, y, alpha=0.8, c=color, edgecolors='none', s=30, label=group)\n",
    "# #         ax.vlines(x[0], x[1], y[1], color = 'r')\n",
    "\n",
    "#     plt.title(figname + ' alphabet matrix test and prediction values, linear model')\n",
    "#     plt.ylabel(\"y value\")\n",
    "#     plt.xlabel(\"item from matrix X\")\n",
    "#     plt.grid()  \n",
    "#     plt.legend(loc=0)\n",
    "#     plt.show()\n",
    "    return mgua_model\n"
   ]
  },
  {
   "cell_type": "code",
   "execution_count": 117,
   "metadata": {},
   "outputs": [
    {
     "data": {
      "application/vnd.jupyter.widget-view+json": {
       "model_id": "6b4ad7afdaab4aabaace345c6e068080",
       "version_major": 2,
       "version_minor": 0
      },
      "text/plain": [
       "VBox(children=(HTML(value=''), IntProgress(value=0, max=853)))"
      ]
     },
     "metadata": {},
     "output_type": "display_data"
    },
    {
     "data": {
      "application/vnd.jupyter.widget-view+json": {
       "model_id": "724c66af0fb0412793de251da6381d09",
       "version_major": 2,
       "version_minor": 0
      },
      "text/plain": [
       "VBox(children=(HTML(value=''), IntProgress(value=0, max=9)))"
      ]
     },
     "metadata": {},
     "output_type": "display_data"
    },
    {
     "name": "stdout",
     "output_type": "stream",
     "text": [
      "scores =  [-0.04135973140721383, -0.3965120707843348, 0.05751804259643978, 0.2698182232599996, -0.08135862798769833, -0.22219251960272302, -0.05738154967760911, -0.12795835192967364, 0.29040796633050103, -0.20227505324517248]\n",
      " \n",
      "useful columns: [{0, 152}, {0, 205}, {0, 490, 39}, {0, 105, 399}, {0, 113, 457}, {0, 133, 639}, {0, 139, 166}, {0, 504, 184}, {0, 189, 311}, {0, 385, 461}]\n",
      " \n",
      "best score:  0.29040796633050103\n"
     ]
    }
   ],
   "source": [
    "model = make_ordinary_mgua(X=bzr, y=bzr_y, fitted_model_file='bzr/model_10_600_10__bzr_matrix_alphabet_NNdb*_UpTo4chains.json', q=10, c=0.6, it=10, model=LinearRegression(normalize=True), print_num_points=None, figname='bzr')\n",
    "\n"
   ]
  },
  {
   "cell_type": "code",
   "execution_count": 37,
   "metadata": {
    "scrolled": true
   },
   "outputs": [
    {
     "data": {
      "text/plain": [
       "[[15, 6],\n",
       " [52, 6],\n",
       " [53, 6],\n",
       " [74, 8],\n",
       " [80, 6],\n",
       " [96, 5],\n",
       " [107, 8],\n",
       " [142, 8],\n",
       " [168, 2],\n",
       " [213, 6]]"
      ]
     },
     "execution_count": 37,
     "metadata": {},
     "output_type": "execute_result"
    }
   ],
   "source": [
    "# model.buf_coef[2]"
   ]
  },
  {
   "cell_type": "code",
   "execution_count": 118,
   "metadata": {},
   "outputs": [],
   "source": [
    "train_size = int(0.7 * bzr.shape[0])\n",
    "X_train = bzr[:][:train_size]\n",
    "y_train = bzr_y[:][:train_size]\n",
    "X_test = bzr[:][train_size:]\n",
    "y_test = bzr_y[:][train_size:]"
   ]
  },
  {
   "cell_type": "code",
   "execution_count": 119,
   "metadata": {},
   "outputs": [],
   "source": [
    "res = model.predict(X_test)"
   ]
  },
  {
   "cell_type": "code",
   "execution_count": 120,
   "metadata": {},
   "outputs": [
    {
     "data": {
      "text/plain": [
       "[-0.04135973140721383,\n",
       " -0.3965120707843348,\n",
       " 0.05751804259643978,\n",
       " 0.2698182232599996,\n",
       " -0.08135862798769833,\n",
       " -0.22219251960272302,\n",
       " -0.05738154967760911,\n",
       " -0.12795835192967364,\n",
       " 0.29040796633050103,\n",
       " -0.20227505324517248]"
      ]
     },
     "execution_count": 120,
     "metadata": {},
     "output_type": "execute_result"
    }
   ],
   "source": [
    "scores = [r2_score(y_test, res[i]) for i in range(model.Q)]\n",
    "scores"
   ]
  },
  {
   "cell_type": "code",
   "execution_count": 121,
   "metadata": {},
   "outputs": [
    {
     "data": {
      "image/png": "[encoded data removed]",
      "text/plain": [
       "<Figure size 1080x360 with 1 Axes>"
      ]
     },
     "metadata": {
      "needs_background": "light"
     },
     "output_type": "display_data"
    }
   ],
   "source": [
    "# data = ((np.arange(40, 80), y_test.to_numpy().reshape(-1)[40:80]), (np.arange(40, 80), ridge_soil_pred[2].reshape(-1)[40:80]))\n",
    "data = ((np.arange(y_test[:].shape[0]), y_test.to_numpy().reshape(-1)[:]), (np.arange(y_test[:].shape[0]), res[scores.index(max(scores))].reshape(-1)[:]))\n",
    "colors = (\"red\", \"green\")\n",
    "groups = (\"y_test\", \"y_pred\")\n",
    "\n",
    "# Create plot\n",
    "fig, ax = plt.subplots()\n",
    "fig.set_figwidth(15)\n",
    "fig.set_figheight(5)\n",
    "\n",
    "for data, color, group in zip(data, colors, groups):\n",
    "    x, y = data\n",
    "    ax.scatter(x, y, alpha=0.8, c=color, edgecolors='none', s=30, label=group)\n",
    "#         ax.vlines(x[0], x[1], y[1], color = 'r')\n",
    "\n",
    "plt.title('bzr NNdb*_UpTo4chains test and prediction values, linear model 10_600_10')\n",
    "plt.ylabel(\"y value\")\n",
    "plt.xlabel(\"item from matrix X\")\n",
    "plt.grid()  \n",
    "plt.legend(loc=0)\n",
    "plt.show()"
   ]
  },
  {
   "cell_type": "code",
   "execution_count": 17,
   "metadata": {},
   "outputs": [
    {
     "data": {
      "text/plain": [
       "array([65.03955953, 28.46522927,  8.63227253, 45.16730205, 60.96703188,\n",
       "        2.52348106,  4.55974488,  8.63227253, 24.39270162, 25.39381849,\n",
       "       24.39270162, 24.39270162, 24.39270162, 24.39270162, 24.39270162,\n",
       "       20.32017397, 24.39270162, 24.39270162, 24.39270162, 24.39270162,\n",
       "        8.63227253,  8.63227253,  4.55974488,  6.59600871,  6.59600871,\n",
       "       65.02101457, 24.39270162, 86.09540164, 24.39270162, 24.39270162,\n",
       "       24.39270162, 24.39270162, 24.39270162, 24.39270162, 24.39270162,\n",
       "       24.39270162, 65.00025879, 24.39270162, 24.39270162, 24.39270162,\n",
       "       24.39270162, 24.39270162, 22.35643779, 24.39270162, 24.39270162,\n",
       "       24.39270162, 24.39270162, 24.39270162, 18.28391014, 20.32017397,\n",
       "       20.32017397, 20.32017397, 22.35643779,  0.48721723, 24.39270162,\n",
       "       24.39270162, 18.24988007, 18.24988007, 24.39270162, 24.39270162,\n",
       "       60.96703188, 65.03955953, 60.96703188, 60.96703188, 65.03955953,\n",
       "       65.03955953, 65.03955953, 65.03955953, 65.03955953, 49.2398297 ,\n",
       "       49.2398297 , 49.2398297 , 49.2398297 , 78.76372479, 65.03955953,\n",
       "       20.32017397, 20.32017397, 20.32017397, 20.32017397, 20.32017397,\n",
       "       20.32017397, 20.32017397, 20.32017397, 20.32017397, 20.32017397,\n",
       "       20.32017397, 20.32017397, 20.32017397, 20.32017397, 20.32017397,\n",
       "        4.55974488, 20.32017397, 20.32017397, 16.24764632, 20.32017397,\n",
       "       20.32017397, 20.32017397, 20.32017397, 20.32017397, 16.24764632,\n",
       "       20.32017397, 16.24764632, 20.32017397, 20.32017397, 20.32017397,\n",
       "       20.32017397, 20.32017397, 20.32017397, 20.32017397, 20.32017397,\n",
       "       20.32017397, 20.32017397, 20.32017397, 16.24764632, 20.32017397,\n",
       "        4.55974488,  0.48721723, 22.35643779, 38.11686688, 22.35643779,\n",
       "       16.24764632, 20.32017397])"
      ]
     },
     "execution_count": 17,
     "metadata": {},
     "output_type": "execute_result"
    }
   ],
   "source": [
    "res[scores.index(max(scores))].reshape(-1)[:]"
   ]
  },
  {
   "cell_type": "code",
   "execution_count": 40,
   "metadata": {},
   "outputs": [],
   "source": [
    "round_y = []\n",
    "for i, elem in bzr_y['IC50_uM'].items():\n",
    "    round_y.append(round(elem))"
   ]
  },
  {
   "cell_type": "code",
   "execution_count": 47,
   "metadata": {},
   "outputs": [
    {
     "data": {
      "text/plain": [
       "(array([374.,   9.,  20.,   0.,   0.,   1.,   0.,   0.,   0.,   1.]),\n",
       " array([  0.,  50., 100., 150., 200., 250., 300., 350., 400., 450., 500.]),\n",
       " <a list of 10 Patch objects>)"
      ]
     },
     "execution_count": 47,
     "metadata": {},
     "output_type": "execute_result"
    },
    {
     "data": {
      "image/png": "[encoded data removed]",
      "text/plain": [
       "<Figure size 432x288 with 1 Axes>"
      ]
     },
     "metadata": {
      "needs_background": "light"
     },
     "output_type": "display_data"
    }
   ],
   "source": [
    "plt.hist(np.array(round_y))"
   ]
  },
  {
   "cell_type": "code",
   "execution_count": 52,
   "metadata": {},
   "outputs": [
    {
     "name": "stdout",
     "output_type": "stream",
     "text": [
      "[[  0 283]\n",
      " [  1  44]\n",
      " [  2  15]\n",
      " [  3   3]\n",
      " [  4   5]\n",
      " [  5   6]\n",
      " [  6   3]\n",
      " [  7   1]\n",
      " [  8   1]\n",
      " [  9   1]\n",
      " [ 10   4]\n",
      " [ 11   1]\n",
      " [ 12   1]\n",
      " [ 13   1]\n",
      " [ 24   1]\n",
      " [ 25   1]\n",
      " [ 26   1]\n",
      " [ 32   1]\n",
      " [ 39   1]\n",
      " [ 50   8]\n",
      " [ 54   1]\n",
      " [100  20]\n",
      " [250   1]\n",
      " [500   1]]\n"
     ]
    }
   ],
   "source": [
    "\n",
    "unique, counts = np.unique(np.array(round_y), return_counts=True)\n",
    "\n",
    "print(np.asarray((unique, counts)).T)"
   ]
  },
  {
   "cell_type": "code",
   "execution_count": 45,
   "metadata": {},
   "outputs": [
    {
     "data": {
      "image/png": "[encoded data removed]",
      "text/plain": [
       "<Figure size 1080x360 with 1 Axes>"
      ]
     },
     "metadata": {
      "needs_background": "light"
     },
     "output_type": "display_data"
    }
   ],
   "source": [
    "data = ((np.arange(y_train[:].shape[0]), y_train.to_numpy().reshape(-1)[:]), (np.arange(y_test[:].shape[0]), res[scores.index(max(scores))].reshape(-1)[:]))\n",
    "colors = (\"red\", \"green\")\n",
    "groups = (\"y_train\", \"y_pred\")\n",
    "\n",
    "# Create plot\n",
    "fig, ax = plt.subplots()\n",
    "fig.set_figwidth(15)\n",
    "fig.set_figheight(5)\n",
    "\n",
    "for data, color, group in zip(data, colors, groups):\n",
    "    x, y = data\n",
    "    ax.scatter(x, y, alpha=0.8, c=color, edgecolors='none', s=30, label=group)\n",
    "    break\n",
    "#         ax.vlines(x[0], x[1], y[1], color = 'r')\n",
    "\n",
    "plt.title('bzr matrix y train')\n",
    "plt.ylabel(\"y value\")\n",
    "plt.xlabel(\"item from matrix X\")\n",
    "plt.grid()  \n",
    "plt.legend(loc=0)\n",
    "plt.show()"
   ]
  },
  {
   "cell_type": "code",
   "execution_count": null,
   "metadata": {},
   "outputs": [],
   "source": []
  }
 ],
 "metadata": {
  "kernelspec": {
   "display_name": "Python 3",
   "language": "python",
   "name": "python3"
  },
  "language_info": {
   "codemirror_mode": {
    "name": "ipython",
    "version": 3
   },
   "file_extension": ".py",
   "mimetype": "text/x-python",
   "name": "python",
   "nbconvert_exporter": "python",
   "pygments_lexer": "ipython3",
   "version": "3.7.7"
  }
 },
 "nbformat": 4,
 "nbformat_minor": 2
}
