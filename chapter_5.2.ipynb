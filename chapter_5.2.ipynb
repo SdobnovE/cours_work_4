{
 "cells": [
  {
   "cell_type": "code",
   "execution_count": 125,
   "metadata": {},
   "outputs": [],
   "source": [
    "import pandas as pd\n",
    "import numpy as np\n",
    "import matplotlib.pyplot as plt\n",
    "import re\n",
    "import ast\n",
    "from mgua import *\n",
    "from sklearn.linear_model import Ridge\n",
    "from sklearn.linear_model import Lasso\n",
    "from sklearn.linear_model import LinearRegression\n",
    "from sklearn.model_selection import KFold\n",
    "from sklearn.manifold import TSNE\n",
    "\n",
    "\n",
    "import random as rnd\n",
    "from sklearn.metrics import mean_absolute_error as MAE\n",
    "from sklearn.metrics import mean_squared_error as MSE\n",
    "from sklearn.ensemble import RandomForestRegressor\n",
    "from sklearn.decomposition import PCA\n",
    "from sklearn.metrics import silhouette_score\n",
    "from sklearn.cluster import DBSCAN\n",
    "from sklearn.cluster import AgglomerativeClustering\n",
    "from scipy.cluster.hierarchy import dendrogram\n",
    "from sklearn.ensemble import GradientBoostingRegressor\n",
    "\n",
    "\n",
    "from sklearn.feature_extraction.text import TfidfTransformer"
   ]
  },
  {
   "cell_type": "code",
   "execution_count": null,
   "metadata": {},
   "outputs": [],
   "source": []
  },
  {
   "cell_type": "code",
   "execution_count": 113,
   "metadata": {},
   "outputs": [
    {
     "data": {
      "text/plain": [
       "((467, 107), (467, 274), (467, 577), (467, 1066))"
      ]
     },
     "execution_count": 113,
     "metadata": {},
     "output_type": "execute_result"
    }
   ],
   "source": [
    "tab1 = pd.read_csv(\"data_varvara/cox2/cox2_matrix_alphabet_NNdbr_UpTo2chains.csv\")\n",
    "tab2 = pd.read_csv(\"data_varvara/cox2/cox2_matrix_alphabet_NNdbr_UpTo3chains.csv\")\n",
    "tab3 = pd.read_csv(\"data_varvara/cox2/cox2_matrix_alphabet_NNdbr_UpTo4chains.csv\")\n",
    "tab4 = pd.read_csv(\"data_varvara/cox2/cox2_matrix_alphabet_NNdbr_UpTo5chains.csv\")\n",
    "\n",
    "tab1.shape, tab2.shape, tab3.shape, tab4.shape"
   ]
  },
  {
   "cell_type": "code",
   "execution_count": 114,
   "metadata": {},
   "outputs": [],
   "source": [
    "tab1[\"key\"] = [i for i in range(tab1.shape[0])]\n",
    "tab2[\"key\"] = [i for i in range(tab2.shape[0])]\n",
    "tab3[\"key\"] = [i for i in range(tab3.shape[0])]\n",
    "tab4[\"key\"] = [i for i in range(tab4.shape[0])]"
   ]
  },
  {
   "cell_type": "code",
   "execution_count": 115,
   "metadata": {
    "scrolled": true
   },
   "outputs": [],
   "source": [
    "tab = pd.merge(tab1, tab2, left_on=\"key\", right_on=\"key\", how=\"inner\")\n",
    "tab = pd.merge(tab, tab3, left_on=\"key\", right_on=\"key\", how=\"inner\")\n",
    "tab = pd.merge(tab, tab4, left_on=\"key\", right_on=\"key\", how=\"inner\")"
   ]
  },
  {
   "cell_type": "code",
   "execution_count": 116,
   "metadata": {},
   "outputs": [
    {
     "name": "stdout",
     "output_type": "stream",
     "text": [
      "Br1scC3as; C1dcC2dc; C1scC2sc; C1scC3as; C1scC3dc; C1scC4sc; C1scC4ss; C1scN2sc; C1scN3as; C1scN3sc; C1scO2sc; C1scS2sc; C1scS3dc; C1scS4wc; C2arC2ar; C2arC3as; C2arN2ar; C2arN3as; C2arO2ar; C2arS2ar; C2dcC2sc; C2dcC3as; C2dcO1dc; C2drC2sr; C2drC3ds; C2drC4ss; C2scC2sc; C2scC2tc; C2scC3as; C2scC3dc; C2scC4sc; C2scC4ss; C2scF1sc; C2scN1sc; C2scN2sc; C2scN3as; C2scN3sc; C2scO1sc; C2scO2sc; C2scS2sc; C2scS4wc; C2srC2sr; C2srC3as; C2srC3ds; C2srC3ss; C2srC4ss; C2srO2sr; C2srS2sr; C2tcC3as; C2tcN1tc; C3asC3as; C3asC3dc; C3asC3ds; C3asC3sc; C3asC3ss; C3asC4sc; C3asCl1sc; C3asF1sc; C3asN1sc; C3asN2ar; C3asN2sc; C3asN3as; C3asN3dc; C3asN3sc; C3asO1sc; C3asO2ar; C3asO2sc; C3asO2sr; C3asS2ar; C3asS2sc; C3asS2sr; C3asS3dc; C3asS4wc; C3dcC4sc; C3dcN1sc; C3dcN2sc; C3dcO1dc; C3dcO1sc; C3dcO2sc; C3dsC3ds; C3dsN2dr; C3dsS2sr; C3scC4sc; C3scF1sc; C3scO1sc; C3scO2sc; C3ssC3ss; C3ssF1sc; C3ssN2dr; C3ssN3as; C3ssS2sr; C4scC4ss; C4scF1sc; C4scO2sc; C4scS4wc; N1scO2sc; N1scS4wc; N2arN2ar; N2arN3as; N2arO2ar; N2scS4wc; N3dcO1dc; N3dcO1sc; N3scO2sc; N3scS4wc; O1dcS3dc; O1dcS4wc; key; Br1scC3asC2ar; Br1scC3asC3as; Br1scC3asS2ar; C1dcC2dcC2sc; C1scC2scC2sc; C1scC2scC3as; C1scC2scC4ss; C1scC2scN3as; C1scC2scN3sc; C1scC2scO2sc; C1scC2scS4wc; C1scC3asC2ar; C1scC3asC3as; C1scC3asN2ar; C1scC3asN3as; C1scC3asO2ar; C1scC3asS2ar; C1scC3dcC3as; C1scC3dcO1dc; C1scC3dcO2sc; C1scC4scC1sc; C1scC4scC3as; C1scC4ssC1sc; C1scC4ssC2sr; C1scN2scC3as; C1scN2scS4wc; C1scN3asC2ar; C1scN3asC3as; C1scN3scC1sc; C1scN3scC2sc; C1scN3scC3as; C1scN3scS4wc; C1scO2scC2sc; C1scO2scC3as; C1scO2scC3dc; C1scS2scC2sc; C1scS2scC3as; C1scS3dcC3as; C1scS3dcO1dc; C1scS4wcC2sc; C1scS4wcC3as; C1scS4wcN2sc; C1scS4wcO1dc; C2arC2arC2ar; C2arC2arC3as; C2arC2arN2ar; C2arC2arN3as; C2arC2arS2ar; C2arC3asC2ar; C2arC3asC2dc; C2arC3asC2sc; C2arC3asC2sr; C2arC3asC2tc; C2arC3asC3as; C2arC3asC3dc; C2arC3asC3ds; C2arC3asC3sc; C2arC3asC3ss; C2arC3asC4sc; C2arC3asCl1sc; C2arC3asF1sc; C2arC3asN1sc; C2arC3asN2ar; C2arC3asN2sc; C2arC3asN3as; C2arC3asN3dc; C2arC3asN3sc; C2arC3asO1sc; C2arC3asO2ar; C2arC3asO2sc; C2arC3asO2sr; C2arC3asS2ar; C2arC3asS2sc; C2arC3asS2sr; C2arC3asS3dc; C2arC3asS4wc; C2arN2arC2ar; C2arN2arC3as; C2arN2arN2ar; C2arN2arN3as; C2arN3asC2sc; C2arN3asC3as; C2arN3asN2ar; C2arO2arC3as; C2arS2arC2ar; C2arS2arC3as; C2dcC2scN3as; C2dcC3asC3as; C2dcC3asN2ar; C2drC2srC2sr; C2drC3dsC2sr; C2drC3dsC3as; C2drC3dsC3ds; C2drC4ssC2dr; C2drC4ssC2sr; C2scC2scC2sc; C2scC2scC3as; C2scC2scC3dc; C2scC2scN3as; C2scC2tcN1tc; C2scC3asC3as; C2scC3asN2ar; C2scC3asN3as; C2scC3asO2ar; C2scC3asS2ar; C2scC3dcN2sc; C2scC3dcO1dc; C2scC3dcO1sc; C2scC3dcO2sc; C2scC4scF1sc; C2scC4ssC2sc; C2scC4ssC2sr; C2scN2scC3as; C2scN3asC3as; C2scN3asN2ar; C2scN3scC2sc; C2scN3scO2sc; C2scO2scC2sc; C2scO2scC3as; C2scO2scC3dc; C2scS2scC3as; C2scS4wcC3as; C2scS4wcO1dc; C2srC2drC3ds; C2srC2srC2sr; C2srC2srC3as; C2srC2srC3ds; C2srC2srC3ss; C2srC2srC4ss; C2srC2srO2sr; C2srC2srS2sr; C2srC3asC3as; C2srC3dsC3as; C2srC3dsC3ds; C2srC3ssC2sr; C2srC3ssF1sc; C2srC3ssN3as; C2srC4ssC2sr; C2srC4ssC4sc; C2srO2srC3as; C2srS2srC3as; C2tcC2scC3as; C2tcC3asC3as; C2tcC3asN2ar; C3asC2arC3as; C3asC2arN2ar; C3asC2arN3as; C3asC2arO2ar; C3asC2arS2ar; C3asC2dcO1dc; C3asC2scC3as; C3asC2scC4sc; C3asC2scF1sc; C3asC2scN1sc; C3asC2scN2sc; C3asC2scN3sc; C3asC2scO1sc; C3asC2scO2sc; C3asC2scS2sc; C3asC2scS4wc; C3asC2srC3ds; C3asC2tcN1tc; C3asC3asC3as; C3asC3asC3dc; C3asC3asC3ds; C3asC3asC3sc; C3asC3asC4sc; C3asC3asCl1sc; C3asC3asF1sc; C3asC3asN1sc; C3asC3asN2ar; C3asC3asN2sc; C3asC3asN3as; C3asC3asN3dc; C3asC3asN3sc; C3asC3asO1sc; C3asC3asO2ar; C3asC3asO2sc; C3asC3asO2sr; C3asC3asS2ar; C3asC3asS2sc; C3asC3asS2sr; C3asC3asS4wc; C3asC3dcC3as; C3asC3dcC4sc; C3asC3dcN1sc; C3asC3dcN2sc; C3asC3dcO1dc; C3asC3dcO1sc; C3asC3dcO2sc; C3asC3dsC3as; C3asC3dsC3ds; C3asC3dsN2dr; C3asC3dsS2sr; C3asC3scC4sc; C3asC3scF1sc; C3asC3scO1sc; C3asC3scO2sc; C3asC3ssC3ss; C3asC3ssN2dr; C3asC3ssS2sr; C3asC4scF1sc; C3asN2arC3as; C3asN2arN2ar; C3asN2arN3as; C3asN2arO2ar; C3asN2scC3dc; C3asN2scS4wc; C3asN3asC3as; C3asN3asC3ss; C3asN3asN2ar; C3asN3dcO1dc; C3asN3dcO1sc; C3asO2arC3as; C3asO2arN2ar; C3asO2scC3sc; C3asO2scC4sc; C3asS2arC3as; C3asS3dcO1dc; C3asS4wcC3as; C3asS4wcC4sc; C3asS4wcN1sc; C3asS4wcN2sc; C3asS4wcN3sc; C3asS4wcO1dc; C3dcC2scN3as; C3dcC3asN2ar; C3dcC3asS2ar; C3dcC4scF1sc; C3dcO2scN1sc; C3dcO2scN3sc; C3dsC2drC4ss; C3dsC2srC4ss; C3dsC3asN3as; C3dsN2drC3ss; C3dsS2srC3ss; C3scC3asN2ar; C3scC4scF1sc; C3ssC3asS2ar; C3ssC3ssN2dr; C3ssC3ssS2sr; C4scC3asN2ar; C4scC3asN3as; C4scC3asS2ar; C4scC3dcO1dc; C4scC3scO1sc; C4scC3scO2sc; C4scC4ssC4sc; C4scS4wcO1dc; C4ssC2scF1sc; C4ssC4scF1sc; Cl1scC3asS2ar; F1scC3scF1sc; F1scC4scF1sc; F1scC4scO2sc; F1scC4scS4wc; N1scC3dcO1dc; N1scS4wcO1dc; N2arC3asN2sc; N2arC3asN3as; N2arC3asO2ar; N2arC3asO2sc; N2arC3asS2ar; N2drC3dsS2sr; N2scC3asS2ar; N2scC3dcO1dc; N2scS4wcO1dc; N3scS4wcO1dc; O1dcC3dcO1sc; O1dcC3dcO2sc; O1dcN3dcO1sc; O1dcS4wcO1dc; O2scC3asS2ar; O2srC2srO2sr; Br1scC3asC2arC2ar; Br1scC3asC2arC3as; Br1scC3asC2arN2ar; Br1scC3asC2arS2ar; Br1scC3asC3asC1sc; Br1scC3asC3asC2ar; Br1scC3asC3asC3as; Br1scC3asC3asN3as; Br1scC3asC3asO2sc; Br1scC3asS2arC3as; C1dcC2dcC2scN3as; C1scC2scC2scC3as; C1scC2scC3asC2ar; C1scC2scC3asC3as; C1scC2scC3asN2ar; C1scC2scC3asN3as; C1scC2scC3asS2ar; C1scC2scC4ssC2sc; C1scC2scC4ssC2sr; C1scC2scN3asC3as; C1scC2scN3asN2ar; C1scC2scN3scC2sc; C1scC2scN3scO2sc; C1scC2scO2scC3as; C1scC2scO2scC3dc; C1scC2scS4wcC3as; C1scC2scS4wcO1dc; C1scC3asC2arC2ar; C1scC3asC2arC3as; C1scC3asC2arN2ar; C1scC3asC2arN3as; C1scC3asC2arS2ar; C1scC3asC3asC1sc; C1scC3asC3asC2ar; C1scC3asC3asC2dc; C1scC3asC3asC2sc; C1scC3asC3asC2tc; C1scC3asC3asC3as; C1scC3asC3asC3dc; C1scC3asC3asC3ds; C1scC3asC3asC3sc; C1scC3asC3asC4sc; C1scC3asC3asCl1sc; C1scC3asC3asF1sc; C1scC3asC3asN2ar; C1scC3asC3asN3as; C1scC3asC3asO2sc; C1scC3asC3asO2sr; C1scC3asC3asS2ar; C1scC3asC3asS2sc; C1scC3asC3asS4wc; C1scC3asN2arC2ar; C1scC3asN2arC3as; C1scC3asN2arN3as; C1scC3asN3asC3as; C1scC3asN3asC3ss; C1scC3asO2arC2ar; C1scC3asO2arC3as; C1scC3asO2arN2ar; C1scC3asS2arC2ar; C1scC3asS2arC3as; C1scC3dcC3asC2ar; C1scC3dcC3asC3as; C1scC3dcO2scC2sc; C1scC4scC3asC2ar; C1scC4scC3asN2ar; C1scC4scC3asS2ar; C1scC4ssC2srC3ds; C1scN2scC3asC2ar; C1scN2scC3asC3as; C1scN2scS4wcC3as; C1scN2scS4wcO1dc; C1scN3asC2arC3as; C1scN3asC3asC2ar; C1scN3asC3asC3as; C1scN3scC2scC3as; C1scN3scC3asC2ar; C1scN3scC3asC3as; C1scN3scS4wcC3as; C1scN3scS4wcO1dc; C1scO2scC2scC3as; C1scO2scC3asC2ar; C1scO2scC3asC3as; C1scO2scC3asN2ar; C1scO2scC3dcC3as; C1scO2scC3dcO1dc; C1scS2scC2scC3as; C1scS2scC3asC2ar; C1scS2scC3asC3as; C1scS3dcC3asC2ar; C1scS4wcC2scC3as; C1scS4wcC3asC2ar; C1scS4wcC3asC3as; C1scS4wcN2scC3as; C2arC2arC2arC2ar; C2arC2arC2arC3as; C2arC2arC2arN2ar; C2arC2arC2arN3as; C2arC2arC2arS2ar; C2arC2arC3asC2ar; C2arC2arC3asC2sc; C2arC2arC3asC2sr; C2arC2arC3asC2tc; C2arC2arC3asC3as; C2arC2arC3asC3dc; C2arC2arC3asC3ds; C2arC2arC3asC3ss; C2arC2arC3asC4sc; C2arC2arC3asCl1sc; C2arC2arC3asF1sc; C2arC2arC3asN1sc; C2arC2arC3asN2ar; C2arC2arC3asN2sc; C2arC2arC3asN3as; C2arC2arC3asN3dc; C2arC2arC3asN3sc; C2arC2arC3asO1sc; C2arC2arC3asO2ar; C2arC2arC3asO2sc; C2arC2arC3asO2sr; C2arC2arC3asS2ar; C2arC2arC3asS2sc; C2arC2arC3asS2sr; C2arC2arC3asS3dc; C2arC2arC3asS4wc; C2arC2arN2arC2ar; C2arC2arN2arC3as; C2arC2arN2arN3as; C2arC2arN3asC3as; C2arC2arS2arC2ar; C2arC2arS2arC3as; C2arC3asC2arC3as; C2arC3asC2arN2ar; C2arC3asC2arS2ar; C2arC3asC2dcO1dc; C2arC3asC2scC2sc; C2arC3asC2scC2tc; C2arC3asC2scC3as; C2arC3asC2scC4sc; C2arC3asC2scF1sc; C2arC3asC2scN1sc; C2arC3asC2scN2sc; C2arC3asC2scN3sc; C2arC3asC2scO1sc; C2arC3asC2scO2sc; C2arC3asC2scS2sc; C2arC3asC2scS4wc; C2arC3asC2srC2sr; C2arC3asC2srC3ds; C2arC3asC2tcN1tc; C2arC3asC3asC2ar; C2arC3asC3asC2sc; C2arC3asC3asC2sr; C2arC3asC3asC3as; C2arC3asC3asC3ds; C2arC3asC3asC4sc; C2arC3asC3asCl1sc; C2arC3asC3asF1sc; C2arC3asC3asN2ar; C2arC3asC3asN2sc; C2arC3asC3asN3as; C2arC3asC3asN3sc; C2arC3asC3asO2ar; C2arC3asC3asO2sc; C2arC3asC3asO2sr; C2arC3asC3asS2ar; C2arC3asC3asS2sc; C2arC3asC3asS2sr; C2arC3asC3asS4wc; C2arC3asC3dcC3as; C2arC3asC3dcC4sc; C2arC3asC3dcN1sc; C2arC3asC3dcN2sc; C2arC3asC3dcO1dc; C2arC3asC3dcO1sc; C2arC3asC3dcO2sc; C2arC3asC3dsC2dr; C2arC3asC3dsC2sr; C2arC3asC3dsC3as; C2arC3asC3dsC3ds; C2arC3asC3dsN2dr; C2arC3asC3dsS2sr; C2arC3asC3scC4sc; C2arC3asC3scF1sc; C2arC3asC3scO1sc; C2arC3asC3scO2sc; C2arC3asC3ssC3ss; C2arC3asC3ssN2dr; C2arC3asC3ssS2sr; C2arC3asC4scF1sc; C2arC3asN2arC2ar; C2arC3asN2arC3as; C2arC3asN2arN3as; C2arC3asN2arO2ar; C2arC3asN2scC3dc; C2arC3asN2scS4wc; C2arC3asN3asC2ar; C2arC3asN3asC3as; C2arC3asN3asC3ss; C2arC3asN3asN2ar; C2arC3asN3dcO1dc; C2arC3asN3dcO1sc; C2arC3asO2arC3as; C2arC3asO2arN2ar; C2arC3asO2scC2sc; C2arC3asO2scC3sc; C2arC3asO2scC4sc; C2arC3asO2srC2sr; C2arC3asS2arC2ar; C2arC3asS2arC3as; C2arC3asS2scC2sc; C2arC3asS2srC2sr; C2arC3asS3dcO1dc; C2arC3asS4wcC2sc; C2arC3asS4wcC3as; C2arC3asS4wcC4sc; C2arC3asS4wcN1sc; C2arC3asS4wcN2sc; C2arC3asS4wcN3sc; C2arC3asS4wcO1dc; C2arN2arC2arC3as; C2arN2arC3asC3as; C2arN2arC3asN3as; C2arN2arC3asO2sc; C2arN2arC3asS2ar; C2arN2arN2arC3as; C2arN2arN3asC3as; C2arN3asC2scC2dc; C2arN3asC2scC2sc; C2arN3asC3asC3as; C2arN3asC3asN2ar; C2arN3asN2arC3as; C2arO2arC3asN2ar; C2arS2arC2arC3as; C2arS2arC3asC3as; C2arS2arC3asC3ss; C2arS2arC3asN2ar; C2dcC2scN3asC3as; C2dcC2scN3asN2ar; C2dcC3asC2arC3as; C2dcC3asC2arN3as; C2dcC3asC3asN3as; C2dcC3asN2arC3as; C2drC2srC2srC2sr; C2drC3dsC2srC2sr; C2drC3dsC3asN3as; C2drC3dsC3dsC2dr; C2drC3dsC3dsC3as; C2drC4ssC2drC3ds; C2drC4ssC2srC2sr; C2scC2scC2scC3as; C2scC2scC3asC3as; C2scC2scC3asN2ar; C2scC2scC3asN3as; C2scC2scC3asS2ar; C2scC2scC3dcO1dc; C2scC2scC3dcO1sc; C2scC2scN3asC3as; C2scC2scN3asN2ar; C2scC3asC2arC3as; C2scC3asC2arN3as; C2scC3asC3asC3as; C2scC3asC3asC4sc; C2scC3asC3asCl1sc; C2scC3asC3asN2ar; C2scC3asC3asN3as; C2scC3asC3asO2sc; C2scC3asN2arC3as; C2scC3asN2arN3as; C2scC3asN3asC3as; C2scC3asO2arN2ar; C2scC3asS2arC3as; C2scC3dcN2scC3as; C2scC3dcO2scC2sc; C2scC4ssC2scF1sc; C2scC4ssC2srC3ds; C2scN2scC3asN2ar; C2scN2scC3asS2ar; C2scN3asC2arC3as; C2scN3asC3asC3as; C2scN3asC3asC4sc; C2scN3asN2arC3as; C2scN3scO2scC3dc; C2scO2scC2scC3as; C2scO2scC3asN2ar; C2scO2scC3asS2ar; C2scO2scC3dcC3as; C2scO2scC3dcO1dc; C2srC2drC3dsC2sr; C2srC2drC3dsC3as; C2srC2srC2drC3ds; C2srC2srC2srC2sr; C2srC2srC2srC3as; C2srC2srC2srC3ds; C2srC2srC2srC4ss; C2srC2srC2srS2sr; C2srC2srC3asC3as; C2srC2srC3dsC3as; C2srC2srC3dsC3ds; C2srC2srC3ssC2sr; C2srC2srC3ssF1sc; C2srC2srC3ssN3as; C2srC2srC4ssC2sr; C2srC2srO2srC3as; C2srC2srS2srC3as; C2srC3asC2arC3as; C2srC3asC3asC2sr; C2srC3asC3asC3ds; C2srC3asC3asO2sr; C2srC3asC3asS2sr; C2srC3dsC3asC3as; C2srC3dsC3asN3as; C2srC3dsC3dsC2sr; C2srC3dsC3dsC3as; C2srC3ssN3asC3as; C2srC4ssC2drC3ds; C2srC4ssC2scF1sc; C2srC4ssC2srC3ds; C2srC4ssC4scF1sc; C2srO2srC3asC3as; C2srS2srC3asC3as; C2tcC2scC3asN2ar; C2tcC2scC3asS2ar; C2tcC3asC2arC3as; C2tcC3asC2arN2ar; C2tcC3asC2arN3as; C2tcC3asC3asC3as; C2tcC3asC3asCl1sc; C2tcC3asC3asN3as; C2tcC3asN2arC3as; C2tcC3asN2arN3as; C3asC2arC2arC3as; C3asC2arC2arN2ar; C3asC2arC2arS2ar; C3asC2arC3asC3as; C3asC2arC3asC3dc; C3asC2arC3asC3ds; C3asC2arC3asC3sc; C3asC2arC3asC4sc; C3asC2arC3asCl1sc; C3asC2arC3asF1sc; C3asC2arC3asN1sc; C3asC2arC3asN2ar; C3asC2arC3asN2sc; C3asC2arC3asN3as; C3asC2arC3asN3dc; C3asC2arC3asN3sc; C3asC2arC3asO2ar; C3asC2arC3asO2sc; C3asC2arC3asO2sr; C3asC2arC3asS2ar; C3asC2arC3asS2sc; C3asC2arC3asS4wc; C3asC2arN2arC3as; C3asC2arN2arN2ar; C3asC2arN2arN3as; C3asC2arN3asC3as; C3asC2arN3asN2ar; C3asC2arO2arC3as; C3asC2arS2arC3as; C3asC2scC2scC3as; C3asC2scC2scC3dc; C3asC2scC2scN3as; C3asC2scC2tcN1tc; C3asC2scC3asN2ar; C3asC2scC3asS2ar; C3asC2scC4scF1sc; C3asC2scN2scC3as; C3asC2scO2scC3as; C3asC2scO2scC3dc; C3asC2scS2scC3as; C3asC2scS4wcO1dc; C3asC2srC2srO2sr; C3asC2srC3dsC3as; C3asC2srC3dsC3ds; C3asC3asC2arN2ar; C3asC3asC2arN3as; C3asC3asC2arO2ar; C3asC3asC2arS2ar; C3asC3asC2dcO1dc; C3asC3asC2scC4sc; C3asC3asC2scN3sc; C3asC3asC2scO1sc; C3asC3asC2scO2sc; C3asC3asC2srC3ds; C3asC3asC2tcN1tc; C3asC3asC3asC3as; C3asC3asC3asC3dc; C3asC3asC3asC4sc; C3asC3asC3asCl1sc; C3asC3asC3asF1sc; C3asC3asC3asN1sc; C3asC3asC3asN2ar; C3asC3asC3asN3as; C3asC3asC3asN3dc; C3asC3asC3asN3sc; C3asC3asC3asO1sc; C3asC3asC3asO2ar; C3asC3asC3asO2sc; C3asC3asC3asO2sr; C3asC3asC3asS2ar; C3asC3asC3asS4wc; C3asC3asC3dcC3as; C3asC3asC3dcC4sc; C3asC3asC3dcN1sc; C3asC3asC3dcO1dc; C3asC3asC3dcO1sc; C3asC3asC3dcO2sc; C3asC3asC3dsC3as; C3asC3asC3dsC3ds; C3asC3asC3dsN2dr; C3asC3asC3dsS2sr; C3asC3asC3scC4sc; C3asC3asC3scO1sc; C3asC3asC3scO2sc; C3asC3asC4scF1sc; C3asC3asN2arC3as; C3asC3asN2arN2ar; C3asC3asN2arN3as; C3asC3asN2arO2ar; C3asC3asN3asC3as; C3asC3asN3asC3ss; C3asC3asN3asN2ar; C3asC3asN3dcO1dc; C3asC3asN3dcO1sc; C3asC3asO2arC3as; C3asC3asO2arN2ar; C3asC3asS2arC3as; C3asC3asS4wcC4sc; C3asC3asS4wcO1dc; C3asC3dcC4scF1sc; C3asC3dcN2scC3as; C3asC3dcO2scN1sc; C3asC3dcO2scN3sc; C3asC3dsC2drC4ss; C3asC3dsC2srC4ss; C3asC3dsC3dsC3as; C3asC3dsN2drC3ss; C3asC3dsS2srC3ss; C3asC3scC4scF1sc; C3asC3scO2scC3as; C3asC3ssC3ssC3as; C3asC3ssC3ssN2dr; C3asC3ssC3ssS2sr; C3asC3ssN2drC3ds; C3asC3ssS2srC3ds; C3asN2arC3asC3dc; C3asN2arC3asC3sc; C3asN2arC3asC4sc; C3asN2arC3asN2sc; C3asN2arC3asN3as; C3asN2arC3asO2ar; C3asN2arC3asO2sc; C3asN2arC3asS2ar; C3asN2arN2arC3as; C3asN2arN3asC3as; C3asN2arO2arC3as; C3asN2scC3dcO1dc; C3asN2scS4wcO1dc; C3asN3asC2scC3dc; C3asN3asC3asC3ds; C3asN3asC3asC4sc; C3asN3asC3asN2ar; C3asO2scC3scC4sc; C3asO2scC4scF1sc; C3asO2srC2srO2sr; C3asS2arC3asC3dc; C3asS2arC3asC4sc; C3asS2arC3asCl1sc; C3asS2arC3asN2ar; C3asS2arC3asN2sc; C3asS2arC3asO2sc; C3asS4wcC4scF1sc; C3dcC2scN3asN2ar; C3dcC3asC2arN3as; C3dcC3asC3asCl1sc; C3dcC3asC3asN3as; C3dcC3asN2arN3as; C3dsC2srC4ssC4sc; C3dsC3asC3asCl1sc; C3dsC3asC3asF1sc; C3dsC3asN3asN2ar; C3dsC3dsC2drC4ss; C3dsC3dsC2srC4ss; C3dsN2drC3ssC3ss; C3dsS2srC3ssC3ss; C3scC3asC2arN3as; C3scC3asC3asN3as; C3scC3asN2arN3as; C3ssC2srC2srC3ss; C3ssC3asC2arS2ar; C3ssC3ssC3asS2ar; C3ssN2drC3dsS2sr; C3ssS2srC3dsN2dr; C4scC3asC2arN3as; C4scC3asC3asCl1sc; C4scC3asC3asF1sc; C4scC3asC3asO1sc; C4scC3asC3asO2sc; C4scC3asN2arN2ar; C4scC3asN2arN3as; C4scC3asN3asN2ar; C4scC4ssC4scF1sc; Cl1scC3asC2arN2ar; Cl1scC3asC3asCl1sc; Cl1scC3asC3asF1sc; Cl1scC3asC3asN2ar; Cl1scC3asC3asN2sc; Cl1scC3asC3asN3as; Cl1scC3asC3asN3sc; Cl1scC3asC3asO2sc; Cl1scC3asC3asS2sc; Cl1scC3asC3asS4wc; F1scC2scC3asN2ar; F1scC3asC2arN2ar; F1scC3asC3asF1sc; F1scC3asC3asN2ar; F1scC3asC3asN3as; F1scC3asC3asN3sc; F1scC3asC3asO2sc; F1scC3scC3asN2ar; F1scC4scC3asN2ar; F1scC4scC3asN3as; F1scC4scC3asS2ar; F1scC4scC3dcO1dc; F1scC4scC3scO1sc; F1scC4scC3scO2sc; F1scC4scS4wcO1dc; N1scC2scC3asN2ar; N1scC3asC2arN2ar; N1scC3asC3asN3as; N1scC3dcC3asN2ar; N1scO2scC3dcO1dc; N1tcC2tcC3asN2ar; N2arC2arC2arN2ar; N2arC2arC2arN3as; N2arC2arC3asN3dc; N2arC2arC3asO2sc; N2arC2arC3asS2ar; N2arC2arC3asS4wc; N2arC3asC2arN3as; N2arC3asC2arO2ar; N2arC3asC2arS2ar; N2arC3asC2dcO1dc; N2arC3asC2scO1sc; N2arC3asC2scO2sc; N2arC3asC2scS2sc; N2arC3asC2scS4wc; N2arC3asC3asN2ar; N2arC3asC3asN3as; N2arC3asC3asO1sc; N2arC3asC3asO2sc; N2arC3asC3asS2ar; N2arC3asC3dcN2sc; N2arC3asC3dcO1dc; N2arC3asC3dcO1sc; N2arC3asC3dcO2sc; N2drC3ssC3asS2ar; N2drC3ssC3ssS2sr; N2scC3dcC2scN3as; N3asC2scC3dcO1dc; N3asC2scC3dcO2sc; N3asC3asC3asN3dc; N3asC3asC3asO1sc; N3asC3asC3asO2ar; N3asC3asC3asO2sc; N3asC3asC3asS2ar; N3asC3asC3asS4wc; N3asN2arC3asO2sc; N3scO2scC3dcO1dc; O1dcC3dcC3asS2ar; O1scC2scC3asO2ar; O2scC3asC3asO2sc; O2scC3dcC3asS2ar; O2srC2srC2srO2sr; O2srC3asC3asO2sr; S2arC3asC3asS2ar; Br1scC3asC2arC2arC2ar; Br1scC3asC2arC2arC3as; Br1scC3asC2arC3asC2ar; Br1scC3asC2arC3asC3as; Br1scC3asC2arC3asC3ds; Br1scC3asC2arC3asN3as; Br1scC3asC2arC3asS2ar; Br1scC3asC2arN2arC2ar; Br1scC3asC2arN2arN3as; Br1scC3asC2arS2arC3as; Br1scC3asC3asC2arC2ar; Br1scC3asC3asC3asBr1sc; Br1scC3asC3asC3asC2ar; Br1scC3asC3asC3asC3as; Br1scC3asC3asC3asS2ar; Br1scC3asC3asN3asC3as; Br1scC3asC3asN3asN2ar; Br1scC3asC3asO2scC1sc; Br1scC3asS2arC3asC2ar; Br1scC3asS2arC3asC3as; C1dcC2dcC2scN3asC2ar; C1dcC2dcC2scN3asC3as; C1dcC2dcC2scN3asN2ar; C1scC2scC2scC3asC3as; C1scC2scC3asC2arC2ar; C1scC2scC3asC2arC3as; C1scC2scC3asC3asC2ar; C1scC2scC3asC3asC3as; C1scC2scC3asC3asC4sc; C1scC2scC3asC3asN2ar; C1scC2scC3asC3asN3as; C1scC2scC3asC3asO2sc; C1scC2scC3asN2arC3as; C1scC2scC3asN3asC3as; C1scC2scC3asS2arC3as; C1scC2scC4ssC2scC1sc; C1scC2scC4ssC2srC3ds; C1scC2scN3asC3asC3as; C1scC2scN3asC3asC4sc; C1scC2scN3asN2arC3as; C1scC2scN3scC2scC1sc; C1scC2scN3scO2scC3dc; C1scC2scO2scC3asC2ar; C1scC2scO2scC3dcC2sc; C1scC2scO2scC3dcC3as; C1scC2scO2scC3dcO1dc; C1scC2scS4wcC3asC2ar; C1scC3asC2arC2arC2ar; C1scC3asC2arC2arC3as; C1scC3asC2arC2arN2ar; C1scC3asC2arC2arS2ar; C1scC3asC2arC3asC1sc; C1scC3asC2arC3asC2ar; C1scC3asC2arC3asC3as; C1scC3asC2arC3asCl1sc; C1scC3asC2arC3asF1sc; C1scC3asC2arC3asN2ar; C1scC3asC2arC3asN3as; C1scC3asC2arC3asO2sc; C1scC3asC2arN2arC2ar; C1scC3asC2arN2arC3as; C1scC3asC2arN2arN3as; C1scC3asC2arN3asC3as; C1scC3asC2arS2arC3as; C1scC3asC3asC2arC2ar; C1scC3asC3asC2arC3as; C1scC3asC3asC2arN2ar; C1scC3asC3asC2dcO1dc; C1scC3asC3asC2scC4sc; C1scC3asC3asC2scN3sc; C1scC3asC3asC2scO1sc; C1scC3asC3asC2scO2sc; C1scC3asC3asC2tcN1tc; C1scC3asC3asC3asC1sc; C1scC3asC3asC3asC2ar; C1scC3asC3asC3asC3as; C1scC3asC3asC3asCl1sc; C1scC3asC3asC3asN2ar; C1scC3asC3asC3asN3as; C1scC3asC3asC3asO2sr; C1scC3asC3asC3dcC1sc; C1scC3asC3asC3dcC3as; C1scC3asC3asC3dcC4sc; C1scC3asC3asC3dcO1dc; C1scC3asC3asC3dsC2sr; C1scC3asC3asC3dsC3ds; C1scC3asC3asC3scC4sc; C1scC3asC3asC3scO1sc; C1scC3asC3asC3scO2sc; C1scC3asC3asC4scF1sc; C1scC3asC3asN2arC2ar; C1scC3asC3asN2arN3as; C1scC3asC3asN3asC3as; C1scC3asC3asN3asN2ar; C1scC3asC3asO2scC1sc; C1scC3asC3asO2srC2sr; C1scC3asC3asS2arC2ar; C1scC3asC3asS2scC1sc; C1scC3asC3asS4wcC4sc; C1scC3asC3asS4wcO1dc; C1scC3asN2arC2arC2ar; C1scC3asN2arC2arC3as; C1scC3asN2arC3asC2ar; C1scC3asN2arC3asC3as; C1scC3asN2arC3asN3as; C1scC3asN2arC3asS2ar; C1scC3asN2arN3asC3as; C1scC3asN3asC3asC2ar; C1scC3asN3asC3asC3as; C1scC3asN3asC3ssC2sr; C1scC3asO2arC2arC3as; C1scC3asO2arC3asC2ar; C1scC3asO2arC3asC3as; C1scC3asO2arN2arC3as; C1scC3asS2arC2arC3as; C1scC3asS2arC3asC2ar; C1scC3asS2arC3asC3as; C1scC3dcC3asC2arC2ar; C1scC3dcC3asC2arC3as; C1scC3dcC3asC3asN3as; C1scC3dcO2scC2scC3as; C1scC4scC3asC2arC2ar; C1scC4scC3asN2arC3as; C1scC4scC3asS2arC3as; C1scC4ssC2srC3dsC3as; C1scC4ssC2srC3dsC3ds; C1scN2scC3asC2arC2ar; C1scN2scC3asC2arC3as; C1scN2scC3asC3asC2ar; C1scN2scC3asC3asCl1sc; C1scN2scS4wcC3asC2ar; C1scN3asC2arC3asC3as; C1scN3asC3asC2arC2ar; C1scN3asC3asC3asC2ar; C1scN3asC3asC3asC3as; C1scN3scC2scC3asC2ar; C1scN3scC2scC3asC3as; C1scN3scC3asC2arC2ar; C1scN3scC3asC2arC3as; C1scN3scC3asC3asC2ar; C1scN3scC3asC3asC3as; C1scN3scC3asC3asCl1sc; C1scN3scC3asC3asF1sc; C1scN3scS4wcC3asC2ar; C1scO2scC2scC3asC2ar; C1scO2scC2scC3asN2ar; C1scO2scC3asC2arC2ar; C1scO2scC3asC2arC3as; C1scO2scC3asC2arN2ar; C1scO2scC3asC3asC2ar; C1scO2scC3asC3asC2sc; C1scO2scC3asC3asC3as; C1scO2scC3asC3asC4sc; C1scO2scC3asC3asCl1sc; C1scO2scC3asC3asF1sc; C1scO2scC3asC3asN2ar; C1scO2scC3asC3asN3as; C1scO2scC3asC3asO2sc; C1scO2scC3asN2arC2ar; C1scO2scC3asN2arN3as; C1scO2scC3dcC3asC2ar; C1scO2scC3dcC3asC3as; C1scO2scC3dcC3asN2ar; C1scS2scC2scC3asC2ar; C1scS2scC2scC3asN2ar; C1scS2scC3asC2arC2ar; C1scS2scC3asC2arC3as; C1scS2scC3asC3asC2ar; C1scS2scC3asC3asCl1sc; C1scS3dcC3asC2arC2ar; C1scS4wcC2scC3asC2ar; C1scS4wcC2scC3asN2ar; C1scS4wcC3asC2arC2ar; C1scS4wcC3asC2arC3as; C1scS4wcC3asC2arN2ar; C1scS4wcC3asC3asC2ar; C1scS4wcC3asC3asC3as; C1scS4wcC3asC3asCl1sc; C1scS4wcC3asC3asN3as; C1scS4wcN2scC3asC2ar; C2arC2arC2arC2arC2ar; C2arC2arC2arC2arC3as; C2arC2arC2arC2arN2ar; C2arC2arC2arC3asC2ar; C2arC2arC2arC3asC2sc; C2arC2arC2arC3asC2sr; C2arC2arC2arC3asC3as; C2arC2arC2arC3asC3dc; C2arC2arC2arC3asC3ds; C2arC2arC2arC3asC3ss; C2arC2arC2arC3asC4sc; C2arC2arC2arC3asCl1sc; C2arC2arC2arC3asF1sc; C2arC2arC2arC3asN1sc; C2arC2arC2arC3asN2ar; C2arC2arC2arC3asN2sc; C2arC2arC2arC3asN3as; C2arC2arC2arC3asN3dc; C2arC2arC2arC3asN3sc; C2arC2arC2arC3asO2ar; C2arC2arC2arC3asO2sc; C2arC2arC2arC3asO2sr; C2arC2arC2arC3asS2ar; C2arC2arC2arC3asS2sc; C2arC2arC2arC3asS4wc; C2arC2arC2arN2arC2ar; C2arC2arC2arN2arC3as; C2arC2arC2arN3asC3as; C2arC2arC2arS2arC3as; C2arC2arC3asC2arC2ar; C2arC2arC3asC2arC3as; C2arC2arC3asC2arN2ar; C2arC2arC3asC2arS2ar; C2arC2arC3asC2scC2sc; C2arC2arC3asC2scC3as; C2arC2arC3asC2scN2sc; C2arC2arC3asC2scO1sc; C2arC2arC3asC2scO2sc; C2arC2arC3asC2srC2sr; C2arC2arC3asC2srC3ds; C2arC2arC3asC2tcN1tc; C2arC2arC3asC3asC2ar; C2arC2arC3asC3asC2sc; C2arC2arC3asC3asC2sr; C2arC2arC3asC3asC3as; C2arC2arC3asC3asC3ds; C2arC2arC3asC3asC4sc; C2arC2arC3asC3asCl1sc; C2arC2arC3asC3asF1sc; C2arC2arC3asC3asN2ar; C2arC2arC3asC3asN3as; C2arC2arC3asC3asN3sc; C2arC2arC3asC3asO2ar; C2arC2arC3asC3asO2sc; C2arC2arC3asC3asO2sr; C2arC2arC3asC3asS2ar; C2arC2arC3asC3dcC3as; C2arC2arC3asC3dcC4sc; C2arC2arC3asC3dcN1sc; C2arC2arC3asC3dcO1dc; C2arC2arC3asC3dcO1sc; C2arC2arC3asC3dsC2dr; C2arC2arC3asC3dsC2sr; C2arC2arC3asC3dsC3as; C2arC2arC3asC3dsC3ds; C2arC2arC3asC3dsN2dr; C2arC2arC3asC3dsS2sr; C2arC2arC3asC3ssC3ss; C2arC2arC3asC3ssN2dr; C2arC2arC3asC3ssS2sr; C2arC2arC3asC4scF1sc; C2arC2arC3asN2arC2ar; C2arC2arC3asN2arC3as; C2arC2arC3asN2scC3dc; C2arC2arC3asN2scS4wc; C2arC2arC3asN3asC2ar; C2arC2arC3asN3asC3as; C2arC2arC3asN3asC3ss; C2arC2arC3asN3asN2ar; C2arC2arC3asN3dcO1dc; C2arC2arC3asN3dcO1sc; C2arC2arC3asO2arC3as; C2arC2arC3asO2scC2sc; C2arC2arC3asO2scC3sc; C2arC2arC3asO2scC4sc; C2arC2arC3asO2srC2sr; C2arC2arC3asS2arC2ar; C2arC2arC3asS2arC3as; C2arC2arC3asS2scC2sc; C2arC2arC3asS2srC2sr; C2arC2arC3asS3dcO1dc; C2arC2arC3asS4wcC2sc; C2arC2arC3asS4wcC3as; C2arC2arC3asS4wcN1sc; C2arC2arC3asS4wcN2sc; C2arC2arC3asS4wcN3sc; C2arC2arC3asS4wcO1dc; C2arC2arN2arC2arC2ar; C2arC2arN2arC2arC3as; C2arC2arN2arC3asC2ar; C2arC2arN2arC3asC3as; C2arC2arN2arC3asN3as; C2arC2arN2arN3asC3as; C2arC2arN3asC3asC2ar; C2arC2arN3asC3asC3as; C2arC2arN3asC3asN2ar; C2arC2arS2arC2arC3as; C2arC2arS2arC3asC2ar; C2arC2arS2arC3asC3as; C2arC2arS2arC3asC3ss; C2arC3asC2arC2arC3as; C2arC3asC2arC2arN2ar; C2arC3asC2arC2arS2ar; C2arC3asC2arC3asC2ar; C2arC3asC2arC3asC2sc; C2arC3asC2arC3asC2sr; C2arC3asC2arC3asC3as; C2arC3asC2arC3asC4sc; C2arC3asC2arC3asCl1sc; C2arC3asC2arC3asF1sc; C2arC3asC2arC3asN1sc; C2arC3asC2arC3asN2ar; C2arC3asC2arC3asN2sc; C2arC3asC2arC3asN3as; C2arC3asC2arC3asN3dc; C2arC3asC2arC3asN3sc; C2arC3asC2arC3asO2ar; C2arC3asC2arC3asO2sc; C2arC3asC2arC3asO2sr; C2arC3asC2arC3asS2ar; C2arC3asC2arC3asS2sc; C2arC3asC2arC3asS4wc; C2arC3asC2arN2arC2ar; C2arC3asC2arN2arC3as; C2arC3asC2arS2arC2ar; C2arC3asC2arS2arC3as; C2arC3asC2scC2scC2sc; C2arC3asC2scC2scC3as; C2arC3asC2scC2scC3dc; C2arC3asC2scC2scN3as; C2arC3asC2scC2tcN1tc; C2arC3asC2scC3asN2ar; C2arC3asC2scC3asS2ar; C2arC3asC2scC4scF1sc; C2arC3asC2scN2scC3as; C2arC3asC2scO2scC2sc; C2arC3asC2scO2scC3as; C2arC3asC2scO2scC3dc; C2arC3asC2scS2scC3as; C2arC3asC2scS4wcO1dc; C2arC3asC2srC2srC2sr; C2arC3asC2srC2srO2sr; C2arC3asC2srC3dsC3as; C2arC3asC2srC3dsC3ds; C2arC3asC3asC2arC3as; C2arC3asC3asC2arN2ar; C2arC3asC3asC2arN3as; C2arC3asC3asC2arS2ar; C2arC3asC3asC2srC2sr; C2arC3asC3asC2srC3ds; C2arC3asC3asC3asC2ar; C2arC3asC3asC3asC2sc; C2arC3asC3asC3asC2tc; C2arC3asC3asC3asC3as; C2arC3asC3asC3asC4sc; C2arC3asC3asC3asCl1sc; C2arC3asC3asC3asF1sc; C2arC3asC3asC3asN1sc; C2arC3asC3asC3asN2ar; C2arC3asC3asC3asN3as; C2arC3asC3asC3asN3dc; C2arC3asC3asC3asN3sc; C2arC3asC3asC3asO1sc; C2arC3asC3asC3asO2ar; C2arC3asC3asC3asO2sc; C2arC3asC3asC3asO2sr; C2arC3asC3asC3asS2ar; C2arC3asC3asC3asS4wc; C2arC3asC3asC3dsC2sr; C2arC3asC3asC3dsC3as; C2arC3asC3asC3dsC3ds; C2arC3asC3asC3dsN2dr; C2arC3asC3asC3dsS2sr; C2arC3asC3asC4scF1sc; C2arC3asC3asN2arC2ar; C2arC3asC3asN2arC3as; C2arC3asC3asN2arN2ar; C2arC3asC3asN2arN3as; C2arC3asC3asN2arO2ar; C2arC3asC3asN3asC2ar; C2arC3asC3asN3asC3as; C2arC3asC3asN3asC3ss; C2arC3asC3asN3asN2ar; C2arC3asC3asO2arC3as; C2arC3asC3asO2srC2sr; C2arC3asC3asS2arC2ar; C2arC3asC3asS2arC3as; C2arC3asC3asS2srC2sr; C2arC3asC3asS4wcO1dc; C2arC3asC3dcC3asC2ar; C2arC3asC3dcC3asC3as; C2arC3asC3dcC4scF1sc; C2arC3asC3dcN2scC3as; C2arC3asC3dcO2scC2sc; C2arC3asC3dcO2scN1sc; C2arC3asC3dcO2scN3sc; C2arC3asC3dsC2drC2sr; C2arC3asC3dsC2drC4ss; C2arC3asC3dsC2srC2sr; C2arC3asC3dsC2srC3as; C2arC3asC3dsC2srC4ss; C2arC3asC3dsC3asC2ar; C2arC3asC3dsC3asC3as; C2arC3asC3dsC3dsC2dr; C2arC3asC3dsC3dsC2sr; C2arC3asC3dsC3dsC3as; C2arC3asC3dsN2drC3ss; C2arC3asC3dsS2srC3ss; C2arC3asC3scC4scF1sc; C2arC3asC3scO2scC3as; C2arC3asC3ssC3ssC3as; C2arC3asC3ssC3ssN2dr; C2arC3asC3ssC3ssS2sr; C2arC3asC3ssN2drC3ds; C2arC3asC3ssS2srC3ds; C2arC3asN2arC2arC3as; C2arC3asN2arC3asC2ar; C2arC3asN2arC3asC3as; C2arC3asN2arC3asN3as; C2arC3asN2arC3asO2ar; C2arC3asN2arC3asS2ar; C2arC3asN2arN3asC3as; C2arC3asN2arO2arC3as; C2arC3asN2scC3dcC2sc; C2arC3asN2scC3dcC3as; C2arC3asN2scC3dcO1dc; C2arC3asN2scS4wcO1dc; C2arC3asN3asC2arC3as; C2arC3asN3asC3asC2ar; C2arC3asN3asC3asC2sc; C2arC3asN3asC3asC3as; C2arC3asN3asC3asC3ds; C2arC3asN3asC3asC4sc; C2arC3asN3asC3asN2ar; C2arC3asN3asC3ssC2sr; C2arC3asN3asN2arC2ar; C2arC3asN3asN2arC3as; C2arC3asO2arC3asC2ar; C2arC3asO2arC3asC3as; C2arC3asO2arN2arC3as; C2arC3asO2scC2scC3as; C2arC3asO2scC3scC3as; C2arC3asO2scC3scC4sc; C2arC3asO2scC4scF1sc; C2arC3asO2srC2srC2sr; C2arC3asO2srC2srO2sr; C2arC3asS2arC2arC3as; C2arC3asS2arC3asC2ar; C2arC3asS2arC3asC3as; C2arC3asS2arC3asCl1sc; C2arC3asS2arC3asN2ar; C2arC3asS2scC2scC3as; C2arC3asS2srC2srC2sr; C2arC3asS4wcC3asC2ar; C2arC3asS4wcC4scF1sc; C2arN2arC2arC2arC3as; C2arN2arC2arC3asC3as; C2arN2arC2arC3asO2sc; C2arN2arC3asC2arC3as; C2arN2arC3asC3asC3as; C2arN2arC3asC3asN2ar; C2arN2arC3asC3asN3as; C2arN2arC3asN3asC2ar; C2arN2arC3asN3asC3as; C2arN2arC3asS2arC3as; C2arN2arN2arC3asC3as; C2arN2arN3asC3asC3as; C2arN3asC2scC2scC3as; C2arN3asC3asC2arC3as; C2arN3asC3asC3asC3as; C2arN3asC3asC3asN2ar; C2arN3asC3asC3asS2ar; C2arN3asC3asN2arC3as; C2arN3asN2arC3asC3as; C2arO2arC3asN2arC3as; C2arS2arC2arC2arC3as; C2arS2arC2arC3asC3as; C2arS2arC2arC3asC3ss; C2arS2arC3asC2arC3as; C2arS2arC3asC3asC3as; C2arS2arC3asC3asN2ar; C2arS2arC3asC3asN3as; C2arS2arC3asC3asS2ar; C2arS2arC3asC3ssC3ss; C2arS2arC3asC3ssN2dr; C2arS2arC3asN2arC3as; C2dcC2scN3asC2arC3as; C2dcC2scN3asC3asC3as; C2dcC2scN3asC3asC4sc; C2dcC2scN3asN2arC3as; C2dcC3asC2arC3asC3as; C2dcC3asC2arC3asN3as; C2dcC3asC2arN3asC3as; C2dcC3asC3asN3asC3as; C2dcC3asN2arC3asC3as; C2dcC3asN2arC3asN3as; C2drC2srC2srC2srC2sr; C2drC3dsC2srC2srC2sr; C2drC3dsC3asC2arC3as; C2drC3dsC3asN3asC3as; C2drC3dsC3asN3asN2ar; C2drC3dsC3dsC2drC4ss; C2drC4ssC2drC3dsC3as; C2drC4ssC2drC3dsC3ds; C2scC2scC2scC3asN2ar; C2scC2scC2scC3asS2ar; C2scC2scC3asC3asC3as; C2scC2scC3asC3asC4sc; C2scC2scC3asC3asN2ar; C2scC2scC3asC3asN3as; C2scC2scC3asN2arC3as; C2scC2scC3asN3asC3as; C2scC2scC3asS2arC3as; C2scC2scN3asC2arC3as; C2scC2scN3asC3asC3as; C2scC2scN3asC3asC4sc; C2scC2scN3asN2arC3as; C2scC3asC2arC2arC3as; C2scC3asC2arC3asC3as; C2scC3asC2arC3asCl1sc; C2scC3asC2arC3asN3as; C2scC3asC2arN3asC3as; C2scC3asC3asC3asC3as; C2scC3asC3asC3asN2ar; C2scC3asC3asC3asN3as; C2scC3asC3asC4scF1sc; C2scC3asC3asN2arN3as; C2scC3asC3asN3asC3as; C2scC3asC3asN3asN2ar; C2scC3asN2arC3asC3as; C2scC3asN2arC3asN3as; C2scC3asN2arN3asC3as; C2scC3asN3asC3asC3as; C2scC3asO2arN2arC3as; C2scC3asS2arC3asC3as; C2scC4ssC2srC3dsC3as; C2scC4ssC2srC3dsC3ds; C2scN2scC3asN2arC3as; C2scN2scC3asS2arC3as; C2scN3asC2arC3asC3as; C2scN3asC3asC3asC3as; C2scN3asC3asC4scF1sc; C2scN3asN2arC3asC3as; C2scN3scO2scC3dcC3as; C2scN3scO2scC3dcO1dc; C2scO2scC2scC3asN2ar; C2scO2scC3asC2arC3as; C2scO2scC3asN2arC3as; C2scO2scC3asS2arC3as; C2scO2scC3dcC2scN3as; C2scO2scC3dcC3asN2ar; C2scO2scC3dcC3asS2ar; C2srC2drC3dsC2srC2sr; C2srC2drC3dsC3asN3as; C2srC2srC2drC3dsC2sr; C2srC2srC2drC3dsC3as; C2srC2srC2srC2drC3ds; C2srC2srC2srC2srC2sr; C2srC2srC2srC2srC3ds; C2srC2srC2srC2srC4ss; C2srC2srC2srC3asC3as; C2srC2srC2srC3dsC3as; C2srC2srC2srC3dsC3ds; C2srC2srC2srC4ssC2sr; C2srC2srC2srS2srC3as; C2srC2srC3asC2arC3as; C2srC2srC3asC3asC2sr; C2srC2srC3asC3asO2sr; C2srC2srC3asC3asS2sr; C2srC2srC3dsC3asC3as; C2srC2srC3dsC3asN3as; C2srC2srC3dsC3dsC2sr; C2srC2srC3dsC3dsC3as; C2srC2srC3ssC2srC2sr; C2srC2srC3ssN3asC3as; C2srC2srC4ssC2drC3ds; C2srC2srC4ssC2srC2sr; C2srC2srC4ssC2srC3ds; C2srC2srO2srC3asC3as; C2srC2srS2srC3asC3as; C2srC3asC2arC2arC3as; C2srC3asC2arC3asC3as; C2srC3asC3asC2arC3as; C2srC3asC3asC3dsC3as; C2srC3asC3asC3dsC3ds; C2srC3asC3asO2srC2sr; C2srC3asC3asS2srC2sr; C2srC3dsC3asC2arC3as; C2srC3dsC3asC3asCl1sc; C2srC3dsC3asC3asF1sc; C2srC3dsC3asN3asC3as; C2srC3dsC3asN3asN2ar; C2srC3dsC3dsC2srC4ss; C2srC3dsC3dsC3asC3as; C2srC3ssC2srC2srC3ss; C2srC3ssN3asC3asC3as; C2srC4ssC2drC3dsC3as; C2srC4ssC2drC3dsC3ds; C2srC4ssC2srC3dsC3as; C2srC4ssC2srC3dsC3ds; C2srO2srC3asC2arC3as; C2srO2srC3asC3asC3as; C2srO2srC3asC3asO2sr; C2tcC2scC3asC2arC3as; C2tcC2scC3asC2arN3as; C2tcC2scC3asN2arC3as; C2tcC2scC3asN2arN3as; C2tcC2scC3asS2arC3as; C2tcC3asC2arC2arC3as; C2tcC3asC2arC3asC3as; C2tcC3asC2arC3asN3as; C2tcC3asC2arN2arN3as; C2tcC3asC2arN3asC3as; C2tcC3asC3asC3asC3as; C2tcC3asC3asC3asN3as; C2tcC3asC3asN3asC3as; C2tcC3asC3asN3asN2ar; C2tcC3asN2arC3asC3as; C2tcC3asN2arC3asN3as; C2tcC3asN2arN3asC3as; C3asC2arC2arC2arC3as; C3asC2arC2arC2arN2ar; C3asC2arC2arC2arN3as; C3asC2arC2arC2arS2ar; C3asC2arC2arC3asC3as; C3asC2arC2arC3asC3dc; C3asC2arC2arC3asC3ds; C3asC2arC2arC3asC3ss; C3asC2arC2arC3asC4sc; C3asC2arC2arC3asCl1sc; C3asC2arC2arC3asF1sc; C3asC2arC2arC3asN1sc; C3asC2arC2arC3asN2ar; C3asC2arC2arC3asN2sc; C3asC2arC2arC3asN3as; C3asC2arC2arC3asN3dc; C3asC2arC2arC3asN3sc; C3asC2arC2arC3asO1sc; C3asC2arC2arC3asO2ar; C3asC2arC2arC3asO2sc; C3asC2arC2arC3asO2sr; C3asC2arC2arC3asS2ar; C3asC2arC2arC3asS2sc; C3asC2arC2arC3asS2sr; C3asC2arC2arC3asS3dc; C3asC2arC2arC3asS4wc; C3asC2arC2arN2arC3as; C3asC2arC2arN2arN3as; C3asC2arC2arS2arC3as; C3asC2arC3asC2arC3as; C3asC2arC3asC2arN2ar; C3asC2arC3asC2arS2ar; C3asC2arC3asC2dcO1dc; C3asC2arC3asC2scC4sc; C3asC2arC3asC2scF1sc; C3asC2arC3asC2scN3sc; C3asC2arC3asC2scO1sc; C3asC2arC3asC2scO2sc; C3asC2arC3asC2tcN1tc; C3asC2arC3asC3asC3as; C3asC2arC3asC3asC3ds; C3asC2arC3asC3asC4sc; C3asC2arC3asC3asCl1sc; C3asC2arC3asC3asF1sc; C3asC2arC3asC3asN2ar; C3asC2arC3asC3asN2sc; C3asC2arC3asC3asN3as; C3asC2arC3asC3asN3sc; C3asC2arC3asC3asO2ar; C3asC2arC3asC3asO2sc; C3asC2arC3asC3asO2sr; C3asC2arC3asC3asS2ar; C3asC2arC3asC3asS2sc; C3asC2arC3asC3asS2sr; C3asC2arC3asC3asS4wc; C3asC2arC3asC3dcC3as; C3asC2arC3asC3dcC4sc; C3asC2arC3asC3dcN2sc; C3asC2arC3asC3dcO1dc; C3asC2arC3asC3dcO1sc; C3asC2arC3asC3dcO2sc; C3asC2arC3asC3dsC3ds; C3asC2arC3asC3scC4sc; C3asC2arC3asC3scF1sc; C3asC2arC3asC3scO1sc; C3asC2arC3asC3scO2sc; C3asC2arC3asC4scF1sc; C3asC2arC3asN2arN3as; C3asC2arC3asN2arO2ar; C3asC2arC3asN2scC3dc; C3asC2arC3asN3asC3as; C3asC2arC3asN3asN2ar; C3asC2arC3asN3dcO1dc; C3asC2arC3asN3dcO1sc; C3asC2arC3asO2arC3as; C3asC2arC3asO2arN2ar; C3asC2arC3asO2scC3sc; C3asC2arC3asS4wcC4sc; C3asC2arC3asS4wcO1dc; C3asC2arN2arC2arC3as; C3asC2arN2arC3asC3as; C3asC2arN2arC3asO2sc; C3asC2arN2arC3asS2ar; C3asC2arN2arN2arC3as; C3asC2arN2arN3asC3as; C3asC2arN3asC3asC3as; C3asC2arN3asC3asN2ar; C3asC2arN3asN2arC3as; C3asC2arO2arC3asN2ar; C3asC2arS2arC3asC3as; C3asC2arS2arC3asN2ar; C3asC2scC2scC2scC3as; C3asC2scC2scC3asN2ar; C3asC2scC2scC3asS2ar; C3asC2scC2scC3dcO1dc; C3asC2scC2scC3dcO1sc; C3asC2scC2scN3asC3as; C3asC2scC2scN3asN2ar; C3asC2scC3asN2arC3as; C3asC2scC3asS2arC3as; C3asC2scN2scC3asN2ar; C3asC2scN2scC3asS2ar; C3asC2scO2scC2scC3as; C3asC2scO2scC3asN2ar; C3asC2scO2scC3asS2ar; C3asC2scO2scC3dcO1dc; C3asC2srC2srC2srC3as; C3asC2srC2srC2srS2sr; C3asC2srC2srO2srC3as; C3asC2srC3dsC3dsC3as; C3asC3asC2arC2arN2ar; C3asC3asC2arC2arS2ar; C3asC3asC2arC3asC3as; C3asC3asC2arC3asC3dc; C3asC3asC2arC3asC3ds; C3asC3asC2arC3asC3sc; C3asC3asC2arC3asC4sc; C3asC3asC2arC3asCl1sc; C3asC3asC2arC3asF1sc; C3asC3asC2arC3asN1sc; C3asC3asC2arC3asN2ar; C3asC3asC2arC3asN2sc; C3asC3asC2arC3asN3as; C3asC3asC2arC3asN3dc; C3asC3asC2arC3asN3sc; C3asC3asC2arC3asO2ar; C3asC3asC2arC3asO2sc; C3asC3asC2arC3asO2sr; C3asC3asC2arC3asS2sc; C3asC3asC2arC3asS4wc; C3asC3asC2arN2arC3as; C3asC3asC2arN2arN2ar; C3asC3asC2arN2arN3as; C3asC3asC2arN3asC3as; C3asC3asC2arN3asN2ar; C3asC3asC2arO2arC3as; C3asC3asC2arS2arC3as; C3asC3asC2scC4scF1sc; C3asC3asC2scO2scC3as; C3asC3asC2scO2scC3dc; C3asC3asC2srC2srO2sr; C3asC3asC2srC3dsC3as; C3asC3asC2srC3dsC3ds; C3asC3asC3asC2arN2ar; C3asC3asC3asC2arN3as; C3asC3asC3asC2arS2ar; C3asC3asC3asC2scO1sc; C3asC3asC3asC2tcN1tc; C3asC3asC3asC3asC3as; C3asC3asC3asC3asC3dc; C3asC3asC3asC3asC4sc; C3asC3asC3asC3asF1sc; C3asC3asC3asC3asN2ar; C3asC3asC3asC3asN3as; C3asC3asC3asC3asO2ar; C3asC3asC3asC3asO2sr; C3asC3asC3asC3asS2ar; C3asC3asC3asC3dcN1sc; C3asC3asC3asC3dcO1dc; C3asC3asC3asC3dcO1sc; C3asC3asC3asC3dcO2sc; C3asC3asC3asC4scF1sc; C3asC3asC3asN2arC3as; C3asC3asC3asN2arN2ar; C3asC3asC3asN2arN3as; C3asC3asC3asN2arO2ar; C3asC3asC3asN3asC3as; C3asC3asC3asN3asN2ar; C3asC3asC3asN3dcO1dc; C3asC3asC3asN3dcO1sc; C3asC3asC3asO2arC3as; C3asC3asC3asO2arN2ar; C3asC3asC3asS2arC3as; C3asC3asC3asS4wcO1dc; C3asC3asC3dcC4scF1sc; C3asC3asC3dsC2srC4ss; C3asC3asC3dsC3dsC3as; C3asC3asC3dsN2drC3ss; C3asC3asC3dsS2srC3ss; C3asC3asC3scC4scF1sc; C3asC3asC3scO2scC3as; C3asC3asN2arC3asC3as; C3asC3asN2arC3asC3dc; C3asC3asN2arC3asC3sc; C3asC3asN2arC3asC4sc; C3asC3asN2arC3asN2sc; C3asC3asN2arC3asN3as; C3asC3asN2arC3asO2ar; C3asC3asN2arC3asO2sc; C3asC3asN2arC3asS2ar; C3asC3asN2arN2arC3as; C3asC3asN2arN3asC3as; C3asC3asN2arO2arC3as; C3asC3asN3asC2scC3dc; C3asC3asN3asC3asC3as; C3asC3asN3asC3asC4sc; C3asC3asN3asN2arC3as; C3asC3asO2arC3asC3as; C3asC3asO2arN2arC3as; C3asC3asO2srC2srO2sr; C3asC3asS2arC3asC3as; C3asC3asS2arC3asC3dc; C3asC3asS2arC3asC4sc; C3asC3asS2arC3asCl1sc; C3asC3asS2arC3asN2ar; C3asC3asS2arC3asN2sc; C3asC3asS2arC3asO2sc; C3asC3asS4wcC4scF1sc; C3asC3dcC3asC3asN3as; C3asC3dsC2srC4ssC4sc; C3asC3dsC3dsC2drC4ss; C3asC3dsC3dsC2srC4ss; C3asC3dsN2drC3ssC3as; C3asC3dsN2drC3ssC3ss; C3asC3dsS2srC3ssC3as; C3asC3dsS2srC3ssC3ss; C3asC3ssC3ssC3asS2ar; C3asC3ssC3ssN2drC3ds; C3asC3ssC3ssS2srC3ds; C3asC3ssN2drC3dsS2sr; C3asC3ssS2srC3dsN2dr; C3asN2arC2arC2arN2ar; C3asN2arC2arC2arN3as; C3asN2arC2arC3asS2ar; C3asN2arC3asC2arN3as; C3asN2arC3asC2arO2ar; C3asN2arC3asC2arS2ar; C3asN2arC3asC2dcO1dc; C3asN2arC3asC2scF1sc; C3asN2arC3asC2scN1sc; C3asN2arC3asC2scO1sc; C3asN2arC3asC2scO2sc; C3asN2arC3asC2scS2sc; C3asN2arC3asC2scS4wc; C3asN2arC3asC2tcN1tc; C3asN2arC3asC3asN2ar; C3asN2arC3asC3asN3as; C3asN2arC3asC3asS2ar; C3asN2arC3asC3dcO1dc; C3asN2arC3asC3dcO1sc; C3asN2arC3asC3dcO2sc; C3asN2arC3asC3scF1sc; C3asN2arC3asC4scF1sc; C3asN2arC3asN3asC3as; C3asN2arC3asS2arC3as; C3asN2arN2arC3asC4sc; C3asN2arN3asC2scC3dc; C3asN2arN3asC3asC3ds; C3asN2arN3asC3asC4sc; C3asN2scC3dcC2scN3as; C3asN2scC3dcC3asN2ar; C3asN3asC2arC2arN2ar; C3asN3asC2arC3asC3dc; C3asN3asC2arC3asC3sc; C3asN3asC2arC3asC4sc; C3asN3asC2arC3asN2ar; C3asN3asC2scC3dcN2sc; C3asN3asC2scC3dcO1dc; C3asN3asC2scC3dcO2sc; C3asN3asC3asC3asC3dc; C3asN3asC3asC3asC3sc; C3asN3asC3asC3asCl1sc; C3asN3asC3asC3asF1sc; C3asN3asC3asC3asN1sc; C3asN3asC3asC3asN2ar; C3asN3asC3asC3asN3dc; C3asN3asC3asC3asO1sc; C3asN3asC3asC3asO2ar; C3asN3asC3asC3asO2sc; C3asN3asC3asC3asS2ar; C3asN3asC3asC3asS4wc; C3asN3asC3asC4scF1sc; C3asN3asN2arC3asC3dc; C3asN3asN2arC3asC3sc; C3asN3asN2arC3asC4sc; C3asN3asN2arC3asO2sc; C3asO2arC2arC3asN2ar; C3asO2arC3asC3asN3as; C3asO2scC2scC3asN2ar; C3asO2scC3scC4scF1sc; C3asO2srC2srC2srO2sr; C3asO2srC2srO2srC3as; C3asS2arC2arC3asN2ar; C3asS2arC3asC2arN2ar; C3asS2arC3asC3asN2ar; C3asS2arC3asC3asN3as; C3asS2arC3asC3asS2ar; C3asS2arC3asC3dcO1dc; C3asS2arC3asC3dcO2sc; C3asS2arC3asC4scF1sc; C3asS2scC2scC3asN2ar; C3dcC2scC2scC3asN3as; C3dcC2scN3asC3asC4sc; C3dcC3asC2arC3asN3as; C3dcC3asC3asC3asN3as; C3dcC3asN2arC3asN3as; C3dsC2drC4ssC2drC3ds; C3dsC2srC2srC2srC3ds; C3dsC2srC3asC3asC3ds; C3dsC2srC4ssC2scF1sc; C3dsC2srC4ssC2srC3ds; C3dsC2srC4ssC4scF1sc; C3dsC3asC2arC3asC4sc; C3dsC3asC2arC3asCl1sc; C3dsC3asC2arC3asF1sc; C3dsC3asC2arC3asN2ar; C3dsC3asC2arC3asO2sr; C3dsC3dsC2srC4ssC4sc; C3dsC3dsC3asC3asCl1sc; C3dsC3dsC3asC3asF1sc; C3dsN2drC3ssC3asS2ar; C3dsN2drC3ssC3ssS2sr; C3dsS2srC3ssC3ssN2dr; C3scC3asC2arC3asN3as; C3scC3asN2arC3asN3as; C3ssC2srC2srC3ssF1sc; C3ssC2srC2srC3ssN3as; C3ssC3asC2arC2arS2ar; C3ssC3ssC3asC2arS2ar; C3ssC3ssN2drC3dsS2sr; C3ssC3ssS2srC3dsN2dr; C3ssN2drC3dsS2srC3ss; C4scC2scC3asC3asN3as; C4scC3asC2arC3asF1sc; C4scC3asC2arC3asN3as; C4scC3asC3asC3asN2ar; C4scC3asC3asC3asN3as; C4scC3asN2arC3asN3as; C4scC3dcC3asC3asN3as; C4scC3scC3asC3asN3as; C4scS4wcC3asC3asN3as; Cl1scC3asC2arC3asCl1sc; Cl1scC3asC2arC3asN2sc; Cl1scC3asC2arC3asN3as; Cl1scC3asC2arC3asO2sc; Cl1scC3asC2arN2arN3as; Cl1scC3asC3asC2scO1sc; Cl1scC3asC3asC2tcN1tc; Cl1scC3asC3asC3asCl1sc; Cl1scC3asC3asC3asN2ar; Cl1scC3asC3asC3asN3as; Cl1scC3asC3asC3asS2ar; Cl1scC3asC3asC3dcN1sc; Cl1scC3asC3asC3dcO1dc; Cl1scC3asC3asC3dcO1sc; Cl1scC3asC3asC3dcO2sc; Cl1scC3asC3asC3dsN2dr; Cl1scC3asC3asC3dsS2sr; Cl1scC3asC3asC4scF1sc; Cl1scC3asC3asN2arN3as; Cl1scC3asC3asN3asN2ar; Cl1scC3asC3asS4wcO1dc; F1scC2scC3asC2arN3as; F1scC2scC3asN2arN3as; F1scC2scC4ssC2scF1sc; F1scC3asC2arC3asF1sc; F1scC3asC2arC3asN3as; F1scC3asC2arC3asO2sc; F1scC3asC2arN2arN3as; F1scC3asC3asC3asF1sc; F1scC3asC3asC3asN2ar; F1scC3asC3asC3asN3as; F1scC3asC3asC4scF1sc; F1scC3asC3asN2arN3as; F1scC3asC3asN3asN2ar; F1scC3scC3asC2arN3as; F1scC3scC3asN2arN3as; F1scC4scC3asC2arN3as; F1scC4scC3asC3asO1sc; F1scC4scC3asC3asO2sc; F1scC4scC3asN2arN2ar; F1scC4scC3asN2arN3as; F1scC4scC3asN3asN2ar; F1scC4scC4ssC4scF1sc; N1scC2scC3asC2arN3as; N1scC3asC2arN2arN3as; N1scC3asC3asN3asN2ar; N1scC3dcC3asN2arN3as; N1scO2scC3dcC3asN2ar; N1tcC2tcC2scC3asN2ar; N1tcC2tcC2scC3asS2ar; N1tcC2tcC3asC2arN2ar; N1tcC2tcC3asC2arN3as; N1tcC2tcC3asC3asN3as; N1tcC2tcC3asN2arN3as; N2arC2arC2arC3asN3as; N2arC2arC3asC3asN2ar; N2arC2arC3asC3asN3as; N2arC2arC3asC3asS2ar; N2arC2arC3asN3dcO1dc; N2arC2arC3asN3dcO1sc; N2arC2arC3asS4wcO1dc; N2arC3asC2arC3asN3as; N2arC3asC2arC3asO2ar; N2arC3asC2scS4wcO1dc; N2arC3asC3asC2arN3as; N2arC3asC3asC2arO2ar; N2arC3asC3asC2arS2ar; N2arC3asC3asC3asN2ar; N2arC3asC3asC3asN3as; N2arC3asC3asC3asO2ar; N2arC3asC3asC3asO2sc; N2arC3asC3asC3asO2sr; N2arC3asC3asN2arO2ar; N2arC3asC3asN3asN2ar; N2arC3asC3dcO2scN3sc; N2arN3asC2scC3dcN2sc; N2arN3asC2scC3dcO1dc; N2arN3asC2scC3dcO2sc; N2arN3asC3asC3asN3dc; N2arN3asC3asC3asO1sc; N2arN3asC3asC3asO2ar; N2arN3asC3asC3asO2sc; N2arN3asC3asC3asS2ar; N2arN3asC3asC3asS4wc; N2arO2arC3asC2scO1sc; N2drC3ssC3asC2arS2ar; N2scC3dcC3asN2arN3as; N3asC2arC3asC2dcO1dc; N3asC2arC3asC2scO1sc; N3asC2arC3asC2scO2sc; N3asC2arC3asC2scS2sc; N3asC2arC3asC2scS4wc; N3asC2arC3asC3asN3as; N3asC2arC3asC3dcO1dc; N3asC2arC3asC3dcO1sc; N3asC2arC3asC3dcO2sc; N3asC3asC2arC3asO2sc; N3asC3asC2arC3asS4wc; N3asC3asC3asC2arO2ar; N3asC3asC3asC2arS2ar; N3asC3asC3asC2dcO1dc; N3asC3asC3asC2scN3sc; N3asC3asC3asC2scO1sc; N3asC3asC3asC2scO2sc; N3asC3asC3asC3asN3sc; N3asC3asC3asC3asO2sc; N3asC3asC3asC3asO2sr; N3asC3asC3asC3dcO1dc; N3asC3asC3asC3scO1sc; N3asC3asC3asC3scO2sc; N3asC3asC3asN2arO2ar; N3asC3asC3asN3dcO1dc; N3asC3asC3asN3dcO1sc; N3asC3asC3asS4wcO1dc; N3asN2arC2arC3asN3dc; N3asN2arC2arC3asS4wc; N3asN2arC3asC2scO1sc; N3asN2arC3asC2scO2sc; N3asN2arC3asC3asO1sc; N3asN2arC3asC3asO2sc; N3asN2arC3asC3asS2ar; N3asN2arC3asC3dcO1dc; N3asN2arC3asC3dcO1sc; N3asN2arC3asC3dcO2sc; S2arC3asC3ssC3ssS2sr; "
     ]
    }
   ],
   "source": [
    "for i in tab.keys():\n",
    "    print(i+\"; \",end=\"\")"
   ]
  },
  {
   "cell_type": "code",
   "execution_count": 117,
   "metadata": {},
   "outputs": [
    {
     "data": {
      "text/plain": [
       "(467, 2024)"
      ]
     },
     "execution_count": 117,
     "metadata": {},
     "output_type": "execute_result"
    }
   ],
   "source": [
    "tab = tab.drop(\"key\",axis=1)\n",
    "tab.shape"
   ]
  },
  {
   "cell_type": "code",
   "execution_count": 118,
   "metadata": {},
   "outputs": [
    {
     "data": {
      "text/html": [
       "<div>\n",
       "<style scoped>\n",
       "    .dataframe tbody tr th:only-of-type {\n",
       "        vertical-align: middle;\n",
       "    }\n",
       "\n",
       "    .dataframe tbody tr th {\n",
       "        vertical-align: top;\n",
       "    }\n",
       "\n",
       "    .dataframe thead th {\n",
       "        text-align: right;\n",
       "    }\n",
       "</style>\n",
       "<table border=\"1\" class=\"dataframe\">\n",
       "  <thead>\n",
       "    <tr style=\"text-align: right;\">\n",
       "      <th></th>\n",
       "      <th>Br1scC3as</th>\n",
       "      <th>C1dcC2dc</th>\n",
       "      <th>C1scC2sc</th>\n",
       "      <th>C1scC3as</th>\n",
       "      <th>C1scC3dc</th>\n",
       "      <th>C1scC4sc</th>\n",
       "      <th>C1scC4ss</th>\n",
       "      <th>C1scN2sc</th>\n",
       "      <th>C1scN3as</th>\n",
       "      <th>C1scN3sc</th>\n",
       "      <th>...</th>\n",
       "      <th>N3asN2arC2arC3asS4wc</th>\n",
       "      <th>N3asN2arC3asC2scO1sc</th>\n",
       "      <th>N3asN2arC3asC2scO2sc</th>\n",
       "      <th>N3asN2arC3asC3asO1sc</th>\n",
       "      <th>N3asN2arC3asC3asO2sc</th>\n",
       "      <th>N3asN2arC3asC3asS2ar</th>\n",
       "      <th>N3asN2arC3asC3dcO1dc</th>\n",
       "      <th>N3asN2arC3asC3dcO1sc</th>\n",
       "      <th>N3asN2arC3asC3dcO2sc</th>\n",
       "      <th>S2arC3asC3ssC3ssS2sr</th>\n",
       "    </tr>\n",
       "  </thead>\n",
       "  <tbody>\n",
       "    <tr>\n",
       "      <th>0</th>\n",
       "      <td>0.0</td>\n",
       "      <td>0.0</td>\n",
       "      <td>0.0</td>\n",
       "      <td>1.0</td>\n",
       "      <td>0.0</td>\n",
       "      <td>0.0</td>\n",
       "      <td>0.0</td>\n",
       "      <td>0.0</td>\n",
       "      <td>0.0</td>\n",
       "      <td>0.0</td>\n",
       "      <td>...</td>\n",
       "      <td>0.0</td>\n",
       "      <td>0.0</td>\n",
       "      <td>0.0</td>\n",
       "      <td>0.0</td>\n",
       "      <td>0.0</td>\n",
       "      <td>0.0</td>\n",
       "      <td>0.0</td>\n",
       "      <td>0.0</td>\n",
       "      <td>0.0</td>\n",
       "      <td>0.0</td>\n",
       "    </tr>\n",
       "    <tr>\n",
       "      <th>1</th>\n",
       "      <td>0.0</td>\n",
       "      <td>0.0</td>\n",
       "      <td>0.0</td>\n",
       "      <td>0.0</td>\n",
       "      <td>0.0</td>\n",
       "      <td>0.0</td>\n",
       "      <td>0.0</td>\n",
       "      <td>0.0</td>\n",
       "      <td>0.0</td>\n",
       "      <td>0.0</td>\n",
       "      <td>...</td>\n",
       "      <td>0.0</td>\n",
       "      <td>0.0</td>\n",
       "      <td>0.0</td>\n",
       "      <td>0.0</td>\n",
       "      <td>0.0</td>\n",
       "      <td>0.0</td>\n",
       "      <td>0.0</td>\n",
       "      <td>0.0</td>\n",
       "      <td>0.0</td>\n",
       "      <td>0.0</td>\n",
       "    </tr>\n",
       "    <tr>\n",
       "      <th>2</th>\n",
       "      <td>0.0</td>\n",
       "      <td>0.0</td>\n",
       "      <td>0.0</td>\n",
       "      <td>0.0</td>\n",
       "      <td>0.0</td>\n",
       "      <td>0.0</td>\n",
       "      <td>0.0</td>\n",
       "      <td>0.0</td>\n",
       "      <td>0.0</td>\n",
       "      <td>0.0</td>\n",
       "      <td>...</td>\n",
       "      <td>0.0</td>\n",
       "      <td>0.0</td>\n",
       "      <td>0.0</td>\n",
       "      <td>0.0</td>\n",
       "      <td>0.0</td>\n",
       "      <td>0.0</td>\n",
       "      <td>0.0</td>\n",
       "      <td>0.0</td>\n",
       "      <td>0.0</td>\n",
       "      <td>0.0</td>\n",
       "    </tr>\n",
       "    <tr>\n",
       "      <th>3</th>\n",
       "      <td>0.0</td>\n",
       "      <td>0.0</td>\n",
       "      <td>0.0</td>\n",
       "      <td>1.0</td>\n",
       "      <td>0.0</td>\n",
       "      <td>0.0</td>\n",
       "      <td>0.0</td>\n",
       "      <td>0.0</td>\n",
       "      <td>0.0</td>\n",
       "      <td>0.0</td>\n",
       "      <td>...</td>\n",
       "      <td>0.0</td>\n",
       "      <td>0.0</td>\n",
       "      <td>0.0</td>\n",
       "      <td>0.0</td>\n",
       "      <td>0.0</td>\n",
       "      <td>0.0</td>\n",
       "      <td>0.0</td>\n",
       "      <td>0.0</td>\n",
       "      <td>0.0</td>\n",
       "      <td>0.0</td>\n",
       "    </tr>\n",
       "    <tr>\n",
       "      <th>4</th>\n",
       "      <td>0.0</td>\n",
       "      <td>0.0</td>\n",
       "      <td>0.0</td>\n",
       "      <td>1.0</td>\n",
       "      <td>0.0</td>\n",
       "      <td>0.0</td>\n",
       "      <td>0.0</td>\n",
       "      <td>0.0</td>\n",
       "      <td>0.0</td>\n",
       "      <td>0.0</td>\n",
       "      <td>...</td>\n",
       "      <td>0.0</td>\n",
       "      <td>0.0</td>\n",
       "      <td>0.0</td>\n",
       "      <td>0.0</td>\n",
       "      <td>0.0</td>\n",
       "      <td>0.0</td>\n",
       "      <td>0.0</td>\n",
       "      <td>0.0</td>\n",
       "      <td>0.0</td>\n",
       "      <td>0.0</td>\n",
       "    </tr>\n",
       "  </tbody>\n",
       "</table>\n",
       "<p>5 rows × 2024 columns</p>\n",
       "</div>"
      ],
      "text/plain": [
       "   Br1scC3as  C1dcC2dc  C1scC2sc  C1scC3as  C1scC3dc  C1scC4sc  C1scC4ss  \\\n",
       "0        0.0       0.0       0.0       1.0       0.0       0.0       0.0   \n",
       "1        0.0       0.0       0.0       0.0       0.0       0.0       0.0   \n",
       "2        0.0       0.0       0.0       0.0       0.0       0.0       0.0   \n",
       "3        0.0       0.0       0.0       1.0       0.0       0.0       0.0   \n",
       "4        0.0       0.0       0.0       1.0       0.0       0.0       0.0   \n",
       "\n",
       "   C1scN2sc  C1scN3as  C1scN3sc  ...  N3asN2arC2arC3asS4wc  \\\n",
       "0       0.0       0.0       0.0  ...                   0.0   \n",
       "1       0.0       0.0       0.0  ...                   0.0   \n",
       "2       0.0       0.0       0.0  ...                   0.0   \n",
       "3       0.0       0.0       0.0  ...                   0.0   \n",
       "4       0.0       0.0       0.0  ...                   0.0   \n",
       "\n",
       "   N3asN2arC3asC2scO1sc  N3asN2arC3asC2scO2sc  N3asN2arC3asC3asO1sc  \\\n",
       "0                   0.0                   0.0                   0.0   \n",
       "1                   0.0                   0.0                   0.0   \n",
       "2                   0.0                   0.0                   0.0   \n",
       "3                   0.0                   0.0                   0.0   \n",
       "4                   0.0                   0.0                   0.0   \n",
       "\n",
       "   N3asN2arC3asC3asO2sc  N3asN2arC3asC3asS2ar  N3asN2arC3asC3dcO1dc  \\\n",
       "0                   0.0                   0.0                   0.0   \n",
       "1                   0.0                   0.0                   0.0   \n",
       "2                   0.0                   0.0                   0.0   \n",
       "3                   0.0                   0.0                   0.0   \n",
       "4                   0.0                   0.0                   0.0   \n",
       "\n",
       "   N3asN2arC3asC3dcO1sc  N3asN2arC3asC3dcO2sc  S2arC3asC3ssC3ssS2sr  \n",
       "0                   0.0                   0.0                   0.0  \n",
       "1                   0.0                   0.0                   0.0  \n",
       "2                   0.0                   0.0                   0.0  \n",
       "3                   0.0                   0.0                   0.0  \n",
       "4                   0.0                   0.0                   0.0  \n",
       "\n",
       "[5 rows x 2024 columns]"
      ]
     },
     "execution_count": 118,
     "metadata": {},
     "output_type": "execute_result"
    }
   ],
   "source": [
    "tab.head()"
   ]
  },
  {
   "cell_type": "code",
   "execution_count": 119,
   "metadata": {},
   "outputs": [],
   "source": [
    "y = pd.read_csv(\"data_varvara/cox2/cox2_y.csv\")"
   ]
  },
  {
   "cell_type": "code",
   "execution_count": 120,
   "metadata": {},
   "outputs": [],
   "source": [
    "y = np.array(y)"
   ]
  },
  {
   "cell_type": "code",
   "execution_count": 121,
   "metadata": {},
   "outputs": [],
   "source": [
    "r = []\n",
    "for i in y:\n",
    "    s = i[0]\n",
    "    s = re.sub('inf', '1_000_000_000', str(s))\n",
    "    r.append(ast.literal_eval(s))"
   ]
  },
  {
   "cell_type": "code",
   "execution_count": 122,
   "metadata": {},
   "outputs": [],
   "source": [
    "y = np.array(r)\n",
    "for i in range(y.shape[0]):\n",
    "    if y[i,1] == 1_000_000_000:\n",
    "        y[i,1] = np.inf"
   ]
  },
  {
   "cell_type": "code",
   "execution_count": 132,
   "metadata": {},
   "outputs": [],
   "source": [
    "X = np.array(tab)"
   ]
  },
  {
   "cell_type": "code",
   "execution_count": 134,
   "metadata": {},
   "outputs": [],
   "source": [
    "X = TfidfTransformer().fit_transform(X)"
   ]
  },
  {
   "cell_type": "code",
   "execution_count": 135,
   "metadata": {},
   "outputs": [],
   "source": [
    "X = X.todense()"
   ]
  },
  {
   "cell_type": "code",
   "execution_count": 136,
   "metadata": {},
   "outputs": [],
   "source": [
    "my_pca = PCA(20)"
   ]
  },
  {
   "cell_type": "code",
   "execution_count": 137,
   "metadata": {},
   "outputs": [],
   "source": [
    "X_pca = my_pca.fit_transform(X)"
   ]
  },
  {
   "cell_type": "code",
   "execution_count": 138,
   "metadata": {},
   "outputs": [
    {
     "data": {
      "text/plain": [
       "<matplotlib.collections.PathCollection at 0x7f545c17b690>"
      ]
     },
     "execution_count": 138,
     "metadata": {},
     "output_type": "execute_result"
    },
    {
     "data": {
      "image/png": "[encoded data removed]",
      "text/plain": [
       "<Figure size 432x288 with 1 Axes>"
      ]
     },
     "metadata": {
      "needs_background": "light"
     },
     "output_type": "display_data"
    }
   ],
   "source": [
    "plt.scatter(X_pca[:,0], X_pca[:,1])\n"
   ]
  },
  {
   "cell_type": "code",
   "execution_count": null,
   "metadata": {},
   "outputs": [],
   "source": []
  },
  {
   "cell_type": "code",
   "execution_count": 141,
   "metadata": {},
   "outputs": [],
   "source": [
    "my_tsne = TSNE()\n",
    "X_tsne = my_tsne.fit_transform(X)"
   ]
  },
  {
   "cell_type": "code",
   "execution_count": 142,
   "metadata": {},
   "outputs": [
    {
     "data": {
      "text/plain": [
       "<matplotlib.collections.PathCollection at 0x7f545c2f2990>"
      ]
     },
     "execution_count": 142,
     "metadata": {},
     "output_type": "execute_result"
    },
    {
     "data": {
      "image/png": "[encoded data removed]",
      "text/plain": [
       "<Figure size 432x288 with 1 Axes>"
      ]
     },
     "metadata": {
      "needs_background": "light"
     },
     "output_type": "display_data"
    }
   ],
   "source": [
    "plt.scatter(X_tsne[:, 0], X_tsne[:, 1])"
   ]
  },
  {
   "cell_type": "code",
   "execution_count": 186,
   "metadata": {},
   "outputs": [],
   "source": [
    "aggl = AgglomerativeClustering(n_clusters=5, affinity=\"manhattan\", linkage=\"average\")\n",
    "aggl = DBSCAN(0.3,5,\"cosine\")"
   ]
  },
  {
   "cell_type": "code",
   "execution_count": null,
   "metadata": {},
   "outputs": [],
   "source": []
  },
  {
   "cell_type": "code",
   "execution_count": 187,
   "metadata": {},
   "outputs": [],
   "source": [
    "res = aggl.fit_predict(X)"
   ]
  },
  {
   "cell_type": "code",
   "execution_count": 188,
   "metadata": {},
   "outputs": [
    {
     "data": {
      "text/plain": [
       "<matplotlib.collections.PathCollection at 0x7f5458a46090>"
      ]
     },
     "execution_count": 188,
     "metadata": {},
     "output_type": "execute_result"
    },
    {
     "data": {
      "image/png": "[encoded data removed]",
      "text/plain": [
       "<Figure size 432x288 with 1 Axes>"
      ]
     },
     "metadata": {
      "needs_background": "light"
     },
     "output_type": "display_data"
    }
   ],
   "source": [
    "plt.scatter(X_tsne[:, 0], X_tsne[:, 1], c=res, cmap=plt.cm.Paired)"
   ]
  },
  {
   "cell_type": "code",
   "execution_count": 189,
   "metadata": {},
   "outputs": [
    {
     "data": {
      "text/plain": [
       "<matplotlib.collections.PathCollection at 0x7f54589a9190>"
      ]
     },
     "execution_count": 189,
     "metadata": {},
     "output_type": "execute_result"
    },
    {
     "data": {
      "image/png": "[encoded data removed]",
      "text/plain": [
       "<Figure size 432x288 with 1 Axes>"
      ]
     },
     "metadata": {
      "needs_background": "light"
     },
     "output_type": "display_data"
    }
   ],
   "source": [
    "plt.scatter(X_pca[:,0], X_pca[:,1], c=res, cmap=plt.cm.Paired)"
   ]
  },
  {
   "cell_type": "code",
   "execution_count": 190,
   "metadata": {},
   "outputs": [
    {
     "data": {
      "text/plain": [
       "0.18750759101306178"
      ]
     },
     "execution_count": 190,
     "metadata": {},
     "output_type": "execute_result"
    }
   ],
   "source": [
    "silhouette_score(X,res)"
   ]
  },
  {
   "cell_type": "code",
   "execution_count": null,
   "metadata": {},
   "outputs": [],
   "source": []
  },
  {
   "cell_type": "code",
   "execution_count": 191,
   "metadata": {},
   "outputs": [],
   "source": [
    "cluster_structure = res"
   ]
  },
  {
   "cell_type": "code",
   "execution_count": 192,
   "metadata": {},
   "outputs": [],
   "source": [
    "mdl = RandomForestRegressor(n_jobs=-1, max_depth=20, min_samples_leaf=2, criterion=\"mse\", max_features=\"log2\")\n",
    "# mdl = GradientBoostingRegressor(n_estimators=30, loss='ls', max_depth=10, min_samples_leaf=4)\n",
    "# mdl = Ridge(2)"
   ]
  },
  {
   "cell_type": "code",
   "execution_count": null,
   "metadata": {},
   "outputs": [],
   "source": []
  },
  {
   "cell_type": "code",
   "execution_count": null,
   "metadata": {},
   "outputs": [],
   "source": []
  },
  {
   "cell_type": "code",
   "execution_count": 201,
   "metadata": {},
   "outputs": [
    {
     "name": "stdout",
     "output_type": "stream",
     "text": [
      "\\bigskip\n",
      "\n",
      "Значения ошибок на 1 кластере размера 16\n",
      "\n",
      "MSE 627.3242250000001\n",
      "\n",
      "MAE 7.0925\n",
      "\n",
      "\n",
      "\n",
      "\\bigskip\n",
      "\n",
      "Значения ошибок на 2 кластере размера 7\n",
      "\n",
      "MSE 5729.185756571429\n",
      "\n",
      "MAE 58.67485714285714\n",
      "\n",
      "\n",
      "\n",
      "\\bigskip\n",
      "\n",
      "Значения ошибок на 3 кластере размера 192\n",
      "\n",
      "MSE 1095.5354274981771\n",
      "\n",
      "MAE 13.441813020833331\n",
      "\n",
      "\n",
      "\n",
      "\\bigskip\n",
      "\n",
      "Значения ошибок на 4 кластере размера 37\n",
      "\n",
      "MSE 706.4096484054054\n",
      "\n",
      "MAE 7.990675675675677\n",
      "\n",
      "\n",
      "\n",
      "\\bigskip\n",
      "\n",
      "Значения ошибок на 5 кластере размера 47\n",
      "\n",
      "MSE 699.2748267446808\n",
      "\n",
      "MAE 7.797510638297872\n",
      "\n",
      "\n",
      "\n",
      "\\bigskip\n",
      "\n",
      "Значения ошибок на 6 кластере размера 5\n",
      "\n",
      "MSE 624.4437924\n",
      "\n",
      "MAE 16.308\n",
      "\n",
      "\n",
      "\n",
      "\\bigskip\n",
      "\n",
      "Значения ошибок на 7 кластере размера 31\n",
      "\n",
      "MSE 322.58197960935485\n",
      "\n",
      "MAE 3.241493548387097\n",
      "\n",
      "\n",
      "\n",
      "\\bigskip\n",
      "\n",
      "Значения ошибок на 8 кластере размера 31\n",
      "\n",
      "MSE 351.92555458064516\n",
      "\n",
      "MAE 4.414903225806452\n",
      "\n",
      "\n",
      "\n",
      "\\bigskip\n",
      "\n",
      "Значения ошибок на 9 кластере размера 6\n",
      "\n",
      "MSE 0.07493983333333333\n",
      "\n",
      "MAE 0.20049999999999998\n",
      "\n",
      "\n",
      "\n",
      "\\bigskip\n",
      "\n",
      "Значения ошибок на 10 кластере размера 6\n",
      "\n",
      "MSE 0.003253833333333334\n",
      "\n",
      "MAE 0.04083333333333333\n",
      "\n",
      "\n",
      "\n"
     ]
    }
   ],
   "source": [
    "y_new = []\n",
    "ans_all = []\n",
    "ind = 1\n",
    "for i in np.unique(cluster_structure):\n",
    "    if i == -1:\n",
    "        continue\n",
    "    X_in_clust = X[np.where(res==i)[0],:]\n",
    "    y_in_clust = y[np.where(res==i)[0],0]\n",
    "#     print(X_in_clust.shape)\n",
    "    ans = []\n",
    "    \n",
    "    for train_index, test_index in KFold(min(10, X_in_clust.shape[0])).split(X_in_clust):\n",
    "        \n",
    "        \n",
    "        X_train = X_in_clust[train_index, :]\n",
    "        y_train = y_in_clust[train_index]\n",
    "\n",
    "        X_test = X_in_clust[test_index, :]\n",
    "        y_test = y_in_clust[test_index]\n",
    "\n",
    "        mdl.fit(X_train, y_train)\n",
    "        for j in mdl.predict(X_test):\n",
    "            ans.append(j)\n",
    "        for j in mdl.predict(X_test):\n",
    "            ans_all.append(0)\n",
    "        for j in y_test:\n",
    "            y_new.append(j)\n",
    "    print(\"\\\\bigskip\")\n",
    "    print()\n",
    "    print(\"Значения ошибок на \" + str(ind) + \" кластере размера \" + str(X_in_clust.shape[0]))\n",
    "    print()\n",
    "    ans = [0 for i in range(len(ans))]\n",
    "    print(\"MSE\", MSE(ans,y_in_clust[:]))\n",
    "    print()\n",
    "    print(\"MAE\", MAE(ans,y_in_clust[:]))\n",
    "        \n",
    "    ind+=1\n",
    "\n",
    "    print()\n",
    "    print()\n",
    "    print()"
   ]
  },
  {
   "cell_type": "code",
   "execution_count": 202,
   "metadata": {},
   "outputs": [
    {
     "name": "stdout",
     "output_type": "stream",
     "text": [
      "MSE 908.7825013426984\n",
      "\n",
      "MAE 10.813508994708995\n"
     ]
    }
   ],
   "source": [
    "print(\"MSE\", MSE(ans_all,y_new[:]))\n",
    "print()\n",
    "print(\"MAE\", MAE(ans_all,y_new[:]))\n"
   ]
  },
  {
   "cell_type": "code",
   "execution_count": 199,
   "metadata": {},
   "outputs": [],
   "source": [
    "def plot_answer(ans, true):\n",
    "    \n",
    "    x = [i for i in range(len(ans))]\n",
    "    \n",
    "    fig = plt.figure(figsize=(17,10))\n",
    "    ax = fig.add_subplot(1, 1, 1)\n",
    "    ax.legend()\n",
    "    \n",
    "    ax.scatter(x, ans, alpha=0.8, c=\"blue\", label=\"Answer\")\n",
    "    ax.scatter(x, true, alpha=0.8, c=\"red\", label=\"True\")\n",
    "    ax.legend(loc='upper left', fontsize=20)\n",
    "    \n",
    "    \n",
    "    plt.show()"
   ]
  },
  {
   "cell_type": "code",
   "execution_count": 200,
   "metadata": {},
   "outputs": [
    {
     "name": "stderr",
     "output_type": "stream",
     "text": [
      "No handles with labels found to put in legend.\n"
     ]
    },
    {
     "data": {
      "image/png": "[encoded data removed]",
      "text/plain": [
       "<Figure size 1224x720 with 1 Axes>"
      ]
     },
     "metadata": {
      "needs_background": "light"
     },
     "output_type": "display_data"
    }
   ],
   "source": [
    "plot_answer(ans_all, y_new)"
   ]
  },
  {
   "cell_type": "code",
   "execution_count": null,
   "metadata": {},
   "outputs": [],
   "source": []
  },
  {
   "cell_type": "markdown",
   "metadata": {},
   "source": [
    "$a * u^{n+1}_{m-1} + b * u^{n+1}_{m} + c * u^{n+1}_{m+1} = d$\n",
    "\n",
    "$u^1_m = f(\\tau*0,h*1)$, где h - длина шага сетки по X, \\tau длина шага по T\n"
   ]
  },
  {
   "cell_type": "code",
   "execution_count": null,
   "metadata": {},
   "outputs": [],
   "source": []
  },
  {
   "cell_type": "code",
   "execution_count": null,
   "metadata": {},
   "outputs": [],
   "source": []
  },
  {
   "cell_type": "code",
   "execution_count": null,
   "metadata": {},
   "outputs": [],
   "source": []
  },
  {
   "cell_type": "code",
   "execution_count": null,
   "metadata": {},
   "outputs": [],
   "source": []
  }
 ],
 "metadata": {
  "kernelspec": {
   "display_name": "Python 3",
   "language": "python",
   "name": "python3"
  },
  "language_info": {
   "codemirror_mode": {
    "name": "ipython",
    "version": 3
   },
   "file_extension": ".py",
   "mimetype": "text/x-python",
   "name": "python",
   "nbconvert_exporter": "python",
   "pygments_lexer": "ipython3",
   "version": "3.7.6"
  }
 },
 "nbformat": 4,
 "nbformat_minor": 4
}
