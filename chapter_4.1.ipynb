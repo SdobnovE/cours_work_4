{
 "cells": [
  {
   "cell_type": "code",
   "execution_count": 50,
   "metadata": {},
   "outputs": [],
   "source": [
    "import pandas as pd\n",
    "import numpy as np\n",
    "import matplotlib.pyplot as plt\n",
    "import re\n",
    "import ast\n",
    "from mgua import *\n",
    "from sklearn.linear_model import Ridge\n",
    "from sklearn.linear_model import Lasso\n",
    "from sklearn.linear_model import LinearRegression\n",
    "from sklearn.model_selection import KFold\n",
    "from sklearn.manifold import TSNE\n",
    "from sklearn.decomposition import PCA\n",
    "from sklearn.cluster import AgglomerativeClustering\n",
    "from scipy.cluster.hierarchy import dendrogram\n",
    "import random as rnd\n",
    "from sklearn.metrics import mean_absolute_error as MAE\n",
    "from sklearn.metrics import mean_squared_error as MSE\n",
    "from sklearn.ensemble import RandomForestRegressor\n"
   ]
  },
  {
   "cell_type": "code",
   "execution_count": 2,
   "metadata": {},
   "outputs": [],
   "source": [
    "\n",
    "# БЕЗ ВКЛЮЧЕННЫХ МАРКЕРОВ"
   ]
  },
  {
   "cell_type": "code",
   "execution_count": 6,
   "metadata": {},
   "outputs": [
    {
     "data": {
      "text/plain": [
       "((467, 11), (467, 29), (467, 53), (467, 89))"
      ]
     },
     "execution_count": 6,
     "metadata": {},
     "output_type": "execute_result"
    }
   ],
   "source": [
    "tab1 = pd.read_csv(\"data_varvara/cox2/cox2_matrix_alphabet_NN***_UpTo2chains.csv\")\n",
    "tab2 = pd.read_csv(\"data_varvara/cox2/cox2_matrix_alphabet_NN***_UpTo3chains.csv\")\n",
    "tab3 = pd.read_csv(\"data_varvara/cox2/cox2_matrix_alphabet_NN***_UpTo4chains.csv\")\n",
    "tab4 = pd.read_csv(\"data_varvara/cox2/cox2_matrix_alphabet_NN***_UpTo5chains.csv\")\n",
    "\n",
    "tab1.shape, tab2.shape, tab3.shape, tab4.shape"
   ]
  },
  {
   "cell_type": "code",
   "execution_count": 7,
   "metadata": {},
   "outputs": [],
   "source": [
    "tab1[\"key\"] = [i for i in range(tab1.shape[0])]\n",
    "tab2[\"key\"] = [i for i in range(tab2.shape[0])]\n",
    "tab3[\"key\"] = [i for i in range(tab3.shape[0])]\n",
    "tab4[\"key\"] = [i for i in range(tab4.shape[0])]"
   ]
  },
  {
   "cell_type": "code",
   "execution_count": 8,
   "metadata": {
    "scrolled": true
   },
   "outputs": [],
   "source": [
    "tab = pd.merge(tab1, tab2, left_on=\"key\", right_on=\"key\", how=\"inner\")\n",
    "tab = pd.merge(tab, tab3, left_on=\"key\", right_on=\"key\", how=\"inner\")\n",
    "tab = pd.merge(tab, tab4, left_on=\"key\", right_on=\"key\", how=\"inner\")"
   ]
  },
  {
   "cell_type": "code",
   "execution_count": 9,
   "metadata": {},
   "outputs": [
    {
     "name": "stdout",
     "output_type": "stream",
     "text": [
      "Br***C***; C***C***; C***Cl***; C***F***; C***N***; C***O***; C***S***; N***N***; N***O***; N***S***; O***S***; key; Br***C***C***; Br***C***S***; C***C***C***; C***C***Cl***; C***C***F***; C***C***N***; C***C***O***; C***C***S***; C***N***C***; C***N***N***; C***N***O***; C***N***S***; C***O***C***; C***O***N***; C***S***C***; C***S***N***; C***S***O***; Cl***C***S***; F***C***F***; F***C***O***; F***C***S***; N***C***N***; N***C***O***; N***C***S***; N***S***O***; O***C***O***; O***C***S***; O***N***O***; O***S***O***; Br***C***C***C***; Br***C***C***N***; Br***C***C***O***; Br***C***C***S***; Br***C***S***C***; C***C***C***C***; C***C***C***Cl***; C***C***C***F***; C***C***C***N***; C***C***C***O***; C***C***C***S***; C***C***N***C***; C***C***N***N***; C***C***N***O***; C***C***N***S***; C***C***O***C***; C***C***O***N***; C***C***S***C***; C***C***S***N***; C***C***S***O***; C***N***C***N***; C***N***C***O***; C***N***C***S***; C***N***N***C***; C***N***O***C***; C***N***S***C***; C***N***S***O***; C***O***C***F***; C***O***C***N***; C***O***C***O***; C***O***C***S***; C***S***C***Cl***; C***S***C***F***; C***S***C***N***; C***S***C***O***; Cl***C***C***Cl***; Cl***C***C***F***; Cl***C***C***N***; Cl***C***C***O***; Cl***C***C***S***; F***C***C***F***; F***C***C***N***; F***C***C***O***; F***C***C***S***; F***C***S***O***; N***C***C***N***; N***C***C***O***; N***C***C***S***; N***N***C***O***; N***O***C***O***; O***C***C***O***; O***C***C***S***; S***C***C***S***; Br***C***C***C***Br***; Br***C***C***C***C***; Br***C***C***C***N***; Br***C***C***C***S***; Br***C***C***N***C***; Br***C***C***N***N***; Br***C***C***O***C***; Br***C***C***S***C***; Br***C***S***C***C***; C***C***C***C***C***; C***C***C***C***Cl***; C***C***C***C***F***; C***C***C***C***N***; C***C***C***C***O***; C***C***C***C***S***; C***C***C***N***C***; C***C***C***N***N***; C***C***C***N***O***; C***C***C***N***S***; C***C***C***O***C***; C***C***C***O***N***; C***C***C***S***C***; C***C***C***S***N***; C***C***C***S***O***; C***C***N***C***C***; C***C***N***C***N***; C***C***N***C***O***; C***C***N***C***S***; C***C***N***N***C***; C***C***N***O***C***; C***C***N***S***C***; C***C***N***S***O***; C***C***O***C***C***; C***C***O***C***F***; C***C***O***C***N***; C***C***O***C***O***; C***C***O***C***S***; C***C***O***N***C***; C***C***S***C***C***; C***C***S***C***Cl***; C***C***S***C***F***; C***C***S***C***N***; C***C***S***C***O***; C***C***S***N***C***; C***N***C***C***Cl***; C***N***C***C***F***; C***N***C***C***N***; C***N***C***C***O***; C***N***C***C***S***; C***N***C***N***C***; C***N***C***O***C***; C***N***C***S***C***; C***N***N***C***O***; C***N***O***C***O***; C***O***C***C***Cl***; C***O***C***C***F***; C***O***C***C***N***; C***O***C***C***O***; C***O***C***C***S***; C***O***C***N***N***; C***O***C***O***C***; C***O***C***S***C***; C***S***C***C***Cl***; C***S***C***C***F***; C***S***C***C***N***; C***S***C***C***O***; C***S***C***C***S***; Cl***C***C***C***Cl***; Cl***C***C***C***F***; Cl***C***C***C***N***; Cl***C***C***C***O***; Cl***C***C***C***S***; Cl***C***C***N***N***; Cl***C***C***S***O***; F***C***C***C***F***; F***C***C***C***N***; F***C***C***C***O***; F***C***C***N***N***; N***C***C***C***N***; N***C***C***C***O***; N***C***C***C***S***; N***C***C***N***N***; N***C***C***N***O***; N***C***C***O***N***; N***C***C***S***O***; N***N***C***C***O***; N***N***C***C***S***; N***O***C***C***O***; S***C***C***C***S***; "
     ]
    }
   ],
   "source": [
    "for i in tab.keys():\n",
    "    print(i+\"; \",end=\"\")"
   ]
  },
  {
   "cell_type": "code",
   "execution_count": 10,
   "metadata": {},
   "outputs": [
    {
     "data": {
      "text/plain": [
       "(467, 182)"
      ]
     },
     "execution_count": 10,
     "metadata": {},
     "output_type": "execute_result"
    }
   ],
   "source": [
    "tab = tab.drop(\"key\",axis=1)\n",
    "tab.shape"
   ]
  },
  {
   "cell_type": "code",
   "execution_count": 11,
   "metadata": {},
   "outputs": [
    {
     "data": {
      "text/html": [
       "<div>\n",
       "<style scoped>\n",
       "    .dataframe tbody tr th:only-of-type {\n",
       "        vertical-align: middle;\n",
       "    }\n",
       "\n",
       "    .dataframe tbody tr th {\n",
       "        vertical-align: top;\n",
       "    }\n",
       "\n",
       "    .dataframe thead th {\n",
       "        text-align: right;\n",
       "    }\n",
       "</style>\n",
       "<table border=\"1\" class=\"dataframe\">\n",
       "  <thead>\n",
       "    <tr style=\"text-align: right;\">\n",
       "      <th></th>\n",
       "      <th>Br***C***</th>\n",
       "      <th>C***C***</th>\n",
       "      <th>C***Cl***</th>\n",
       "      <th>C***F***</th>\n",
       "      <th>C***N***</th>\n",
       "      <th>C***O***</th>\n",
       "      <th>C***S***</th>\n",
       "      <th>N***N***</th>\n",
       "      <th>N***O***</th>\n",
       "      <th>N***S***</th>\n",
       "      <th>...</th>\n",
       "      <th>N***C***C***C***O***</th>\n",
       "      <th>N***C***C***C***S***</th>\n",
       "      <th>N***C***C***N***N***</th>\n",
       "      <th>N***C***C***N***O***</th>\n",
       "      <th>N***C***C***O***N***</th>\n",
       "      <th>N***C***C***S***O***</th>\n",
       "      <th>N***N***C***C***O***</th>\n",
       "      <th>N***N***C***C***S***</th>\n",
       "      <th>N***O***C***C***O***</th>\n",
       "      <th>S***C***C***C***S***</th>\n",
       "    </tr>\n",
       "  </thead>\n",
       "  <tbody>\n",
       "    <tr>\n",
       "      <th>0</th>\n",
       "      <td>0.0</td>\n",
       "      <td>17.0</td>\n",
       "      <td>0.0</td>\n",
       "      <td>1.0</td>\n",
       "      <td>3.0</td>\n",
       "      <td>0.0</td>\n",
       "      <td>2.0</td>\n",
       "      <td>0.0</td>\n",
       "      <td>0.0</td>\n",
       "      <td>0.0</td>\n",
       "      <td>...</td>\n",
       "      <td>0.0</td>\n",
       "      <td>0.0</td>\n",
       "      <td>0.0</td>\n",
       "      <td>0.0</td>\n",
       "      <td>0.0</td>\n",
       "      <td>0.0</td>\n",
       "      <td>0.0</td>\n",
       "      <td>0.0</td>\n",
       "      <td>0.0</td>\n",
       "      <td>0.0</td>\n",
       "    </tr>\n",
       "    <tr>\n",
       "      <th>1</th>\n",
       "      <td>0.0</td>\n",
       "      <td>16.0</td>\n",
       "      <td>0.0</td>\n",
       "      <td>1.0</td>\n",
       "      <td>3.0</td>\n",
       "      <td>0.0</td>\n",
       "      <td>2.0</td>\n",
       "      <td>0.0</td>\n",
       "      <td>0.0</td>\n",
       "      <td>0.0</td>\n",
       "      <td>...</td>\n",
       "      <td>0.0</td>\n",
       "      <td>0.0</td>\n",
       "      <td>0.0</td>\n",
       "      <td>0.0</td>\n",
       "      <td>0.0</td>\n",
       "      <td>0.0</td>\n",
       "      <td>0.0</td>\n",
       "      <td>0.0</td>\n",
       "      <td>0.0</td>\n",
       "      <td>0.0</td>\n",
       "    </tr>\n",
       "    <tr>\n",
       "      <th>2</th>\n",
       "      <td>0.0</td>\n",
       "      <td>16.0</td>\n",
       "      <td>0.0</td>\n",
       "      <td>1.0</td>\n",
       "      <td>3.0</td>\n",
       "      <td>0.0</td>\n",
       "      <td>2.0</td>\n",
       "      <td>0.0</td>\n",
       "      <td>0.0</td>\n",
       "      <td>0.0</td>\n",
       "      <td>...</td>\n",
       "      <td>0.0</td>\n",
       "      <td>0.0</td>\n",
       "      <td>0.0</td>\n",
       "      <td>0.0</td>\n",
       "      <td>0.0</td>\n",
       "      <td>0.0</td>\n",
       "      <td>0.0</td>\n",
       "      <td>0.0</td>\n",
       "      <td>0.0</td>\n",
       "      <td>0.0</td>\n",
       "    </tr>\n",
       "    <tr>\n",
       "      <th>3</th>\n",
       "      <td>0.0</td>\n",
       "      <td>17.0</td>\n",
       "      <td>0.0</td>\n",
       "      <td>0.0</td>\n",
       "      <td>3.0</td>\n",
       "      <td>0.0</td>\n",
       "      <td>2.0</td>\n",
       "      <td>0.0</td>\n",
       "      <td>0.0</td>\n",
       "      <td>0.0</td>\n",
       "      <td>...</td>\n",
       "      <td>0.0</td>\n",
       "      <td>0.0</td>\n",
       "      <td>0.0</td>\n",
       "      <td>0.0</td>\n",
       "      <td>0.0</td>\n",
       "      <td>0.0</td>\n",
       "      <td>0.0</td>\n",
       "      <td>0.0</td>\n",
       "      <td>0.0</td>\n",
       "      <td>0.0</td>\n",
       "    </tr>\n",
       "    <tr>\n",
       "      <th>4</th>\n",
       "      <td>0.0</td>\n",
       "      <td>18.0</td>\n",
       "      <td>0.0</td>\n",
       "      <td>3.0</td>\n",
       "      <td>3.0</td>\n",
       "      <td>0.0</td>\n",
       "      <td>2.0</td>\n",
       "      <td>0.0</td>\n",
       "      <td>0.0</td>\n",
       "      <td>0.0</td>\n",
       "      <td>...</td>\n",
       "      <td>0.0</td>\n",
       "      <td>0.0</td>\n",
       "      <td>0.0</td>\n",
       "      <td>0.0</td>\n",
       "      <td>0.0</td>\n",
       "      <td>0.0</td>\n",
       "      <td>0.0</td>\n",
       "      <td>0.0</td>\n",
       "      <td>0.0</td>\n",
       "      <td>0.0</td>\n",
       "    </tr>\n",
       "  </tbody>\n",
       "</table>\n",
       "<p>5 rows × 182 columns</p>\n",
       "</div>"
      ],
      "text/plain": [
       "   Br***C***  C***C***  C***Cl***  C***F***  C***N***  C***O***  C***S***  \\\n",
       "0        0.0      17.0        0.0       1.0       3.0       0.0       2.0   \n",
       "1        0.0      16.0        0.0       1.0       3.0       0.0       2.0   \n",
       "2        0.0      16.0        0.0       1.0       3.0       0.0       2.0   \n",
       "3        0.0      17.0        0.0       0.0       3.0       0.0       2.0   \n",
       "4        0.0      18.0        0.0       3.0       3.0       0.0       2.0   \n",
       "\n",
       "   N***N***  N***O***  N***S***  ...  N***C***C***C***O***  \\\n",
       "0       0.0       0.0       0.0  ...                   0.0   \n",
       "1       0.0       0.0       0.0  ...                   0.0   \n",
       "2       0.0       0.0       0.0  ...                   0.0   \n",
       "3       0.0       0.0       0.0  ...                   0.0   \n",
       "4       0.0       0.0       0.0  ...                   0.0   \n",
       "\n",
       "   N***C***C***C***S***  N***C***C***N***N***  N***C***C***N***O***  \\\n",
       "0                   0.0                   0.0                   0.0   \n",
       "1                   0.0                   0.0                   0.0   \n",
       "2                   0.0                   0.0                   0.0   \n",
       "3                   0.0                   0.0                   0.0   \n",
       "4                   0.0                   0.0                   0.0   \n",
       "\n",
       "   N***C***C***O***N***  N***C***C***S***O***  N***N***C***C***O***  \\\n",
       "0                   0.0                   0.0                   0.0   \n",
       "1                   0.0                   0.0                   0.0   \n",
       "2                   0.0                   0.0                   0.0   \n",
       "3                   0.0                   0.0                   0.0   \n",
       "4                   0.0                   0.0                   0.0   \n",
       "\n",
       "   N***N***C***C***S***  N***O***C***C***O***  S***C***C***C***S***  \n",
       "0                   0.0                   0.0                   0.0  \n",
       "1                   0.0                   0.0                   0.0  \n",
       "2                   0.0                   0.0                   0.0  \n",
       "3                   0.0                   0.0                   0.0  \n",
       "4                   0.0                   0.0                   0.0  \n",
       "\n",
       "[5 rows x 182 columns]"
      ]
     },
     "execution_count": 11,
     "metadata": {},
     "output_type": "execute_result"
    }
   ],
   "source": [
    "tab.head()"
   ]
  },
  {
   "cell_type": "code",
   "execution_count": 12,
   "metadata": {},
   "outputs": [],
   "source": [
    "y = pd.read_csv(\"data_varvara/cox2/cox2_y.csv\")"
   ]
  },
  {
   "cell_type": "code",
   "execution_count": 13,
   "metadata": {},
   "outputs": [],
   "source": [
    "y = np.array(y)"
   ]
  },
  {
   "cell_type": "code",
   "execution_count": 14,
   "metadata": {},
   "outputs": [],
   "source": [
    "r = []\n",
    "for i in y:\n",
    "    s = i[0]\n",
    "    s = re.sub('inf', '1_000_000_000', str(s))\n",
    "    r.append(ast.literal_eval(s))"
   ]
  },
  {
   "cell_type": "code",
   "execution_count": 15,
   "metadata": {},
   "outputs": [],
   "source": [
    "y = np.array(r)\n",
    "for i in range(y.shape[0]):\n",
    "    if y[i,1] == 1_000_000_000:\n",
    "        y[i,1] = np.inf"
   ]
  },
  {
   "cell_type": "code",
   "execution_count": 16,
   "metadata": {},
   "outputs": [],
   "source": [
    "X = np.array(tab)"
   ]
  },
  {
   "cell_type": "code",
   "execution_count": null,
   "metadata": {},
   "outputs": [],
   "source": []
  },
  {
   "cell_type": "code",
   "execution_count": null,
   "metadata": {},
   "outputs": [],
   "source": []
  },
  {
   "cell_type": "code",
   "execution_count": 220,
   "metadata": {},
   "outputs": [],
   "source": [
    "mdl = LinearRegression(normalize=True)"
   ]
  },
  {
   "cell_type": "code",
   "execution_count": 358,
   "metadata": {},
   "outputs": [],
   "source": [
    "ans = []\n",
    "ind = 0\n",
    "for train_index, test_index in KFold(50).split(X):\n",
    "    \n",
    "    ind+=1\n",
    "    X_train = X[train_index, :]\n",
    "    y_train = y[train_index,0]\n",
    "    \n",
    "    X_test = X[test_index, :]\n",
    "    y_test = y[test_index,0]\n",
    "    \n",
    "    mdl.fit(X_train, y_train)\n",
    "    for i in mdl.predict(X_test):\n",
    "        ans.append(i)\n",
    "    "
   ]
  },
  {
   "cell_type": "code",
   "execution_count": 222,
   "metadata": {},
   "outputs": [
    {
     "data": {
      "text/plain": [
       "array([-2.59727801e+14,  5.67744636e+00,  3.01772449e+14,  3.37544369e-02,\n",
       "        5.75581456e+01,  1.21246317e+01, -3.53575238e+13, -4.82110932e+13,\n",
       "       -1.82706449e+14, -1.81438669e+14,  1.60003332e+14,  1.29863901e+14,\n",
       "       -6.93564364e+14, -4.98952414e+00, -1.50886225e+14, -7.76319573e+00,\n",
       "       -2.12017274e+01,  1.92081541e+01,  6.88111888e+13, -3.18078892e+01,\n",
       "        4.82110932e+13,  4.51644623e+14,  7.90288713e+14, -1.01291949e+01,\n",
       "       -5.22170639e+13,  7.07150477e+13,  2.88599740e+13, -8.00016661e+13,\n",
       "        5.30508213e+14,  2.72685631e+00, -6.29517242e+14, -1.73433500e+14,\n",
       "       -6.31853426e+13,  3.77191472e+01, -2.24330588e+14, -1.33714817e+14,\n",
       "        3.99698273e+01,  3.10116049e+15, -8.41874175e+14, -1.99085483e+02,\n",
       "        3.45091640e+01, -6.22136101e+14, -4.87728025e+14,  7.91949895e+14,\n",
       "        5.16695962e+14, -3.47014810e+00, -8.84322546e-01, -6.35812329e+00,\n",
       "       -1.73845413e+01, -2.24320338e+01,  1.01039397e+13, -2.75889731e+01,\n",
       "       -1.50735582e+01, -4.27471704e+13, -3.05344125e+14, -3.48022793e+01,\n",
       "        4.69990529e+14, -6.88111888e+13,  4.51707363e+13,  5.75445409e+01,\n",
       "        6.31853426e+13, -2.13500677e+14,  1.43272309e+14, -4.82110932e+13,\n",
       "       -3.19222891e+14, -3.38556310e+14, -6.45510624e+13,  3.79646487e+14,\n",
       "       -2.76770691e+14, -1.24145408e+01, -1.92385860e+15, -9.15738804e+14,\n",
       "        1.57051119e+14,  4.41017829e+12,  1.51166850e+14,  9.60593218e+00,\n",
       "       -9.92022487e-01, -2.77661948e+01, -4.80291891e+13,  3.63527759e+14,\n",
       "        3.94166802e+00,  1.98147576e+01, -1.14498399e+01, -2.47540719e+13,\n",
       "       -3.08774352e+12, -1.47528806e+01,  2.69453258e+01,  1.15715474e+14,\n",
       "        4.76149593e+14, -2.32650834e+14, -1.29522673e+12, -6.11724933e+13,\n",
       "       -5.20466339e+13, -1.67683160e+01, -8.02060604e+00, -6.22136101e+14,\n",
       "       -5.56101331e+14,  6.22136101e+14,  3.11068051e+14,  4.87728025e+14,\n",
       "       -2.35848564e+14,  1.53366151e+14,  3.23889237e+00,  1.09348131e+01,\n",
       "        9.85277197e+00,  2.52292312e+00,  4.43994898e+00,  6.31705818e+00,\n",
       "        2.07140369e+01, -3.84036954e-02,  1.18746627e+14, -1.17188740e+14,\n",
       "        1.97433282e+01, -2.37493254e+14, -1.01039397e+13,  2.35953958e+13,\n",
       "       -2.53392942e+01,  1.78859597e+01, -9.78814327e+01,  1.06750338e+14,\n",
       "        2.70864286e+01,  1.06975890e+01, -1.84457161e+14,  2.04449493e+14,\n",
       "        1.02224747e+14,  7.71400717e+00,  1.24935377e+14, -1.06750338e+14,\n",
       "       -6.07209799e+01, -2.40771097e+13, -1.91535307e+14, -1.36146031e+01,\n",
       "        1.17172183e+14,  1.12789341e+13,  1.72210705e+01, -6.36038449e+14,\n",
       "       -1.61315139e+14,  1.89806232e+01, -1.54626664e+00,  1.29010882e+01,\n",
       "       -3.32318752e+00, -7.08124890e+00, -6.31853426e+13,  3.83521029e+14,\n",
       "        7.66481003e+13, -3.64585893e+13,  2.86317906e+14,  4.80291891e+13,\n",
       "        1.74281256e+01,  1.02084004e+01,  6.47613363e+11,  6.11724933e+13,\n",
       "       -1.26461724e+14,  2.33333920e+02, -3.23147320e+13, -3.63527759e+14,\n",
       "        2.47540719e+13, -1.15715474e+14,  3.05862467e+13,  2.60233169e+13,\n",
       "        2.20546721e-01,  1.85045876e+01,  2.29323015e+01,  1.28719629e+01,\n",
       "       -4.93594944e+00, -1.27625365e+00,  3.98091085e+01,  3.05285564e+00,\n",
       "       -5.81650431e+00, -4.43053673e+00, -2.61208515e+01, -1.09854926e+00,\n",
       "        3.76283353e+00,  1.99562478e+01, -1.07748004e+01,  5.93733135e+13,\n",
       "        2.35077072e+14,  7.35844047e+01, -3.39594459e+01, -2.11088038e+02,\n",
       "        1.29522673e+12, -8.00874795e+00])"
      ]
     },
     "execution_count": 222,
     "metadata": {},
     "output_type": "execute_result"
    }
   ],
   "source": [
    "mdl.coef_"
   ]
  },
  {
   "cell_type": "code",
   "execution_count": 223,
   "metadata": {},
   "outputs": [],
   "source": [
    "#КОЭФФИЦИЕНТЫ МОДЕЛИ очень большие, видно, что модель сильно переобучилась/"
   ]
  },
  {
   "cell_type": "code",
   "execution_count": 225,
   "metadata": {},
   "outputs": [
    {
     "data": {
      "text/plain": [
       "(2.34977438616957e+29, 58304456503951.1)"
      ]
     },
     "execution_count": 225,
     "metadata": {},
     "output_type": "execute_result"
    }
   ],
   "source": [
    "MSE(ans,y[:,0]), MAE(ans,y[:,0])\n"
   ]
  },
  {
   "cell_type": "code",
   "execution_count": null,
   "metadata": {},
   "outputs": [],
   "source": [
    "\n",
    "\n"
   ]
  },
  {
   "cell_type": "code",
   "execution_count": null,
   "metadata": {},
   "outputs": [],
   "source": []
  },
  {
   "cell_type": "code",
   "execution_count": 232,
   "metadata": {},
   "outputs": [],
   "source": [
    "mdl = Ridge(alpha=1, normalize=True)"
   ]
  },
  {
   "cell_type": "code",
   "execution_count": 233,
   "metadata": {},
   "outputs": [],
   "source": [
    "ans = []\n",
    "for train_index, test_index in KFold(50).split(X):\n",
    "    X_train = X[train_index, :]\n",
    "    y_train = y[train_index,0]\n",
    "    \n",
    "    X_test = X[test_index, :]\n",
    "    y_test = y[test_index,0]\n",
    "    \n",
    "    mdl.fit(X_train, y_train)\n",
    "    for i in mdl.predict(X_test):\n",
    "        ans.append(i)"
   ]
  },
  {
   "cell_type": "code",
   "execution_count": 234,
   "metadata": {},
   "outputs": [
    {
     "data": {
      "text/plain": [
       "array([-1.50275173e+00, -2.28046367e-01, -1.13032007e+00, -1.82442522e-01,\n",
       "        1.55488579e-01,  2.00637715e-01, -7.61435013e-02,  1.72535533e+00,\n",
       "        1.64788930e+00, -1.64406777e+00,  1.73048409e+00, -7.49153733e-01,\n",
       "       -2.30446866e+00, -1.09487626e-01, -5.64025528e-01,  7.26335597e-02,\n",
       "        4.38730419e-02,  6.48862083e-02, -4.28188102e-01, -9.39695639e-03,\n",
       "        4.02162594e-01,  9.95061517e-01,  9.16888751e+00, -1.46012752e+00,\n",
       "        2.65898825e+00,  3.73917886e-01, -1.64406777e+00,  8.76583191e-01,\n",
       "       -2.38315071e+00, -3.71486519e-01, -2.33204717e-01, -2.90176533e+00,\n",
       "       -1.97018890e-01,  4.30065167e+00, -8.33415056e-01, -8.22033886e-01,\n",
       "        8.15812446e+00,  3.34497125e+00,  2.62893658e+00,  1.30274377e+00,\n",
       "       -6.85772287e-01, -2.86797137e+00,  5.28049615e-01, -1.94228286e+00,\n",
       "       -2.30446866e+00, -5.95589092e-02, -4.30751902e-01,  6.28718615e-02,\n",
       "        2.54314870e-01,  2.14074735e-01, -3.29939081e-01, -2.37497664e-02,\n",
       "        1.96214813e-01,  3.10879457e-01,  5.43667787e+00, -7.47004756e-01,\n",
       "       -4.13980020e-01,  1.36862434e-01, -8.70840715e-01,  1.15254212e+00,\n",
       "       -7.13730229e-02, -8.00322702e+00, -8.33415056e-01,  4.70935268e-01,\n",
       "        2.40652299e-01,  9.16888751e+00,  4.58444375e+00, -2.33204717e-01,\n",
       "        2.12997114e+00, -1.64587211e+00,  3.34497125e+00, -2.38315071e+00,\n",
       "       -2.90176533e+00, -8.33415056e-01,  3.34497125e+00, -2.25433993e+00,\n",
       "       -3.79903629e+00, -2.74814155e+00,  7.83672598e-01,  2.77579384e+00,\n",
       "        1.54119378e+00, -6.91645374e-01,  1.76928325e+00, -8.09489416e-01,\n",
       "       -1.45088267e+00, -7.77438072e-01,  4.08176483e+00, -7.50767090e-01,\n",
       "        1.77298761e+01,  1.60889933e+01, -1.70733538e+00, -3.34148105e+00,\n",
       "       -3.09611657e+00, -6.78029003e-01, -4.75371642e-01, -5.01425414e+00,\n",
       "       -1.94228286e+00, -3.22272439e+00, -1.27247786e+00,  5.28049615e-01,\n",
       "       -1.94228286e+00, -1.15223433e+00, -4.39242781e-02, -2.73716136e-01,\n",
       "        3.49472059e-01,  2.38190956e-01, -3.04428194e-02, -2.80745728e-01,\n",
       "        6.40491006e-02,  2.83116741e-01, -6.82973602e-02,  5.43667787e+00,\n",
       "       -7.60264916e-01, -4.72988112e-01,  5.83622112e-02, -8.70840715e-01,\n",
       "        9.79610710e-01,  7.22451650e-04, -7.70780272e-02, -4.14776340e+00,\n",
       "       -4.84024014e-01,  1.05163816e-01, -1.08549540e+00,  5.43667787e+00,\n",
       "        2.71833894e+00, -3.95198560e-01, -1.16602359e-01,  6.75171244e-02,\n",
       "       -1.00449784e+00,  3.34497125e+00, -1.08549540e+00,  4.55671803e-01,\n",
       "       -1.19157536e+00, -1.45088267e+00, -4.37085703e-01,  1.67248563e+00,\n",
       "        4.48662590e+00, -2.19666343e+00, -8.50572732e-01, -2.45133270e-01,\n",
       "        1.73469053e+00, -5.38657580e-01, -1.11262232e-01, -3.10221671e+00,\n",
       "       -8.33415056e-01,  8.86493807e+00,  5.15102216e+00,  7.83672598e-01,\n",
       "        1.90608704e+00, -3.92439104e-01, -7.58814987e-01, -6.68296209e+00,\n",
       "        1.77298761e+01, -2.74263326e+00,  3.34497125e+00,  2.77579384e+00,\n",
       "       -8.09489416e-01, -7.50767090e-01, -3.34148105e+00, -1.54805828e+00,\n",
       "        1.49136477e+00,  6.87095188e-02,  5.53513753e+00,  4.01784389e+00,\n",
       "        5.94200046e-01, -2.24049485e+00,  1.33631873e+01,  3.21875511e-01,\n",
       "       -8.19085787e-01, -4.62271325e+00, -4.14219589e-01,  2.28530670e+00,\n",
       "        2.62728393e+00,  2.68913737e+00, -3.13656492e+00, -2.70638250e+00,\n",
       "        1.60889933e+01,  2.65314004e+00,  1.00510595e+00, -4.23012549e+00,\n",
       "       -5.62099637e+00, -4.91179405e+00])"
      ]
     },
     "execution_count": 234,
     "metadata": {},
     "output_type": "execute_result"
    }
   ],
   "source": [
    "mdl.coef_"
   ]
  },
  {
   "cell_type": "code",
   "execution_count": 235,
   "metadata": {},
   "outputs": [
    {
     "data": {
      "text/plain": [
       "(1033.3606218671032, 21.596373008929042)"
      ]
     },
     "execution_count": 235,
     "metadata": {},
     "output_type": "execute_result"
    }
   ],
   "source": [
    "MSE(ans,y[:,0]), MAE(ans,y[:,0])"
   ]
  },
  {
   "cell_type": "code",
   "execution_count": null,
   "metadata": {},
   "outputs": [],
   "source": []
  },
  {
   "cell_type": "code",
   "execution_count": null,
   "metadata": {},
   "outputs": [],
   "source": []
  },
  {
   "cell_type": "code",
   "execution_count": 266,
   "metadata": {},
   "outputs": [],
   "source": [
    "mdl = Lasso(alpha=0.01, normalize=True)"
   ]
  },
  {
   "cell_type": "code",
   "execution_count": 267,
   "metadata": {},
   "outputs": [],
   "source": [
    "ans = []\n",
    "for train_index, test_index in KFold(X.shape[0]).split(X):\n",
    "    X_train = X[train_index, :]\n",
    "    y_train = y[train_index,0]\n",
    "    \n",
    "    X_test = X[test_index, :]\n",
    "    y_test = y[test_index,0]\n",
    "    \n",
    "    mdl.fit(X_train, y_train)\n",
    "    ans.append(mdl.predict(X_test)[0])"
   ]
  },
  {
   "cell_type": "code",
   "execution_count": 281,
   "metadata": {},
   "outputs": [],
   "source": [
    "my_coef = mdl.coef_"
   ]
  },
  {
   "cell_type": "code",
   "execution_count": 282,
   "metadata": {},
   "outputs": [
    {
     "data": {
      "text/plain": [
       "array([-0.00000000e+00, -1.23156955e+00, -0.00000000e+00,  0.00000000e+00,\n",
       "        0.00000000e+00, -0.00000000e+00, -0.00000000e+00,  1.33693848e+01,\n",
       "        0.00000000e+00, -0.00000000e+00,  0.00000000e+00, -7.82973104e-01,\n",
       "        3.78976653e+01, -0.00000000e+00, -2.77538550e+00,  0.00000000e+00,\n",
       "       -0.00000000e+00,  0.00000000e+00, -3.05253914e+00, -0.00000000e+00,\n",
       "        0.00000000e+00,  0.00000000e+00,  3.94089391e+01, -3.83919690e+00,\n",
       "       -0.00000000e+00, -0.00000000e+00, -0.00000000e+00,  2.43833132e+00,\n",
       "        3.60999671e+01,  0.00000000e+00,  0.00000000e+00, -2.74722339e+01,\n",
       "        0.00000000e+00,  2.67070406e+01, -0.00000000e+00, -0.00000000e+00,\n",
       "        3.59955772e+01,  0.00000000e+00,  8.44695027e+00, -6.17730888e+01,\n",
       "       -0.00000000e+00, -7.61093065e+00,  0.00000000e+00, -0.00000000e+00,\n",
       "        2.33906394e+00, -0.00000000e+00, -0.00000000e+00, -0.00000000e+00,\n",
       "        0.00000000e+00,  0.00000000e+00, -0.00000000e+00, -0.00000000e+00,\n",
       "        0.00000000e+00,  0.00000000e+00,  1.49979389e+01, -5.83819027e-01,\n",
       "       -0.00000000e+00, -0.00000000e+00, -2.59505714e+00,  1.64424507e+01,\n",
       "        0.00000000e+00, -4.23612283e+01, -0.00000000e+00, -0.00000000e+00,\n",
       "       -0.00000000e+00,  8.40957880e+00,  0.00000000e+00,  0.00000000e+00,\n",
       "        0.00000000e+00, -2.03468178e+01,  2.35207817e+01,  4.85378724e+00,\n",
       "       -1.85914258e+00, -0.00000000e+00,  5.19212216e-02,  0.00000000e+00,\n",
       "       -3.96372309e+00, -8.22769646e+00,  2.57750924e+00,  1.16259111e-01,\n",
       "        3.48363382e-01, -0.00000000e+00,  1.22899866e+00, -1.57571379e+00,\n",
       "       -4.27763339e-02, -4.47912709e-01,  1.47915560e+01, -0.00000000e+00,\n",
       "        4.01033277e+01,  2.24554501e+01, -0.00000000e+00, -1.94463418e+01,\n",
       "       -0.00000000e+00, -0.00000000e+00, -0.00000000e+00, -0.00000000e+00,\n",
       "       -2.58543723e+00, -5.60745095e+00, -0.00000000e+00,  0.00000000e+00,\n",
       "       -7.80058541e-02,  1.77324929e+00, -0.00000000e+00,  0.00000000e+00,\n",
       "        1.11198123e+00,  1.00853645e+00,  0.00000000e+00, -0.00000000e+00,\n",
       "        0.00000000e+00,  0.00000000e+00,  0.00000000e+00,  2.41425236e+01,\n",
       "       -0.00000000e+00, -7.60832250e-01, -0.00000000e+00, -1.20135373e+00,\n",
       "        0.00000000e+00, -2.72433507e-01,  0.00000000e+00, -0.00000000e+00,\n",
       "       -9.63792022e-01, -0.00000000e+00, -0.00000000e+00,  6.03060193e-03,\n",
       "        3.33424852e-15,  0.00000000e+00,  0.00000000e+00,  0.00000000e+00,\n",
       "       -0.00000000e+00,  3.02872868e+00, -0.00000000e+00,  0.00000000e+00,\n",
       "        2.65274648e+00, -2.92315136e-01, -0.00000000e+00,  9.52375818e-03,\n",
       "        0.00000000e+00, -0.00000000e+00, -1.69127295e+00, -0.00000000e+00,\n",
       "       -4.06926890e+00, -0.00000000e+00,  0.00000000e+00,  0.00000000e+00,\n",
       "       -0.00000000e+00,  7.97568654e-01,  0.00000000e+00,  2.68894701e+00,\n",
       "        3.39547219e+00, -0.00000000e+00, -0.00000000e+00, -1.76377322e-02,\n",
       "        3.89939809e-01,  0.00000000e+00,  4.39818648e-01,  4.07988763e+00,\n",
       "       -7.23283442e-02, -0.00000000e+00, -4.72612600e-05, -0.00000000e+00,\n",
       "        2.41338292e+00,  6.58611386e+00,  1.38141084e+01,  9.32747075e+00,\n",
       "       -1.25247690e+00, -6.95767350e+00,  2.63381774e+01, -9.78998352e-02,\n",
       "       -2.17423607e+00, -3.98796473e+00, -5.35982980e+00,  5.25433553e+00,\n",
       "        9.41279377e-01,  6.65896321e+00, -8.12596187e+00, -3.68299445e+00,\n",
       "        7.86501097e-01,  2.89720627e+01, -1.19029365e+01, -5.82318736e+01,\n",
       "       -4.61864463e+00, -1.55154990e+00])"
      ]
     },
     "execution_count": 282,
     "metadata": {},
     "output_type": "execute_result"
    }
   ],
   "source": [
    "my_coef"
   ]
  },
  {
   "cell_type": "code",
   "execution_count": 293,
   "metadata": {},
   "outputs": [
    {
     "data": {
      "text/plain": [
       "(1158.0172654997343, 21.992801414102722)"
      ]
     },
     "execution_count": 293,
     "metadata": {},
     "output_type": "execute_result"
    }
   ],
   "source": [
    "MSE(ans,y[:,0]), MAE(ans,y[:,0])"
   ]
  },
  {
   "cell_type": "code",
   "execution_count": 296,
   "metadata": {},
   "outputs": [],
   "source": [
    "res = []\n",
    "for i in range(len(my_coef)):\n",
    "    if abs(my_coef[i]) > 1e-8:\n",
    "        res.append(i)\n",
    "        "
   ]
  },
  {
   "cell_type": "code",
   "execution_count": null,
   "metadata": {},
   "outputs": [],
   "source": []
  },
  {
   "cell_type": "code",
   "execution_count": 297,
   "metadata": {
    "scrolled": true
   },
   "outputs": [
    {
     "name": "stdout",
     "output_type": "stream",
     "text": [
      "1 7 11 12 14 18 22 23 27 28 31 33 36 38 39 41 44 54 55 58 59 61 65 69 70 71 72 74 76 77 78 79 80 82 83 84 85 86 88 89 91 96 97 100 101 104 105 111 113 115 117 120 123 129 132 133 135 138 140 145 147 148 151 152 154 155 156 158 160 161 162 163 164 165 166 167 168 169 170 171 172 173 174 175 176 177 178 179 180 181 "
     ]
    }
   ],
   "source": [
    "for i in res:\n",
    "    print(i, end=\" \")"
   ]
  },
  {
   "cell_type": "code",
   "execution_count": 320,
   "metadata": {},
   "outputs": [],
   "source": [
    "mdl = RandomForestRegressor(n_jobs=-1, max_depth=10, min_samples_leaf=2, criterion=\"mse\", max_features=\"log2\")"
   ]
  },
  {
   "cell_type": "code",
   "execution_count": 324,
   "metadata": {},
   "outputs": [],
   "source": [
    "ans = []\n",
    "for train_index, test_index in KFold(50).split(X):\n",
    "    X_train = X[train_index, :]\n",
    "    y_train = y[train_index,0]\n",
    "    \n",
    "    X_test = X[test_index, :]\n",
    "    y_test = y[test_index,0]\n",
    "    \n",
    "    mdl.fit(X_train, y_train)\n",
    "    for i in mdl.predict(X_test):\n",
    "        ans.append(i)\n",
    "    "
   ]
  },
  {
   "cell_type": "code",
   "execution_count": 322,
   "metadata": {},
   "outputs": [
    {
     "data": {
      "text/plain": [
       "(926.1776098608866, 19.96103981319904)"
      ]
     },
     "execution_count": 322,
     "metadata": {},
     "output_type": "execute_result"
    }
   ],
   "source": [
    "MSE(ans,y[:,0]), MAE(ans,y[:,0])"
   ]
  },
  {
   "cell_type": "code",
   "execution_count": 329,
   "metadata": {},
   "outputs": [],
   "source": [
    "importances = mdl.feature_importances_"
   ]
  },
  {
   "cell_type": "code",
   "execution_count": 347,
   "metadata": {},
   "outputs": [],
   "source": [
    "res = []\n",
    "for i in range(len(importances)):\n",
    "    if abs(importances[i]) > 1e-3:\n",
    "        res.append(i)"
   ]
  },
  {
   "cell_type": "code",
   "execution_count": 348,
   "metadata": {},
   "outputs": [
    {
     "name": "stdout",
     "output_type": "stream",
     "text": [
      "1 2 3 4 5 6 7 8 9 10 13 14 15 16 17 18 19 20 21 22 23 25 26 27 29 32 33 35 36 39 45 46 47 48 49 50 51 52 55 56 57 58 59 60 63 65 66 78 80 81 82 85 86 87 89 102 103 104 105 106 107 108 109 112 113 114 115 116 117 118 120 121 125 130 131 136 137 138 139 140 141 142 148 149 157 162 167 168 170 171 172 173 176 177 178 "
     ]
    }
   ],
   "source": [
    "for i in res:\n",
    "    print(i, end=\" \")"
   ]
  },
  {
   "cell_type": "code",
   "execution_count": 101,
   "metadata": {},
   "outputs": [],
   "source": []
  },
  {
   "cell_type": "code",
   "execution_count": 102,
   "metadata": {},
   "outputs": [],
   "source": [
    "# X_expanded = np.zeros((X.shape[0], X.shape[1]**2))\n",
    "# num = 0\n",
    "# for i in range(X.shape[1]):\n",
    "#     X_expanded[:,num] = X[:,i] * (X[:,i] - 1) / 2\n",
    "#     num+=1\n",
    "#     for j in range(i+1, X.shape[1]):\n",
    "#         X_expanded[:,num] = X[:,i] * X[:,j]\n",
    "#         num+=1\n",
    "# X_expanded.shape"
   ]
  },
  {
   "cell_type": "code",
   "execution_count": 37,
   "metadata": {},
   "outputs": [],
   "source": [
    "mdl = MGUA(20,20)\n"
   ]
  },
  {
   "cell_type": "code",
   "execution_count": 38,
   "metadata": {},
   "outputs": [
    {
     "name": "stdout",
     "output_type": "stream",
     "text": [
      "selection 2 from 20\n",
      "selection 3 from 20\n",
      "selection 4 from 20\n",
      "selection 5 from 20\n",
      "selection 6 from 20\n",
      "selection 7 from 20\n",
      "selection 8 from 20\n",
      "selection 9 from 20\n",
      "selection 10 from 20\n",
      "selection 11 from 20\n",
      "selection 12 from 20\n",
      "selection 13 from 20\n",
      "selection 14 from 20\n",
      "selection 15 from 20\n",
      "selection 16 from 20\n",
      "selection 17 from 20\n",
      "selection 18 from 20\n",
      "selection 19 from 20\n",
      "selection 20 from 20\n"
     ]
    }
   ],
   "source": [
    "mdl.fit(X, y[:,0])"
   ]
  },
  {
   "cell_type": "code",
   "execution_count": 21,
   "metadata": {},
   "outputs": [],
   "source": [
    "indexes = mdl.get_indexes()"
   ]
  },
  {
   "cell_type": "code",
   "execution_count": 46,
   "metadata": {},
   "outputs": [
    {
     "name": "stdout",
     "output_type": "stream",
     "text": [
      "0, 9, 22, 48, 62, 88, 89, \n",
      "0, 22, 27, 62, 88, 89, 104, 166, \n",
      "0, 22, 48, 89, 138, 171, \n",
      "0, 22, 89, 136, 146, \n",
      "1, 22, 88, 104, 138, 140, 171, \n",
      "0, 22, 88, 89, 171, \n",
      "1, 27, 88, 89, 104, 168, 171, \n",
      "0, 7, 9, 22, 89, 138, \n",
      "0, 7, 9, 36, 86, 166, 168, \n",
      "1, 22, 27, 86, 88, 89, 166, \n",
      "0, 9, 27, 34, 88, 105, 136, \n",
      "0, 1, 22, 36, 69, 88, 136, \n",
      "0, 22, 27, 36, 89, 136, 171, \n",
      "0, 2, 9, 22, 27, 112, \n",
      "0, 22, 27, 86, 88, 172, \n",
      "0, 22, 36, 89, 128, 171, \n",
      "0, 1, 10, 22, 27, 86, 89, 138, \n",
      "0, 5, 9, 22, 23, 27, 88, 89, \n",
      "0, 22, 86, 104, 166, 172, \n",
      "0, 22, 27, 48, 86, 88, \n"
     ]
    }
   ],
   "source": [
    "for i in indexes:\n",
    "    for j in i:\n",
    "        print(j, end=\", \")\n",
    "    print()"
   ]
  },
  {
   "cell_type": "code",
   "execution_count": 39,
   "metadata": {},
   "outputs": [],
   "source": [
    "mdl = Ridge(alpha=1, normalize=True)"
   ]
  },
  {
   "cell_type": "code",
   "execution_count": 49,
   "metadata": {},
   "outputs": [
    {
     "name": "stdout",
     "output_type": "stream",
     "text": [
      "MSE =  996.0187005396295 , MAE =  21.994177785610834\n",
      "MSE =  1010.7035547383311 , MAE =  22.13826366746418\n",
      "MSE =  990.583129872732 , MAE =  21.840728504000744\n",
      "MSE =  1022.2796736479286 , MAE =  22.36022420854008\n",
      "MSE =  1028.0909350630027 , MAE =  22.286341328735347\n",
      "MSE =  1010.1042452614804 , MAE =  22.11249940531629\n",
      "MSE =  1028.6022267707376 , MAE =  22.299170349018706\n",
      "MSE =  995.8941389810318 , MAE =  22.11851124064241\n",
      "MSE =  1059.8990976731704 , MAE =  22.788283250081747\n",
      "MSE =  1006.9254366601144 , MAE =  22.020279928305847\n",
      "MSE =  1030.262058290726 , MAE =  22.307117424843035\n",
      "MSE =  1019.8954602947807 , MAE =  22.253815594695364\n",
      "MSE =  982.9420866178173 , MAE =  21.614320433766736\n",
      "MSE =  1032.7454640636763 , MAE =  22.392934379108986\n",
      "MSE =  1020.2432552149726 , MAE =  22.270786793599715\n",
      "MSE =  993.3841433483811 , MAE =  21.935058395472748\n",
      "MSE =  1031.53835917355 , MAE =  22.207066494488384\n",
      "MSE =  1015.2349014549181 , MAE =  22.159627026055546\n",
      "MSE =  1023.3581781254762 , MAE =  22.430347402996397\n",
      "MSE =  1006.9468277503648 , MAE =  21.99223063265\n"
     ]
    }
   ],
   "source": [
    "for i in indexes:\n",
    "    ans = []\n",
    "    ind = [j for j in i]\n",
    "    for train_index, test_index in KFold(50).split(X[:,i]):\n",
    "        \n",
    "        X_train = X[train_index,:]\n",
    "        X_train = X_train[:,ind]\n",
    "        y_train = y[train_index,0]\n",
    "\n",
    "        X_test = X[test_index, :]\n",
    "        X_test = X_test[:,ind]\n",
    "        y_test = y[test_index,0]\n",
    "\n",
    "        mdl.fit(X_train, y_train)\n",
    "        for i in mdl.predict(X_test):\n",
    "            ans.append(i)\n",
    "    print(\"MSE = \", MSE(ans,y[:,0]), \", MAE = \", MAE(ans,y[:,0]))"
   ]
  },
  {
   "cell_type": "code",
   "execution_count": null,
   "metadata": {},
   "outputs": [],
   "source": []
  },
  {
   "cell_type": "code",
   "execution_count": null,
   "metadata": {},
   "outputs": [],
   "source": []
  },
  {
   "cell_type": "code",
   "execution_count": null,
   "metadata": {},
   "outputs": [],
   "source": []
  },
  {
   "cell_type": "code",
   "execution_count": 294,
   "metadata": {},
   "outputs": [],
   "source": [
    "def plot_answer(ans, true):\n",
    "    \n",
    "    x = [i for i in range(len(ans))]\n",
    "    \n",
    "    fig = plt.figure(figsize=(17,10))\n",
    "    ax = fig.add_subplot(1, 1, 1)\n",
    "    ax.legend()\n",
    "    \n",
    "    ax.scatter(x, ans, alpha=0.8, c=\"blue\", label=\"Answer\")\n",
    "    ax.scatter(x, true, alpha=0.8, c=\"red\", label=\"True\")\n",
    "    ax.legend(loc='upper left', fontsize=20)\n",
    "    \n",
    "    \n",
    "    plt.show()"
   ]
  },
  {
   "cell_type": "code",
   "execution_count": 323,
   "metadata": {},
   "outputs": [
    {
     "name": "stderr",
     "output_type": "stream",
     "text": [
      "No handles with labels found to put in legend.\n"
     ]
    },
    {
     "data": {
      "image/png": "[encoded data removed]",
      "text/plain": [
       "<Figure size 1224x720 with 1 Axes>"
      ]
     },
     "metadata": {
      "needs_background": "light"
     },
     "output_type": "display_data"
    }
   ],
   "source": [
    "plot_answer(ans, y[:,0])"
   ]
  },
  {
   "cell_type": "code",
   "execution_count": 228,
   "metadata": {},
   "outputs": [
    {
     "data": {
      "text/plain": [
       "[-11.608766972100653,\n",
       " -2.5384544721006534,\n",
       " -2.5384544721006534,\n",
       " -6.6361107221006534,\n",
       " -2.0306419721006534,\n",
       " -9.784548222100653,\n",
       " 20.684201777899347,\n",
       " -24.983766972100653,\n",
       " 11.172483027899347,\n",
       " -19.550173222100653,\n",
       " 277078467719478.34,\n",
       " 387649059867947.9,\n",
       " 20.85926892778994,\n",
       " -4.265731072210059,\n",
       " 33.98426892778994,\n",
       " 86.10926892778994,\n",
       " 91.67176892778994,\n",
       " -40.76573107221006,\n",
       " 46.35926892778994,\n",
       " 67.10926892778994,\n",
       " 10.967685776805247,\n",
       " 1195029525490941.2,\n",
       " 37.24893577680525,\n",
       " 36.57706077680525,\n",
       " 1147832596426262.2,\n",
       " 14.936435776805247,\n",
       " 38.13956077680525,\n",
       " 44.67081077680525,\n",
       " 37.24893577680525,\n",
       " 4.561435776805247,\n",
       " -1.0803722100656472,\n",
       " 48.85712778993435,\n",
       " 70.95087778993435,\n",
       " 10.075877789934353,\n",
       " 3.513377789934353,\n",
       " -7.111622210065647,\n",
       " -0.8616222100656472,\n",
       " 12.325877789934353,\n",
       " 16.669627789934353,\n",
       " 13.107127789934353,\n",
       " 4.313208205689278,\n",
       " 16.75070820568928,\n",
       " -5.499291794310722,\n",
       " -2.4055417943107216,\n",
       " 169228648083079.6,\n",
       " 3.8600832056892784,\n",
       " -11.889916794310722,\n",
       " -1.1399167943107216,\n",
       " 6.110083205689278,\n",
       " 2.4850832056892784,\n",
       " 10.706747934901529,\n",
       " 19.68965809115153,\n",
       " 10.609091684901529,\n",
       " 16.09908191927653,\n",
       " 23.74312488802653,\n",
       " 6.512167856776529,\n",
       " 6.706259653651529,\n",
       " -9.865517690098471,\n",
       " -1.7671290182234713,\n",
       " 20.60689441927653,\n",
       " 16.430516055798684,\n",
       " 43.828953555798684,\n",
       " -2.307765194201316,\n",
       " 7.266453555798684,\n",
       " -11.842921444201316,\n",
       " 4.004734805798684,\n",
       " 60.797703555798684,\n",
       " -8.335108944201316,\n",
       " 16.024266055798684,\n",
       " -34.483546444201316,\n",
       " -25.375340754923414,\n",
       " 4.046534245076586,\n",
       " 12.640284245076586,\n",
       " 7.827784245076586,\n",
       " 10.640284245076586,\n",
       " -1.328465754923414,\n",
       " 18.859034245076586,\n",
       " -3.140965754923414,\n",
       " 6.890284245076586,\n",
       " 10.140284245076586,\n",
       " 2.4109865153172834,\n",
       " -5.689599422182717,\n",
       " -3.8634275471827166,\n",
       " -11.866357234682717,\n",
       " -2.1368650471827166,\n",
       " 14.411963077817283,\n",
       " 8.579931827817283,\n",
       " 25.057470890317283,\n",
       " 29.382666202817283,\n",
       " 5.477392765317283,\n",
       " 16.027778449808537,\n",
       " 3.7943800123085367,\n",
       " 6.717231574808537,\n",
       " 20.826606574808537,\n",
       " -2.6177293626914633,\n",
       " -8.613823112691463,\n",
       " -6.148979362691463,\n",
       " -10.876518425191463,\n",
       " -9.496635612691463,\n",
       " -15.996635612691463,\n",
       " 2.4227291985776773,\n",
       " 9.989135448577677,\n",
       " 17.231322948577677,\n",
       " 2.0418698235776773,\n",
       " 25.536010448577677,\n",
       " 10.391479198577677,\n",
       " -1249788983764.7961,\n",
       " -2.5968020514223227,\n",
       " 0.2899166985776773,\n",
       " 4.582885448577677,\n",
       " 12.328890645514221,\n",
       " -1696422383217.9446,\n",
       " -9.800015604485779,\n",
       " -14.557828104485779,\n",
       " 46.18826564551422,\n",
       " -7.315640604485779,\n",
       " 56.28982814551422,\n",
       " 146.8171718955142,\n",
       " 1728988538818504.2,\n",
       " -7.315640604485779,\n",
       " 17.10643731537199,\n",
       " 12.674796690371991,\n",
       " -8.836922059628009,\n",
       " 56.13573419037199,\n",
       " 40.97753106537199,\n",
       " 50.63964044037199,\n",
       " 57716050455744.15,\n",
       " 27.33299981537199,\n",
       " 27.76073419037199,\n",
       " 0.5888591903719913,\n",
       " -2.0692336706783365,\n",
       " 44.60654757932166,\n",
       " 25.450297579321663,\n",
       " 38429306289683.19,\n",
       " 64.74717257932167,\n",
       " 12.934672579321663,\n",
       " 22.241313204321663,\n",
       " -15.434468045678337,\n",
       " -13.684468045678337,\n",
       " 32.99131320432166,\n",
       " 5.374180579868707,\n",
       " 10.846836829868707,\n",
       " -12.032069420131293,\n",
       " 10.491368079868707,\n",
       " 35.38199307986871,\n",
       " -0.024256920131293214,\n",
       " 8.460118079868707,\n",
       " 32.98355557986871,\n",
       " -1.6687881701312932,\n",
       " -0.8289444201312932,\n",
       " 64.14479463894968,\n",
       " 61.457294638949676,\n",
       " 69.08229463894968,\n",
       " 27.582294638949673,\n",
       " 52.847919638949676,\n",
       " 50.066669638949676,\n",
       " 57.691669638949676,\n",
       " 71.64479463894968,\n",
       " 78.70729463894968,\n",
       " 16.207294638949673,\n",
       " 54.79576550875274,\n",
       " -2.329234491247263,\n",
       " 2.164906133752737,\n",
       " -5.819468866247263,\n",
       " 48.83482800875274,\n",
       " 36.83824597750274,\n",
       " 85534877185851.23,\n",
       " 48.58873425875274,\n",
       " -29.739390741247263,\n",
       " -41.73548449124726,\n",
       " -194493784384317.72,\n",
       " -15.716745851528387,\n",
       " -5091723991293240.0,\n",
       " 3804836235307386.5,\n",
       " 20.853566648471613,\n",
       " 17.916066648471613,\n",
       " 10.587941648471613,\n",
       " 25.650441648471613,\n",
       " 30.962941648471613,\n",
       " 26.980199563318777,\n",
       " 9.034887063318777,\n",
       " 19.152074563318777,\n",
       " 15.198949563318777,\n",
       " 26.816137063318777,\n",
       " 4.128637063318777,\n",
       " 21.695043313318777,\n",
       " 17.183324563318777,\n",
       " 6.253637063318777,\n",
       " -21.64321924126638,\n",
       " 0.22592138373362047,\n",
       " 8.97103857123362,\n",
       " 12.21224950873362,\n",
       " 5.0325620087336205,\n",
       " 3.2054135712336205,\n",
       " 8.96810888373362,\n",
       " 4.7571713837336205,\n",
       " 17.71713232123362,\n",
       " 13.50185322052402,\n",
       " 16.59560322052402,\n",
       " 4.249900095524019,\n",
       " 5.072165720524019,\n",
       " 33.91982197052402,\n",
       " 4.616599314274019,\n",
       " 8.11415790802402,\n",
       " -6.132912404475981,\n",
       " 16.31264423614902,\n",
       " -7.796257638509829,\n",
       " -6.999382638509829,\n",
       " -2.658074044759829,\n",
       " 4.741340017740171,\n",
       " -0.18151154475982878,\n",
       " 2.634894705240171,\n",
       " -9.606804513509829,\n",
       " -9.092644357259829,\n",
       " 13.517218923990171,\n",
       " 21.159406304585154,\n",
       " 14.100812554585154,\n",
       " 5.303937554585154,\n",
       " 2.850812554585154,\n",
       " 11.413312554585154,\n",
       " 9.928937554585154,\n",
       " 3.425031304585154,\n",
       " -5.367937445414846,\n",
       " -7.801531195414846,\n",
       " 8.190124781659392,\n",
       " 0.7526247816593923,\n",
       " 23.041687281659392,\n",
       " 14.424499781659392,\n",
       " 15.635437281659392,\n",
       " 25.979187281659392,\n",
       " 18.565124781659392,\n",
       " 13.041687281659392,\n",
       " 15.151062281659392,\n",
       " 8.797738864628826,\n",
       " 16.000863864628826,\n",
       " 12.844613864628826,\n",
       " 28.196176364628826,\n",
       " 22.883676364628826,\n",
       " 23.758676364628826,\n",
       " 14.094613864628826,\n",
       " 14.743051364628826,\n",
       " 12.258676364628826,\n",
       " 1.7970870496724913,\n",
       " 3.0548995496724913,\n",
       " 12.461149549672491,\n",
       " 7.875212049672491,\n",
       " 11.047087049672491,\n",
       " 1.0548995496724913,\n",
       " -9.866975450327509,\n",
       " -8.179475450327509,\n",
       " -1.4372879503275087,\n",
       " 9.369763155021836,\n",
       " 3.744763155021836,\n",
       " 4.651013155021836,\n",
       " -5.630236844978164,\n",
       " -2.958361844978164,\n",
       " 15.791638155021836,\n",
       " 2.744763155021836,\n",
       " 30.557263155021836,\n",
       " 7.197888155021836,\n",
       " 28.16670174672489,\n",
       " 18.46357674672489,\n",
       " 43.26045174672489,\n",
       " 33.58857674672489,\n",
       " 22.47920174672489,\n",
       " 13.16670174672489,\n",
       " 24.66670174672489,\n",
       " 15.35420174672489,\n",
       " 40.72920174672489,\n",
       " 3.335569650655021,\n",
       " 20.77306965065502,\n",
       " 20.83556965065502,\n",
       " 19.02306965065502,\n",
       " 18.89806965065502,\n",
       " 25.39806965065502,\n",
       " 43.14806965065502,\n",
       " 4.648069650655021,\n",
       " 14.773069650655021,\n",
       " 8.662772270742359,\n",
       " 16.28777227074236,\n",
       " 1.2877722707423587,\n",
       " 17.85027227074236,\n",
       " 26.97527227074236,\n",
       " 21.47527227074236,\n",
       " -1.1497277292576413,\n",
       " -1.0247277292576413,\n",
       " 51.78777227074236,\n",
       " 6.468610152838423,\n",
       " 6.452985152838423,\n",
       " -3.5001398471615772,\n",
       " -9.000139847161577,\n",
       " 21.687360152838423,\n",
       " 5.249860152838423,\n",
       " 20.312360152838423,\n",
       " 6.031110152838423,\n",
       " 20.577985152838423,\n",
       " 7.258677729257641,\n",
       " 15.133677729257641,\n",
       " -2.7413222707423586,\n",
       " 77.63367772925764,\n",
       " 15.383677729257641,\n",
       " 19.63367772925764,\n",
       " -11.366322270742359,\n",
       " -12.491322270742359,\n",
       " 35.38367772925764,\n",
       " 15.903976582969435,\n",
       " 26.153976582969435,\n",
       " 20.028976582969435,\n",
       " 22.966476582969435,\n",
       " 39.466476582969435,\n",
       " 22.997726582969435,\n",
       " 27.372726582969435,\n",
       " 19.466476582969435,\n",
       " 35.841476582969435,\n",
       " -18.023619486899563,\n",
       " 11.398255513100437,\n",
       " 110.44513051310044,\n",
       " 761687784605675.8,\n",
       " 46.33575551310044,\n",
       " 53.89825551310044,\n",
       " 59.57013051310044,\n",
       " 52.89825551310044,\n",
       " 42.83575551310044,\n",
       " 29.361875764192142,\n",
       " 11572549392018.518,\n",
       " -48.98187423580786,\n",
       " -10.044374235807858,\n",
       " 2.549375764192142,\n",
       " 4.049375764192142,\n",
       " 69.29937576419215,\n",
       " 94.42437576419215,\n",
       " 116.01812576419215,\n",
       " 12799657874330.234,\n",
       " -927604375243056.9,\n",
       " 12799657874374.422,\n",
       " 12799657874371.61,\n",
       " 12799657874374.734,\n",
       " 12799657874376.984,\n",
       " -323947056333055.6,\n",
       " -7560002406219497.0,\n",
       " 12799657874343.922,\n",
       " 4.350654885371178,\n",
       " -14.137626364628822,\n",
       " -9.914970114628822,\n",
       " 1.9756548853711777,\n",
       " -25.075126364628822,\n",
       " -7.196220114628822,\n",
       " 13.499092385371178,\n",
       " 7.678779885371178,\n",
       " 146.61237363537117,\n",
       " 49687167792295.78,\n",
       " -40.43115605895196,\n",
       " -62.05615605895196,\n",
       " -21.353031058951963,\n",
       " -54.98974980895196,\n",
       " -42.98584355895196,\n",
       " -48.98193730895196,\n",
       " -48.98193730895196,\n",
       " 19.818843941048037,\n",
       " 15.98848886462882,\n",
       " -42.01151113537118,\n",
       " 32.98848886462882,\n",
       " 32.95723886462882,\n",
       " 2061555091418443.8,\n",
       " -33.63651113537118,\n",
       " 36.30098886462882,\n",
       " 7.30098886462882,\n",
       " 19.67598886462882,\n",
       " 16.21323504366812,\n",
       " -25.90004620633188,\n",
       " 8.55356707491812,\n",
       " 0.13657488741812074,\n",
       " 22.30454363741812,\n",
       " 8.51596941866812,\n",
       " 8.21714129366812,\n",
       " 4.826516293668121,\n",
       " -6.733542300081879,\n",
       " -4.224664792576419,\n",
       " -3.3184147925764194,\n",
       " -15.31841479257642,\n",
       " 11.43939770742358,\n",
       " 1.9472102074235806,\n",
       " -10.08403979257642,\n",
       " 119426641135323.45,\n",
       " 119426641135311.5,\n",
       " 18.90033520742358,\n",
       " 8.338358569868994,\n",
       " 10.986796069868994,\n",
       " -0.49757893013100585,\n",
       " 10.924296069868994,\n",
       " -0.48195393013100585,\n",
       " -2.981953930131006,\n",
       " 13.924296069868994,\n",
       " 2.346171069868994,\n",
       " -1.3257039301310058,\n",
       " -16.38305270537664,\n",
       " -3.9274862991266417,\n",
       " -15.949947236626642,\n",
       " 17.26782620087336,\n",
       " -0.6306112991266417,\n",
       " 6.666263700873358,\n",
       " -5.380611299126642,\n",
       " 5.385013700873358,\n",
       " 15.377201200873358,\n",
       " 5.33978891239083,\n",
       " 5.84955453739083,\n",
       " 3.48432016239083,\n",
       " 18161210710916.78,\n",
       " 15179096328782.8,\n",
       " 145161868097765.88,\n",
       " 0.028265474890829978,\n",
       " 4.32514047489083,\n",
       " 15.28607797489083,\n",
       " 0.045547884825325013,\n",
       " 8.973282259825325,\n",
       " 15.070938509825325,\n",
       " 5.692032259825325,\n",
       " -9.706405240174675,\n",
       " 74342998922700.69,\n",
       " 53.871719759825325,\n",
       " 20.184219759825325,\n",
       " 12.785782259825325,\n",
       " 0.3685509893558958,\n",
       " 1.9701134893558958,\n",
       " 15.577535364355896,\n",
       " -9.078714635644104,\n",
       " -4.307230260644104,\n",
       " 22837298619132.43,\n",
       " 56.431050989355896,\n",
       " 35.048238489355896,\n",
       " -23.020120885644104,\n",
       " 11.79952598253275,\n",
       " -7.137974017467251,\n",
       " 10.67452598253275,\n",
       " -8.26297401746725,\n",
       " -11.20047401746725,\n",
       " -8.20047401746725,\n",
       " 456820108435353.25,\n",
       " -2.8254740174672506,\n",
       " -22.51297401746725,\n",
       " -17.70626441048035,\n",
       " -6.925014410480351,\n",
       " -24.67501441048035,\n",
       " 271243764033365.84,\n",
       " 4.887485589519649,\n",
       " -13.034389410480351,\n",
       " 13.418735589519649,\n",
       " 22.73123558951965,\n",
       " 110.68436058951966,\n",
       " -2839989906900.61,\n",
       " 5679979814027.922,\n",
       " 5679979814030.672,\n",
       " 2839989907060.015,\n",
       " 2839989907062.7964,\n",
       " 2839989907056.015,\n",
       " 2839989907026.2026,\n",
       " 2839989907019.156,\n",
       " 2839989907044.7026,\n",
       " 29.244534989082972,\n",
       " 21.182034989082972,\n",
       " 17.486722489082972,\n",
       " 9.424222489082972,\n",
       " 23.432034989082972,\n",
       " 11.674222489082972,\n",
       " 17.853909989082972,\n",
       " 6.142972489082972,\n",
       " 17.283597489082972]"
      ]
     },
     "execution_count": 228,
     "metadata": {},
     "output_type": "execute_result"
    }
   ],
   "source": [
    "ans"
   ]
  },
  {
   "cell_type": "code",
   "execution_count": null,
   "metadata": {},
   "outputs": [],
   "source": []
  },
  {
   "cell_type": "code",
   "execution_count": null,
   "metadata": {},
   "outputs": [],
   "source": []
  }
 ],
 "metadata": {
  "kernelspec": {
   "display_name": "Python 3",
   "language": "python",
   "name": "python3"
  },
  "language_info": {
   "codemirror_mode": {
    "name": "ipython",
    "version": 3
   },
   "file_extension": ".py",
   "mimetype": "text/x-python",
   "name": "python",
   "nbconvert_exporter": "python",
   "pygments_lexer": "ipython3",
   "version": "3.7.6"
  }
 },
 "nbformat": 4,
 "nbformat_minor": 4
}
