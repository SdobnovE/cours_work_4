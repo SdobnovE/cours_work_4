{
 "cells": [
  {
   "cell_type": "code",
   "execution_count": 1,
   "metadata": {},
   "outputs": [],
   "source": [
    "import pandas as pd\n",
    "import numpy as np\n",
    "import matplotlib.pyplot as plt\n",
    "import re\n",
    "import ast\n",
    "from mgua import *\n",
    "from sklearn.linear_model import Ridge\n",
    "from sklearn.linear_model import Lasso\n",
    "from sklearn.linear_model import LinearRegression\n",
    "from sklearn.model_selection import KFold\n",
    "from sklearn.manifold import TSNE\n",
    "\n",
    "\n",
    "import random as rnd\n",
    "from sklearn.metrics import mean_absolute_error as MAE\n",
    "from sklearn.metrics import mean_squared_error as MSE\n",
    "from sklearn.ensemble import RandomForestRegressor\n",
    "from sklearn.decomposition import PCA\n",
    "from sklearn.metrics import silhouette_score\n",
    "from sklearn.cluster import DBSCAN\n",
    "from sklearn.cluster import AgglomerativeClustering\n",
    "from scipy.cluster.hierarchy import dendrogram\n",
    "from sklearn.ensemble import GradientBoostingRegressor\n",
    "from sklearn.feature_extraction.text import TfidfVectorizer\n",
    "from sklearn.feature_extraction.text import TfidfTransformer"
   ]
  },
  {
   "cell_type": "code",
   "execution_count": 2,
   "metadata": {},
   "outputs": [],
   "source": [
    "\n",
    "# БЕЗ ВКЛЮЧЕННЫХ МАРКЕРОВ"
   ]
  },
  {
   "cell_type": "code",
   "execution_count": 3,
   "metadata": {},
   "outputs": [
    {
     "data": {
      "text/plain": [
       "((467, 11), (467, 29), (467, 53), (467, 89))"
      ]
     },
     "execution_count": 3,
     "metadata": {},
     "output_type": "execute_result"
    }
   ],
   "source": [
    "tab1 = pd.read_csv(\"data_varvara/cox2/cox2_matrix_alphabet_NN***_UpTo2chains.csv\")\n",
    "tab2 = pd.read_csv(\"data_varvara/cox2/cox2_matrix_alphabet_NN***_UpTo3chains.csv\")\n",
    "tab3 = pd.read_csv(\"data_varvara/cox2/cox2_matrix_alphabet_NN***_UpTo4chains.csv\")\n",
    "tab4 = pd.read_csv(\"data_varvara/cox2/cox2_matrix_alphabet_NN***_UpTo5chains.csv\")\n",
    "\n",
    "tab1.shape, tab2.shape, tab3.shape, tab4.shape"
   ]
  },
  {
   "cell_type": "code",
   "execution_count": 4,
   "metadata": {},
   "outputs": [],
   "source": [
    "tab1[\"key\"] = [i for i in range(tab1.shape[0])]\n",
    "tab2[\"key\"] = [i for i in range(tab2.shape[0])]\n",
    "tab3[\"key\"] = [i for i in range(tab3.shape[0])]\n",
    "tab4[\"key\"] = [i for i in range(tab4.shape[0])]"
   ]
  },
  {
   "cell_type": "code",
   "execution_count": 5,
   "metadata": {
    "scrolled": true
   },
   "outputs": [],
   "source": [
    "tab = pd.merge(tab1, tab2, left_on=\"key\", right_on=\"key\", how=\"inner\")\n",
    "tab = pd.merge(tab, tab3, left_on=\"key\", right_on=\"key\", how=\"inner\")\n",
    "tab = pd.merge(tab, tab4, left_on=\"key\", right_on=\"key\", how=\"inner\")"
   ]
  },
  {
   "cell_type": "code",
   "execution_count": 6,
   "metadata": {},
   "outputs": [
    {
     "name": "stdout",
     "output_type": "stream",
     "text": [
      "Br***C***; C***C***; C***Cl***; C***F***; C***N***; C***O***; C***S***; N***N***; N***O***; N***S***; O***S***; key; Br***C***C***; Br***C***S***; C***C***C***; C***C***Cl***; C***C***F***; C***C***N***; C***C***O***; C***C***S***; C***N***C***; C***N***N***; C***N***O***; C***N***S***; C***O***C***; C***O***N***; C***S***C***; C***S***N***; C***S***O***; Cl***C***S***; F***C***F***; F***C***O***; F***C***S***; N***C***N***; N***C***O***; N***C***S***; N***S***O***; O***C***O***; O***C***S***; O***N***O***; O***S***O***; Br***C***C***C***; Br***C***C***N***; Br***C***C***O***; Br***C***C***S***; Br***C***S***C***; C***C***C***C***; C***C***C***Cl***; C***C***C***F***; C***C***C***N***; C***C***C***O***; C***C***C***S***; C***C***N***C***; C***C***N***N***; C***C***N***O***; C***C***N***S***; C***C***O***C***; C***C***O***N***; C***C***S***C***; C***C***S***N***; C***C***S***O***; C***N***C***N***; C***N***C***O***; C***N***C***S***; C***N***N***C***; C***N***O***C***; C***N***S***C***; C***N***S***O***; C***O***C***F***; C***O***C***N***; C***O***C***O***; C***O***C***S***; C***S***C***Cl***; C***S***C***F***; C***S***C***N***; C***S***C***O***; Cl***C***C***Cl***; Cl***C***C***F***; Cl***C***C***N***; Cl***C***C***O***; Cl***C***C***S***; F***C***C***F***; F***C***C***N***; F***C***C***O***; F***C***C***S***; F***C***S***O***; N***C***C***N***; N***C***C***O***; N***C***C***S***; N***N***C***O***; N***O***C***O***; O***C***C***O***; O***C***C***S***; S***C***C***S***; Br***C***C***C***Br***; Br***C***C***C***C***; Br***C***C***C***N***; Br***C***C***C***S***; Br***C***C***N***C***; Br***C***C***N***N***; Br***C***C***O***C***; Br***C***C***S***C***; Br***C***S***C***C***; C***C***C***C***C***; C***C***C***C***Cl***; C***C***C***C***F***; C***C***C***C***N***; C***C***C***C***O***; C***C***C***C***S***; C***C***C***N***C***; C***C***C***N***N***; C***C***C***N***O***; C***C***C***N***S***; C***C***C***O***C***; C***C***C***O***N***; C***C***C***S***C***; C***C***C***S***N***; C***C***C***S***O***; C***C***N***C***C***; C***C***N***C***N***; C***C***N***C***O***; C***C***N***C***S***; C***C***N***N***C***; C***C***N***O***C***; C***C***N***S***C***; C***C***N***S***O***; C***C***O***C***C***; C***C***O***C***F***; C***C***O***C***N***; C***C***O***C***O***; C***C***O***C***S***; C***C***O***N***C***; C***C***S***C***C***; C***C***S***C***Cl***; C***C***S***C***F***; C***C***S***C***N***; C***C***S***C***O***; C***C***S***N***C***; C***N***C***C***Cl***; C***N***C***C***F***; C***N***C***C***N***; C***N***C***C***O***; C***N***C***C***S***; C***N***C***N***C***; C***N***C***O***C***; C***N***C***S***C***; C***N***N***C***O***; C***N***O***C***O***; C***O***C***C***Cl***; C***O***C***C***F***; C***O***C***C***N***; C***O***C***C***O***; C***O***C***C***S***; C***O***C***N***N***; C***O***C***O***C***; C***O***C***S***C***; C***S***C***C***Cl***; C***S***C***C***F***; C***S***C***C***N***; C***S***C***C***O***; C***S***C***C***S***; Cl***C***C***C***Cl***; Cl***C***C***C***F***; Cl***C***C***C***N***; Cl***C***C***C***O***; Cl***C***C***C***S***; Cl***C***C***N***N***; Cl***C***C***S***O***; F***C***C***C***F***; F***C***C***C***N***; F***C***C***C***O***; F***C***C***N***N***; N***C***C***C***N***; N***C***C***C***O***; N***C***C***C***S***; N***C***C***N***N***; N***C***C***N***O***; N***C***C***O***N***; N***C***C***S***O***; N***N***C***C***O***; N***N***C***C***S***; N***O***C***C***O***; S***C***C***C***S***; "
     ]
    }
   ],
   "source": [
    "for i in tab.keys():\n",
    "    print(i+\"; \",end=\"\")"
   ]
  },
  {
   "cell_type": "code",
   "execution_count": 7,
   "metadata": {},
   "outputs": [
    {
     "data": {
      "text/plain": [
       "(467, 182)"
      ]
     },
     "execution_count": 7,
     "metadata": {},
     "output_type": "execute_result"
    }
   ],
   "source": [
    "tab = tab.drop(\"key\",axis=1)\n",
    "tab.shape"
   ]
  },
  {
   "cell_type": "code",
   "execution_count": 8,
   "metadata": {},
   "outputs": [
    {
     "data": {
      "text/html": [
       "<div>\n",
       "<style scoped>\n",
       "    .dataframe tbody tr th:only-of-type {\n",
       "        vertical-align: middle;\n",
       "    }\n",
       "\n",
       "    .dataframe tbody tr th {\n",
       "        vertical-align: top;\n",
       "    }\n",
       "\n",
       "    .dataframe thead th {\n",
       "        text-align: right;\n",
       "    }\n",
       "</style>\n",
       "<table border=\"1\" class=\"dataframe\">\n",
       "  <thead>\n",
       "    <tr style=\"text-align: right;\">\n",
       "      <th></th>\n",
       "      <th>Br***C***</th>\n",
       "      <th>C***C***</th>\n",
       "      <th>C***Cl***</th>\n",
       "      <th>C***F***</th>\n",
       "      <th>C***N***</th>\n",
       "      <th>C***O***</th>\n",
       "      <th>C***S***</th>\n",
       "      <th>N***N***</th>\n",
       "      <th>N***O***</th>\n",
       "      <th>N***S***</th>\n",
       "      <th>...</th>\n",
       "      <th>N***C***C***C***O***</th>\n",
       "      <th>N***C***C***C***S***</th>\n",
       "      <th>N***C***C***N***N***</th>\n",
       "      <th>N***C***C***N***O***</th>\n",
       "      <th>N***C***C***O***N***</th>\n",
       "      <th>N***C***C***S***O***</th>\n",
       "      <th>N***N***C***C***O***</th>\n",
       "      <th>N***N***C***C***S***</th>\n",
       "      <th>N***O***C***C***O***</th>\n",
       "      <th>S***C***C***C***S***</th>\n",
       "    </tr>\n",
       "  </thead>\n",
       "  <tbody>\n",
       "    <tr>\n",
       "      <th>0</th>\n",
       "      <td>0.0</td>\n",
       "      <td>17.0</td>\n",
       "      <td>0.0</td>\n",
       "      <td>1.0</td>\n",
       "      <td>3.0</td>\n",
       "      <td>0.0</td>\n",
       "      <td>2.0</td>\n",
       "      <td>0.0</td>\n",
       "      <td>0.0</td>\n",
       "      <td>0.0</td>\n",
       "      <td>...</td>\n",
       "      <td>0.0</td>\n",
       "      <td>0.0</td>\n",
       "      <td>0.0</td>\n",
       "      <td>0.0</td>\n",
       "      <td>0.0</td>\n",
       "      <td>0.0</td>\n",
       "      <td>0.0</td>\n",
       "      <td>0.0</td>\n",
       "      <td>0.0</td>\n",
       "      <td>0.0</td>\n",
       "    </tr>\n",
       "    <tr>\n",
       "      <th>1</th>\n",
       "      <td>0.0</td>\n",
       "      <td>16.0</td>\n",
       "      <td>0.0</td>\n",
       "      <td>1.0</td>\n",
       "      <td>3.0</td>\n",
       "      <td>0.0</td>\n",
       "      <td>2.0</td>\n",
       "      <td>0.0</td>\n",
       "      <td>0.0</td>\n",
       "      <td>0.0</td>\n",
       "      <td>...</td>\n",
       "      <td>0.0</td>\n",
       "      <td>0.0</td>\n",
       "      <td>0.0</td>\n",
       "      <td>0.0</td>\n",
       "      <td>0.0</td>\n",
       "      <td>0.0</td>\n",
       "      <td>0.0</td>\n",
       "      <td>0.0</td>\n",
       "      <td>0.0</td>\n",
       "      <td>0.0</td>\n",
       "    </tr>\n",
       "    <tr>\n",
       "      <th>2</th>\n",
       "      <td>0.0</td>\n",
       "      <td>16.0</td>\n",
       "      <td>0.0</td>\n",
       "      <td>1.0</td>\n",
       "      <td>3.0</td>\n",
       "      <td>0.0</td>\n",
       "      <td>2.0</td>\n",
       "      <td>0.0</td>\n",
       "      <td>0.0</td>\n",
       "      <td>0.0</td>\n",
       "      <td>...</td>\n",
       "      <td>0.0</td>\n",
       "      <td>0.0</td>\n",
       "      <td>0.0</td>\n",
       "      <td>0.0</td>\n",
       "      <td>0.0</td>\n",
       "      <td>0.0</td>\n",
       "      <td>0.0</td>\n",
       "      <td>0.0</td>\n",
       "      <td>0.0</td>\n",
       "      <td>0.0</td>\n",
       "    </tr>\n",
       "    <tr>\n",
       "      <th>3</th>\n",
       "      <td>0.0</td>\n",
       "      <td>17.0</td>\n",
       "      <td>0.0</td>\n",
       "      <td>0.0</td>\n",
       "      <td>3.0</td>\n",
       "      <td>0.0</td>\n",
       "      <td>2.0</td>\n",
       "      <td>0.0</td>\n",
       "      <td>0.0</td>\n",
       "      <td>0.0</td>\n",
       "      <td>...</td>\n",
       "      <td>0.0</td>\n",
       "      <td>0.0</td>\n",
       "      <td>0.0</td>\n",
       "      <td>0.0</td>\n",
       "      <td>0.0</td>\n",
       "      <td>0.0</td>\n",
       "      <td>0.0</td>\n",
       "      <td>0.0</td>\n",
       "      <td>0.0</td>\n",
       "      <td>0.0</td>\n",
       "    </tr>\n",
       "    <tr>\n",
       "      <th>4</th>\n",
       "      <td>0.0</td>\n",
       "      <td>18.0</td>\n",
       "      <td>0.0</td>\n",
       "      <td>3.0</td>\n",
       "      <td>3.0</td>\n",
       "      <td>0.0</td>\n",
       "      <td>2.0</td>\n",
       "      <td>0.0</td>\n",
       "      <td>0.0</td>\n",
       "      <td>0.0</td>\n",
       "      <td>...</td>\n",
       "      <td>0.0</td>\n",
       "      <td>0.0</td>\n",
       "      <td>0.0</td>\n",
       "      <td>0.0</td>\n",
       "      <td>0.0</td>\n",
       "      <td>0.0</td>\n",
       "      <td>0.0</td>\n",
       "      <td>0.0</td>\n",
       "      <td>0.0</td>\n",
       "      <td>0.0</td>\n",
       "    </tr>\n",
       "  </tbody>\n",
       "</table>\n",
       "<p>5 rows × 182 columns</p>\n",
       "</div>"
      ],
      "text/plain": [
       "   Br***C***  C***C***  C***Cl***  C***F***  C***N***  C***O***  C***S***  \\\n",
       "0        0.0      17.0        0.0       1.0       3.0       0.0       2.0   \n",
       "1        0.0      16.0        0.0       1.0       3.0       0.0       2.0   \n",
       "2        0.0      16.0        0.0       1.0       3.0       0.0       2.0   \n",
       "3        0.0      17.0        0.0       0.0       3.0       0.0       2.0   \n",
       "4        0.0      18.0        0.0       3.0       3.0       0.0       2.0   \n",
       "\n",
       "   N***N***  N***O***  N***S***  ...  N***C***C***C***O***  \\\n",
       "0       0.0       0.0       0.0  ...                   0.0   \n",
       "1       0.0       0.0       0.0  ...                   0.0   \n",
       "2       0.0       0.0       0.0  ...                   0.0   \n",
       "3       0.0       0.0       0.0  ...                   0.0   \n",
       "4       0.0       0.0       0.0  ...                   0.0   \n",
       "\n",
       "   N***C***C***C***S***  N***C***C***N***N***  N***C***C***N***O***  \\\n",
       "0                   0.0                   0.0                   0.0   \n",
       "1                   0.0                   0.0                   0.0   \n",
       "2                   0.0                   0.0                   0.0   \n",
       "3                   0.0                   0.0                   0.0   \n",
       "4                   0.0                   0.0                   0.0   \n",
       "\n",
       "   N***C***C***O***N***  N***C***C***S***O***  N***N***C***C***O***  \\\n",
       "0                   0.0                   0.0                   0.0   \n",
       "1                   0.0                   0.0                   0.0   \n",
       "2                   0.0                   0.0                   0.0   \n",
       "3                   0.0                   0.0                   0.0   \n",
       "4                   0.0                   0.0                   0.0   \n",
       "\n",
       "   N***N***C***C***S***  N***O***C***C***O***  S***C***C***C***S***  \n",
       "0                   0.0                   0.0                   0.0  \n",
       "1                   0.0                   0.0                   0.0  \n",
       "2                   0.0                   0.0                   0.0  \n",
       "3                   0.0                   0.0                   0.0  \n",
       "4                   0.0                   0.0                   0.0  \n",
       "\n",
       "[5 rows x 182 columns]"
      ]
     },
     "execution_count": 8,
     "metadata": {},
     "output_type": "execute_result"
    }
   ],
   "source": [
    "tab.head()"
   ]
  },
  {
   "cell_type": "code",
   "execution_count": 9,
   "metadata": {},
   "outputs": [],
   "source": [
    "y = pd.read_csv(\"data_varvara/cox2/cox2_y.csv\")"
   ]
  },
  {
   "cell_type": "code",
   "execution_count": 10,
   "metadata": {},
   "outputs": [],
   "source": [
    "y = np.array(y)"
   ]
  },
  {
   "cell_type": "code",
   "execution_count": 11,
   "metadata": {},
   "outputs": [],
   "source": [
    "r = []\n",
    "for i in y:\n",
    "    s = i[0]\n",
    "    s = re.sub('inf', '1_000_000_000', str(s))\n",
    "    r.append(ast.literal_eval(s))"
   ]
  },
  {
   "cell_type": "code",
   "execution_count": 12,
   "metadata": {},
   "outputs": [],
   "source": [
    "y = np.array(r)\n",
    "for i in range(y.shape[0]):\n",
    "    if y[i,1] == 1_000_000_000:\n",
    "        y[i,1] = np.inf"
   ]
  },
  {
   "cell_type": "code",
   "execution_count": 13,
   "metadata": {},
   "outputs": [],
   "source": [
    "X = np.array(tab)"
   ]
  },
  {
   "cell_type": "code",
   "execution_count": 14,
   "metadata": {},
   "outputs": [],
   "source": [
    "rnd.seed(2)"
   ]
  },
  {
   "cell_type": "code",
   "execution_count": 15,
   "metadata": {},
   "outputs": [],
   "source": [
    "my_pca = PCA(2)"
   ]
  },
  {
   "cell_type": "code",
   "execution_count": 16,
   "metadata": {},
   "outputs": [],
   "source": [
    "X_pca = my_pca.fit_transform(X)"
   ]
  },
  {
   "cell_type": "code",
   "execution_count": 17,
   "metadata": {},
   "outputs": [
    {
     "data": {
      "text/plain": [
       "<matplotlib.collections.PathCollection at 0x7f7f7cefbdd0>"
      ]
     },
     "execution_count": 17,
     "metadata": {},
     "output_type": "execute_result"
    },
    {
     "data": {
      "image/png": "[encoded data removed]",
      "text/plain": [
       "<Figure size 432x288 with 1 Axes>"
      ]
     },
     "metadata": {
      "needs_background": "light"
     },
     "output_type": "display_data"
    }
   ],
   "source": [
    "plt.scatter(X_pca[:,0], X_pca[:,1])\n"
   ]
  },
  {
   "cell_type": "code",
   "execution_count": 18,
   "metadata": {},
   "outputs": [],
   "source": [
    "my_tsne = TSNE()\n",
    "X_tsne = my_tsne.fit_transform(X)"
   ]
  },
  {
   "cell_type": "code",
   "execution_count": 19,
   "metadata": {},
   "outputs": [
    {
     "data": {
      "text/plain": [
       "<matplotlib.collections.PathCollection at 0x7f7f7cefb0d0>"
      ]
     },
     "execution_count": 19,
     "metadata": {},
     "output_type": "execute_result"
    },
    {
     "data": {
      "image/png": "[encoded data removed]",
      "text/plain": [
       "<Figure size 432x288 with 1 Axes>"
      ]
     },
     "metadata": {
      "needs_background": "light"
     },
     "output_type": "display_data"
    }
   ],
   "source": [
    "plt.scatter(X_tsne[:, 0], X_tsne[:, 1])"
   ]
  },
  {
   "cell_type": "code",
   "execution_count": 205,
   "metadata": {},
   "outputs": [],
   "source": [
    "X_tf = TfidfTransformer().fit_transform(X)"
   ]
  },
  {
   "cell_type": "markdown",
   "metadata": {},
   "source": [
    "# AGGL 5 clust\n"
   ]
  },
  {
   "cell_type": "code",
   "execution_count": 123,
   "metadata": {},
   "outputs": [],
   "source": [
    "aggl = AgglomerativeClustering(n_clusters=5, linkage=\"complete\", affinity=\"manhattan\")\n",
    "# dbscan = DBSCAN(eps=0.04, min_samples=7, metric=\"cosine\""
   ]
  },
  {
   "cell_type": "code",
   "execution_count": 124,
   "metadata": {},
   "outputs": [],
   "source": [
    "# res = dbscan.fit_predict(X_tf)"
   ]
  },
  {
   "cell_type": "code",
   "execution_count": 125,
   "metadata": {},
   "outputs": [],
   "source": [
    "res = aggl.fit_predict(X_tsne)\n"
   ]
  },
  {
   "cell_type": "code",
   "execution_count": null,
   "metadata": {},
   "outputs": [],
   "source": []
  },
  {
   "cell_type": "code",
   "execution_count": null,
   "metadata": {},
   "outputs": [],
   "source": []
  },
  {
   "cell_type": "code",
   "execution_count": 126,
   "metadata": {},
   "outputs": [
    {
     "data": {
      "text/plain": [
       "<matplotlib.collections.PathCollection at 0x7f7f6dbd2ad0>"
      ]
     },
     "execution_count": 126,
     "metadata": {},
     "output_type": "execute_result"
    },
    {
     "data": {
      "image/png": "[encoded data removed]",
      "text/plain": [
       "<Figure size 432x288 with 1 Axes>"
      ]
     },
     "metadata": {
      "needs_background": "light"
     },
     "output_type": "display_data"
    }
   ],
   "source": [
    "plt.scatter(X_tsne[:, 0], X_tsne[:, 1], c=res, cmap=plt.cm.Paired)"
   ]
  },
  {
   "cell_type": "code",
   "execution_count": 127,
   "metadata": {},
   "outputs": [
    {
     "data": {
      "text/plain": [
       "<matplotlib.collections.PathCollection at 0x7f7f6db4ba50>"
      ]
     },
     "execution_count": 127,
     "metadata": {},
     "output_type": "execute_result"
    },
    {
     "data": {
      "image/png": "[encoded data removed]",
      "text/plain": [
       "<Figure size 432x288 with 1 Axes>"
      ]
     },
     "metadata": {
      "needs_background": "light"
     },
     "output_type": "display_data"
    }
   ],
   "source": [
    "plt.scatter(X_pca[:,0], X_pca[:,1], c=res, cmap=plt.cm.Paired)"
   ]
  },
  {
   "cell_type": "code",
   "execution_count": 128,
   "metadata": {},
   "outputs": [
    {
     "data": {
      "text/plain": [
       "0.41542619864469715"
      ]
     },
     "execution_count": 128,
     "metadata": {},
     "output_type": "execute_result"
    }
   ],
   "source": [
    "silhouette_score(X,res)"
   ]
  },
  {
   "cell_type": "code",
   "execution_count": 129,
   "metadata": {},
   "outputs": [],
   "source": [
    "cluster_structure = res"
   ]
  },
  {
   "cell_type": "code",
   "execution_count": 130,
   "metadata": {},
   "outputs": [],
   "source": [
    "mdl = Ridge(300)\n"
   ]
  },
  {
   "cell_type": "code",
   "execution_count": 131,
   "metadata": {},
   "outputs": [
    {
     "name": "stdout",
     "output_type": "stream",
     "text": [
      "Значения ошибок на 1-ом кластере размера 127\n",
      "\n",
      "MSE 581.2913\n",
      "\n",
      "MAE 13.1573\n",
      "\n",
      "\\(R^2\\) 0.0086\n",
      "\n",
      "\\bigskip\n",
      "\n",
      "Значения ошибок на 2-ом кластере размера 136\n",
      "\n",
      "MSE 867.9436\n",
      "\n",
      "MAE 18.7419\n",
      "\n",
      "\\(R^2\\) 0.0706\n",
      "\n",
      "\\bigskip\n",
      "\n",
      "Значения ошибок на 3-ом кластере размера 120\n",
      "\n",
      "MSE 1464.2152\n",
      "\n",
      "MAE 29.6257\n",
      "\n",
      "\\(R^2\\) 0.011\n",
      "\n",
      "\\bigskip\n",
      "\n",
      "Значения ошибок на 4-ом кластере размера 46\n",
      "\n",
      "MSE 768.3743\n",
      "\n",
      "MAE 15.6832\n",
      "\n",
      "\\(R^2\\) -0.1656\n",
      "\n",
      "\\bigskip\n",
      "\n",
      "Значения ошибок на 5-ом кластере размера 38\n",
      "\n",
      "MSE 2082.3999\n",
      "\n",
      "MAE 39.027\n",
      "\n",
      "\\(R^2\\) -0.0321\n",
      "\n",
      "\\bigskip\n",
      "\n"
     ]
    }
   ],
   "source": [
    "y_new = []\n",
    "ans_all = []\n",
    "iterat = 1 \n",
    "for i in np.unique(cluster_structure):\n",
    "    if i == -1:\n",
    "        continue\n",
    "    X_in_clust = X[np.where(res==i)[0],:]\n",
    "    y_in_clust = y[np.where(res==i)[0],0]\n",
    "    ans = []\n",
    "    \n",
    "    for train_index, test_index in KFold(min(10, X_in_clust.shape[0])).split(X_in_clust):\n",
    "        \n",
    "        \n",
    "        X_train = X_in_clust[train_index, :]\n",
    "        y_train = y_in_clust[train_index]\n",
    "\n",
    "        X_test = X_in_clust[test_index, :]\n",
    "        y_test = y_in_clust[test_index]\n",
    "        \n",
    "        \n",
    "        mdl.fit(X_train, y_train)\n",
    "        for j in mdl.predict(X_test):\n",
    "            ans.append(j)\n",
    "        for j in mdl.predict(X_test):\n",
    "            ans_all.append(j)\n",
    "        for j in y_test:\n",
    "            y_new.append(j)\n",
    "    print (\"Значения ошибок на \" + str(iterat) + \"-ом кластере размера \" + str(X_in_clust.shape[0]))\n",
    "    print()\n",
    "    print(\"MSE \" + str(round(MSE(ans,y_in_clust[:]),4)))\n",
    "    print()\n",
    "    print(\"MAE \" + str(round(MAE(ans,y_in_clust[:]),4)))\n",
    "    print()\n",
    "    print(\"\\\\(R^2\\\\) \" + str(round(r2_score(y_in_clust[:], ans),4)))\n",
    "    print()\n",
    "    print(\"\\\\bigskip\")\n",
    "    print()\n",
    "    iterat+=1"
   ]
  },
  {
   "cell_type": "markdown",
   "metadata": {},
   "source": [
    "# AGGL 7 clust"
   ]
  },
  {
   "cell_type": "code",
   "execution_count": 132,
   "metadata": {},
   "outputs": [],
   "source": [
    "aggl = AgglomerativeClustering(n_clusters=7, linkage=\"complete\", affinity=\"cosine\")"
   ]
  },
  {
   "cell_type": "code",
   "execution_count": 138,
   "metadata": {},
   "outputs": [],
   "source": [
    "res = aggl.fit_predict(X_tsne)\n",
    "cluster_structure = res"
   ]
  },
  {
   "cell_type": "code",
   "execution_count": 139,
   "metadata": {},
   "outputs": [
    {
     "data": {
      "text/plain": [
       "<matplotlib.collections.PathCollection at 0x7f7f6da01cd0>"
      ]
     },
     "execution_count": 139,
     "metadata": {},
     "output_type": "execute_result"
    },
    {
     "data": {
      "image/png": "[encoded data removed]",
      "text/plain": [
       "<Figure size 432x288 with 1 Axes>"
      ]
     },
     "metadata": {
      "needs_background": "light"
     },
     "output_type": "display_data"
    }
   ],
   "source": [
    "plt.scatter(X_tsne[:, 0], X_tsne[:, 1], c=res, cmap=plt.cm.Paired)"
   ]
  },
  {
   "cell_type": "code",
   "execution_count": 140,
   "metadata": {},
   "outputs": [
    {
     "data": {
      "text/plain": [
       "<matplotlib.collections.PathCollection at 0x7f7f6d9e9210>"
      ]
     },
     "execution_count": 140,
     "metadata": {},
     "output_type": "execute_result"
    },
    {
     "data": {
      "image/png": "[encoded data removed]",
      "text/plain": [
       "<Figure size 432x288 with 1 Axes>"
      ]
     },
     "metadata": {
      "needs_background": "light"
     },
     "output_type": "display_data"
    }
   ],
   "source": [
    "plt.scatter(X_pca[:,0], X_pca[:,1], c=res, cmap=plt.cm.Paired)"
   ]
  },
  {
   "cell_type": "code",
   "execution_count": 141,
   "metadata": {},
   "outputs": [
    {
     "data": {
      "text/plain": [
       "0.22392004119632528"
      ]
     },
     "execution_count": 141,
     "metadata": {},
     "output_type": "execute_result"
    }
   ],
   "source": [
    "silhouette_score(X,res)"
   ]
  },
  {
   "cell_type": "code",
   "execution_count": 144,
   "metadata": {},
   "outputs": [],
   "source": [
    "mdl = Ridge(30)"
   ]
  },
  {
   "cell_type": "code",
   "execution_count": 149,
   "metadata": {},
   "outputs": [
    {
     "name": "stdout",
     "output_type": "stream",
     "text": [
      "Значения ошибок на 1-ом кластере размера 134\n",
      "\n",
      "MSE 1595.7883\n",
      "\n",
      "MAE 30.9056\n",
      "\n",
      "\\(R^2\\) -0.1264\n",
      "\n",
      "\\bigskip\n",
      "\n",
      "Значения ошибок на 2-ом кластере размера 88\n",
      "\n",
      "MSE 613.8331\n",
      "\n",
      "MAE 14.1511\n",
      "\n",
      "\\(R^2\\) -0.0379\n",
      "\n",
      "\\bigskip\n",
      "\n",
      "Значения ошибок на 3-ом кластере размера 116\n",
      "\n",
      "MSE 1296.807\n",
      "\n",
      "MAE 24.8004\n",
      "\n",
      "\\(R^2\\) -0.1236\n",
      "\n",
      "\\bigskip\n",
      "\n",
      "Значения ошибок на 4-ом кластере размера 23\n",
      "\n",
      "MSE 1172.4629\n",
      "\n",
      "MAE 21.8678\n",
      "\n",
      "\\(R^2\\) -0.3442\n",
      "\n",
      "\\bigskip\n",
      "\n",
      "Значения ошибок на 5-ом кластере размера 58\n",
      "\n",
      "MSE 1932.9293\n",
      "\n",
      "MAE 27.137\n",
      "\n",
      "\\(R^2\\) -0.44\n",
      "\n",
      "\\bigskip\n",
      "\n",
      "Значения ошибок на 6-ом кластере размера 39\n",
      "\n",
      "MSE 597.9076\n",
      "\n",
      "MAE 14.3933\n",
      "\n",
      "\\(R^2\\) -0.0402\n",
      "\n",
      "\\bigskip\n",
      "\n",
      "Значения ошибок на 7-ом кластере размера 9\n",
      "\n",
      "MSE 0.2712\n",
      "\n",
      "MAE 0.3811\n",
      "\n",
      "\\(R^2\\) -0.157\n",
      "\n",
      "\\bigskip\n",
      "\n",
      "\\bigskip\n",
      "\n",
      "\\textbf{ИТОГОВЫЕ ОШИБКИ НА ВСЕЙ ВЫБОРКЕ:}\n",
      "\n",
      "MSE 1243.0\n",
      "\n",
      "MAE 23.3515\n",
      "\n",
      "\\(R^2\\) -0.1346\n",
      "\n",
      "\\bigskip\n"
     ]
    }
   ],
   "source": [
    "y_new = []\n",
    "ans_all = []\n",
    "iterat = 1 \n",
    "for i in np.unique(cluster_structure):\n",
    "    if i == -1:\n",
    "        continue\n",
    "    X_in_clust = X[np.where(res==i)[0],:]\n",
    "    y_in_clust = y[np.where(res==i)[0],0]\n",
    "    ans = []\n",
    "    \n",
    "    for train_index, test_index in KFold(min(10, X_in_clust.shape[0])).split(X_in_clust):\n",
    "        \n",
    "        \n",
    "        X_train = X_in_clust[train_index, :]\n",
    "        y_train = y_in_clust[train_index]\n",
    "\n",
    "        X_test = X_in_clust[test_index, :]\n",
    "        y_test = y_in_clust[test_index]\n",
    "        \n",
    "        \n",
    "        mdl.fit(X_train, y_train)\n",
    "        for j in mdl.predict(X_test):\n",
    "            ans.append(j)\n",
    "        for j in mdl.predict(X_test):\n",
    "            ans_all.append(j)\n",
    "        for j in y_test:\n",
    "            y_new.append(j)\n",
    "    print (\"Значения ошибок на \" + str(iterat) + \"-ом кластере размера \" + str(X_in_clust.shape[0]))\n",
    "    print()\n",
    "    print(\"MSE \" + str(round(MSE(ans,y_in_clust[:]),4)))\n",
    "    print()\n",
    "    print(\"MAE \" + str(round(MAE(ans,y_in_clust[:]),4)))\n",
    "    print()\n",
    "    print(\"\\\\(R^2\\\\) \" + str(round(r2_score(y_in_clust[:], ans),4)))\n",
    "    print()\n",
    "    print(\"\\\\bigskip\")\n",
    "    print()\n",
    "    iterat+=1\n",
    "print(\"\\\\bigskip\")\n",
    "print()\n",
    "print(\"\\\\textbf{ИТОГОВЫЕ ОШИБКИ НА ВСЕЙ ВЫБОРКЕ:}\")\n",
    "print()\n",
    "print(\"MSE \" + str(round(MSE(ans_all,y_new[:]))))\n",
    "print()\n",
    "print(\"MAE \" + str(round(MAE(ans_all,y_new[:]),4)))\n",
    "print()\n",
    "print(\"\\\\(R^2\\\\) \" + str(round(r2_score(y_new[:], ans_all),4)))\n",
    "print()\n",
    "print(\"\\\\bigskip\")"
   ]
  },
  {
   "cell_type": "code",
   "execution_count": null,
   "metadata": {},
   "outputs": [],
   "source": []
  },
  {
   "cell_type": "code",
   "execution_count": null,
   "metadata": {},
   "outputs": [],
   "source": []
  },
  {
   "cell_type": "markdown",
   "metadata": {},
   "source": [
    "# DBSCAN"
   ]
  },
  {
   "cell_type": "code",
   "execution_count": 178,
   "metadata": {},
   "outputs": [],
   "source": [
    "dbscan = DBSCAN(eps=0.04, min_samples=7, metric=\"cosine\")"
   ]
  },
  {
   "cell_type": "code",
   "execution_count": 179,
   "metadata": {},
   "outputs": [],
   "source": [
    "res = dbscan.fit_predict(X_tsne)\n",
    "cluster_structure = res"
   ]
  },
  {
   "cell_type": "code",
   "execution_count": 180,
   "metadata": {},
   "outputs": [
    {
     "data": {
      "text/plain": [
       "<matplotlib.collections.PathCollection at 0x7f7f6dd138d0>"
      ]
     },
     "execution_count": 180,
     "metadata": {},
     "output_type": "execute_result"
    },
    {
     "data": {
      "image/png": "[encoded data removed]",
      "text/plain": [
       "<Figure size 432x288 with 1 Axes>"
      ]
     },
     "metadata": {
      "needs_background": "light"
     },
     "output_type": "display_data"
    }
   ],
   "source": [
    "plt.scatter(X_tsne[:, 0], X_tsne[:, 1], c=res, cmap=plt.cm.Paired)"
   ]
  },
  {
   "cell_type": "code",
   "execution_count": 181,
   "metadata": {},
   "outputs": [
    {
     "data": {
      "text/plain": [
       "<matplotlib.collections.PathCollection at 0x7f7f6dc81990>"
      ]
     },
     "execution_count": 181,
     "metadata": {},
     "output_type": "execute_result"
    },
    {
     "data": {
      "image/png": "[encoded data removed]",
      "text/plain": [
       "<Figure size 432x288 with 1 Axes>"
      ]
     },
     "metadata": {
      "needs_background": "light"
     },
     "output_type": "display_data"
    }
   ],
   "source": [
    "plt.scatter(X_pca[:,0], X_pca[:,1], c=res, cmap=plt.cm.Paired)"
   ]
  },
  {
   "cell_type": "code",
   "execution_count": 182,
   "metadata": {},
   "outputs": [
    {
     "data": {
      "text/plain": [
       "0.4193366784079878"
      ]
     },
     "execution_count": 182,
     "metadata": {},
     "output_type": "execute_result"
    }
   ],
   "source": [
    "silhouette_score(X,res)"
   ]
  },
  {
   "cell_type": "code",
   "execution_count": 189,
   "metadata": {},
   "outputs": [],
   "source": [
    "mdl = Ridge(3)"
   ]
  },
  {
   "cell_type": "code",
   "execution_count": 190,
   "metadata": {},
   "outputs": [
    {
     "name": "stdout",
     "output_type": "stream",
     "text": [
      "Значения ошибок на 1-ом кластере размера 174\n",
      "\n",
      "MSE 1238.4802\n",
      "\n",
      "MAE 25.1654\n",
      "\n",
      "\\(R^2\\) -0.0177\n",
      "\n",
      "\\bigskip\n",
      "\n",
      "Значения ошибок на 2-ом кластере размера 127\n",
      "\n",
      "MSE 588.2293\n",
      "\n",
      "MAE 12.5247\n",
      "\n",
      "\\(R^2\\) -0.0033\n",
      "\n",
      "\\bigskip\n",
      "\n",
      "Значения ошибок на 3-ом кластере размера 166\n",
      "\n",
      "MSE 1308.2869\n",
      "\n",
      "MAE 27.6894\n",
      "\n",
      "\\(R^2\\) -0.0124\n",
      "\n",
      "\\bigskip\n",
      "\n",
      "\\bigskip\n",
      "\n",
      "\\textbf{ИТОГОВЫЕ ОШИБКИ НА ВСЕЙ ВЫБОРКЕ:}\n",
      "\n",
      "MSE 1086.0\n",
      "\n",
      "MAE 22.6249\n",
      "\n",
      "\\(R^2\\) 0.0087\n",
      "\n",
      "\\bigskip\n"
     ]
    }
   ],
   "source": [
    "y_new = []\n",
    "ans_all = []\n",
    "iterat = 1 \n",
    "for i in np.unique(cluster_structure):\n",
    "    if i == -1:\n",
    "        continue\n",
    "    X_in_clust = X[np.where(res==i)[0],:]\n",
    "    y_in_clust = y[np.where(res==i)[0],0]\n",
    "    ans = []\n",
    "    \n",
    "    for train_index, test_index in KFold(min(10, X_in_clust.shape[0])).split(X_in_clust):\n",
    "        \n",
    "        \n",
    "        X_train = X_in_clust[train_index, :]\n",
    "        y_train = y_in_clust[train_index]\n",
    "\n",
    "        X_test = X_in_clust[test_index, :]\n",
    "        y_test = y_in_clust[test_index]\n",
    "        \n",
    "        \n",
    "        mdl.fit(X_train, y_train)\n",
    "        for j in mdl.predict(X_test):\n",
    "            ans.append(j)\n",
    "        for j in mdl.predict(X_test):\n",
    "            ans_all.append(j)\n",
    "        for j in y_test:\n",
    "            y_new.append(j)\n",
    "    print (\"Значения ошибок на \" + str(iterat) + \"-ом кластере размера \" + str(X_in_clust.shape[0]))\n",
    "    print()\n",
    "    print(\"MSE \" + str(round(MSE(ans,y_in_clust[:]),4)))\n",
    "    print()\n",
    "    print(\"MAE \" + str(round(MAE(ans,y_in_clust[:]),4)))\n",
    "    print()\n",
    "    print(\"\\\\(R^2\\\\) \" + str(round(r2_score(y_in_clust[:], ans),4)))\n",
    "    print()\n",
    "    print(\"\\\\bigskip\")\n",
    "    print()\n",
    "    iterat+=1\n",
    "print(\"\\\\bigskip\")\n",
    "print()\n",
    "print(\"\\\\textbf{ИТОГОВЫЕ ОШИБКИ НА ВСЕЙ ВЫБОРКЕ:}\")\n",
    "print()\n",
    "print(\"MSE \" + str(round(MSE(ans_all,y_new[:]))))\n",
    "print()\n",
    "print(\"MAE \" + str(round(MAE(ans_all,y_new[:]),4)))\n",
    "print()\n",
    "print(\"\\\\(R^2\\\\) \" + str(round(r2_score(y_new[:], ans_all),4)))\n",
    "print()\n",
    "print(\"\\\\bigskip\")"
   ]
  },
  {
   "cell_type": "code",
   "execution_count": null,
   "metadata": {},
   "outputs": [],
   "source": []
  },
  {
   "cell_type": "code",
   "execution_count": null,
   "metadata": {},
   "outputs": [],
   "source": []
  },
  {
   "cell_type": "code",
   "execution_count": 102,
   "metadata": {},
   "outputs": [],
   "source": [
    "# y_new = []\n",
    "# ans_all = []\n",
    "# for i in np.unique(cluster_structure):\n",
    "#     if i == -1:\n",
    "#         continue\n",
    "#     X_in_clust = X[np.where(res==i)[0],:]\n",
    "#     y_in_clust = y[np.where(res==i)[0],0]\n",
    "#     ans = []\n",
    "    \n",
    "#     for train_index, test_index in KFold(min(3, X_in_clust.shape[0])).split(X_in_clust):\n",
    "        \n",
    "        \n",
    "#         X_train = X_in_clust[train_index, :]\n",
    "#         y_train = y_in_clust[train_index]\n",
    "\n",
    "#         X_test = X_in_clust[test_index, :]\n",
    "#         y_test = y_in_clust[test_index]\n",
    "        \n",
    "        \n",
    "#         mgua = MGUA(10,10, model=Ridge(alpha=1, normalize=True))\n",
    "#         mgua.fit(X_train, y_train)\n",
    "#         indexes = mgua.get_indexes()[0]\n",
    "#         print(X_train.shape, indexes)\n",
    "#         X_train = X_train[:,indexes]\n",
    "#         X_test = X_test[:,indexes]\n",
    "#         print(X_train.shape)\n",
    "#         mdl.fit(X_train, y_train)\n",
    "#         for j in mdl.predict(X_test):\n",
    "#             ans.append(j)\n",
    "#         for j in mdl.predict(X_test):\n",
    "#             ans_all.append(j)\n",
    "#         for j in y_test:\n",
    "#             y_new.append(j)\n",
    "#     print(MSE(ans,y_in_clust[:]), MAE(ans,y_in_clust[:]))\n",
    "#     print()"
   ]
  },
  {
   "cell_type": "code",
   "execution_count": null,
   "metadata": {},
   "outputs": [],
   "source": []
  },
  {
   "cell_type": "code",
   "execution_count": null,
   "metadata": {},
   "outputs": [],
   "source": []
  },
  {
   "cell_type": "code",
   "execution_count": null,
   "metadata": {},
   "outputs": [],
   "source": []
  },
  {
   "cell_type": "code",
   "execution_count": null,
   "metadata": {},
   "outputs": [],
   "source": []
  },
  {
   "cell_type": "code",
   "execution_count": null,
   "metadata": {},
   "outputs": [],
   "source": []
  },
  {
   "cell_type": "code",
   "execution_count": null,
   "metadata": {},
   "outputs": [],
   "source": []
  },
  {
   "cell_type": "code",
   "execution_count": null,
   "metadata": {},
   "outputs": [],
   "source": []
  },
  {
   "cell_type": "code",
   "execution_count": 75,
   "metadata": {},
   "outputs": [
    {
     "name": "stdout",
     "output_type": "stream",
     "text": [
      "1014.3290002977992 21.189786120017416 (41,)\n"
     ]
    }
   ],
   "source": [
    "print(MSE(ans_all,y_new[:]), MAE(ans_all,y_new[:]),y_in_clust.shape)"
   ]
  },
  {
   "cell_type": "code",
   "execution_count": 76,
   "metadata": {},
   "outputs": [
    {
     "data": {
      "text/plain": [
       "0.07448084278825406"
      ]
     },
     "execution_count": 76,
     "metadata": {},
     "output_type": "execute_result"
    }
   ],
   "source": [
    "r2_score(y_new, ans_all)"
   ]
  },
  {
   "cell_type": "code",
   "execution_count": 172,
   "metadata": {},
   "outputs": [],
   "source": [
    "def plot_answer(ans, true):\n",
    "    \n",
    "    x = [i for i in range(len(ans))]\n",
    "    \n",
    "    fig = plt.figure(figsize=(17,10))\n",
    "    ax = fig.add_subplot(1, 1, 1)\n",
    "    ax.legend()\n",
    "    \n",
    "    ax.scatter(x, ans, alpha=0.8, c=\"blue\", label=\"Answer\")\n",
    "    ax.scatter(x, true, alpha=0.8, c=\"red\", label=\"True\")\n",
    "    ax.legend(loc='upper left', fontsize=20)\n",
    "    \n",
    "    \n",
    "    plt.show()"
   ]
  },
  {
   "cell_type": "code",
   "execution_count": 173,
   "metadata": {},
   "outputs": [
    {
     "name": "stderr",
     "output_type": "stream",
     "text": [
      "No handles with labels found to put in legend.\n"
     ]
    },
    {
     "data": {
      "image/png": "[encoded data removed]",
      "text/plain": [
       "<Figure size 1224x720 with 1 Axes>"
      ]
     },
     "metadata": {
      "needs_background": "light"
     },
     "output_type": "display_data"
    }
   ],
   "source": [
    "plot_answer(ans_all, y_new)"
   ]
  },
  {
   "cell_type": "code",
   "execution_count": null,
   "metadata": {},
   "outputs": [],
   "source": []
  }
 ],
 "metadata": {
  "kernelspec": {
   "display_name": "Python 3",
   "language": "python",
   "name": "python3"
  },
  "language_info": {
   "codemirror_mode": {
    "name": "ipython",
    "version": 3
   },
   "file_extension": ".py",
   "mimetype": "text/x-python",
   "name": "python",
   "nbconvert_exporter": "python",
   "pygments_lexer": "ipython3",
   "version": "3.7.6"
  }
 },
 "nbformat": 4,
 "nbformat_minor": 4
}
